{
 "cells": [
  {
   "cell_type": "code",
   "execution_count": 1,
   "id": "initial_id",
   "metadata": {
    "ExecuteTime": {
     "end_time": "2024-03-25T08:06:08.576630Z",
     "start_time": "2024-03-25T08:06:08.574059Z"
    }
   },
   "outputs": [],
   "source": [
    "\n",
    "\n",
    "import pandas as pd\n",
    "import seaborn as sns\n",
    "import matplotlib.pyplot as plt\n",
    "import numpy as np \n",
    "\n"
   ]
  },
  {
   "cell_type": "markdown",
   "id": "fe0bfe827623e75e",
   "metadata": {
    "collapsed": false
   },
   "source": [
    "\n",
    "\n",
    "## Composition Consumption and Cost Calculation\n",
    "\n",
    "To accurately calculate the composition consumption and its corresponding cost for a given grade of steel, we follow a two-step process. This approach first determines the actual amount of composition used in kilograms (kg) and then calculates the cost based on the price per ton.\n",
    "\n",
    "### Step 1: Calculate Composition Consumption in Kilograms (kg)\n",
    "\n",
    "Given variables:\n",
    "- `C` = Composition consumption rate in kg of composition per ton of billets\n",
    "- `T` = Tons of billets produced\n",
    "\n",
    "The formula to calculate the actual consumption of the composition (`A`) in kilograms (kg) for that grade of steel is:\n",
    "\n",
    "$$\\[A = C \\times T\\]$$\n",
    "\n",
    "### Step 2: Convert Consumption into Cost\n",
    "\n",
    "Given additional variable:\n",
    "$$ `P` = Price of the sheet (or composition) per ton$$\n",
    "\n",
    "Since the price `P` is provided per ton, and there are 1000 kg in a ton, we first convert the actual consumption from kilograms to tons (`A_tons`):\n",
    "\n",
    "$$\\[A_{\\text{tons}} = \\frac{A}{1000}\\]$$\n",
    "\n",
    "To calculate the total cost (`Cost`) of the composition based on its consumption and the sheet price per ton, we use the formula:\n",
    "\n",
    "$$\\[Cost = A_{\\text{tons}} \\times P\\]$$\n",
    "\n",
    "Combining the steps, we get the comprehensive formula for calculating cost:\n",
    "\n",
    "$$\\[Cost = \\left( \\frac{C \\times T}{1000} \\right) \\times P\\]$$\n",
    "\n",
    "This formula allows us to calculate the total cost of the composition used based on its consumption rate per ton of billets produced, the total tons of billets produced, and the price per ton of the composition.\n",
    " \n",
    "composition consumption in kg/ton * tons of billets produced = composition consumption in KG \n",
    " 1.   kg/ton * ton = kg you get the actual consumption of composition for that grade steel \n",
    " 2.   from 1, divide by 1000 to get ton, multiply the result by tth sheet price ton * (sheet price since its per ton) per composition.\n",
    "\n"
   ]
  },
  {
   "cell_type": "markdown",
   "id": "7f5fe5a36513cf94",
   "metadata": {
    "collapsed": false
   },
   "source": [
    "## Prices for SMP2 Chemicals:"
   ]
  },
  {
   "cell_type": "code",
   "execution_count": 2,
   "id": "b966d88d83fb71e7",
   "metadata": {
    "ExecuteTime": {
     "end_time": "2024-03-25T08:06:08.696578Z",
     "start_time": "2024-03-25T08:06:08.690913Z"
    },
    "collapsed": false
   },
   "outputs": [
    {
     "data": {
      "text/plain": [
       "{'FeSi - Ferro-Silicon': 1414.2645773965974,\n",
       " 'FeSiMn - Silicon-maganese': 1007.4666175218949,\n",
       " 'FeMnHC - Ferro-Manganese (High Carbon)': 1034.7704785472622,\n",
       " 'Recarburizer - Recarburizer': 580.4312091071085,\n",
       " 'FeCr- ': 0.0}"
      ]
     },
     "execution_count": 2,
     "metadata": {},
     "output_type": "execute_result"
    }
   ],
   "source": [
    "\n",
    "\n",
    "list_names_prices_smp1_december_2023 = {\n",
    "    \"FeSi - Ferro-Silicon\":1562.52739907045,\n",
    "    \"FeSiMn - Silicon-maganese\":986.290575415916,\n",
    "    \"FeMnHC - Ferro-Manganese (High Carbon)\":1072.38676864388,\n",
    "    \"Recarburizer - Recarburizer\":458.476134255355,\n",
    "    'FeCr- ':0.0\n",
    "}\n",
    "\n",
    "\n",
    "list_names_prices_smp1_februrary_2024 = {\n",
    "    \"FeSi - Ferro-Silicon\":1270.64396322791,\n",
    "    \"FeSiMn - Silicon-maganese\":979.950501617602,\n",
    "    \"FeMnHC - Ferro-Manganese (High Carbon)\":987.256404306629,\n",
    "    \"Recarburizer - Recarburizer\":987.256404306629,\n",
    "    'FeCr- ':0.0\n",
    "}\n",
    "\n",
    "list_names_prices_smp1_january_2024 = {\n",
    "    \"FeSi - Ferro-Silicon\": 1321.21231855097 ,\n",
    "    \"FeSiMn - Silicon-maganese\":980.828990060272,\n",
    "    \"FeMnHC - Ferro-Manganese (High Carbon)\":1007.05074893469,\n",
    "    \"Recarburizer - Recarburizer\":399.359191290486,\n",
    "    'FeCr- ':0.0\n",
    "}\n",
    "\n",
    "list_names_prices_smp1_november_2023 = {\n",
    "    \"FeSi - Ferro-Silicon\":1502.67462873706,\n",
    "    \"FeSiMn - Silicon-maganese\":1082.79640299379,\n",
    "    \"FeMnHC - Ferro-Manganese (High Carbon)\":1072.38799230385,\n",
    "    \"Recarburizer - Recarburizer\":476.633106575964,\n",
    "    'FeCr- ':0.0\n",
    "}\n",
    "\n",
    "\n",
    "# Convert dictionaries to a DataFrame\n",
    "df = pd.DataFrame([\n",
    "    list_names_prices_smp1_december_2023,\n",
    "    list_names_prices_smp1_februrary_2024,\n",
    "    list_names_prices_smp1_january_2024,\n",
    "    list_names_prices_smp1_november_2023\n",
    "])\n",
    "\n",
    "mean_prices = df.mean()\n",
    "\n",
    "list_names_prices_smp1_mean = mean_prices.to_dict()\n",
    "\n",
    "list_names_prices_smp1_mean\n",
    "\n"
   ]
  },
  {
   "cell_type": "code",
   "execution_count": 3,
   "id": "17e96073205f4937",
   "metadata": {
    "ExecuteTime": {
     "end_time": "2024-03-25T08:06:08.700674Z",
     "start_time": "2024-03-25T08:06:08.697722Z"
    },
    "collapsed": false
   },
   "outputs": [
    {
     "data": {
      "text/plain": [
       "1414.2645773965974"
      ]
     },
     "execution_count": 3,
     "metadata": {},
     "output_type": "execute_result"
    }
   ],
   "source": [
    "\n",
    "# FeSi - Ferro-Silicon average cost per 4 months:\n",
    "\n",
    "(1562.52739907045 + 1270.64396322791 + 1321.21231855097 + 1502.67462873706) / 4\n"
   ]
  },
  {
   "cell_type": "code",
   "execution_count": 4,
   "id": "cd8b92e862b93aa6",
   "metadata": {
    "ExecuteTime": {
     "end_time": "2024-03-25T08:06:08.719520Z",
     "start_time": "2024-03-25T08:06:08.716992Z"
    },
    "collapsed": false
   },
   "outputs": [
    {
     "data": {
      "text/plain": [
       "1007.4666175218949"
      ]
     },
     "execution_count": 4,
     "metadata": {},
     "output_type": "execute_result"
    }
   ],
   "source": [
    "\n",
    "# FeSiMn - Silicon-maganese average cost over 4 months\n",
    "(986.290575415916 + 979.950501617602 + 980.828990060272 +  1082.79640299379) /4\n",
    "\n"
   ]
  },
  {
   "cell_type": "code",
   "execution_count": 5,
   "id": "fb2c56459f42435f",
   "metadata": {
    "ExecuteTime": {
     "end_time": "2024-03-25T08:06:08.782210Z",
     "start_time": "2024-03-25T08:06:08.775912Z"
    },
    "collapsed": false
   },
   "outputs": [],
   "source": [
    "\n",
    "# choose SMP \n",
    "data = pd.read_csv(\"Ferroalloys Consumption SMP #1.csv\")\n",
    "\n",
    "# extract columns you are going to use for the analysis:\n",
    "data = data[['SteelGrade', \n",
    "             'Billet',\n",
    "             'FeSiMn Target (KG/Ton)',\n",
    "             'FeSiMn Actual (KG/Ton)',\n",
    "             'FeSi Target (KG/Ton)',\n",
    "             'FeSi Actual (KG/Ton)', \n",
    "             ]]\n",
    "\n",
    "\n",
    "# calculate overshot per Chemicals:\n",
    "data['FeSiMn Overshot (KG/Ton)'] = data['FeSiMn Actual (KG/Ton)'] - data['FeSiMn Target (KG/Ton)']\n",
    "data['FeSi Overshot (KG/Ton)'] = data['FeSi Actual (KG/Ton)'] - data['FeSi Target (KG/Ton)']\n",
    "# \n",
    "# \n",
    "# # separate dataframe to do the calculations, to be more accurate and precise:\n",
    "fesmin_data = data[[\"SteelGrade\",\"Billet\",\"FeSiMn Actual (KG/Ton)\",\"FeSiMn Target (KG/Ton)\",\"FeSiMn Overshot (KG/Ton)\"]]\n",
    "fesi_data = data[[\"SteelGrade\",\"Billet\",\"FeSi Actual (KG/Ton)\",\"FeSi Target (KG/Ton)\",\"FeSi Overshot (KG/Ton)\"]]\n",
    "\n"
   ]
  },
  {
   "cell_type": "markdown",
   "id": "4019c5cb1a85df1f",
   "metadata": {
    "collapsed": false
   },
   "source": [
    "### Rename columns to standardize them:"
   ]
  },
  {
   "cell_type": "code",
   "execution_count": 6,
   "id": "2f697f232738fe1f",
   "metadata": {
    "ExecuteTime": {
     "end_time": "2024-03-25T08:06:08.807935Z",
     "start_time": "2024-03-25T08:06:08.805350Z"
    },
    "collapsed": false
   },
   "outputs": [],
   "source": [
    "\n",
    "fesmin_data = fesmin_data.rename(columns={'Billet': 'Billet Mass (Tons)'})\n",
    "fesi_data =  fesi_data.rename(columns={'Billet': 'Billet Mass (Tons)'})\n"
   ]
  },
  {
   "cell_type": "markdown",
   "id": "2b6bfbf523eccdc8",
   "metadata": {
    "collapsed": false
   },
   "source": [
    "### Add Suffix to duplicated steel grades names:"
   ]
  },
  {
   "cell_type": "code",
   "execution_count": 7,
   "id": "fa53d80d3cc74402",
   "metadata": {
    "ExecuteTime": {
     "end_time": "2024-03-25T08:06:08.825789Z",
     "start_time": "2024-03-25T08:06:08.821684Z"
    },
    "collapsed": false
   },
   "outputs": [],
   "source": [
    "\n",
    "fesi_data['Suffix'] = fesi_data.groupby('SteelGrade').cumcount() + 1\n",
    "fesi_data['SteelGrade_Unique'] = fesi_data['SteelGrade'] + '-' + fesi_data['Suffix'].astype(str)\n",
    "fesi_data[\"SteelGrade\"] = fesi_data[\"SteelGrade_Unique\"]\n",
    "fesi_data.drop(columns=['Suffix',\"SteelGrade_Unique\"], inplace=True)\n"
   ]
  },
  {
   "cell_type": "code",
   "execution_count": 8,
   "id": "252ab0a3be51ecfc",
   "metadata": {
    "ExecuteTime": {
     "end_time": "2024-03-25T08:06:08.841742Z",
     "start_time": "2024-03-25T08:06:08.838100Z"
    },
    "collapsed": false
   },
   "outputs": [],
   "source": [
    "# add unique name to steel grade\n",
    "\n",
    "fesmin_data['Suffix'] = fesmin_data.groupby('SteelGrade').cumcount() + 1\n",
    "fesmin_data['SteelGrade_Unique'] = fesmin_data['SteelGrade'] + '-' + fesmin_data['Suffix'].astype(str)\n",
    "fesmin_data[\"SteelGrade\"] = fesmin_data[\"SteelGrade_Unique\"]\n",
    "fesmin_data.drop(columns=['Suffix',\"SteelGrade_Unique\"], inplace=True)\n"
   ]
  },
  {
   "cell_type": "markdown",
   "id": "79f7f51d8ed0b67",
   "metadata": {
    "collapsed": false
   },
   "source": [
    "### Filter columns where target must not equal 0 and overshot must be greater than 0.0:"
   ]
  },
  {
   "cell_type": "code",
   "execution_count": 9,
   "id": "e0b70cb3f9dd2b1f",
   "metadata": {
    "ExecuteTime": {
     "end_time": "2024-03-25T08:06:08.857478Z",
     "start_time": "2024-03-25T08:06:08.854947Z"
    },
    "collapsed": false
   },
   "outputs": [],
   "source": [
    "\n",
    "# filter columns you are interested in:\n",
    "# first condition target must be greater than 0.0:\n",
    "fesmin_data = fesmin_data[fesmin_data[\"FeSiMn Target (KG/Ton)\"]!= 0.0]\n",
    "\n",
    "# second condition overshot must be > 0.0 \n",
    "fesmin_data = fesmin_data[fesmin_data[\"FeSiMn Overshot (KG/Ton)\"] > 0.0]\n",
    "\n"
   ]
  },
  {
   "cell_type": "code",
   "execution_count": 10,
   "id": "211e1dc2893902a3",
   "metadata": {
    "ExecuteTime": {
     "end_time": "2024-03-25T08:06:08.885989Z",
     "start_time": "2024-03-25T08:06:08.883372Z"
    },
    "collapsed": false
   },
   "outputs": [],
   "source": [
    "\n",
    "# filter columns you are interested in:\n",
    "# first condition target must be greater than 0.0:\n",
    "fesi_data = fesi_data[fesi_data[\"FeSi Target (KG/Ton)\"]!= 0.0]\n",
    "\n",
    "# second condition overshot must be > 0.0 \n",
    "fesi_data = fesi_data[fesi_data[\"FeSi Overshot (KG/Ton)\"] > 0.0]\n",
    "\n"
   ]
  },
  {
   "cell_type": "markdown",
   "id": "30de2cd62a897dd",
   "metadata": {
    "collapsed": false
   },
   "source": []
  },
  {
   "cell_type": "code",
   "execution_count": 11,
   "id": "2f638a05a3a5fd57",
   "metadata": {
    "ExecuteTime": {
     "end_time": "2024-03-25T08:06:08.906290Z",
     "start_time": "2024-03-25T08:06:08.899589Z"
    },
    "collapsed": false
   },
   "outputs": [
    {
     "data": {
      "text/html": [
       "<div>\n",
       "<style scoped>\n",
       "    .dataframe tbody tr th:only-of-type {\n",
       "        vertical-align: middle;\n",
       "    }\n",
       "\n",
       "    .dataframe tbody tr th {\n",
       "        vertical-align: top;\n",
       "    }\n",
       "\n",
       "    .dataframe thead th {\n",
       "        text-align: right;\n",
       "    }\n",
       "</style>\n",
       "<table border=\"1\" class=\"dataframe\">\n",
       "  <thead>\n",
       "    <tr style=\"text-align: right;\">\n",
       "      <th></th>\n",
       "      <th>SteelGrade</th>\n",
       "      <th>Billet Mass (Tons)</th>\n",
       "      <th>FeSiMn Actual (KG/Ton)</th>\n",
       "      <th>FeSiMn Target (KG/Ton)</th>\n",
       "      <th>FeSiMn Overshot (KG/Ton)</th>\n",
       "      <th>FeSiMn Overshot (KG)</th>\n",
       "      <th>FeSiMn Overshot (Tons)</th>\n",
       "      <th>FeSiMn Overshot (Cost$)</th>\n",
       "    </tr>\n",
       "  </thead>\n",
       "  <tbody>\n",
       "    <tr>\n",
       "      <th>6</th>\n",
       "      <td>AISI 1005-RM03-1</td>\n",
       "      <td>2998.133</td>\n",
       "      <td>4.66</td>\n",
       "      <td>4.53</td>\n",
       "      <td>0.13</td>\n",
       "      <td>389.75729</td>\n",
       "      <td>0.389757</td>\n",
       "      <td>392.667459</td>\n",
       "    </tr>\n",
       "    <tr>\n",
       "      <th>7</th>\n",
       "      <td>AISI 1005-RM03-2</td>\n",
       "      <td>13236.458</td>\n",
       "      <td>5.22</td>\n",
       "      <td>4.53</td>\n",
       "      <td>0.69</td>\n",
       "      <td>9133.15602</td>\n",
       "      <td>9.133156</td>\n",
       "      <td>9201.349803</td>\n",
       "    </tr>\n",
       "    <tr>\n",
       "      <th>8</th>\n",
       "      <td>AISI 1006-RM03-1</td>\n",
       "      <td>9652.346</td>\n",
       "      <td>5.27</td>\n",
       "      <td>5.07</td>\n",
       "      <td>0.20</td>\n",
       "      <td>1930.46920</td>\n",
       "      <td>1.930469</td>\n",
       "      <td>1944.883275</td>\n",
       "    </tr>\n",
       "    <tr>\n",
       "      <th>9</th>\n",
       "      <td>AISI 1006-RM03-2</td>\n",
       "      <td>56329.480</td>\n",
       "      <td>5.17</td>\n",
       "      <td>5.07</td>\n",
       "      <td>0.10</td>\n",
       "      <td>5632.94800</td>\n",
       "      <td>5.632948</td>\n",
       "      <td>5675.007068</td>\n",
       "    </tr>\n",
       "    <tr>\n",
       "      <th>10</th>\n",
       "      <td>AISI 1008-RM03-1</td>\n",
       "      <td>4932.591</td>\n",
       "      <td>6.27</td>\n",
       "      <td>5.74</td>\n",
       "      <td>0.53</td>\n",
       "      <td>2614.27323</td>\n",
       "      <td>2.614273</td>\n",
       "      <td>2633.793008</td>\n",
       "    </tr>\n",
       "    <tr>\n",
       "      <th>11</th>\n",
       "      <td>AISI 1008-RM03-2</td>\n",
       "      <td>61650.462</td>\n",
       "      <td>6.23</td>\n",
       "      <td>5.74</td>\n",
       "      <td>0.49</td>\n",
       "      <td>30208.72638</td>\n",
       "      <td>30.208726</td>\n",
       "      <td>30434.283386</td>\n",
       "    </tr>\n",
       "    <tr>\n",
       "      <th>12</th>\n",
       "      <td>AISI 1010-RM03-1</td>\n",
       "      <td>1386.720</td>\n",
       "      <td>6.72</td>\n",
       "      <td>5.43</td>\n",
       "      <td>1.29</td>\n",
       "      <td>1788.86880</td>\n",
       "      <td>1.788869</td>\n",
       "      <td>1802.225599</td>\n",
       "    </tr>\n",
       "    <tr>\n",
       "      <th>13</th>\n",
       "      <td>AISI 1012-RM03-1</td>\n",
       "      <td>340.998</td>\n",
       "      <td>8.03</td>\n",
       "      <td>5.43</td>\n",
       "      <td>2.60</td>\n",
       "      <td>886.59480</td>\n",
       "      <td>0.886595</td>\n",
       "      <td>893.214664</td>\n",
       "    </tr>\n",
       "    <tr>\n",
       "      <th>14</th>\n",
       "      <td>AISI 1012-RM03-2</td>\n",
       "      <td>7888.672</td>\n",
       "      <td>7.46</td>\n",
       "      <td>5.43</td>\n",
       "      <td>2.03</td>\n",
       "      <td>16014.00416</td>\n",
       "      <td>16.014004</td>\n",
       "      <td>16133.574604</td>\n",
       "    </tr>\n",
       "    <tr>\n",
       "      <th>15</th>\n",
       "      <td>AISI 1015-RM03-1</td>\n",
       "      <td>14620.995</td>\n",
       "      <td>6.84</td>\n",
       "      <td>5.43</td>\n",
       "      <td>1.41</td>\n",
       "      <td>20615.60295</td>\n",
       "      <td>20.615603</td>\n",
       "      <td>20769.531772</td>\n",
       "    </tr>\n",
       "    <tr>\n",
       "      <th>22</th>\n",
       "      <td>BS-G500B R31-RM03-1</td>\n",
       "      <td>308.880</td>\n",
       "      <td>17.80</td>\n",
       "      <td>17.27</td>\n",
       "      <td>0.53</td>\n",
       "      <td>163.70640</td>\n",
       "      <td>0.163706</td>\n",
       "      <td>164.928733</td>\n",
       "    </tr>\n",
       "    <tr>\n",
       "      <th>53</th>\n",
       "      <td>SAE 1005-RM03-1</td>\n",
       "      <td>6602.877</td>\n",
       "      <td>5.40</td>\n",
       "      <td>4.53</td>\n",
       "      <td>0.87</td>\n",
       "      <td>5744.50299</td>\n",
       "      <td>5.744503</td>\n",
       "      <td>5787.394997</td>\n",
       "    </tr>\n",
       "    <tr>\n",
       "      <th>60</th>\n",
       "      <td>SWRCH 6R-RM03-1</td>\n",
       "      <td>3659.031</td>\n",
       "      <td>5.60</td>\n",
       "      <td>5.07</td>\n",
       "      <td>0.53</td>\n",
       "      <td>1939.28643</td>\n",
       "      <td>1.939286</td>\n",
       "      <td>1953.766340</td>\n",
       "    </tr>\n",
       "  </tbody>\n",
       "</table>\n",
       "</div>"
      ],
      "text/plain": [
       "             SteelGrade  Billet Mass (Tons)  FeSiMn Actual (KG/Ton)  \\\n",
       "6      AISI 1005-RM03-1            2998.133                    4.66   \n",
       "7      AISI 1005-RM03-2           13236.458                    5.22   \n",
       "8      AISI 1006-RM03-1            9652.346                    5.27   \n",
       "9      AISI 1006-RM03-2           56329.480                    5.17   \n",
       "10     AISI 1008-RM03-1            4932.591                    6.27   \n",
       "11     AISI 1008-RM03-2           61650.462                    6.23   \n",
       "12     AISI 1010-RM03-1            1386.720                    6.72   \n",
       "13     AISI 1012-RM03-1             340.998                    8.03   \n",
       "14     AISI 1012-RM03-2            7888.672                    7.46   \n",
       "15     AISI 1015-RM03-1           14620.995                    6.84   \n",
       "22  BS-G500B R31-RM03-1             308.880                   17.80   \n",
       "53      SAE 1005-RM03-1            6602.877                    5.40   \n",
       "60      SWRCH 6R-RM03-1            3659.031                    5.60   \n",
       "\n",
       "    FeSiMn Target (KG/Ton)  FeSiMn Overshot (KG/Ton)  FeSiMn Overshot (KG)  \\\n",
       "6                     4.53                      0.13             389.75729   \n",
       "7                     4.53                      0.69            9133.15602   \n",
       "8                     5.07                      0.20            1930.46920   \n",
       "9                     5.07                      0.10            5632.94800   \n",
       "10                    5.74                      0.53            2614.27323   \n",
       "11                    5.74                      0.49           30208.72638   \n",
       "12                    5.43                      1.29            1788.86880   \n",
       "13                    5.43                      2.60             886.59480   \n",
       "14                    5.43                      2.03           16014.00416   \n",
       "15                    5.43                      1.41           20615.60295   \n",
       "22                   17.27                      0.53             163.70640   \n",
       "53                    4.53                      0.87            5744.50299   \n",
       "60                    5.07                      0.53            1939.28643   \n",
       "\n",
       "    FeSiMn Overshot (Tons)  FeSiMn Overshot (Cost$)  \n",
       "6                 0.389757               392.667459  \n",
       "7                 9.133156              9201.349803  \n",
       "8                 1.930469              1944.883275  \n",
       "9                 5.632948              5675.007068  \n",
       "10                2.614273              2633.793008  \n",
       "11               30.208726             30434.283386  \n",
       "12                1.788869              1802.225599  \n",
       "13                0.886595               893.214664  \n",
       "14               16.014004             16133.574604  \n",
       "15               20.615603             20769.531772  \n",
       "22                0.163706               164.928733  \n",
       "53                5.744503              5787.394997  \n",
       "60                1.939286              1953.766340  "
      ]
     },
     "execution_count": 11,
     "metadata": {},
     "output_type": "execute_result"
    }
   ],
   "source": [
    "\n",
    "mean_cost_per_ton_FeSiMn = 1007.4666175218949\n",
    "\n",
    "# get consumption per kg by multiplying with kg/ton of produced billet mass:\n",
    "fesmin_data[\"FeSiMn Overshot (KG)\"] = fesmin_data[\"FeSiMn Overshot (KG/Ton)\"]  * fesmin_data[\"Billet Mass (Tons)\"] \n",
    "\n",
    "# get consumption in tons by dividing kg by 1000:\n",
    "fesmin_data[\"FeSiMn Overshot (Tons)\"] = fesmin_data[\"FeSiMn Overshot (KG)\"]/1000\n",
    "\n",
    "# calculate the cost of over shot by multiplying the tons used buy the cost per ton:\n",
    "fesmin_data[\"FeSiMn Overshot (Cost$)\"] = fesmin_data[\"FeSiMn Overshot (Tons)\"] * mean_cost_per_ton_FeSiMn\n",
    "\n",
    "\n",
    "fesmin_data\n"
   ]
  },
  {
   "cell_type": "code",
   "execution_count": 12,
   "id": "ccb4bded8bdad8d7",
   "metadata": {
    "ExecuteTime": {
     "end_time": "2024-03-25T08:06:08.909911Z",
     "start_time": "2024-03-25T08:06:08.907476Z"
    },
    "collapsed": false
   },
   "outputs": [
    {
     "data": {
      "text/plain": [
       "97786.62070823522"
      ]
     },
     "execution_count": 12,
     "metadata": {},
     "output_type": "execute_result"
    }
   ],
   "source": [
    "\n",
    "fesmin_data[\"FeSiMn Overshot (Cost$)\"].sum()\n"
   ]
  },
  {
   "cell_type": "code",
   "execution_count": 13,
   "id": "20d80789928ad1ef",
   "metadata": {
    "ExecuteTime": {
     "end_time": "2024-03-25T08:06:08.917231Z",
     "start_time": "2024-03-25T08:06:08.910583Z"
    },
    "collapsed": false
   },
   "outputs": [
    {
     "data": {
      "text/html": [
       "<div>\n",
       "<style scoped>\n",
       "    .dataframe tbody tr th:only-of-type {\n",
       "        vertical-align: middle;\n",
       "    }\n",
       "\n",
       "    .dataframe tbody tr th {\n",
       "        vertical-align: top;\n",
       "    }\n",
       "\n",
       "    .dataframe thead th {\n",
       "        text-align: right;\n",
       "    }\n",
       "</style>\n",
       "<table border=\"1\" class=\"dataframe\">\n",
       "  <thead>\n",
       "    <tr style=\"text-align: right;\">\n",
       "      <th></th>\n",
       "      <th>SteelGrade</th>\n",
       "      <th>Billet Mass (Tons)</th>\n",
       "      <th>FeSi Actual (KG/Ton)</th>\n",
       "      <th>FeSi Target (KG/Ton)</th>\n",
       "      <th>FeSi Overshot (KG/Ton)</th>\n",
       "      <th>FeSi Overshot (KG)</th>\n",
       "      <th>FeSi Overshot (Tons)</th>\n",
       "      <th>FeSi Overshot (Cost$)</th>\n",
       "    </tr>\n",
       "  </thead>\n",
       "  <tbody>\n",
       "    <tr>\n",
       "      <th>6</th>\n",
       "      <td>AISI 1005-RM03-1</td>\n",
       "      <td>2998.133</td>\n",
       "      <td>1.23</td>\n",
       "      <td>0.36</td>\n",
       "      <td>0.87</td>\n",
       "      <td>2608.37571</td>\n",
       "      <td>2.608376</td>\n",
       "      <td>3688.933371</td>\n",
       "    </tr>\n",
       "    <tr>\n",
       "      <th>7</th>\n",
       "      <td>AISI 1005-RM03-2</td>\n",
       "      <td>13236.458</td>\n",
       "      <td>1.36</td>\n",
       "      <td>0.36</td>\n",
       "      <td>1.00</td>\n",
       "      <td>13236.45800</td>\n",
       "      <td>13.236458</td>\n",
       "      <td>18719.853680</td>\n",
       "    </tr>\n",
       "    <tr>\n",
       "      <th>8</th>\n",
       "      <td>AISI 1006-RM03-1</td>\n",
       "      <td>9652.346</td>\n",
       "      <td>1.24</td>\n",
       "      <td>0.69</td>\n",
       "      <td>0.55</td>\n",
       "      <td>5308.79030</td>\n",
       "      <td>5.308790</td>\n",
       "      <td>7508.034070</td>\n",
       "    </tr>\n",
       "    <tr>\n",
       "      <th>9</th>\n",
       "      <td>AISI 1006-RM03-2</td>\n",
       "      <td>56329.480</td>\n",
       "      <td>1.38</td>\n",
       "      <td>0.69</td>\n",
       "      <td>0.69</td>\n",
       "      <td>38867.34120</td>\n",
       "      <td>38.867341</td>\n",
       "      <td>54968.703877</td>\n",
       "    </tr>\n",
       "    <tr>\n",
       "      <th>10</th>\n",
       "      <td>AISI 1008-RM03-1</td>\n",
       "      <td>4932.591</td>\n",
       "      <td>1.00</td>\n",
       "      <td>0.27</td>\n",
       "      <td>0.73</td>\n",
       "      <td>3600.79143</td>\n",
       "      <td>3.600791</td>\n",
       "      <td>5092.471770</td>\n",
       "    </tr>\n",
       "    <tr>\n",
       "      <th>11</th>\n",
       "      <td>AISI 1008-RM03-2</td>\n",
       "      <td>61650.462</td>\n",
       "      <td>1.40</td>\n",
       "      <td>0.27</td>\n",
       "      <td>1.13</td>\n",
       "      <td>69665.02206</td>\n",
       "      <td>69.665022</td>\n",
       "      <td>98524.772983</td>\n",
       "    </tr>\n",
       "    <tr>\n",
       "      <th>13</th>\n",
       "      <td>AISI 1012-RM03-1</td>\n",
       "      <td>340.998</td>\n",
       "      <td>1.98</td>\n",
       "      <td>1.71</td>\n",
       "      <td>0.27</td>\n",
       "      <td>92.06946</td>\n",
       "      <td>0.092069</td>\n",
       "      <td>130.210576</td>\n",
       "    </tr>\n",
       "    <tr>\n",
       "      <th>23</th>\n",
       "      <td>BSG500BR41-RM01-1</td>\n",
       "      <td>36411.089</td>\n",
       "      <td>1.46</td>\n",
       "      <td>1.20</td>\n",
       "      <td>0.26</td>\n",
       "      <td>9466.88314</td>\n",
       "      <td>9.466883</td>\n",
       "      <td>13388.677483</td>\n",
       "    </tr>\n",
       "    <tr>\n",
       "      <th>28</th>\n",
       "      <td>BSG500BR42-RM03-1</td>\n",
       "      <td>15111.253</td>\n",
       "      <td>1.50</td>\n",
       "      <td>1.10</td>\n",
       "      <td>0.40</td>\n",
       "      <td>6044.50120</td>\n",
       "      <td>6.044501</td>\n",
       "      <td>8548.523935</td>\n",
       "    </tr>\n",
       "    <tr>\n",
       "      <th>49</th>\n",
       "      <td>KWSB500BWR R22-RM02-1</td>\n",
       "      <td>298.074</td>\n",
       "      <td>2.00</td>\n",
       "      <td>1.71</td>\n",
       "      <td>0.29</td>\n",
       "      <td>86.44146</td>\n",
       "      <td>0.086441</td>\n",
       "      <td>122.251095</td>\n",
       "    </tr>\n",
       "    <tr>\n",
       "      <th>60</th>\n",
       "      <td>SWRCH 6R-RM03-1</td>\n",
       "      <td>3659.031</td>\n",
       "      <td>1.51</td>\n",
       "      <td>0.69</td>\n",
       "      <td>0.82</td>\n",
       "      <td>3000.40542</td>\n",
       "      <td>3.000405</td>\n",
       "      <td>4243.367103</td>\n",
       "    </tr>\n",
       "  </tbody>\n",
       "</table>\n",
       "</div>"
      ],
      "text/plain": [
       "               SteelGrade  Billet Mass (Tons)  FeSi Actual (KG/Ton)  \\\n",
       "6        AISI 1005-RM03-1            2998.133                  1.23   \n",
       "7        AISI 1005-RM03-2           13236.458                  1.36   \n",
       "8        AISI 1006-RM03-1            9652.346                  1.24   \n",
       "9        AISI 1006-RM03-2           56329.480                  1.38   \n",
       "10       AISI 1008-RM03-1            4932.591                  1.00   \n",
       "11       AISI 1008-RM03-2           61650.462                  1.40   \n",
       "13       AISI 1012-RM03-1             340.998                  1.98   \n",
       "23      BSG500BR41-RM01-1           36411.089                  1.46   \n",
       "28      BSG500BR42-RM03-1           15111.253                  1.50   \n",
       "49  KWSB500BWR R22-RM02-1             298.074                  2.00   \n",
       "60        SWRCH 6R-RM03-1            3659.031                  1.51   \n",
       "\n",
       "    FeSi Target (KG/Ton)  FeSi Overshot (KG/Ton)  FeSi Overshot (KG)  \\\n",
       "6                   0.36                    0.87          2608.37571   \n",
       "7                   0.36                    1.00         13236.45800   \n",
       "8                   0.69                    0.55          5308.79030   \n",
       "9                   0.69                    0.69         38867.34120   \n",
       "10                  0.27                    0.73          3600.79143   \n",
       "11                  0.27                    1.13         69665.02206   \n",
       "13                  1.71                    0.27            92.06946   \n",
       "23                  1.20                    0.26          9466.88314   \n",
       "28                  1.10                    0.40          6044.50120   \n",
       "49                  1.71                    0.29            86.44146   \n",
       "60                  0.69                    0.82          3000.40542   \n",
       "\n",
       "    FeSi Overshot (Tons)  FeSi Overshot (Cost$)  \n",
       "6               2.608376            3688.933371  \n",
       "7              13.236458           18719.853680  \n",
       "8               5.308790            7508.034070  \n",
       "9              38.867341           54968.703877  \n",
       "10              3.600791            5092.471770  \n",
       "11             69.665022           98524.772983  \n",
       "13              0.092069             130.210576  \n",
       "23              9.466883           13388.677483  \n",
       "28              6.044501            8548.523935  \n",
       "49              0.086441             122.251095  \n",
       "60              3.000405            4243.367103  "
      ]
     },
     "execution_count": 13,
     "metadata": {},
     "output_type": "execute_result"
    }
   ],
   "source": [
    "\n",
    "mean_cost_per_ton_FeSi = 1414.2645773965974\n",
    "\n",
    "# get consumption per kg by multiplying with kg/ton of produced billet mass:\n",
    "fesi_data[\"FeSi Overshot (KG)\"] = fesi_data[\"FeSi Overshot (KG/Ton)\"]  * fesi_data[\"Billet Mass (Tons)\"]\n",
    "\n",
    "# get consumption in tons by dividing kg by 1000:\n",
    "fesi_data[\"FeSi Overshot (Tons)\"] = fesi_data[\"FeSi Overshot (KG)\"]/1000\n",
    "\n",
    "# calculate the cost of over shot by multiplying the tons used buy the cost per ton:\n",
    "fesi_data[\"FeSi Overshot (Cost$)\"] = fesi_data[\"FeSi Overshot (Tons)\"] * mean_cost_per_ton_FeSi\n",
    "\n",
    "fesi_data\n"
   ]
  },
  {
   "cell_type": "code",
   "execution_count": 14,
   "id": "85a0898a89ab01c6",
   "metadata": {
    "ExecuteTime": {
     "end_time": "2024-03-25T08:06:08.956608Z",
     "start_time": "2024-03-25T08:06:08.953888Z"
    },
    "collapsed": false
   },
   "outputs": [
    {
     "data": {
      "text/plain": [
       "214935.7999433248"
      ]
     },
     "execution_count": 14,
     "metadata": {},
     "output_type": "execute_result"
    }
   ],
   "source": [
    "\n",
    "fesi_data[\"FeSi Overshot (Cost$)\"].sum()\n"
   ]
  },
  {
   "cell_type": "markdown",
   "id": "e8914830054a887a",
   "metadata": {
    "collapsed": false
   },
   "source": [
    "### Overall cost:"
   ]
  },
  {
   "cell_type": "code",
   "execution_count": 15,
   "id": "9ea21ba5f5b02a9f",
   "metadata": {
    "ExecuteTime": {
     "end_time": "2024-03-25T08:06:08.974035Z",
     "start_time": "2024-03-25T08:06:08.971409Z"
    },
    "collapsed": false
   },
   "outputs": [
    {
     "data": {
      "text/plain": [
       "312722.42065156"
      ]
     },
     "execution_count": 15,
     "metadata": {},
     "output_type": "execute_result"
    }
   ],
   "source": [
    "\n",
    "\n",
    "fesmin_data[\"FeSiMn Overshot (Cost$)\"].sum() + fesi_data[\"FeSi Overshot (Cost$)\"].sum() \n",
    "\n"
   ]
  },
  {
   "cell_type": "code",
   "execution_count": 16,
   "id": "622cee6d8b136b16",
   "metadata": {
    "ExecuteTime": {
     "end_time": "2024-03-25T08:06:08.981595Z",
     "start_time": "2024-03-25T08:06:08.979219Z"
    },
    "collapsed": false
   },
   "outputs": [
    {
     "data": {
      "text/plain": [
       "97.06189664999998"
      ]
     },
     "execution_count": 16,
     "metadata": {},
     "output_type": "execute_result"
    }
   ],
   "source": [
    "\n",
    "\n",
    "fesmin_data[\"FeSiMn Overshot (Tons)\"].sum()\n"
   ]
  },
  {
   "cell_type": "code",
   "execution_count": 17,
   "id": "1d8e9d8f44404deb",
   "metadata": {
    "ExecuteTime": {
     "end_time": "2024-03-25T08:06:09.015066Z",
     "start_time": "2024-03-25T08:06:09.012173Z"
    },
    "collapsed": false
   },
   "outputs": [
    {
     "data": {
      "text/plain": [
       "151.97707937999996"
      ]
     },
     "execution_count": 17,
     "metadata": {},
     "output_type": "execute_result"
    }
   ],
   "source": [
    "\n",
    "fesi_data[\"FeSi Overshot (Tons)\"].sum()\n"
   ]
  },
  {
   "cell_type": "markdown",
   "id": "da2ae40d4d9133fe",
   "metadata": {
    "collapsed": false
   },
   "source": [
    "### Overall (Tons) overshot:"
   ]
  },
  {
   "cell_type": "code",
   "execution_count": 18,
   "id": "547af87b7511df96",
   "metadata": {
    "ExecuteTime": {
     "end_time": "2024-03-25T08:06:09.073250Z",
     "start_time": "2024-03-25T08:06:09.070606Z"
    },
    "collapsed": false
   },
   "outputs": [
    {
     "data": {
      "text/plain": [
       "249.03897602999996"
      ]
     },
     "execution_count": 18,
     "metadata": {},
     "output_type": "execute_result"
    }
   ],
   "source": [
    "\n",
    "fesmin_data[\"FeSiMn Overshot (Tons)\"].sum() + fesi_data[\"FeSi Overshot (Tons)\"].sum()\n"
   ]
  },
  {
   "cell_type": "markdown",
   "id": "14db191c194718f6",
   "metadata": {
    "collapsed": false
   },
   "source": [
    "### Merge two chemicals results, fill nan and sum results:"
   ]
  },
  {
   "cell_type": "code",
   "execution_count": 19,
   "id": "5cbded715cf37a13",
   "metadata": {
    "ExecuteTime": {
     "end_time": "2024-03-25T08:06:09.180882Z",
     "start_time": "2024-03-25T08:06:09.176306Z"
    },
    "collapsed": false
   },
   "outputs": [],
   "source": [
    "\n",
    "\n",
    "final_results = pd.merge(fesi_data, fesmin_data, on=['SteelGrade', 'Billet Mass (Tons)'],how=\"outer\")\n",
    "# final_results = pd.merge(fesi_data, fesmin_data, on=['SteelGrade'],how=\"outer\")\n",
    "\n",
    "# to ensure that you won't get null result from summing two columns that one include null and the other is int you will get null value and it will lead to misleading results:\n",
    "final_results.fillna(0.0, inplace=True)\n",
    "\n"
   ]
  },
  {
   "cell_type": "code",
   "execution_count": 20,
   "id": "d415ef6e6d93b439",
   "metadata": {
    "ExecuteTime": {
     "end_time": "2024-03-25T08:06:09.188998Z",
     "start_time": "2024-03-25T08:06:09.186291Z"
    },
    "collapsed": false
   },
   "outputs": [],
   "source": [
    "\n",
    "final_results[\"Ferroalloys Overshot (KG/Ton)\"] = final_results[\"FeSiMn Overshot (KG/Ton)\"] + final_results[\"FeSi Overshot (KG/Ton)\"]\n",
    "final_results[\"Ferroalloys Overshot (Tons)\"] =  final_results[\"FeSiMn Overshot (Tons)\"] + final_results[\"FeSi Overshot (Tons)\"]\n",
    "final_results[\"Ferroalloys Overshot Cost ($USD)\"] = final_results[\"FeSiMn Overshot (Cost$)\"] + final_results[\"FeSi Overshot (Cost$)\"]\n"
   ]
  },
  {
   "cell_type": "code",
   "execution_count": 21,
   "id": "691f52276317caba",
   "metadata": {
    "ExecuteTime": {
     "end_time": "2024-03-25T08:06:09.212454Z",
     "start_time": "2024-03-25T08:06:09.209709Z"
    },
    "collapsed": false
   },
   "outputs": [
    {
     "data": {
      "text/plain": [
       "312722.42065156"
      ]
     },
     "execution_count": 21,
     "metadata": {},
     "output_type": "execute_result"
    }
   ],
   "source": [
    "\n",
    "fesmin_data[\"FeSiMn Overshot (Cost$)\"].sum() + fesi_data[\"FeSi Overshot (Cost$)\"].sum()\n",
    "\n"
   ]
  },
  {
   "cell_type": "code",
   "execution_count": 22,
   "id": "4a62de411e0fbf1c",
   "metadata": {
    "ExecuteTime": {
     "end_time": "2024-03-25T08:06:09.306075Z",
     "start_time": "2024-03-25T08:06:09.303034Z"
    },
    "collapsed": false
   },
   "outputs": [
    {
     "data": {
      "text/plain": [
       "249.03897602999996"
      ]
     },
     "execution_count": 22,
     "metadata": {},
     "output_type": "execute_result"
    }
   ],
   "source": [
    "\n",
    "fesmin_data[\"FeSiMn Overshot (Tons)\"].sum() + fesi_data[\"FeSi Overshot (Tons)\"].sum()\n"
   ]
  },
  {
   "cell_type": "code",
   "execution_count": 23,
   "id": "a861ed45378994e6",
   "metadata": {
    "ExecuteTime": {
     "end_time": "2024-03-25T08:06:09.320043Z",
     "start_time": "2024-03-25T08:06:09.317559Z"
    },
    "collapsed": false
   },
   "outputs": [
    {
     "data": {
      "text/plain": [
       "312722.42065156007"
      ]
     },
     "execution_count": 23,
     "metadata": {},
     "output_type": "execute_result"
    }
   ],
   "source": [
    "\n",
    "\n",
    "final_results[\"FeSi Overshot (Cost$)\"].sum() + final_results[\"FeSiMn Overshot (Cost$)\"].sum()\n"
   ]
  },
  {
   "cell_type": "code",
   "execution_count": 24,
   "id": "428401f6632fcd35",
   "metadata": {
    "ExecuteTime": {
     "end_time": "2024-03-25T08:06:09.324152Z",
     "start_time": "2024-03-25T08:06:09.321874Z"
    },
    "collapsed": false
   },
   "outputs": [
    {
     "data": {
      "text/plain": [
       "249.03897602999996"
      ]
     },
     "execution_count": 24,
     "metadata": {},
     "output_type": "execute_result"
    }
   ],
   "source": [
    "\n",
    "final_results[\"FeSi Overshot (Tons)\"].sum() + final_results[\"FeSiMn Overshot (Tons)\"].sum()\n"
   ]
  },
  {
   "cell_type": "code",
   "execution_count": 25,
   "id": "b7cdb0e9813daf85",
   "metadata": {
    "ExecuteTime": {
     "end_time": "2024-03-25T08:06:09.338897Z",
     "start_time": "2024-03-25T08:06:09.336546Z"
    },
    "collapsed": false
   },
   "outputs": [
    {
     "data": {
      "text/plain": [
       "249.03897602999996"
      ]
     },
     "execution_count": 25,
     "metadata": {},
     "output_type": "execute_result"
    }
   ],
   "source": [
    "\n",
    "final_results[\"Ferroalloys Overshot (Tons)\"].sum()\n",
    "\n"
   ]
  },
  {
   "cell_type": "code",
   "execution_count": 26,
   "id": "ccbadd674ea44c86",
   "metadata": {
    "ExecuteTime": {
     "end_time": "2024-03-25T08:06:09.368876Z",
     "start_time": "2024-03-25T08:06:09.366289Z"
    },
    "collapsed": false
   },
   "outputs": [
    {
     "data": {
      "text/plain": [
       "312722.42065156007"
      ]
     },
     "execution_count": 26,
     "metadata": {},
     "output_type": "execute_result"
    }
   ],
   "source": [
    "\n",
    "final_results[\"Ferroalloys Overshot Cost ($USD)\"].sum()\n"
   ]
  },
  {
   "cell_type": "markdown",
   "id": "6b9abbb7fd4fa0cf",
   "metadata": {
    "collapsed": false
   },
   "source": [
    "### Sum numerical columns and create \"total\" row:"
   ]
  },
  {
   "cell_type": "code",
   "execution_count": 27,
   "id": "746edcb2c3d2f802",
   "metadata": {
    "ExecuteTime": {
     "end_time": "2024-03-25T08:06:09.394495Z",
     "start_time": "2024-03-25T08:06:09.383127Z"
    },
    "collapsed": false
   },
   "outputs": [
    {
     "data": {
      "text/html": [
       "<div>\n",
       "<style scoped>\n",
       "    .dataframe tbody tr th:only-of-type {\n",
       "        vertical-align: middle;\n",
       "    }\n",
       "\n",
       "    .dataframe tbody tr th {\n",
       "        vertical-align: top;\n",
       "    }\n",
       "\n",
       "    .dataframe thead th {\n",
       "        text-align: right;\n",
       "    }\n",
       "</style>\n",
       "<table border=\"1\" class=\"dataframe\">\n",
       "  <thead>\n",
       "    <tr style=\"text-align: right;\">\n",
       "      <th></th>\n",
       "      <th>SteelGrade</th>\n",
       "      <th>Billet Mass (Tons)</th>\n",
       "      <th>FeSi Actual (KG/Ton)</th>\n",
       "      <th>FeSi Target (KG/Ton)</th>\n",
       "      <th>FeSi Overshot (KG/Ton)</th>\n",
       "      <th>FeSi Overshot (KG)</th>\n",
       "      <th>FeSi Overshot (Tons)</th>\n",
       "      <th>FeSi Overshot (Cost$)</th>\n",
       "      <th>FeSiMn Actual (KG/Ton)</th>\n",
       "      <th>FeSiMn Target (KG/Ton)</th>\n",
       "      <th>FeSiMn Overshot (KG/Ton)</th>\n",
       "      <th>FeSiMn Overshot (KG)</th>\n",
       "      <th>FeSiMn Overshot (Tons)</th>\n",
       "      <th>FeSiMn Overshot (Cost$)</th>\n",
       "      <th>Ferroalloys Overshot (KG/Ton)</th>\n",
       "      <th>Ferroalloys Overshot (Tons)</th>\n",
       "      <th>Ferroalloys Overshot Cost ($USD)</th>\n",
       "    </tr>\n",
       "  </thead>\n",
       "  <tbody>\n",
       "    <tr>\n",
       "      <th>0</th>\n",
       "      <td>AISI 1005-RM03-1</td>\n",
       "      <td>2998.133</td>\n",
       "      <td>1.23</td>\n",
       "      <td>0.36</td>\n",
       "      <td>0.87</td>\n",
       "      <td>2608.37571</td>\n",
       "      <td>2.608376</td>\n",
       "      <td>3688.933371</td>\n",
       "      <td>4.66</td>\n",
       "      <td>4.53</td>\n",
       "      <td>0.13</td>\n",
       "      <td>389.75729</td>\n",
       "      <td>0.389757</td>\n",
       "      <td>392.667459</td>\n",
       "      <td>1.00</td>\n",
       "      <td>2.998133</td>\n",
       "      <td>4081.600830</td>\n",
       "    </tr>\n",
       "    <tr>\n",
       "      <th>1</th>\n",
       "      <td>AISI 1005-RM03-2</td>\n",
       "      <td>13236.458</td>\n",
       "      <td>1.36</td>\n",
       "      <td>0.36</td>\n",
       "      <td>1.00</td>\n",
       "      <td>13236.45800</td>\n",
       "      <td>13.236458</td>\n",
       "      <td>18719.853680</td>\n",
       "      <td>5.22</td>\n",
       "      <td>4.53</td>\n",
       "      <td>0.69</td>\n",
       "      <td>9133.15602</td>\n",
       "      <td>9.133156</td>\n",
       "      <td>9201.349803</td>\n",
       "      <td>1.69</td>\n",
       "      <td>22.369614</td>\n",
       "      <td>27921.203482</td>\n",
       "    </tr>\n",
       "    <tr>\n",
       "      <th>2</th>\n",
       "      <td>AISI 1006-RM03-1</td>\n",
       "      <td>9652.346</td>\n",
       "      <td>1.24</td>\n",
       "      <td>0.69</td>\n",
       "      <td>0.55</td>\n",
       "      <td>5308.79030</td>\n",
       "      <td>5.308790</td>\n",
       "      <td>7508.034070</td>\n",
       "      <td>5.27</td>\n",
       "      <td>5.07</td>\n",
       "      <td>0.20</td>\n",
       "      <td>1930.46920</td>\n",
       "      <td>1.930469</td>\n",
       "      <td>1944.883275</td>\n",
       "      <td>0.75</td>\n",
       "      <td>7.239259</td>\n",
       "      <td>9452.917345</td>\n",
       "    </tr>\n",
       "    <tr>\n",
       "      <th>3</th>\n",
       "      <td>AISI 1006-RM03-2</td>\n",
       "      <td>56329.480</td>\n",
       "      <td>1.38</td>\n",
       "      <td>0.69</td>\n",
       "      <td>0.69</td>\n",
       "      <td>38867.34120</td>\n",
       "      <td>38.867341</td>\n",
       "      <td>54968.703877</td>\n",
       "      <td>5.17</td>\n",
       "      <td>5.07</td>\n",
       "      <td>0.10</td>\n",
       "      <td>5632.94800</td>\n",
       "      <td>5.632948</td>\n",
       "      <td>5675.007068</td>\n",
       "      <td>0.79</td>\n",
       "      <td>44.500289</td>\n",
       "      <td>60643.710945</td>\n",
       "    </tr>\n",
       "    <tr>\n",
       "      <th>4</th>\n",
       "      <td>AISI 1008-RM03-1</td>\n",
       "      <td>4932.591</td>\n",
       "      <td>1.00</td>\n",
       "      <td>0.27</td>\n",
       "      <td>0.73</td>\n",
       "      <td>3600.79143</td>\n",
       "      <td>3.600791</td>\n",
       "      <td>5092.471770</td>\n",
       "      <td>6.27</td>\n",
       "      <td>5.74</td>\n",
       "      <td>0.53</td>\n",
       "      <td>2614.27323</td>\n",
       "      <td>2.614273</td>\n",
       "      <td>2633.793008</td>\n",
       "      <td>1.26</td>\n",
       "      <td>6.215065</td>\n",
       "      <td>7726.264778</td>\n",
       "    </tr>\n",
       "    <tr>\n",
       "      <th>5</th>\n",
       "      <td>AISI 1008-RM03-2</td>\n",
       "      <td>61650.462</td>\n",
       "      <td>1.40</td>\n",
       "      <td>0.27</td>\n",
       "      <td>1.13</td>\n",
       "      <td>69665.02206</td>\n",
       "      <td>69.665022</td>\n",
       "      <td>98524.772983</td>\n",
       "      <td>6.23</td>\n",
       "      <td>5.74</td>\n",
       "      <td>0.49</td>\n",
       "      <td>30208.72638</td>\n",
       "      <td>30.208726</td>\n",
       "      <td>30434.283386</td>\n",
       "      <td>1.62</td>\n",
       "      <td>99.873748</td>\n",
       "      <td>128959.056369</td>\n",
       "    </tr>\n",
       "    <tr>\n",
       "      <th>6</th>\n",
       "      <td>AISI 1010-RM03-1</td>\n",
       "      <td>1386.720</td>\n",
       "      <td>0.00</td>\n",
       "      <td>0.00</td>\n",
       "      <td>0.00</td>\n",
       "      <td>0.00000</td>\n",
       "      <td>0.000000</td>\n",
       "      <td>0.000000</td>\n",
       "      <td>6.72</td>\n",
       "      <td>5.43</td>\n",
       "      <td>1.29</td>\n",
       "      <td>1788.86880</td>\n",
       "      <td>1.788869</td>\n",
       "      <td>1802.225599</td>\n",
       "      <td>1.29</td>\n",
       "      <td>1.788869</td>\n",
       "      <td>1802.225599</td>\n",
       "    </tr>\n",
       "    <tr>\n",
       "      <th>7</th>\n",
       "      <td>AISI 1012-RM03-1</td>\n",
       "      <td>340.998</td>\n",
       "      <td>1.98</td>\n",
       "      <td>1.71</td>\n",
       "      <td>0.27</td>\n",
       "      <td>92.06946</td>\n",
       "      <td>0.092069</td>\n",
       "      <td>130.210576</td>\n",
       "      <td>8.03</td>\n",
       "      <td>5.43</td>\n",
       "      <td>2.60</td>\n",
       "      <td>886.59480</td>\n",
       "      <td>0.886595</td>\n",
       "      <td>893.214664</td>\n",
       "      <td>2.87</td>\n",
       "      <td>0.978664</td>\n",
       "      <td>1023.425240</td>\n",
       "    </tr>\n",
       "    <tr>\n",
       "      <th>8</th>\n",
       "      <td>AISI 1012-RM03-2</td>\n",
       "      <td>7888.672</td>\n",
       "      <td>0.00</td>\n",
       "      <td>0.00</td>\n",
       "      <td>0.00</td>\n",
       "      <td>0.00000</td>\n",
       "      <td>0.000000</td>\n",
       "      <td>0.000000</td>\n",
       "      <td>7.46</td>\n",
       "      <td>5.43</td>\n",
       "      <td>2.03</td>\n",
       "      <td>16014.00416</td>\n",
       "      <td>16.014004</td>\n",
       "      <td>16133.574604</td>\n",
       "      <td>2.03</td>\n",
       "      <td>16.014004</td>\n",
       "      <td>16133.574604</td>\n",
       "    </tr>\n",
       "    <tr>\n",
       "      <th>9</th>\n",
       "      <td>AISI 1015-RM03-1</td>\n",
       "      <td>14620.995</td>\n",
       "      <td>0.00</td>\n",
       "      <td>0.00</td>\n",
       "      <td>0.00</td>\n",
       "      <td>0.00000</td>\n",
       "      <td>0.000000</td>\n",
       "      <td>0.000000</td>\n",
       "      <td>6.84</td>\n",
       "      <td>5.43</td>\n",
       "      <td>1.41</td>\n",
       "      <td>20615.60295</td>\n",
       "      <td>20.615603</td>\n",
       "      <td>20769.531772</td>\n",
       "      <td>1.41</td>\n",
       "      <td>20.615603</td>\n",
       "      <td>20769.531772</td>\n",
       "    </tr>\n",
       "    <tr>\n",
       "      <th>10</th>\n",
       "      <td>BS-G500B R31-RM03-1</td>\n",
       "      <td>308.880</td>\n",
       "      <td>0.00</td>\n",
       "      <td>0.00</td>\n",
       "      <td>0.00</td>\n",
       "      <td>0.00000</td>\n",
       "      <td>0.000000</td>\n",
       "      <td>0.000000</td>\n",
       "      <td>17.80</td>\n",
       "      <td>17.27</td>\n",
       "      <td>0.53</td>\n",
       "      <td>163.70640</td>\n",
       "      <td>0.163706</td>\n",
       "      <td>164.928733</td>\n",
       "      <td>0.53</td>\n",
       "      <td>0.163706</td>\n",
       "      <td>164.928733</td>\n",
       "    </tr>\n",
       "    <tr>\n",
       "      <th>11</th>\n",
       "      <td>BSG500BR41-RM01-1</td>\n",
       "      <td>36411.089</td>\n",
       "      <td>1.46</td>\n",
       "      <td>1.20</td>\n",
       "      <td>0.26</td>\n",
       "      <td>9466.88314</td>\n",
       "      <td>9.466883</td>\n",
       "      <td>13388.677483</td>\n",
       "      <td>0.00</td>\n",
       "      <td>0.00</td>\n",
       "      <td>0.00</td>\n",
       "      <td>0.00000</td>\n",
       "      <td>0.000000</td>\n",
       "      <td>0.000000</td>\n",
       "      <td>0.26</td>\n",
       "      <td>9.466883</td>\n",
       "      <td>13388.677483</td>\n",
       "    </tr>\n",
       "    <tr>\n",
       "      <th>12</th>\n",
       "      <td>BSG500BR42-RM03-1</td>\n",
       "      <td>15111.253</td>\n",
       "      <td>1.50</td>\n",
       "      <td>1.10</td>\n",
       "      <td>0.40</td>\n",
       "      <td>6044.50120</td>\n",
       "      <td>6.044501</td>\n",
       "      <td>8548.523935</td>\n",
       "      <td>0.00</td>\n",
       "      <td>0.00</td>\n",
       "      <td>0.00</td>\n",
       "      <td>0.00000</td>\n",
       "      <td>0.000000</td>\n",
       "      <td>0.000000</td>\n",
       "      <td>0.40</td>\n",
       "      <td>6.044501</td>\n",
       "      <td>8548.523935</td>\n",
       "    </tr>\n",
       "    <tr>\n",
       "      <th>13</th>\n",
       "      <td>KWSB500BWR R22-RM02-1</td>\n",
       "      <td>298.074</td>\n",
       "      <td>2.00</td>\n",
       "      <td>1.71</td>\n",
       "      <td>0.29</td>\n",
       "      <td>86.44146</td>\n",
       "      <td>0.086441</td>\n",
       "      <td>122.251095</td>\n",
       "      <td>0.00</td>\n",
       "      <td>0.00</td>\n",
       "      <td>0.00</td>\n",
       "      <td>0.00000</td>\n",
       "      <td>0.000000</td>\n",
       "      <td>0.000000</td>\n",
       "      <td>0.29</td>\n",
       "      <td>0.086441</td>\n",
       "      <td>122.251095</td>\n",
       "    </tr>\n",
       "    <tr>\n",
       "      <th>14</th>\n",
       "      <td>SAE 1005-RM03-1</td>\n",
       "      <td>6602.877</td>\n",
       "      <td>0.00</td>\n",
       "      <td>0.00</td>\n",
       "      <td>0.00</td>\n",
       "      <td>0.00000</td>\n",
       "      <td>0.000000</td>\n",
       "      <td>0.000000</td>\n",
       "      <td>5.40</td>\n",
       "      <td>4.53</td>\n",
       "      <td>0.87</td>\n",
       "      <td>5744.50299</td>\n",
       "      <td>5.744503</td>\n",
       "      <td>5787.394997</td>\n",
       "      <td>0.87</td>\n",
       "      <td>5.744503</td>\n",
       "      <td>5787.394997</td>\n",
       "    </tr>\n",
       "    <tr>\n",
       "      <th>15</th>\n",
       "      <td>SWRCH 6R-RM03-1</td>\n",
       "      <td>3659.031</td>\n",
       "      <td>1.51</td>\n",
       "      <td>0.69</td>\n",
       "      <td>0.82</td>\n",
       "      <td>3000.40542</td>\n",
       "      <td>3.000405</td>\n",
       "      <td>4243.367103</td>\n",
       "      <td>5.60</td>\n",
       "      <td>5.07</td>\n",
       "      <td>0.53</td>\n",
       "      <td>1939.28643</td>\n",
       "      <td>1.939286</td>\n",
       "      <td>1953.766340</td>\n",
       "      <td>1.35</td>\n",
       "      <td>4.939692</td>\n",
       "      <td>6197.133443</td>\n",
       "    </tr>\n",
       "    <tr>\n",
       "      <th>16</th>\n",
       "      <td>Total</td>\n",
       "      <td>235428.059</td>\n",
       "      <td>16.06</td>\n",
       "      <td>9.05</td>\n",
       "      <td>7.01</td>\n",
       "      <td>151977.07938</td>\n",
       "      <td>151.977079</td>\n",
       "      <td>214935.799943</td>\n",
       "      <td>90.67</td>\n",
       "      <td>79.27</td>\n",
       "      <td>11.40</td>\n",
       "      <td>97061.89665</td>\n",
       "      <td>97.061897</td>\n",
       "      <td>97786.620708</td>\n",
       "      <td>18.41</td>\n",
       "      <td>249.038976</td>\n",
       "      <td>312722.420652</td>\n",
       "    </tr>\n",
       "  </tbody>\n",
       "</table>\n",
       "</div>"
      ],
      "text/plain": [
       "               SteelGrade  Billet Mass (Tons)  FeSi Actual (KG/Ton)  \\\n",
       "0        AISI 1005-RM03-1            2998.133                  1.23   \n",
       "1        AISI 1005-RM03-2           13236.458                  1.36   \n",
       "2        AISI 1006-RM03-1            9652.346                  1.24   \n",
       "3        AISI 1006-RM03-2           56329.480                  1.38   \n",
       "4        AISI 1008-RM03-1            4932.591                  1.00   \n",
       "5        AISI 1008-RM03-2           61650.462                  1.40   \n",
       "6        AISI 1010-RM03-1            1386.720                  0.00   \n",
       "7        AISI 1012-RM03-1             340.998                  1.98   \n",
       "8        AISI 1012-RM03-2            7888.672                  0.00   \n",
       "9        AISI 1015-RM03-1           14620.995                  0.00   \n",
       "10    BS-G500B R31-RM03-1             308.880                  0.00   \n",
       "11      BSG500BR41-RM01-1           36411.089                  1.46   \n",
       "12      BSG500BR42-RM03-1           15111.253                  1.50   \n",
       "13  KWSB500BWR R22-RM02-1             298.074                  2.00   \n",
       "14        SAE 1005-RM03-1            6602.877                  0.00   \n",
       "15        SWRCH 6R-RM03-1            3659.031                  1.51   \n",
       "16                  Total          235428.059                 16.06   \n",
       "\n",
       "    FeSi Target (KG/Ton)  FeSi Overshot (KG/Ton)  FeSi Overshot (KG)  \\\n",
       "0                   0.36                    0.87          2608.37571   \n",
       "1                   0.36                    1.00         13236.45800   \n",
       "2                   0.69                    0.55          5308.79030   \n",
       "3                   0.69                    0.69         38867.34120   \n",
       "4                   0.27                    0.73          3600.79143   \n",
       "5                   0.27                    1.13         69665.02206   \n",
       "6                   0.00                    0.00             0.00000   \n",
       "7                   1.71                    0.27            92.06946   \n",
       "8                   0.00                    0.00             0.00000   \n",
       "9                   0.00                    0.00             0.00000   \n",
       "10                  0.00                    0.00             0.00000   \n",
       "11                  1.20                    0.26          9466.88314   \n",
       "12                  1.10                    0.40          6044.50120   \n",
       "13                  1.71                    0.29            86.44146   \n",
       "14                  0.00                    0.00             0.00000   \n",
       "15                  0.69                    0.82          3000.40542   \n",
       "16                  9.05                    7.01        151977.07938   \n",
       "\n",
       "    FeSi Overshot (Tons)  FeSi Overshot (Cost$)  FeSiMn Actual (KG/Ton)  \\\n",
       "0               2.608376            3688.933371                    4.66   \n",
       "1              13.236458           18719.853680                    5.22   \n",
       "2               5.308790            7508.034070                    5.27   \n",
       "3              38.867341           54968.703877                    5.17   \n",
       "4               3.600791            5092.471770                    6.27   \n",
       "5              69.665022           98524.772983                    6.23   \n",
       "6               0.000000               0.000000                    6.72   \n",
       "7               0.092069             130.210576                    8.03   \n",
       "8               0.000000               0.000000                    7.46   \n",
       "9               0.000000               0.000000                    6.84   \n",
       "10              0.000000               0.000000                   17.80   \n",
       "11              9.466883           13388.677483                    0.00   \n",
       "12              6.044501            8548.523935                    0.00   \n",
       "13              0.086441             122.251095                    0.00   \n",
       "14              0.000000               0.000000                    5.40   \n",
       "15              3.000405            4243.367103                    5.60   \n",
       "16            151.977079          214935.799943                   90.67   \n",
       "\n",
       "    FeSiMn Target (KG/Ton)  FeSiMn Overshot (KG/Ton)  FeSiMn Overshot (KG)  \\\n",
       "0                     4.53                      0.13             389.75729   \n",
       "1                     4.53                      0.69            9133.15602   \n",
       "2                     5.07                      0.20            1930.46920   \n",
       "3                     5.07                      0.10            5632.94800   \n",
       "4                     5.74                      0.53            2614.27323   \n",
       "5                     5.74                      0.49           30208.72638   \n",
       "6                     5.43                      1.29            1788.86880   \n",
       "7                     5.43                      2.60             886.59480   \n",
       "8                     5.43                      2.03           16014.00416   \n",
       "9                     5.43                      1.41           20615.60295   \n",
       "10                   17.27                      0.53             163.70640   \n",
       "11                    0.00                      0.00               0.00000   \n",
       "12                    0.00                      0.00               0.00000   \n",
       "13                    0.00                      0.00               0.00000   \n",
       "14                    4.53                      0.87            5744.50299   \n",
       "15                    5.07                      0.53            1939.28643   \n",
       "16                   79.27                     11.40           97061.89665   \n",
       "\n",
       "    FeSiMn Overshot (Tons)  FeSiMn Overshot (Cost$)  \\\n",
       "0                 0.389757               392.667459   \n",
       "1                 9.133156              9201.349803   \n",
       "2                 1.930469              1944.883275   \n",
       "3                 5.632948              5675.007068   \n",
       "4                 2.614273              2633.793008   \n",
       "5                30.208726             30434.283386   \n",
       "6                 1.788869              1802.225599   \n",
       "7                 0.886595               893.214664   \n",
       "8                16.014004             16133.574604   \n",
       "9                20.615603             20769.531772   \n",
       "10                0.163706               164.928733   \n",
       "11                0.000000                 0.000000   \n",
       "12                0.000000                 0.000000   \n",
       "13                0.000000                 0.000000   \n",
       "14                5.744503              5787.394997   \n",
       "15                1.939286              1953.766340   \n",
       "16               97.061897             97786.620708   \n",
       "\n",
       "    Ferroalloys Overshot (KG/Ton)  Ferroalloys Overshot (Tons)  \\\n",
       "0                            1.00                     2.998133   \n",
       "1                            1.69                    22.369614   \n",
       "2                            0.75                     7.239259   \n",
       "3                            0.79                    44.500289   \n",
       "4                            1.26                     6.215065   \n",
       "5                            1.62                    99.873748   \n",
       "6                            1.29                     1.788869   \n",
       "7                            2.87                     0.978664   \n",
       "8                            2.03                    16.014004   \n",
       "9                            1.41                    20.615603   \n",
       "10                           0.53                     0.163706   \n",
       "11                           0.26                     9.466883   \n",
       "12                           0.40                     6.044501   \n",
       "13                           0.29                     0.086441   \n",
       "14                           0.87                     5.744503   \n",
       "15                           1.35                     4.939692   \n",
       "16                          18.41                   249.038976   \n",
       "\n",
       "    Ferroalloys Overshot Cost ($USD)  \n",
       "0                        4081.600830  \n",
       "1                       27921.203482  \n",
       "2                        9452.917345  \n",
       "3                       60643.710945  \n",
       "4                        7726.264778  \n",
       "5                      128959.056369  \n",
       "6                        1802.225599  \n",
       "7                        1023.425240  \n",
       "8                       16133.574604  \n",
       "9                       20769.531772  \n",
       "10                        164.928733  \n",
       "11                      13388.677483  \n",
       "12                       8548.523935  \n",
       "13                        122.251095  \n",
       "14                       5787.394997  \n",
       "15                       6197.133443  \n",
       "16                     312722.420652  "
      ]
     },
     "execution_count": 27,
     "metadata": {},
     "output_type": "execute_result"
    }
   ],
   "source": [
    "\n",
    "totals = final_results.select_dtypes(include=[np.number]).sum().rename('Total')\n",
    "totals['SteelGrade'] = 'Total'\n",
    "final_results = pd.concat([final_results, pd.DataFrame([totals])], ignore_index=True)\n",
    "final_results\n"
   ]
  },
  {
   "cell_type": "code",
   "execution_count": 28,
   "id": "c6d785a99dc7f0ab",
   "metadata": {
    "ExecuteTime": {
     "end_time": "2024-03-25T08:06:09.439752Z",
     "start_time": "2024-03-25T08:06:09.436892Z"
    },
    "collapsed": false
   },
   "outputs": [
    {
     "data": {
      "text/plain": [
       "True"
      ]
     },
     "execution_count": 28,
     "metadata": {},
     "output_type": "execute_result"
    }
   ],
   "source": [
    "\n",
    "\n",
    "\n",
    "\n",
    "# Check if all 'Steel Grade' values in df2 are present in df1\n",
    "all_in_reverse = fesmin_data[\"SteelGrade\"].isin(final_results[\"SteelGrade\"]).all()\n",
    "\n",
    "all_in_reverse\n",
    "\n",
    "\n"
   ]
  },
  {
   "cell_type": "code",
   "execution_count": 29,
   "id": "8e88bf3f15dcb52c",
   "metadata": {
    "ExecuteTime": {
     "end_time": "2024-03-25T08:06:09.479456Z",
     "start_time": "2024-03-25T08:06:09.476824Z"
    },
    "collapsed": false
   },
   "outputs": [
    {
     "data": {
      "text/plain": [
       "True"
      ]
     },
     "execution_count": 29,
     "metadata": {},
     "output_type": "execute_result"
    }
   ],
   "source": [
    "\n",
    "\n",
    "all_in_reverse = fesi_data[\"SteelGrade\"].isin(final_results[\"SteelGrade\"]).all()\n",
    "\n",
    "all_in_reverse\n",
    "\n"
   ]
  },
  {
   "cell_type": "code",
   "execution_count": 30,
   "id": "cc8cdb0ff2964a7",
   "metadata": {
    "ExecuteTime": {
     "end_time": "2024-03-25T08:06:09.514240Z",
     "start_time": "2024-03-25T08:06:09.507962Z"
    },
    "collapsed": false
   },
   "outputs": [],
   "source": [
    "numerical_columns = ['Billet Mass (Tons)',\n",
    "                     'FeSi Actual (KG/Ton)',\n",
    "                     'FeSi Target (KG/Ton)',\n",
    "                     'FeSi Overshot (KG/Ton)',\n",
    "                     'FeSi Overshot (KG)',\n",
    "                     'FeSi Overshot (Tons)',\n",
    "                     'FeSi Overshot (Cost$)',\n",
    "                     'FeSiMn Actual (KG/Ton)',\n",
    "                     'FeSiMn Target (KG/Ton)',\n",
    "                     'FeSiMn Overshot (KG/Ton)',\n",
    "                     'FeSiMn Overshot (KG)',\n",
    "                     'FeSiMn Overshot (Tons)',\n",
    "                     'FeSiMn Overshot (Cost$)',\n",
    "                     'Ferroalloys Overshot (KG/Ton)',\n",
    "                     'Ferroalloys Overshot (Tons)',\n",
    "                     'Ferroalloys Overshot Cost ($USD)']\n",
    "\n",
    "final_results[numerical_columns] = final_results[numerical_columns].astype(float)\n",
    "\n",
    "numerical_df = final_results.select_dtypes(include=[np.number])\n",
    "\n",
    "\n",
    "for col in numerical_columns:\n",
    "    final_results[col] = final_results[col].apply(lambda x: f\"{x:.2f}\")\n",
    "\n",
    "final_results[numerical_columns] = final_results[numerical_columns].astype(float)\n",
    "\n"
   ]
  },
  {
   "cell_type": "markdown",
   "id": "9c62c935b44cfdd5",
   "metadata": {
    "collapsed": false
   },
   "source": [
    "### Validate Again:"
   ]
  },
  {
   "cell_type": "code",
   "execution_count": 31,
   "id": "4cbfd1b13a36856e",
   "metadata": {
    "ExecuteTime": {
     "end_time": "2024-03-25T08:06:11.349093Z",
     "start_time": "2024-03-25T08:06:11.344615Z"
    },
    "collapsed": false
   },
   "outputs": [
    {
     "data": {
      "text/plain": [
       "16.060000000000002"
      ]
     },
     "execution_count": 31,
     "metadata": {},
     "output_type": "execute_result"
    }
   ],
   "source": [
    "\n",
    "\n",
    "fesi_data[\"FeSi Actual (KG/Ton)\"].sum()\n"
   ]
  },
  {
   "cell_type": "code",
   "execution_count": 32,
   "id": "efc948e6a2182108",
   "metadata": {
    "ExecuteTime": {
     "end_time": "2024-03-25T08:06:13.253284Z",
     "start_time": "2024-03-25T08:06:13.248630Z"
    },
    "collapsed": false
   },
   "outputs": [
    {
     "data": {
      "text/plain": [
       "9.049999999999999"
      ]
     },
     "execution_count": 32,
     "metadata": {},
     "output_type": "execute_result"
    }
   ],
   "source": [
    "\n",
    "fesi_data[\"FeSi Target (KG/Ton)\"].sum()\n"
   ]
  },
  {
   "cell_type": "code",
   "execution_count": 33,
   "id": "7b2983ba4924f1b8",
   "metadata": {
    "ExecuteTime": {
     "end_time": "2024-03-25T08:06:15.166156Z",
     "start_time": "2024-03-25T08:06:15.162199Z"
    },
    "collapsed": false
   },
   "outputs": [
    {
     "data": {
      "text/plain": [
       "388227.55799999996"
      ]
     },
     "execution_count": 33,
     "metadata": {},
     "output_type": "execute_result"
    }
   ],
   "source": [
    "\n",
    "fesi_data[\"Billet Mass (Tons)\"].sum() + fesmin_data[\"Billet Mass (Tons)\"].sum()\n"
   ]
  },
  {
   "cell_type": "code",
   "execution_count": 34,
   "id": "78aa5cd9a1814fea",
   "metadata": {
    "ExecuteTime": {
     "end_time": "2024-03-25T08:06:16.905351Z",
     "start_time": "2024-03-25T08:06:16.902190Z"
    },
    "collapsed": false
   },
   "outputs": [
    {
     "data": {
      "text/plain": [
       "18.41"
      ]
     },
     "execution_count": 34,
     "metadata": {},
     "output_type": "execute_result"
    }
   ],
   "source": [
    "\n",
    "fesi_data[\"FeSi Overshot (KG/Ton)\"].sum() + fesmin_data[\"FeSiMn Overshot (KG/Ton)\"].sum()\n",
    "\n"
   ]
  },
  {
   "cell_type": "code",
   "execution_count": 35,
   "id": "ad6076a0c0afbb0d",
   "metadata": {
    "ExecuteTime": {
     "end_time": "2024-03-25T08:06:19.588777Z",
     "start_time": "2024-03-25T08:06:19.585218Z"
    },
    "collapsed": false
   },
   "outputs": [
    {
     "data": {
      "text/plain": [
       "249.03897602999996"
      ]
     },
     "execution_count": 35,
     "metadata": {},
     "output_type": "execute_result"
    }
   ],
   "source": [
    "\n",
    "fesmin_data[\"FeSiMn Overshot (Tons)\"].sum() + fesi_data[\"FeSi Overshot (Tons)\"].sum()\n"
   ]
  },
  {
   "cell_type": "code",
   "execution_count": 36,
   "id": "327b3ed3dbbcd0c5",
   "metadata": {
    "ExecuteTime": {
     "end_time": "2024-03-25T08:06:20.914829Z",
     "start_time": "2024-03-25T08:06:20.910883Z"
    },
    "collapsed": false
   },
   "outputs": [
    {
     "data": {
      "text/plain": [
       "312722.42065156"
      ]
     },
     "execution_count": 36,
     "metadata": {},
     "output_type": "execute_result"
    }
   ],
   "source": [
    "\n",
    "fesmin_data[\"FeSiMn Overshot (Cost$)\"].sum() + fesi_data[\"FeSi Overshot (Cost$)\"].sum()\n"
   ]
  },
  {
   "cell_type": "code",
   "execution_count": 37,
   "id": "4a7a8f9ecad17c05",
   "metadata": {
    "ExecuteTime": {
     "end_time": "2024-03-25T08:06:22.003912Z",
     "start_time": "2024-03-25T08:06:22.001211Z"
    },
    "collapsed": false
   },
   "outputs": [
    {
     "data": {
      "text/plain": [
       "97786.62070823522"
      ]
     },
     "execution_count": 37,
     "metadata": {},
     "output_type": "execute_result"
    }
   ],
   "source": [
    "\n",
    "fesmin_data[\"FeSiMn Overshot (Cost$)\"].sum()\n"
   ]
  },
  {
   "cell_type": "code",
   "execution_count": 38,
   "id": "34841e29d0b9527c",
   "metadata": {
    "ExecuteTime": {
     "end_time": "2024-03-25T08:08:18.422911Z",
     "start_time": "2024-03-25T08:08:18.415531Z"
    },
    "collapsed": false
   },
   "outputs": [
    {
     "data": {
      "text/plain": [
       "388227.55799999996"
      ]
     },
     "execution_count": 38,
     "metadata": {},
     "output_type": "execute_result"
    }
   ],
   "source": [
    "\n",
    "\n",
    "fesi_data[\"Billet Mass (Tons)\"].sum() + fesmin_data[\"Billet Mass (Tons)\"].sum()\n"
   ]
  },
  {
   "cell_type": "code",
   "execution_count": 39,
   "id": "b4a04c8641ac056f",
   "metadata": {
    "ExecuteTime": {
     "end_time": "2024-03-25T08:13:28.894941Z",
     "start_time": "2024-03-25T08:13:28.891721Z"
    },
    "collapsed": false
   },
   "outputs": [
    {
     "ename": "KeyError",
     "evalue": "'FeSi Overshot (Cost$)'",
     "output_type": "error",
     "traceback": [
      "\u001B[0;31m---------------------------------------------------------------------------\u001B[0m",
      "\u001B[0;31mKeyError\u001B[0m                                  Traceback (most recent call last)",
      "File \u001B[0;32m~/miniconda3/envs/HSM_Gap_Optm/lib/python3.10/site-packages/pandas/core/indexes/base.py:3805\u001B[0m, in \u001B[0;36mIndex.get_loc\u001B[0;34m(self, key)\u001B[0m\n\u001B[1;32m   3804\u001B[0m \u001B[38;5;28;01mtry\u001B[39;00m:\n\u001B[0;32m-> 3805\u001B[0m     \u001B[38;5;28;01mreturn\u001B[39;00m \u001B[38;5;28;43mself\u001B[39;49m\u001B[38;5;241;43m.\u001B[39;49m\u001B[43m_engine\u001B[49m\u001B[38;5;241;43m.\u001B[39;49m\u001B[43mget_loc\u001B[49m\u001B[43m(\u001B[49m\u001B[43mcasted_key\u001B[49m\u001B[43m)\u001B[49m\n\u001B[1;32m   3806\u001B[0m \u001B[38;5;28;01mexcept\u001B[39;00m \u001B[38;5;167;01mKeyError\u001B[39;00m \u001B[38;5;28;01mas\u001B[39;00m err:\n",
      "File \u001B[0;32mindex.pyx:167\u001B[0m, in \u001B[0;36mpandas._libs.index.IndexEngine.get_loc\u001B[0;34m()\u001B[0m\n",
      "File \u001B[0;32mindex.pyx:196\u001B[0m, in \u001B[0;36mpandas._libs.index.IndexEngine.get_loc\u001B[0;34m()\u001B[0m\n",
      "File \u001B[0;32mpandas/_libs/hashtable_class_helper.pxi:7081\u001B[0m, in \u001B[0;36mpandas._libs.hashtable.PyObjectHashTable.get_item\u001B[0;34m()\u001B[0m\n",
      "File \u001B[0;32mpandas/_libs/hashtable_class_helper.pxi:7089\u001B[0m, in \u001B[0;36mpandas._libs.hashtable.PyObjectHashTable.get_item\u001B[0;34m()\u001B[0m\n",
      "\u001B[0;31mKeyError\u001B[0m: 'FeSi Overshot (Cost$)'",
      "\nThe above exception was the direct cause of the following exception:\n",
      "\u001B[0;31mKeyError\u001B[0m                                  Traceback (most recent call last)",
      "Cell \u001B[0;32mIn[39], line 1\u001B[0m\n\u001B[0;32m----> 1\u001B[0m \u001B[43mfesmin_data\u001B[49m\u001B[43m[\u001B[49m\u001B[38;5;124;43m\"\u001B[39;49m\u001B[38;5;124;43mFeSi Overshot (Cost$)\u001B[39;49m\u001B[38;5;124;43m\"\u001B[39;49m\u001B[43m]\u001B[49m\u001B[38;5;241m.\u001B[39msum()\n",
      "File \u001B[0;32m~/miniconda3/envs/HSM_Gap_Optm/lib/python3.10/site-packages/pandas/core/frame.py:4090\u001B[0m, in \u001B[0;36mDataFrame.__getitem__\u001B[0;34m(self, key)\u001B[0m\n\u001B[1;32m   4088\u001B[0m \u001B[38;5;28;01mif\u001B[39;00m \u001B[38;5;28mself\u001B[39m\u001B[38;5;241m.\u001B[39mcolumns\u001B[38;5;241m.\u001B[39mnlevels \u001B[38;5;241m>\u001B[39m \u001B[38;5;241m1\u001B[39m:\n\u001B[1;32m   4089\u001B[0m     \u001B[38;5;28;01mreturn\u001B[39;00m \u001B[38;5;28mself\u001B[39m\u001B[38;5;241m.\u001B[39m_getitem_multilevel(key)\n\u001B[0;32m-> 4090\u001B[0m indexer \u001B[38;5;241m=\u001B[39m \u001B[38;5;28;43mself\u001B[39;49m\u001B[38;5;241;43m.\u001B[39;49m\u001B[43mcolumns\u001B[49m\u001B[38;5;241;43m.\u001B[39;49m\u001B[43mget_loc\u001B[49m\u001B[43m(\u001B[49m\u001B[43mkey\u001B[49m\u001B[43m)\u001B[49m\n\u001B[1;32m   4091\u001B[0m \u001B[38;5;28;01mif\u001B[39;00m is_integer(indexer):\n\u001B[1;32m   4092\u001B[0m     indexer \u001B[38;5;241m=\u001B[39m [indexer]\n",
      "File \u001B[0;32m~/miniconda3/envs/HSM_Gap_Optm/lib/python3.10/site-packages/pandas/core/indexes/base.py:3812\u001B[0m, in \u001B[0;36mIndex.get_loc\u001B[0;34m(self, key)\u001B[0m\n\u001B[1;32m   3807\u001B[0m     \u001B[38;5;28;01mif\u001B[39;00m \u001B[38;5;28misinstance\u001B[39m(casted_key, \u001B[38;5;28mslice\u001B[39m) \u001B[38;5;129;01mor\u001B[39;00m (\n\u001B[1;32m   3808\u001B[0m         \u001B[38;5;28misinstance\u001B[39m(casted_key, abc\u001B[38;5;241m.\u001B[39mIterable)\n\u001B[1;32m   3809\u001B[0m         \u001B[38;5;129;01mand\u001B[39;00m \u001B[38;5;28many\u001B[39m(\u001B[38;5;28misinstance\u001B[39m(x, \u001B[38;5;28mslice\u001B[39m) \u001B[38;5;28;01mfor\u001B[39;00m x \u001B[38;5;129;01min\u001B[39;00m casted_key)\n\u001B[1;32m   3810\u001B[0m     ):\n\u001B[1;32m   3811\u001B[0m         \u001B[38;5;28;01mraise\u001B[39;00m InvalidIndexError(key)\n\u001B[0;32m-> 3812\u001B[0m     \u001B[38;5;28;01mraise\u001B[39;00m \u001B[38;5;167;01mKeyError\u001B[39;00m(key) \u001B[38;5;28;01mfrom\u001B[39;00m \u001B[38;5;21;01merr\u001B[39;00m\n\u001B[1;32m   3813\u001B[0m \u001B[38;5;28;01mexcept\u001B[39;00m \u001B[38;5;167;01mTypeError\u001B[39;00m:\n\u001B[1;32m   3814\u001B[0m     \u001B[38;5;66;03m# If we have a listlike key, _check_indexing_error will raise\u001B[39;00m\n\u001B[1;32m   3815\u001B[0m     \u001B[38;5;66;03m#  InvalidIndexError. Otherwise we fall through and re-raise\u001B[39;00m\n\u001B[1;32m   3816\u001B[0m     \u001B[38;5;66;03m#  the TypeError.\u001B[39;00m\n\u001B[1;32m   3817\u001B[0m     \u001B[38;5;28mself\u001B[39m\u001B[38;5;241m.\u001B[39m_check_indexing_error(key)\n",
      "\u001B[0;31mKeyError\u001B[0m: 'FeSi Overshot (Cost$)'"
     ]
    }
   ],
   "source": [
    "\n",
    "\n",
    "fesmin_data[\"FeSi Overshot (Cost$)\"].sum()\n"
   ]
  },
  {
   "cell_type": "code",
   "execution_count": 41,
   "id": "c29aa9b8314f94f2",
   "metadata": {
    "ExecuteTime": {
     "end_time": "2024-03-25T08:16:09.540131Z",
     "start_time": "2024-03-25T08:16:09.535648Z"
    },
    "collapsed": false
   },
   "outputs": [
    {
     "data": {
      "text/plain": [
       "18.41"
      ]
     },
     "execution_count": 41,
     "metadata": {},
     "output_type": "execute_result"
    }
   ],
   "source": [
    "\n",
    "\n",
    "fesmin_data[\"FeSiMn Overshot (KG/Ton)\"].sum() + fesi_data[\"FeSi Overshot (KG/Ton)\"].sum()\n"
   ]
  },
  {
   "cell_type": "code",
   "execution_count": 42,
   "id": "468a3d6e36eca93c",
   "metadata": {
    "ExecuteTime": {
     "end_time": "2024-03-25T08:16:47.415122Z",
     "start_time": "2024-03-25T08:16:47.412267Z"
    },
    "collapsed": false
   },
   "outputs": [
    {
     "data": {
      "text/plain": [
       "249.03897602999996"
      ]
     },
     "execution_count": 42,
     "metadata": {},
     "output_type": "execute_result"
    }
   ],
   "source": [
    "\n",
    "\n",
    "fesmin_data[\"FeSiMn Overshot (Tons)\"].sum() + fesi_data[\"FeSi Overshot (Tons)\"].sum()\n"
   ]
  },
  {
   "cell_type": "code",
   "execution_count": null,
   "id": "1d5d883eb2430196",
   "metadata": {
    "ExecuteTime": {
     "end_time": "2024-03-25T08:06:24.398600Z",
     "start_time": "2024-03-25T08:06:24.388287Z"
    },
    "collapsed": false
   },
   "outputs": [],
   "source": [
    "\n",
    "\n",
    "final_results[final_results[\"SteelGrade\"] == \"Total\"]\n"
   ]
  },
  {
   "cell_type": "code",
   "execution_count": null,
   "id": "2533229aaf32c749",
   "metadata": {
    "ExecuteTime": {
     "end_time": "2024-03-25T08:11:33.807124Z",
     "start_time": "2024-03-25T08:11:33.801495Z"
    },
    "collapsed": false
   },
   "outputs": [],
   "source": [
    "\n",
    "\n",
    "fesmin_data[\"FeSiMn Overshot (Cost$)\"].sum()\n"
   ]
  },
  {
   "cell_type": "code",
   "execution_count": null,
   "id": "a6b80991c7131ffe",
   "metadata": {
    "ExecuteTime": {
     "end_time": "2024-03-25T08:11:31.028937Z",
     "start_time": "2024-03-25T08:11:31.023683Z"
    },
    "collapsed": false
   },
   "outputs": [],
   "source": [
    "\n",
    "fesi_data[\"FeSi Overshot (Cost$)\"].sum()\n"
   ]
  },
  {
   "cell_type": "code",
   "execution_count": null,
   "id": "df262c34818b3449",
   "metadata": {
    "ExecuteTime": {
     "end_time": "2024-03-25T08:11:53.005959Z",
     "start_time": "2024-03-25T08:11:53.000303Z"
    },
    "collapsed": false
   },
   "outputs": [],
   "source": [
    "\n",
    "fesmin_data[\"FeSiMn Overshot (Cost$)\"].sum() + fesi_data[\"FeSi Overshot (Cost$)\"].sum()\n",
    "\n"
   ]
  },
  {
   "cell_type": "code",
   "execution_count": null,
   "id": "c54e50a775fe53a",
   "metadata": {
    "ExecuteTime": {
     "end_time": "2024-03-25T08:17:29.795188Z",
     "start_time": "2024-03-25T08:17:29.780896Z"
    },
    "collapsed": false
   },
   "outputs": [],
   "source": [
    "\n",
    "fesmin_data[\"FeSiMn Overshot (Tons)\"].sum() + fesi_data[\"FeSi Overshot (Tons)\"].sum()\n",
    "\n"
   ]
  },
  {
   "cell_type": "code",
   "execution_count": null,
   "id": "e8638e7ebf60f0b1",
   "metadata": {
    "ExecuteTime": {
     "end_time": "2024-03-25T08:32:14.122712Z",
     "start_time": "2024-03-25T08:32:14.108207Z"
    },
    "collapsed": false
   },
   "outputs": [],
   "source": [
    "\n",
    "final_results[\"SteelGrade\"].nunique()\n"
   ]
  },
  {
   "cell_type": "markdown",
   "id": "72acd6588d30dc46",
   "metadata": {
    "collapsed": false
   },
   "source": [
    "\n",
    "\n",
    "SMP1 2023 Base estimates:\n",
    "FeSiMn overshot Cost: 97786 USD \n",
    "FeSi Overshot Cost: 214935 USD \n",
    "Overall Cost: 312722 USD \n",
    "Ferroalloys Overshot (Tons): 249\n",
    "\n"
   ]
  },
  {
   "cell_type": "code",
   "execution_count": 43,
   "id": "bc8df7a1b2d645b",
   "metadata": {
    "ExecuteTime": {
     "end_time": "2024-03-25T08:26:23.260275Z",
     "start_time": "2024-03-25T08:26:23.239235Z"
    },
    "collapsed": false
   },
   "outputs": [
    {
     "data": {
      "text/html": [
       "<style type=\"text/css\">\n",
       "#T_3ff42_row0_col1, #T_3ff42_row1_col13, #T_3ff42_row2_col1, #T_3ff42_row2_col2, #T_3ff42_row2_col3, #T_3ff42_row3_col2, #T_3ff42_row5_col13, #T_3ff42_row9_col7, #T_3ff42_row14_col9, #T_3ff42_row15_col2 {\n",
       "  background-color: #ecf8e8;\n",
       "  color: #000000;\n",
       "}\n",
       "#T_3ff42_row0_col2, #T_3ff42_row0_col13, #T_3ff42_row1_col2, #T_3ff42_row4_col9, #T_3ff42_row5_col9, #T_3ff42_row10_col9, #T_3ff42_row11_col15, #T_3ff42_row12_col4, #T_3ff42_row12_col5, #T_3ff42_row12_col6, #T_3ff42_row13_col3, #T_3ff42_row15_col9 {\n",
       "  background-color: #f1faee;\n",
       "  color: #000000;\n",
       "}\n",
       "#T_3ff42_row0_col3, #T_3ff42_row7_col1, #T_3ff42_row9_col9, #T_3ff42_row12_col2, #T_3ff42_row13_col1 {\n",
       "  background-color: #e5f5e1;\n",
       "  color: #000000;\n",
       "}\n",
       "#T_3ff42_row0_col4, #T_3ff42_row0_col5, #T_3ff42_row0_col6, #T_3ff42_row2_col9, #T_3ff42_row6_col10, #T_3ff42_row6_col11, #T_3ff42_row6_col12, #T_3ff42_row14_col15, #T_3ff42_row15_col14, #T_3ff42_row15_col15 {\n",
       "  background-color: #f5fbf2;\n",
       "  color: #000000;\n",
       "}\n",
       "#T_3ff42_row0_col7, #T_3ff42_row8_col15 {\n",
       "  background-color: #f0f9ec;\n",
       "  color: #000000;\n",
       "}\n",
       "#T_3ff42_row0_col8, #T_3ff42_row1_col7, #T_3ff42_row1_col8, #T_3ff42_row2_col7, #T_3ff42_row3_col7, #T_3ff42_row3_col10, #T_3ff42_row3_col11, #T_3ff42_row3_col12, #T_3ff42_row4_col13, #T_3ff42_row6_col13, #T_3ff42_row12_col3, #T_3ff42_row14_col8 {\n",
       "  background-color: #eff9ec;\n",
       "  color: #000000;\n",
       "}\n",
       "#T_3ff42_row0_col9, #T_3ff42_row0_col10, #T_3ff42_row0_col11, #T_3ff42_row0_col12, #T_3ff42_row0_col14, #T_3ff42_row3_col9, #T_3ff42_row6_col14, #T_3ff42_row6_col15, #T_3ff42_row7_col10, #T_3ff42_row7_col11, #T_3ff42_row7_col12, #T_3ff42_row12_col13 {\n",
       "  background-color: #f6fcf4;\n",
       "  color: #000000;\n",
       "}\n",
       "#T_3ff42_row0_col15, #T_3ff42_row10_col13 {\n",
       "  background-color: #f5fbf3;\n",
       "  color: #000000;\n",
       "}\n",
       "#T_3ff42_row1_col1, #T_3ff42_row1_col4, #T_3ff42_row1_col5, #T_3ff42_row1_col6, #T_3ff42_row1_col14, #T_3ff42_row1_col15, #T_3ff42_row3_col1, #T_3ff42_row5_col1, #T_3ff42_row7_col7, #T_3ff42_row8_col7, #T_3ff42_row9_col14 {\n",
       "  background-color: #ebf7e7;\n",
       "  color: #000000;\n",
       "}\n",
       "#T_3ff42_row1_col3, #T_3ff42_row7_col13 {\n",
       "  background-color: #e1f3dc;\n",
       "  color: #000000;\n",
       "}\n",
       "#T_3ff42_row1_col9, #T_3ff42_row4_col1, #T_3ff42_row11_col4, #T_3ff42_row11_col5, #T_3ff42_row11_col6, #T_3ff42_row14_col7, #T_3ff42_row14_col10, #T_3ff42_row14_col11, #T_3ff42_row14_col12, #T_3ff42_row15_col7, #T_3ff42_row15_col13 {\n",
       "  background-color: #eff9eb;\n",
       "  color: #000000;\n",
       "}\n",
       "#T_3ff42_row1_col10, #T_3ff42_row1_col11, #T_3ff42_row1_col12, #T_3ff42_row3_col3, #T_3ff42_row8_col13, #T_3ff42_row15_col1 {\n",
       "  background-color: #e9f7e5;\n",
       "  color: #000000;\n",
       "}\n",
       "#T_3ff42_row2_col4, #T_3ff42_row2_col5, #T_3ff42_row2_col6, #T_3ff42_row14_col13 {\n",
       "  background-color: #f2faf0;\n",
       "  color: #000000;\n",
       "}\n",
       "#T_3ff42_row2_col8, #T_3ff42_row3_col8, #T_3ff42_row8_col14, #T_3ff42_row9_col13, #T_3ff42_row9_col15, #T_3ff42_row15_col8 {\n",
       "  background-color: #eef8ea;\n",
       "  color: #000000;\n",
       "}\n",
       "#T_3ff42_row2_col10, #T_3ff42_row2_col11, #T_3ff42_row2_col12, #T_3ff42_row14_col14, #T_3ff42_row15_col4, #T_3ff42_row15_col5, #T_3ff42_row15_col6, #T_3ff42_row15_col10, #T_3ff42_row15_col11, #T_3ff42_row15_col12 {\n",
       "  background-color: #f4fbf2;\n",
       "  color: #000000;\n",
       "}\n",
       "#T_3ff42_row2_col13, #T_3ff42_row4_col4, #T_3ff42_row4_col5, #T_3ff42_row4_col6, #T_3ff42_row4_col10, #T_3ff42_row4_col11, #T_3ff42_row4_col12, #T_3ff42_row4_col14, #T_3ff42_row4_col15, #T_3ff42_row12_col14, #T_3ff42_row12_col15 {\n",
       "  background-color: #f4fbf1;\n",
       "  color: #000000;\n",
       "}\n",
       "#T_3ff42_row2_col14, #T_3ff42_row2_col15, #T_3ff42_row3_col13, #T_3ff42_row4_col2, #T_3ff42_row5_col2 {\n",
       "  background-color: #f3faf0;\n",
       "  color: #000000;\n",
       "}\n",
       "#T_3ff42_row3_col4, #T_3ff42_row3_col5, #T_3ff42_row3_col6 {\n",
       "  background-color: #c6e8bf;\n",
       "  color: #000000;\n",
       "}\n",
       "#T_3ff42_row3_col14, #T_3ff42_row8_col9 {\n",
       "  background-color: #d9f0d3;\n",
       "  color: #000000;\n",
       "}\n",
       "#T_3ff42_row3_col15 {\n",
       "  background-color: #d5efcf;\n",
       "  color: #000000;\n",
       "}\n",
       "#T_3ff42_row4_col3 {\n",
       "  background-color: #e8f6e4;\n",
       "  color: #000000;\n",
       "}\n",
       "#T_3ff42_row4_col7, #T_3ff42_row5_col7, #T_3ff42_row6_col8, #T_3ff42_row7_col8, #T_3ff42_row8_col8, #T_3ff42_row9_col8 {\n",
       "  background-color: #edf8ea;\n",
       "  color: #000000;\n",
       "}\n",
       "#T_3ff42_row4_col8, #T_3ff42_row5_col8, #T_3ff42_row6_col7 {\n",
       "  background-color: #edf8e9;\n",
       "  color: #000000;\n",
       "}\n",
       "#T_3ff42_row5_col3 {\n",
       "  background-color: #dcf2d7;\n",
       "  color: #000000;\n",
       "}\n",
       "#T_3ff42_row5_col4, #T_3ff42_row5_col5, #T_3ff42_row5_col6 {\n",
       "  background-color: #83cb82;\n",
       "  color: #000000;\n",
       "}\n",
       "#T_3ff42_row5_col10, #T_3ff42_row5_col11, #T_3ff42_row5_col12 {\n",
       "  background-color: #b5e1ae;\n",
       "  color: #000000;\n",
       "}\n",
       "#T_3ff42_row5_col14 {\n",
       "  background-color: #98d594;\n",
       "  color: #000000;\n",
       "}\n",
       "#T_3ff42_row5_col15 {\n",
       "  background-color: #94d390;\n",
       "  color: #000000;\n",
       "}\n",
       "#T_3ff42_row6_col1, #T_3ff42_row6_col2, #T_3ff42_row6_col3, #T_3ff42_row6_col4, #T_3ff42_row6_col5, #T_3ff42_row6_col6, #T_3ff42_row7_col4, #T_3ff42_row7_col5, #T_3ff42_row7_col6, #T_3ff42_row7_col14, #T_3ff42_row7_col15, #T_3ff42_row8_col1, #T_3ff42_row8_col2, #T_3ff42_row8_col3, #T_3ff42_row8_col4, #T_3ff42_row8_col5, #T_3ff42_row8_col6, #T_3ff42_row9_col1, #T_3ff42_row9_col2, #T_3ff42_row9_col3, #T_3ff42_row9_col4, #T_3ff42_row9_col5, #T_3ff42_row9_col6, #T_3ff42_row10_col1, #T_3ff42_row10_col2, #T_3ff42_row10_col3, #T_3ff42_row10_col4, #T_3ff42_row10_col5, #T_3ff42_row10_col6, #T_3ff42_row10_col10, #T_3ff42_row10_col11, #T_3ff42_row10_col12, #T_3ff42_row10_col14, #T_3ff42_row10_col15, #T_3ff42_row11_col7, #T_3ff42_row11_col8, #T_3ff42_row11_col9, #T_3ff42_row11_col10, #T_3ff42_row11_col11, #T_3ff42_row11_col12, #T_3ff42_row11_col13, #T_3ff42_row12_col7, #T_3ff42_row12_col8, #T_3ff42_row12_col9, #T_3ff42_row12_col10, #T_3ff42_row12_col11, #T_3ff42_row12_col12, #T_3ff42_row13_col4, #T_3ff42_row13_col5, #T_3ff42_row13_col6, #T_3ff42_row13_col7, #T_3ff42_row13_col8, #T_3ff42_row13_col9, #T_3ff42_row13_col10, #T_3ff42_row13_col11, #T_3ff42_row13_col12, #T_3ff42_row13_col13, #T_3ff42_row13_col14, #T_3ff42_row13_col15, #T_3ff42_row14_col1, #T_3ff42_row14_col2, #T_3ff42_row14_col3, #T_3ff42_row14_col4, #T_3ff42_row14_col5, #T_3ff42_row14_col6 {\n",
       "  background-color: #f7fcf5;\n",
       "  color: #000000;\n",
       "}\n",
       "#T_3ff42_row6_col9 {\n",
       "  background-color: #e7f6e3;\n",
       "  color: #000000;\n",
       "}\n",
       "#T_3ff42_row7_col2, #T_3ff42_row13_col2 {\n",
       "  background-color: #d6efd0;\n",
       "  color: #000000;\n",
       "}\n",
       "#T_3ff42_row7_col3, #T_3ff42_row11_col3, #T_3ff42_row11_col14 {\n",
       "  background-color: #f2faef;\n",
       "  color: #000000;\n",
       "}\n",
       "#T_3ff42_row7_col9 {\n",
       "  background-color: #ccebc6;\n",
       "  color: #000000;\n",
       "}\n",
       "#T_3ff42_row8_col10, #T_3ff42_row8_col11, #T_3ff42_row8_col12 {\n",
       "  background-color: #dbf1d6;\n",
       "  color: #000000;\n",
       "}\n",
       "#T_3ff42_row9_col10, #T_3ff42_row9_col11, #T_3ff42_row9_col12 {\n",
       "  background-color: #d0edca;\n",
       "  color: #000000;\n",
       "}\n",
       "#T_3ff42_row10_col7 {\n",
       "  background-color: #d4eece;\n",
       "  color: #000000;\n",
       "}\n",
       "#T_3ff42_row10_col8 {\n",
       "  background-color: #cfecc9;\n",
       "  color: #000000;\n",
       "}\n",
       "#T_3ff42_row11_col1, #T_3ff42_row12_col1 {\n",
       "  background-color: #eaf7e6;\n",
       "  color: #000000;\n",
       "}\n",
       "#T_3ff42_row11_col2 {\n",
       "  background-color: #e4f5df;\n",
       "  color: #000000;\n",
       "}\n",
       "#T_3ff42_row15_col3 {\n",
       "  background-color: #e7f6e2;\n",
       "  color: #000000;\n",
       "}\n",
       "#T_3ff42_row16_col1, #T_3ff42_row16_col2, #T_3ff42_row16_col3, #T_3ff42_row16_col4, #T_3ff42_row16_col5, #T_3ff42_row16_col6, #T_3ff42_row16_col7, #T_3ff42_row16_col8, #T_3ff42_row16_col9, #T_3ff42_row16_col10, #T_3ff42_row16_col11, #T_3ff42_row16_col12, #T_3ff42_row16_col13, #T_3ff42_row16_col14, #T_3ff42_row16_col15 {\n",
       "  background-color: #00441b;\n",
       "  color: #f1f1f1;\n",
       "}\n",
       "</style>\n",
       "<table id=\"T_3ff42\">\n",
       "  <thead>\n",
       "    <tr>\n",
       "      <th class=\"blank level0\" >&nbsp;</th>\n",
       "      <th id=\"T_3ff42_level0_col0\" class=\"col_heading level0 col0\" >SteelGrade</th>\n",
       "      <th id=\"T_3ff42_level0_col1\" class=\"col_heading level0 col1\" >FeSi Actual (KG/Ton)</th>\n",
       "      <th id=\"T_3ff42_level0_col2\" class=\"col_heading level0 col2\" >FeSi Target (KG/Ton)</th>\n",
       "      <th id=\"T_3ff42_level0_col3\" class=\"col_heading level0 col3\" >FeSi Overshot (KG/Ton)</th>\n",
       "      <th id=\"T_3ff42_level0_col4\" class=\"col_heading level0 col4\" >FeSi Overshot (KG)</th>\n",
       "      <th id=\"T_3ff42_level0_col5\" class=\"col_heading level0 col5\" >FeSi Overshot (Tons)</th>\n",
       "      <th id=\"T_3ff42_level0_col6\" class=\"col_heading level0 col6\" >FeSi Overshot (Cost$)</th>\n",
       "      <th id=\"T_3ff42_level0_col7\" class=\"col_heading level0 col7\" >FeSiMn Actual (KG/Ton)</th>\n",
       "      <th id=\"T_3ff42_level0_col8\" class=\"col_heading level0 col8\" >FeSiMn Target (KG/Ton)</th>\n",
       "      <th id=\"T_3ff42_level0_col9\" class=\"col_heading level0 col9\" >FeSiMn Overshot (KG/Ton)</th>\n",
       "      <th id=\"T_3ff42_level0_col10\" class=\"col_heading level0 col10\" >FeSiMn Overshot (KG)</th>\n",
       "      <th id=\"T_3ff42_level0_col11\" class=\"col_heading level0 col11\" >FeSiMn Overshot (Tons)</th>\n",
       "      <th id=\"T_3ff42_level0_col12\" class=\"col_heading level0 col12\" >FeSiMn Overshot (Cost$)</th>\n",
       "      <th id=\"T_3ff42_level0_col13\" class=\"col_heading level0 col13\" >Ferroalloys Overshot (KG/Ton)</th>\n",
       "      <th id=\"T_3ff42_level0_col14\" class=\"col_heading level0 col14\" >Ferroalloys Overshot (Tons)</th>\n",
       "      <th id=\"T_3ff42_level0_col15\" class=\"col_heading level0 col15\" >Ferroalloys Overshot Cost ($USD)</th>\n",
       "    </tr>\n",
       "  </thead>\n",
       "  <tbody>\n",
       "    <tr>\n",
       "      <th id=\"T_3ff42_level0_row0\" class=\"row_heading level0 row0\" >0</th>\n",
       "      <td id=\"T_3ff42_row0_col0\" class=\"data row0 col0\" >AISI 1005-RM03-1</td>\n",
       "      <td id=\"T_3ff42_row0_col1\" class=\"data row0 col1\" >1.230000</td>\n",
       "      <td id=\"T_3ff42_row0_col2\" class=\"data row0 col2\" >0.360000</td>\n",
       "      <td id=\"T_3ff42_row0_col3\" class=\"data row0 col3\" >0.870000</td>\n",
       "      <td id=\"T_3ff42_row0_col4\" class=\"data row0 col4\" >2608.380000</td>\n",
       "      <td id=\"T_3ff42_row0_col5\" class=\"data row0 col5\" >2.610000</td>\n",
       "      <td id=\"T_3ff42_row0_col6\" class=\"data row0 col6\" >3688.930000</td>\n",
       "      <td id=\"T_3ff42_row0_col7\" class=\"data row0 col7\" >4.660000</td>\n",
       "      <td id=\"T_3ff42_row0_col8\" class=\"data row0 col8\" >4.530000</td>\n",
       "      <td id=\"T_3ff42_row0_col9\" class=\"data row0 col9\" >0.130000</td>\n",
       "      <td id=\"T_3ff42_row0_col10\" class=\"data row0 col10\" >389.760000</td>\n",
       "      <td id=\"T_3ff42_row0_col11\" class=\"data row0 col11\" >0.390000</td>\n",
       "      <td id=\"T_3ff42_row0_col12\" class=\"data row0 col12\" >392.670000</td>\n",
       "      <td id=\"T_3ff42_row0_col13\" class=\"data row0 col13\" >1.000000</td>\n",
       "      <td id=\"T_3ff42_row0_col14\" class=\"data row0 col14\" >3.000000</td>\n",
       "      <td id=\"T_3ff42_row0_col15\" class=\"data row0 col15\" >4081.600000</td>\n",
       "    </tr>\n",
       "    <tr>\n",
       "      <th id=\"T_3ff42_level0_row1\" class=\"row_heading level0 row1\" >1</th>\n",
       "      <td id=\"T_3ff42_row1_col0\" class=\"data row1 col0\" >AISI 1005-RM03-2</td>\n",
       "      <td id=\"T_3ff42_row1_col1\" class=\"data row1 col1\" >1.360000</td>\n",
       "      <td id=\"T_3ff42_row1_col2\" class=\"data row1 col2\" >0.360000</td>\n",
       "      <td id=\"T_3ff42_row1_col3\" class=\"data row1 col3\" >1.000000</td>\n",
       "      <td id=\"T_3ff42_row1_col4\" class=\"data row1 col4\" >13236.460000</td>\n",
       "      <td id=\"T_3ff42_row1_col5\" class=\"data row1 col5\" >13.240000</td>\n",
       "      <td id=\"T_3ff42_row1_col6\" class=\"data row1 col6\" >18719.850000</td>\n",
       "      <td id=\"T_3ff42_row1_col7\" class=\"data row1 col7\" >5.220000</td>\n",
       "      <td id=\"T_3ff42_row1_col8\" class=\"data row1 col8\" >4.530000</td>\n",
       "      <td id=\"T_3ff42_row1_col9\" class=\"data row1 col9\" >0.690000</td>\n",
       "      <td id=\"T_3ff42_row1_col10\" class=\"data row1 col10\" >9133.160000</td>\n",
       "      <td id=\"T_3ff42_row1_col11\" class=\"data row1 col11\" >9.130000</td>\n",
       "      <td id=\"T_3ff42_row1_col12\" class=\"data row1 col12\" >9201.350000</td>\n",
       "      <td id=\"T_3ff42_row1_col13\" class=\"data row1 col13\" >1.690000</td>\n",
       "      <td id=\"T_3ff42_row1_col14\" class=\"data row1 col14\" >22.370000</td>\n",
       "      <td id=\"T_3ff42_row1_col15\" class=\"data row1 col15\" >27921.200000</td>\n",
       "    </tr>\n",
       "    <tr>\n",
       "      <th id=\"T_3ff42_level0_row2\" class=\"row_heading level0 row2\" >2</th>\n",
       "      <td id=\"T_3ff42_row2_col0\" class=\"data row2 col0\" >AISI 1006-RM03-1</td>\n",
       "      <td id=\"T_3ff42_row2_col1\" class=\"data row2 col1\" >1.240000</td>\n",
       "      <td id=\"T_3ff42_row2_col2\" class=\"data row2 col2\" >0.690000</td>\n",
       "      <td id=\"T_3ff42_row2_col3\" class=\"data row2 col3\" >0.550000</td>\n",
       "      <td id=\"T_3ff42_row2_col4\" class=\"data row2 col4\" >5308.790000</td>\n",
       "      <td id=\"T_3ff42_row2_col5\" class=\"data row2 col5\" >5.310000</td>\n",
       "      <td id=\"T_3ff42_row2_col6\" class=\"data row2 col6\" >7508.030000</td>\n",
       "      <td id=\"T_3ff42_row2_col7\" class=\"data row2 col7\" >5.270000</td>\n",
       "      <td id=\"T_3ff42_row2_col8\" class=\"data row2 col8\" >5.070000</td>\n",
       "      <td id=\"T_3ff42_row2_col9\" class=\"data row2 col9\" >0.200000</td>\n",
       "      <td id=\"T_3ff42_row2_col10\" class=\"data row2 col10\" >1930.470000</td>\n",
       "      <td id=\"T_3ff42_row2_col11\" class=\"data row2 col11\" >1.930000</td>\n",
       "      <td id=\"T_3ff42_row2_col12\" class=\"data row2 col12\" >1944.880000</td>\n",
       "      <td id=\"T_3ff42_row2_col13\" class=\"data row2 col13\" >0.750000</td>\n",
       "      <td id=\"T_3ff42_row2_col14\" class=\"data row2 col14\" >7.240000</td>\n",
       "      <td id=\"T_3ff42_row2_col15\" class=\"data row2 col15\" >9452.920000</td>\n",
       "    </tr>\n",
       "    <tr>\n",
       "      <th id=\"T_3ff42_level0_row3\" class=\"row_heading level0 row3\" >3</th>\n",
       "      <td id=\"T_3ff42_row3_col0\" class=\"data row3 col0\" >AISI 1006-RM03-2</td>\n",
       "      <td id=\"T_3ff42_row3_col1\" class=\"data row3 col1\" >1.380000</td>\n",
       "      <td id=\"T_3ff42_row3_col2\" class=\"data row3 col2\" >0.690000</td>\n",
       "      <td id=\"T_3ff42_row3_col3\" class=\"data row3 col3\" >0.690000</td>\n",
       "      <td id=\"T_3ff42_row3_col4\" class=\"data row3 col4\" >38867.340000</td>\n",
       "      <td id=\"T_3ff42_row3_col5\" class=\"data row3 col5\" >38.870000</td>\n",
       "      <td id=\"T_3ff42_row3_col6\" class=\"data row3 col6\" >54968.700000</td>\n",
       "      <td id=\"T_3ff42_row3_col7\" class=\"data row3 col7\" >5.170000</td>\n",
       "      <td id=\"T_3ff42_row3_col8\" class=\"data row3 col8\" >5.070000</td>\n",
       "      <td id=\"T_3ff42_row3_col9\" class=\"data row3 col9\" >0.100000</td>\n",
       "      <td id=\"T_3ff42_row3_col10\" class=\"data row3 col10\" >5632.950000</td>\n",
       "      <td id=\"T_3ff42_row3_col11\" class=\"data row3 col11\" >5.630000</td>\n",
       "      <td id=\"T_3ff42_row3_col12\" class=\"data row3 col12\" >5675.010000</td>\n",
       "      <td id=\"T_3ff42_row3_col13\" class=\"data row3 col13\" >0.790000</td>\n",
       "      <td id=\"T_3ff42_row3_col14\" class=\"data row3 col14\" >44.500000</td>\n",
       "      <td id=\"T_3ff42_row3_col15\" class=\"data row3 col15\" >60643.710000</td>\n",
       "    </tr>\n",
       "    <tr>\n",
       "      <th id=\"T_3ff42_level0_row4\" class=\"row_heading level0 row4\" >4</th>\n",
       "      <td id=\"T_3ff42_row4_col0\" class=\"data row4 col0\" >AISI 1008-RM03-1</td>\n",
       "      <td id=\"T_3ff42_row4_col1\" class=\"data row4 col1\" >1.000000</td>\n",
       "      <td id=\"T_3ff42_row4_col2\" class=\"data row4 col2\" >0.270000</td>\n",
       "      <td id=\"T_3ff42_row4_col3\" class=\"data row4 col3\" >0.730000</td>\n",
       "      <td id=\"T_3ff42_row4_col4\" class=\"data row4 col4\" >3600.790000</td>\n",
       "      <td id=\"T_3ff42_row4_col5\" class=\"data row4 col5\" >3.600000</td>\n",
       "      <td id=\"T_3ff42_row4_col6\" class=\"data row4 col6\" >5092.470000</td>\n",
       "      <td id=\"T_3ff42_row4_col7\" class=\"data row4 col7\" >6.270000</td>\n",
       "      <td id=\"T_3ff42_row4_col8\" class=\"data row4 col8\" >5.740000</td>\n",
       "      <td id=\"T_3ff42_row4_col9\" class=\"data row4 col9\" >0.530000</td>\n",
       "      <td id=\"T_3ff42_row4_col10\" class=\"data row4 col10\" >2614.270000</td>\n",
       "      <td id=\"T_3ff42_row4_col11\" class=\"data row4 col11\" >2.610000</td>\n",
       "      <td id=\"T_3ff42_row4_col12\" class=\"data row4 col12\" >2633.790000</td>\n",
       "      <td id=\"T_3ff42_row4_col13\" class=\"data row4 col13\" >1.260000</td>\n",
       "      <td id=\"T_3ff42_row4_col14\" class=\"data row4 col14\" >6.220000</td>\n",
       "      <td id=\"T_3ff42_row4_col15\" class=\"data row4 col15\" >7726.260000</td>\n",
       "    </tr>\n",
       "    <tr>\n",
       "      <th id=\"T_3ff42_level0_row5\" class=\"row_heading level0 row5\" >5</th>\n",
       "      <td id=\"T_3ff42_row5_col0\" class=\"data row5 col0\" >AISI 1008-RM03-2</td>\n",
       "      <td id=\"T_3ff42_row5_col1\" class=\"data row5 col1\" >1.400000</td>\n",
       "      <td id=\"T_3ff42_row5_col2\" class=\"data row5 col2\" >0.270000</td>\n",
       "      <td id=\"T_3ff42_row5_col3\" class=\"data row5 col3\" >1.130000</td>\n",
       "      <td id=\"T_3ff42_row5_col4\" class=\"data row5 col4\" >69665.020000</td>\n",
       "      <td id=\"T_3ff42_row5_col5\" class=\"data row5 col5\" >69.670000</td>\n",
       "      <td id=\"T_3ff42_row5_col6\" class=\"data row5 col6\" >98524.770000</td>\n",
       "      <td id=\"T_3ff42_row5_col7\" class=\"data row5 col7\" >6.230000</td>\n",
       "      <td id=\"T_3ff42_row5_col8\" class=\"data row5 col8\" >5.740000</td>\n",
       "      <td id=\"T_3ff42_row5_col9\" class=\"data row5 col9\" >0.490000</td>\n",
       "      <td id=\"T_3ff42_row5_col10\" class=\"data row5 col10\" >30208.730000</td>\n",
       "      <td id=\"T_3ff42_row5_col11\" class=\"data row5 col11\" >30.210000</td>\n",
       "      <td id=\"T_3ff42_row5_col12\" class=\"data row5 col12\" >30434.280000</td>\n",
       "      <td id=\"T_3ff42_row5_col13\" class=\"data row5 col13\" >1.620000</td>\n",
       "      <td id=\"T_3ff42_row5_col14\" class=\"data row5 col14\" >99.870000</td>\n",
       "      <td id=\"T_3ff42_row5_col15\" class=\"data row5 col15\" >128959.060000</td>\n",
       "    </tr>\n",
       "    <tr>\n",
       "      <th id=\"T_3ff42_level0_row6\" class=\"row_heading level0 row6\" >6</th>\n",
       "      <td id=\"T_3ff42_row6_col0\" class=\"data row6 col0\" >AISI 1010-RM03-1</td>\n",
       "      <td id=\"T_3ff42_row6_col1\" class=\"data row6 col1\" >0.000000</td>\n",
       "      <td id=\"T_3ff42_row6_col2\" class=\"data row6 col2\" >0.000000</td>\n",
       "      <td id=\"T_3ff42_row6_col3\" class=\"data row6 col3\" >0.000000</td>\n",
       "      <td id=\"T_3ff42_row6_col4\" class=\"data row6 col4\" >0.000000</td>\n",
       "      <td id=\"T_3ff42_row6_col5\" class=\"data row6 col5\" >0.000000</td>\n",
       "      <td id=\"T_3ff42_row6_col6\" class=\"data row6 col6\" >0.000000</td>\n",
       "      <td id=\"T_3ff42_row6_col7\" class=\"data row6 col7\" >6.720000</td>\n",
       "      <td id=\"T_3ff42_row6_col8\" class=\"data row6 col8\" >5.430000</td>\n",
       "      <td id=\"T_3ff42_row6_col9\" class=\"data row6 col9\" >1.290000</td>\n",
       "      <td id=\"T_3ff42_row6_col10\" class=\"data row6 col10\" >1788.870000</td>\n",
       "      <td id=\"T_3ff42_row6_col11\" class=\"data row6 col11\" >1.790000</td>\n",
       "      <td id=\"T_3ff42_row6_col12\" class=\"data row6 col12\" >1802.230000</td>\n",
       "      <td id=\"T_3ff42_row6_col13\" class=\"data row6 col13\" >1.290000</td>\n",
       "      <td id=\"T_3ff42_row6_col14\" class=\"data row6 col14\" >1.790000</td>\n",
       "      <td id=\"T_3ff42_row6_col15\" class=\"data row6 col15\" >1802.230000</td>\n",
       "    </tr>\n",
       "    <tr>\n",
       "      <th id=\"T_3ff42_level0_row7\" class=\"row_heading level0 row7\" >7</th>\n",
       "      <td id=\"T_3ff42_row7_col0\" class=\"data row7 col0\" >AISI 1012-RM03-1</td>\n",
       "      <td id=\"T_3ff42_row7_col1\" class=\"data row7 col1\" >1.980000</td>\n",
       "      <td id=\"T_3ff42_row7_col2\" class=\"data row7 col2\" >1.710000</td>\n",
       "      <td id=\"T_3ff42_row7_col3\" class=\"data row7 col3\" >0.270000</td>\n",
       "      <td id=\"T_3ff42_row7_col4\" class=\"data row7 col4\" >92.070000</td>\n",
       "      <td id=\"T_3ff42_row7_col5\" class=\"data row7 col5\" >0.090000</td>\n",
       "      <td id=\"T_3ff42_row7_col6\" class=\"data row7 col6\" >130.210000</td>\n",
       "      <td id=\"T_3ff42_row7_col7\" class=\"data row7 col7\" >8.030000</td>\n",
       "      <td id=\"T_3ff42_row7_col8\" class=\"data row7 col8\" >5.430000</td>\n",
       "      <td id=\"T_3ff42_row7_col9\" class=\"data row7 col9\" >2.600000</td>\n",
       "      <td id=\"T_3ff42_row7_col10\" class=\"data row7 col10\" >886.590000</td>\n",
       "      <td id=\"T_3ff42_row7_col11\" class=\"data row7 col11\" >0.890000</td>\n",
       "      <td id=\"T_3ff42_row7_col12\" class=\"data row7 col12\" >893.210000</td>\n",
       "      <td id=\"T_3ff42_row7_col13\" class=\"data row7 col13\" >2.870000</td>\n",
       "      <td id=\"T_3ff42_row7_col14\" class=\"data row7 col14\" >0.980000</td>\n",
       "      <td id=\"T_3ff42_row7_col15\" class=\"data row7 col15\" >1023.430000</td>\n",
       "    </tr>\n",
       "    <tr>\n",
       "      <th id=\"T_3ff42_level0_row8\" class=\"row_heading level0 row8\" >8</th>\n",
       "      <td id=\"T_3ff42_row8_col0\" class=\"data row8 col0\" >AISI 1012-RM03-2</td>\n",
       "      <td id=\"T_3ff42_row8_col1\" class=\"data row8 col1\" >0.000000</td>\n",
       "      <td id=\"T_3ff42_row8_col2\" class=\"data row8 col2\" >0.000000</td>\n",
       "      <td id=\"T_3ff42_row8_col3\" class=\"data row8 col3\" >0.000000</td>\n",
       "      <td id=\"T_3ff42_row8_col4\" class=\"data row8 col4\" >0.000000</td>\n",
       "      <td id=\"T_3ff42_row8_col5\" class=\"data row8 col5\" >0.000000</td>\n",
       "      <td id=\"T_3ff42_row8_col6\" class=\"data row8 col6\" >0.000000</td>\n",
       "      <td id=\"T_3ff42_row8_col7\" class=\"data row8 col7\" >7.460000</td>\n",
       "      <td id=\"T_3ff42_row8_col8\" class=\"data row8 col8\" >5.430000</td>\n",
       "      <td id=\"T_3ff42_row8_col9\" class=\"data row8 col9\" >2.030000</td>\n",
       "      <td id=\"T_3ff42_row8_col10\" class=\"data row8 col10\" >16014.000000</td>\n",
       "      <td id=\"T_3ff42_row8_col11\" class=\"data row8 col11\" >16.010000</td>\n",
       "      <td id=\"T_3ff42_row8_col12\" class=\"data row8 col12\" >16133.570000</td>\n",
       "      <td id=\"T_3ff42_row8_col13\" class=\"data row8 col13\" >2.030000</td>\n",
       "      <td id=\"T_3ff42_row8_col14\" class=\"data row8 col14\" >16.010000</td>\n",
       "      <td id=\"T_3ff42_row8_col15\" class=\"data row8 col15\" >16133.570000</td>\n",
       "    </tr>\n",
       "    <tr>\n",
       "      <th id=\"T_3ff42_level0_row9\" class=\"row_heading level0 row9\" >9</th>\n",
       "      <td id=\"T_3ff42_row9_col0\" class=\"data row9 col0\" >AISI 1015-RM03-1</td>\n",
       "      <td id=\"T_3ff42_row9_col1\" class=\"data row9 col1\" >0.000000</td>\n",
       "      <td id=\"T_3ff42_row9_col2\" class=\"data row9 col2\" >0.000000</td>\n",
       "      <td id=\"T_3ff42_row9_col3\" class=\"data row9 col3\" >0.000000</td>\n",
       "      <td id=\"T_3ff42_row9_col4\" class=\"data row9 col4\" >0.000000</td>\n",
       "      <td id=\"T_3ff42_row9_col5\" class=\"data row9 col5\" >0.000000</td>\n",
       "      <td id=\"T_3ff42_row9_col6\" class=\"data row9 col6\" >0.000000</td>\n",
       "      <td id=\"T_3ff42_row9_col7\" class=\"data row9 col7\" >6.840000</td>\n",
       "      <td id=\"T_3ff42_row9_col8\" class=\"data row9 col8\" >5.430000</td>\n",
       "      <td id=\"T_3ff42_row9_col9\" class=\"data row9 col9\" >1.410000</td>\n",
       "      <td id=\"T_3ff42_row9_col10\" class=\"data row9 col10\" >20615.600000</td>\n",
       "      <td id=\"T_3ff42_row9_col11\" class=\"data row9 col11\" >20.620000</td>\n",
       "      <td id=\"T_3ff42_row9_col12\" class=\"data row9 col12\" >20769.530000</td>\n",
       "      <td id=\"T_3ff42_row9_col13\" class=\"data row9 col13\" >1.410000</td>\n",
       "      <td id=\"T_3ff42_row9_col14\" class=\"data row9 col14\" >20.620000</td>\n",
       "      <td id=\"T_3ff42_row9_col15\" class=\"data row9 col15\" >20769.530000</td>\n",
       "    </tr>\n",
       "    <tr>\n",
       "      <th id=\"T_3ff42_level0_row10\" class=\"row_heading level0 row10\" >10</th>\n",
       "      <td id=\"T_3ff42_row10_col0\" class=\"data row10 col0\" >BS-G500B R31-RM03-1</td>\n",
       "      <td id=\"T_3ff42_row10_col1\" class=\"data row10 col1\" >0.000000</td>\n",
       "      <td id=\"T_3ff42_row10_col2\" class=\"data row10 col2\" >0.000000</td>\n",
       "      <td id=\"T_3ff42_row10_col3\" class=\"data row10 col3\" >0.000000</td>\n",
       "      <td id=\"T_3ff42_row10_col4\" class=\"data row10 col4\" >0.000000</td>\n",
       "      <td id=\"T_3ff42_row10_col5\" class=\"data row10 col5\" >0.000000</td>\n",
       "      <td id=\"T_3ff42_row10_col6\" class=\"data row10 col6\" >0.000000</td>\n",
       "      <td id=\"T_3ff42_row10_col7\" class=\"data row10 col7\" >17.800000</td>\n",
       "      <td id=\"T_3ff42_row10_col8\" class=\"data row10 col8\" >17.270000</td>\n",
       "      <td id=\"T_3ff42_row10_col9\" class=\"data row10 col9\" >0.530000</td>\n",
       "      <td id=\"T_3ff42_row10_col10\" class=\"data row10 col10\" >163.710000</td>\n",
       "      <td id=\"T_3ff42_row10_col11\" class=\"data row10 col11\" >0.160000</td>\n",
       "      <td id=\"T_3ff42_row10_col12\" class=\"data row10 col12\" >164.930000</td>\n",
       "      <td id=\"T_3ff42_row10_col13\" class=\"data row10 col13\" >0.530000</td>\n",
       "      <td id=\"T_3ff42_row10_col14\" class=\"data row10 col14\" >0.160000</td>\n",
       "      <td id=\"T_3ff42_row10_col15\" class=\"data row10 col15\" >164.930000</td>\n",
       "    </tr>\n",
       "    <tr>\n",
       "      <th id=\"T_3ff42_level0_row11\" class=\"row_heading level0 row11\" >11</th>\n",
       "      <td id=\"T_3ff42_row11_col0\" class=\"data row11 col0\" >BSG500BR41-RM01-1</td>\n",
       "      <td id=\"T_3ff42_row11_col1\" class=\"data row11 col1\" >1.460000</td>\n",
       "      <td id=\"T_3ff42_row11_col2\" class=\"data row11 col2\" >1.200000</td>\n",
       "      <td id=\"T_3ff42_row11_col3\" class=\"data row11 col3\" >0.260000</td>\n",
       "      <td id=\"T_3ff42_row11_col4\" class=\"data row11 col4\" >9466.880000</td>\n",
       "      <td id=\"T_3ff42_row11_col5\" class=\"data row11 col5\" >9.470000</td>\n",
       "      <td id=\"T_3ff42_row11_col6\" class=\"data row11 col6\" >13388.680000</td>\n",
       "      <td id=\"T_3ff42_row11_col7\" class=\"data row11 col7\" >0.000000</td>\n",
       "      <td id=\"T_3ff42_row11_col8\" class=\"data row11 col8\" >0.000000</td>\n",
       "      <td id=\"T_3ff42_row11_col9\" class=\"data row11 col9\" >0.000000</td>\n",
       "      <td id=\"T_3ff42_row11_col10\" class=\"data row11 col10\" >0.000000</td>\n",
       "      <td id=\"T_3ff42_row11_col11\" class=\"data row11 col11\" >0.000000</td>\n",
       "      <td id=\"T_3ff42_row11_col12\" class=\"data row11 col12\" >0.000000</td>\n",
       "      <td id=\"T_3ff42_row11_col13\" class=\"data row11 col13\" >0.260000</td>\n",
       "      <td id=\"T_3ff42_row11_col14\" class=\"data row11 col14\" >9.470000</td>\n",
       "      <td id=\"T_3ff42_row11_col15\" class=\"data row11 col15\" >13388.680000</td>\n",
       "    </tr>\n",
       "    <tr>\n",
       "      <th id=\"T_3ff42_level0_row12\" class=\"row_heading level0 row12\" >12</th>\n",
       "      <td id=\"T_3ff42_row12_col0\" class=\"data row12 col0\" >BSG500BR42-RM03-1</td>\n",
       "      <td id=\"T_3ff42_row12_col1\" class=\"data row12 col1\" >1.500000</td>\n",
       "      <td id=\"T_3ff42_row12_col2\" class=\"data row12 col2\" >1.100000</td>\n",
       "      <td id=\"T_3ff42_row12_col3\" class=\"data row12 col3\" >0.400000</td>\n",
       "      <td id=\"T_3ff42_row12_col4\" class=\"data row12 col4\" >6044.500000</td>\n",
       "      <td id=\"T_3ff42_row12_col5\" class=\"data row12 col5\" >6.040000</td>\n",
       "      <td id=\"T_3ff42_row12_col6\" class=\"data row12 col6\" >8548.520000</td>\n",
       "      <td id=\"T_3ff42_row12_col7\" class=\"data row12 col7\" >0.000000</td>\n",
       "      <td id=\"T_3ff42_row12_col8\" class=\"data row12 col8\" >0.000000</td>\n",
       "      <td id=\"T_3ff42_row12_col9\" class=\"data row12 col9\" >0.000000</td>\n",
       "      <td id=\"T_3ff42_row12_col10\" class=\"data row12 col10\" >0.000000</td>\n",
       "      <td id=\"T_3ff42_row12_col11\" class=\"data row12 col11\" >0.000000</td>\n",
       "      <td id=\"T_3ff42_row12_col12\" class=\"data row12 col12\" >0.000000</td>\n",
       "      <td id=\"T_3ff42_row12_col13\" class=\"data row12 col13\" >0.400000</td>\n",
       "      <td id=\"T_3ff42_row12_col14\" class=\"data row12 col14\" >6.040000</td>\n",
       "      <td id=\"T_3ff42_row12_col15\" class=\"data row12 col15\" >8548.520000</td>\n",
       "    </tr>\n",
       "    <tr>\n",
       "      <th id=\"T_3ff42_level0_row13\" class=\"row_heading level0 row13\" >13</th>\n",
       "      <td id=\"T_3ff42_row13_col0\" class=\"data row13 col0\" >KWSB500BWR R22-RM02-1</td>\n",
       "      <td id=\"T_3ff42_row13_col1\" class=\"data row13 col1\" >2.000000</td>\n",
       "      <td id=\"T_3ff42_row13_col2\" class=\"data row13 col2\" >1.710000</td>\n",
       "      <td id=\"T_3ff42_row13_col3\" class=\"data row13 col3\" >0.290000</td>\n",
       "      <td id=\"T_3ff42_row13_col4\" class=\"data row13 col4\" >86.440000</td>\n",
       "      <td id=\"T_3ff42_row13_col5\" class=\"data row13 col5\" >0.090000</td>\n",
       "      <td id=\"T_3ff42_row13_col6\" class=\"data row13 col6\" >122.250000</td>\n",
       "      <td id=\"T_3ff42_row13_col7\" class=\"data row13 col7\" >0.000000</td>\n",
       "      <td id=\"T_3ff42_row13_col8\" class=\"data row13 col8\" >0.000000</td>\n",
       "      <td id=\"T_3ff42_row13_col9\" class=\"data row13 col9\" >0.000000</td>\n",
       "      <td id=\"T_3ff42_row13_col10\" class=\"data row13 col10\" >0.000000</td>\n",
       "      <td id=\"T_3ff42_row13_col11\" class=\"data row13 col11\" >0.000000</td>\n",
       "      <td id=\"T_3ff42_row13_col12\" class=\"data row13 col12\" >0.000000</td>\n",
       "      <td id=\"T_3ff42_row13_col13\" class=\"data row13 col13\" >0.290000</td>\n",
       "      <td id=\"T_3ff42_row13_col14\" class=\"data row13 col14\" >0.090000</td>\n",
       "      <td id=\"T_3ff42_row13_col15\" class=\"data row13 col15\" >122.250000</td>\n",
       "    </tr>\n",
       "    <tr>\n",
       "      <th id=\"T_3ff42_level0_row14\" class=\"row_heading level0 row14\" >14</th>\n",
       "      <td id=\"T_3ff42_row14_col0\" class=\"data row14 col0\" >SAE 1005-RM03-1</td>\n",
       "      <td id=\"T_3ff42_row14_col1\" class=\"data row14 col1\" >0.000000</td>\n",
       "      <td id=\"T_3ff42_row14_col2\" class=\"data row14 col2\" >0.000000</td>\n",
       "      <td id=\"T_3ff42_row14_col3\" class=\"data row14 col3\" >0.000000</td>\n",
       "      <td id=\"T_3ff42_row14_col4\" class=\"data row14 col4\" >0.000000</td>\n",
       "      <td id=\"T_3ff42_row14_col5\" class=\"data row14 col5\" >0.000000</td>\n",
       "      <td id=\"T_3ff42_row14_col6\" class=\"data row14 col6\" >0.000000</td>\n",
       "      <td id=\"T_3ff42_row14_col7\" class=\"data row14 col7\" >5.400000</td>\n",
       "      <td id=\"T_3ff42_row14_col8\" class=\"data row14 col8\" >4.530000</td>\n",
       "      <td id=\"T_3ff42_row14_col9\" class=\"data row14 col9\" >0.870000</td>\n",
       "      <td id=\"T_3ff42_row14_col10\" class=\"data row14 col10\" >5744.500000</td>\n",
       "      <td id=\"T_3ff42_row14_col11\" class=\"data row14 col11\" >5.740000</td>\n",
       "      <td id=\"T_3ff42_row14_col12\" class=\"data row14 col12\" >5787.390000</td>\n",
       "      <td id=\"T_3ff42_row14_col13\" class=\"data row14 col13\" >0.870000</td>\n",
       "      <td id=\"T_3ff42_row14_col14\" class=\"data row14 col14\" >5.740000</td>\n",
       "      <td id=\"T_3ff42_row14_col15\" class=\"data row14 col15\" >5787.390000</td>\n",
       "    </tr>\n",
       "    <tr>\n",
       "      <th id=\"T_3ff42_level0_row15\" class=\"row_heading level0 row15\" >15</th>\n",
       "      <td id=\"T_3ff42_row15_col0\" class=\"data row15 col0\" >SWRCH 6R-RM03-1</td>\n",
       "      <td id=\"T_3ff42_row15_col1\" class=\"data row15 col1\" >1.510000</td>\n",
       "      <td id=\"T_3ff42_row15_col2\" class=\"data row15 col2\" >0.690000</td>\n",
       "      <td id=\"T_3ff42_row15_col3\" class=\"data row15 col3\" >0.820000</td>\n",
       "      <td id=\"T_3ff42_row15_col4\" class=\"data row15 col4\" >3000.410000</td>\n",
       "      <td id=\"T_3ff42_row15_col5\" class=\"data row15 col5\" >3.000000</td>\n",
       "      <td id=\"T_3ff42_row15_col6\" class=\"data row15 col6\" >4243.370000</td>\n",
       "      <td id=\"T_3ff42_row15_col7\" class=\"data row15 col7\" >5.600000</td>\n",
       "      <td id=\"T_3ff42_row15_col8\" class=\"data row15 col8\" >5.070000</td>\n",
       "      <td id=\"T_3ff42_row15_col9\" class=\"data row15 col9\" >0.530000</td>\n",
       "      <td id=\"T_3ff42_row15_col10\" class=\"data row15 col10\" >1939.290000</td>\n",
       "      <td id=\"T_3ff42_row15_col11\" class=\"data row15 col11\" >1.940000</td>\n",
       "      <td id=\"T_3ff42_row15_col12\" class=\"data row15 col12\" >1953.770000</td>\n",
       "      <td id=\"T_3ff42_row15_col13\" class=\"data row15 col13\" >1.350000</td>\n",
       "      <td id=\"T_3ff42_row15_col14\" class=\"data row15 col14\" >4.940000</td>\n",
       "      <td id=\"T_3ff42_row15_col15\" class=\"data row15 col15\" >6197.130000</td>\n",
       "    </tr>\n",
       "    <tr>\n",
       "      <th id=\"T_3ff42_level0_row16\" class=\"row_heading level0 row16\" >16</th>\n",
       "      <td id=\"T_3ff42_row16_col0\" class=\"data row16 col0\" >Total</td>\n",
       "      <td id=\"T_3ff42_row16_col1\" class=\"data row16 col1\" >16.060000</td>\n",
       "      <td id=\"T_3ff42_row16_col2\" class=\"data row16 col2\" >9.050000</td>\n",
       "      <td id=\"T_3ff42_row16_col3\" class=\"data row16 col3\" >7.010000</td>\n",
       "      <td id=\"T_3ff42_row16_col4\" class=\"data row16 col4\" >151977.080000</td>\n",
       "      <td id=\"T_3ff42_row16_col5\" class=\"data row16 col5\" >151.980000</td>\n",
       "      <td id=\"T_3ff42_row16_col6\" class=\"data row16 col6\" >214935.800000</td>\n",
       "      <td id=\"T_3ff42_row16_col7\" class=\"data row16 col7\" >90.670000</td>\n",
       "      <td id=\"T_3ff42_row16_col8\" class=\"data row16 col8\" >79.270000</td>\n",
       "      <td id=\"T_3ff42_row16_col9\" class=\"data row16 col9\" >11.400000</td>\n",
       "      <td id=\"T_3ff42_row16_col10\" class=\"data row16 col10\" >97061.900000</td>\n",
       "      <td id=\"T_3ff42_row16_col11\" class=\"data row16 col11\" >97.060000</td>\n",
       "      <td id=\"T_3ff42_row16_col12\" class=\"data row16 col12\" >97786.620000</td>\n",
       "      <td id=\"T_3ff42_row16_col13\" class=\"data row16 col13\" >18.410000</td>\n",
       "      <td id=\"T_3ff42_row16_col14\" class=\"data row16 col14\" >249.040000</td>\n",
       "      <td id=\"T_3ff42_row16_col15\" class=\"data row16 col15\" >312722.420000</td>\n",
       "    </tr>\n",
       "  </tbody>\n",
       "</table>\n"
      ],
      "text/plain": [
       "<pandas.io.formats.style.Styler at 0x17fa631c0>"
      ]
     },
     "execution_count": 43,
     "metadata": {},
     "output_type": "execute_result"
    }
   ],
   "source": [
    "\n",
    "\n",
    "final_results_ff = final_results.drop(columns=[\"Billet Mass (Tons)\"])\n",
    "final_results_ff.style.background_gradient(cmap=\"Greens\")\n"
   ]
  },
  {
   "cell_type": "code",
   "execution_count": 44,
   "id": "1970af182ebded64",
   "metadata": {
    "ExecuteTime": {
     "end_time": "2024-03-25T08:38:31.290135Z",
     "start_time": "2024-03-25T08:38:31.276091Z"
    },
    "collapsed": false
   },
   "outputs": [
    {
     "data": {
      "text/html": [
       "<style type=\"text/css\">\n",
       "#T_4d5f2_row0_col1, #T_4d5f2_row0_col2, #T_4d5f2_row0_col5, #T_4d5f2_row6_col5, #T_4d5f2_row6_col6, #T_4d5f2_row7_col1, #T_4d5f2_row7_col2 {\n",
       "  background-color: #f6fcf4;\n",
       "  color: #000000;\n",
       "}\n",
       "#T_4d5f2_row0_col3, #T_4d5f2_row0_col4, #T_4d5f2_row6_col1, #T_4d5f2_row6_col2, #T_4d5f2_row14_col6, #T_4d5f2_row15_col5, #T_4d5f2_row15_col6 {\n",
       "  background-color: #f5fbf2;\n",
       "  color: #000000;\n",
       "}\n",
       "#T_4d5f2_row0_col6 {\n",
       "  background-color: #f5fbf3;\n",
       "  color: #000000;\n",
       "}\n",
       "#T_4d5f2_row1_col1, #T_4d5f2_row1_col2 {\n",
       "  background-color: #e9f7e5;\n",
       "  color: #000000;\n",
       "}\n",
       "#T_4d5f2_row1_col3, #T_4d5f2_row1_col4, #T_4d5f2_row1_col5, #T_4d5f2_row1_col6, #T_4d5f2_row9_col5 {\n",
       "  background-color: #ebf7e7;\n",
       "  color: #000000;\n",
       "}\n",
       "#T_4d5f2_row2_col1, #T_4d5f2_row2_col2, #T_4d5f2_row14_col5, #T_4d5f2_row15_col1, #T_4d5f2_row15_col2, #T_4d5f2_row15_col3, #T_4d5f2_row15_col4 {\n",
       "  background-color: #f4fbf2;\n",
       "  color: #000000;\n",
       "}\n",
       "#T_4d5f2_row2_col3, #T_4d5f2_row2_col4 {\n",
       "  background-color: #f2faf0;\n",
       "  color: #000000;\n",
       "}\n",
       "#T_4d5f2_row2_col5, #T_4d5f2_row2_col6 {\n",
       "  background-color: #f3faf0;\n",
       "  color: #000000;\n",
       "}\n",
       "#T_4d5f2_row3_col1, #T_4d5f2_row3_col2 {\n",
       "  background-color: #eff9ec;\n",
       "  color: #000000;\n",
       "}\n",
       "#T_4d5f2_row3_col3, #T_4d5f2_row3_col4 {\n",
       "  background-color: #c6e8bf;\n",
       "  color: #000000;\n",
       "}\n",
       "#T_4d5f2_row3_col5 {\n",
       "  background-color: #d9f0d3;\n",
       "  color: #000000;\n",
       "}\n",
       "#T_4d5f2_row3_col6 {\n",
       "  background-color: #d5efcf;\n",
       "  color: #000000;\n",
       "}\n",
       "#T_4d5f2_row4_col1, #T_4d5f2_row4_col2, #T_4d5f2_row4_col3, #T_4d5f2_row4_col4, #T_4d5f2_row4_col5, #T_4d5f2_row4_col6, #T_4d5f2_row12_col5, #T_4d5f2_row12_col6 {\n",
       "  background-color: #f4fbf1;\n",
       "  color: #000000;\n",
       "}\n",
       "#T_4d5f2_row5_col1, #T_4d5f2_row5_col2 {\n",
       "  background-color: #b5e1ae;\n",
       "  color: #000000;\n",
       "}\n",
       "#T_4d5f2_row5_col3, #T_4d5f2_row5_col4 {\n",
       "  background-color: #83cb82;\n",
       "  color: #000000;\n",
       "}\n",
       "#T_4d5f2_row5_col5 {\n",
       "  background-color: #98d594;\n",
       "  color: #000000;\n",
       "}\n",
       "#T_4d5f2_row5_col6 {\n",
       "  background-color: #94d390;\n",
       "  color: #000000;\n",
       "}\n",
       "#T_4d5f2_row6_col3, #T_4d5f2_row6_col4, #T_4d5f2_row7_col3, #T_4d5f2_row7_col4, #T_4d5f2_row7_col5, #T_4d5f2_row7_col6, #T_4d5f2_row8_col3, #T_4d5f2_row8_col4, #T_4d5f2_row9_col3, #T_4d5f2_row9_col4, #T_4d5f2_row10_col1, #T_4d5f2_row10_col2, #T_4d5f2_row10_col3, #T_4d5f2_row10_col4, #T_4d5f2_row10_col5, #T_4d5f2_row10_col6, #T_4d5f2_row11_col1, #T_4d5f2_row11_col2, #T_4d5f2_row12_col1, #T_4d5f2_row12_col2, #T_4d5f2_row13_col1, #T_4d5f2_row13_col2, #T_4d5f2_row13_col3, #T_4d5f2_row13_col4, #T_4d5f2_row13_col5, #T_4d5f2_row13_col6, #T_4d5f2_row14_col3, #T_4d5f2_row14_col4 {\n",
       "  background-color: #f7fcf5;\n",
       "  color: #000000;\n",
       "}\n",
       "#T_4d5f2_row8_col1, #T_4d5f2_row8_col2 {\n",
       "  background-color: #dbf1d6;\n",
       "  color: #000000;\n",
       "}\n",
       "#T_4d5f2_row8_col5, #T_4d5f2_row9_col6 {\n",
       "  background-color: #eef8ea;\n",
       "  color: #000000;\n",
       "}\n",
       "#T_4d5f2_row8_col6 {\n",
       "  background-color: #f0f9ec;\n",
       "  color: #000000;\n",
       "}\n",
       "#T_4d5f2_row9_col1, #T_4d5f2_row9_col2 {\n",
       "  background-color: #d0edca;\n",
       "  color: #000000;\n",
       "}\n",
       "#T_4d5f2_row11_col3, #T_4d5f2_row11_col4, #T_4d5f2_row14_col1, #T_4d5f2_row14_col2 {\n",
       "  background-color: #eff9eb;\n",
       "  color: #000000;\n",
       "}\n",
       "#T_4d5f2_row11_col5 {\n",
       "  background-color: #f2faef;\n",
       "  color: #000000;\n",
       "}\n",
       "#T_4d5f2_row11_col6, #T_4d5f2_row12_col3, #T_4d5f2_row12_col4 {\n",
       "  background-color: #f1faee;\n",
       "  color: #000000;\n",
       "}\n",
       "#T_4d5f2_row16_col1, #T_4d5f2_row16_col2, #T_4d5f2_row16_col3, #T_4d5f2_row16_col4, #T_4d5f2_row16_col5, #T_4d5f2_row16_col6 {\n",
       "  background-color: #00441b;\n",
       "  color: #f1f1f1;\n",
       "}\n",
       "</style>\n",
       "<table id=\"T_4d5f2\">\n",
       "  <thead>\n",
       "    <tr>\n",
       "      <th class=\"blank level0\" >&nbsp;</th>\n",
       "      <th id=\"T_4d5f2_level0_col0\" class=\"col_heading level0 col0\" >SteelGrade</th>\n",
       "      <th id=\"T_4d5f2_level0_col1\" class=\"col_heading level0 col1\" >FeSiMn Overshot (Tons)</th>\n",
       "      <th id=\"T_4d5f2_level0_col2\" class=\"col_heading level0 col2\" >FeSiMn Overshot (Cost$)</th>\n",
       "      <th id=\"T_4d5f2_level0_col3\" class=\"col_heading level0 col3\" >FeSi Overshot (Tons)</th>\n",
       "      <th id=\"T_4d5f2_level0_col4\" class=\"col_heading level0 col4\" >FeSi Overshot (Cost$)</th>\n",
       "      <th id=\"T_4d5f2_level0_col5\" class=\"col_heading level0 col5\" >Ferroalloys Overshot (Tons)</th>\n",
       "      <th id=\"T_4d5f2_level0_col6\" class=\"col_heading level0 col6\" >Ferroalloys Overshot Cost ($USD)</th>\n",
       "    </tr>\n",
       "  </thead>\n",
       "  <tbody>\n",
       "    <tr>\n",
       "      <th id=\"T_4d5f2_level0_row0\" class=\"row_heading level0 row0\" >0</th>\n",
       "      <td id=\"T_4d5f2_row0_col0\" class=\"data row0 col0\" >AISI 1005-RM03-1</td>\n",
       "      <td id=\"T_4d5f2_row0_col1\" class=\"data row0 col1\" >0.390000</td>\n",
       "      <td id=\"T_4d5f2_row0_col2\" class=\"data row0 col2\" >392.670000</td>\n",
       "      <td id=\"T_4d5f2_row0_col3\" class=\"data row0 col3\" >2.610000</td>\n",
       "      <td id=\"T_4d5f2_row0_col4\" class=\"data row0 col4\" >3688.930000</td>\n",
       "      <td id=\"T_4d5f2_row0_col5\" class=\"data row0 col5\" >3.000000</td>\n",
       "      <td id=\"T_4d5f2_row0_col6\" class=\"data row0 col6\" >4081.600000</td>\n",
       "    </tr>\n",
       "    <tr>\n",
       "      <th id=\"T_4d5f2_level0_row1\" class=\"row_heading level0 row1\" >1</th>\n",
       "      <td id=\"T_4d5f2_row1_col0\" class=\"data row1 col0\" >AISI 1005-RM03-2</td>\n",
       "      <td id=\"T_4d5f2_row1_col1\" class=\"data row1 col1\" >9.130000</td>\n",
       "      <td id=\"T_4d5f2_row1_col2\" class=\"data row1 col2\" >9201.350000</td>\n",
       "      <td id=\"T_4d5f2_row1_col3\" class=\"data row1 col3\" >13.240000</td>\n",
       "      <td id=\"T_4d5f2_row1_col4\" class=\"data row1 col4\" >18719.850000</td>\n",
       "      <td id=\"T_4d5f2_row1_col5\" class=\"data row1 col5\" >22.370000</td>\n",
       "      <td id=\"T_4d5f2_row1_col6\" class=\"data row1 col6\" >27921.200000</td>\n",
       "    </tr>\n",
       "    <tr>\n",
       "      <th id=\"T_4d5f2_level0_row2\" class=\"row_heading level0 row2\" >2</th>\n",
       "      <td id=\"T_4d5f2_row2_col0\" class=\"data row2 col0\" >AISI 1006-RM03-1</td>\n",
       "      <td id=\"T_4d5f2_row2_col1\" class=\"data row2 col1\" >1.930000</td>\n",
       "      <td id=\"T_4d5f2_row2_col2\" class=\"data row2 col2\" >1944.880000</td>\n",
       "      <td id=\"T_4d5f2_row2_col3\" class=\"data row2 col3\" >5.310000</td>\n",
       "      <td id=\"T_4d5f2_row2_col4\" class=\"data row2 col4\" >7508.030000</td>\n",
       "      <td id=\"T_4d5f2_row2_col5\" class=\"data row2 col5\" >7.240000</td>\n",
       "      <td id=\"T_4d5f2_row2_col6\" class=\"data row2 col6\" >9452.920000</td>\n",
       "    </tr>\n",
       "    <tr>\n",
       "      <th id=\"T_4d5f2_level0_row3\" class=\"row_heading level0 row3\" >3</th>\n",
       "      <td id=\"T_4d5f2_row3_col0\" class=\"data row3 col0\" >AISI 1006-RM03-2</td>\n",
       "      <td id=\"T_4d5f2_row3_col1\" class=\"data row3 col1\" >5.630000</td>\n",
       "      <td id=\"T_4d5f2_row3_col2\" class=\"data row3 col2\" >5675.010000</td>\n",
       "      <td id=\"T_4d5f2_row3_col3\" class=\"data row3 col3\" >38.870000</td>\n",
       "      <td id=\"T_4d5f2_row3_col4\" class=\"data row3 col4\" >54968.700000</td>\n",
       "      <td id=\"T_4d5f2_row3_col5\" class=\"data row3 col5\" >44.500000</td>\n",
       "      <td id=\"T_4d5f2_row3_col6\" class=\"data row3 col6\" >60643.710000</td>\n",
       "    </tr>\n",
       "    <tr>\n",
       "      <th id=\"T_4d5f2_level0_row4\" class=\"row_heading level0 row4\" >4</th>\n",
       "      <td id=\"T_4d5f2_row4_col0\" class=\"data row4 col0\" >AISI 1008-RM03-1</td>\n",
       "      <td id=\"T_4d5f2_row4_col1\" class=\"data row4 col1\" >2.610000</td>\n",
       "      <td id=\"T_4d5f2_row4_col2\" class=\"data row4 col2\" >2633.790000</td>\n",
       "      <td id=\"T_4d5f2_row4_col3\" class=\"data row4 col3\" >3.600000</td>\n",
       "      <td id=\"T_4d5f2_row4_col4\" class=\"data row4 col4\" >5092.470000</td>\n",
       "      <td id=\"T_4d5f2_row4_col5\" class=\"data row4 col5\" >6.220000</td>\n",
       "      <td id=\"T_4d5f2_row4_col6\" class=\"data row4 col6\" >7726.260000</td>\n",
       "    </tr>\n",
       "    <tr>\n",
       "      <th id=\"T_4d5f2_level0_row5\" class=\"row_heading level0 row5\" >5</th>\n",
       "      <td id=\"T_4d5f2_row5_col0\" class=\"data row5 col0\" >AISI 1008-RM03-2</td>\n",
       "      <td id=\"T_4d5f2_row5_col1\" class=\"data row5 col1\" >30.210000</td>\n",
       "      <td id=\"T_4d5f2_row5_col2\" class=\"data row5 col2\" >30434.280000</td>\n",
       "      <td id=\"T_4d5f2_row5_col3\" class=\"data row5 col3\" >69.670000</td>\n",
       "      <td id=\"T_4d5f2_row5_col4\" class=\"data row5 col4\" >98524.770000</td>\n",
       "      <td id=\"T_4d5f2_row5_col5\" class=\"data row5 col5\" >99.870000</td>\n",
       "      <td id=\"T_4d5f2_row5_col6\" class=\"data row5 col6\" >128959.060000</td>\n",
       "    </tr>\n",
       "    <tr>\n",
       "      <th id=\"T_4d5f2_level0_row6\" class=\"row_heading level0 row6\" >6</th>\n",
       "      <td id=\"T_4d5f2_row6_col0\" class=\"data row6 col0\" >AISI 1010-RM03-1</td>\n",
       "      <td id=\"T_4d5f2_row6_col1\" class=\"data row6 col1\" >1.790000</td>\n",
       "      <td id=\"T_4d5f2_row6_col2\" class=\"data row6 col2\" >1802.230000</td>\n",
       "      <td id=\"T_4d5f2_row6_col3\" class=\"data row6 col3\" >0.000000</td>\n",
       "      <td id=\"T_4d5f2_row6_col4\" class=\"data row6 col4\" >0.000000</td>\n",
       "      <td id=\"T_4d5f2_row6_col5\" class=\"data row6 col5\" >1.790000</td>\n",
       "      <td id=\"T_4d5f2_row6_col6\" class=\"data row6 col6\" >1802.230000</td>\n",
       "    </tr>\n",
       "    <tr>\n",
       "      <th id=\"T_4d5f2_level0_row7\" class=\"row_heading level0 row7\" >7</th>\n",
       "      <td id=\"T_4d5f2_row7_col0\" class=\"data row7 col0\" >AISI 1012-RM03-1</td>\n",
       "      <td id=\"T_4d5f2_row7_col1\" class=\"data row7 col1\" >0.890000</td>\n",
       "      <td id=\"T_4d5f2_row7_col2\" class=\"data row7 col2\" >893.210000</td>\n",
       "      <td id=\"T_4d5f2_row7_col3\" class=\"data row7 col3\" >0.090000</td>\n",
       "      <td id=\"T_4d5f2_row7_col4\" class=\"data row7 col4\" >130.210000</td>\n",
       "      <td id=\"T_4d5f2_row7_col5\" class=\"data row7 col5\" >0.980000</td>\n",
       "      <td id=\"T_4d5f2_row7_col6\" class=\"data row7 col6\" >1023.430000</td>\n",
       "    </tr>\n",
       "    <tr>\n",
       "      <th id=\"T_4d5f2_level0_row8\" class=\"row_heading level0 row8\" >8</th>\n",
       "      <td id=\"T_4d5f2_row8_col0\" class=\"data row8 col0\" >AISI 1012-RM03-2</td>\n",
       "      <td id=\"T_4d5f2_row8_col1\" class=\"data row8 col1\" >16.010000</td>\n",
       "      <td id=\"T_4d5f2_row8_col2\" class=\"data row8 col2\" >16133.570000</td>\n",
       "      <td id=\"T_4d5f2_row8_col3\" class=\"data row8 col3\" >0.000000</td>\n",
       "      <td id=\"T_4d5f2_row8_col4\" class=\"data row8 col4\" >0.000000</td>\n",
       "      <td id=\"T_4d5f2_row8_col5\" class=\"data row8 col5\" >16.010000</td>\n",
       "      <td id=\"T_4d5f2_row8_col6\" class=\"data row8 col6\" >16133.570000</td>\n",
       "    </tr>\n",
       "    <tr>\n",
       "      <th id=\"T_4d5f2_level0_row9\" class=\"row_heading level0 row9\" >9</th>\n",
       "      <td id=\"T_4d5f2_row9_col0\" class=\"data row9 col0\" >AISI 1015-RM03-1</td>\n",
       "      <td id=\"T_4d5f2_row9_col1\" class=\"data row9 col1\" >20.620000</td>\n",
       "      <td id=\"T_4d5f2_row9_col2\" class=\"data row9 col2\" >20769.530000</td>\n",
       "      <td id=\"T_4d5f2_row9_col3\" class=\"data row9 col3\" >0.000000</td>\n",
       "      <td id=\"T_4d5f2_row9_col4\" class=\"data row9 col4\" >0.000000</td>\n",
       "      <td id=\"T_4d5f2_row9_col5\" class=\"data row9 col5\" >20.620000</td>\n",
       "      <td id=\"T_4d5f2_row9_col6\" class=\"data row9 col6\" >20769.530000</td>\n",
       "    </tr>\n",
       "    <tr>\n",
       "      <th id=\"T_4d5f2_level0_row10\" class=\"row_heading level0 row10\" >10</th>\n",
       "      <td id=\"T_4d5f2_row10_col0\" class=\"data row10 col0\" >BS-G500B R31-RM03-1</td>\n",
       "      <td id=\"T_4d5f2_row10_col1\" class=\"data row10 col1\" >0.160000</td>\n",
       "      <td id=\"T_4d5f2_row10_col2\" class=\"data row10 col2\" >164.930000</td>\n",
       "      <td id=\"T_4d5f2_row10_col3\" class=\"data row10 col3\" >0.000000</td>\n",
       "      <td id=\"T_4d5f2_row10_col4\" class=\"data row10 col4\" >0.000000</td>\n",
       "      <td id=\"T_4d5f2_row10_col5\" class=\"data row10 col5\" >0.160000</td>\n",
       "      <td id=\"T_4d5f2_row10_col6\" class=\"data row10 col6\" >164.930000</td>\n",
       "    </tr>\n",
       "    <tr>\n",
       "      <th id=\"T_4d5f2_level0_row11\" class=\"row_heading level0 row11\" >11</th>\n",
       "      <td id=\"T_4d5f2_row11_col0\" class=\"data row11 col0\" >BSG500BR41-RM01-1</td>\n",
       "      <td id=\"T_4d5f2_row11_col1\" class=\"data row11 col1\" >0.000000</td>\n",
       "      <td id=\"T_4d5f2_row11_col2\" class=\"data row11 col2\" >0.000000</td>\n",
       "      <td id=\"T_4d5f2_row11_col3\" class=\"data row11 col3\" >9.470000</td>\n",
       "      <td id=\"T_4d5f2_row11_col4\" class=\"data row11 col4\" >13388.680000</td>\n",
       "      <td id=\"T_4d5f2_row11_col5\" class=\"data row11 col5\" >9.470000</td>\n",
       "      <td id=\"T_4d5f2_row11_col6\" class=\"data row11 col6\" >13388.680000</td>\n",
       "    </tr>\n",
       "    <tr>\n",
       "      <th id=\"T_4d5f2_level0_row12\" class=\"row_heading level0 row12\" >12</th>\n",
       "      <td id=\"T_4d5f2_row12_col0\" class=\"data row12 col0\" >BSG500BR42-RM03-1</td>\n",
       "      <td id=\"T_4d5f2_row12_col1\" class=\"data row12 col1\" >0.000000</td>\n",
       "      <td id=\"T_4d5f2_row12_col2\" class=\"data row12 col2\" >0.000000</td>\n",
       "      <td id=\"T_4d5f2_row12_col3\" class=\"data row12 col3\" >6.040000</td>\n",
       "      <td id=\"T_4d5f2_row12_col4\" class=\"data row12 col4\" >8548.520000</td>\n",
       "      <td id=\"T_4d5f2_row12_col5\" class=\"data row12 col5\" >6.040000</td>\n",
       "      <td id=\"T_4d5f2_row12_col6\" class=\"data row12 col6\" >8548.520000</td>\n",
       "    </tr>\n",
       "    <tr>\n",
       "      <th id=\"T_4d5f2_level0_row13\" class=\"row_heading level0 row13\" >13</th>\n",
       "      <td id=\"T_4d5f2_row13_col0\" class=\"data row13 col0\" >KWSB500BWR R22-RM02-1</td>\n",
       "      <td id=\"T_4d5f2_row13_col1\" class=\"data row13 col1\" >0.000000</td>\n",
       "      <td id=\"T_4d5f2_row13_col2\" class=\"data row13 col2\" >0.000000</td>\n",
       "      <td id=\"T_4d5f2_row13_col3\" class=\"data row13 col3\" >0.090000</td>\n",
       "      <td id=\"T_4d5f2_row13_col4\" class=\"data row13 col4\" >122.250000</td>\n",
       "      <td id=\"T_4d5f2_row13_col5\" class=\"data row13 col5\" >0.090000</td>\n",
       "      <td id=\"T_4d5f2_row13_col6\" class=\"data row13 col6\" >122.250000</td>\n",
       "    </tr>\n",
       "    <tr>\n",
       "      <th id=\"T_4d5f2_level0_row14\" class=\"row_heading level0 row14\" >14</th>\n",
       "      <td id=\"T_4d5f2_row14_col0\" class=\"data row14 col0\" >SAE 1005-RM03-1</td>\n",
       "      <td id=\"T_4d5f2_row14_col1\" class=\"data row14 col1\" >5.740000</td>\n",
       "      <td id=\"T_4d5f2_row14_col2\" class=\"data row14 col2\" >5787.390000</td>\n",
       "      <td id=\"T_4d5f2_row14_col3\" class=\"data row14 col3\" >0.000000</td>\n",
       "      <td id=\"T_4d5f2_row14_col4\" class=\"data row14 col4\" >0.000000</td>\n",
       "      <td id=\"T_4d5f2_row14_col5\" class=\"data row14 col5\" >5.740000</td>\n",
       "      <td id=\"T_4d5f2_row14_col6\" class=\"data row14 col6\" >5787.390000</td>\n",
       "    </tr>\n",
       "    <tr>\n",
       "      <th id=\"T_4d5f2_level0_row15\" class=\"row_heading level0 row15\" >15</th>\n",
       "      <td id=\"T_4d5f2_row15_col0\" class=\"data row15 col0\" >SWRCH 6R-RM03-1</td>\n",
       "      <td id=\"T_4d5f2_row15_col1\" class=\"data row15 col1\" >1.940000</td>\n",
       "      <td id=\"T_4d5f2_row15_col2\" class=\"data row15 col2\" >1953.770000</td>\n",
       "      <td id=\"T_4d5f2_row15_col3\" class=\"data row15 col3\" >3.000000</td>\n",
       "      <td id=\"T_4d5f2_row15_col4\" class=\"data row15 col4\" >4243.370000</td>\n",
       "      <td id=\"T_4d5f2_row15_col5\" class=\"data row15 col5\" >4.940000</td>\n",
       "      <td id=\"T_4d5f2_row15_col6\" class=\"data row15 col6\" >6197.130000</td>\n",
       "    </tr>\n",
       "    <tr>\n",
       "      <th id=\"T_4d5f2_level0_row16\" class=\"row_heading level0 row16\" >16</th>\n",
       "      <td id=\"T_4d5f2_row16_col0\" class=\"data row16 col0\" >Total</td>\n",
       "      <td id=\"T_4d5f2_row16_col1\" class=\"data row16 col1\" >97.060000</td>\n",
       "      <td id=\"T_4d5f2_row16_col2\" class=\"data row16 col2\" >97786.620000</td>\n",
       "      <td id=\"T_4d5f2_row16_col3\" class=\"data row16 col3\" >151.980000</td>\n",
       "      <td id=\"T_4d5f2_row16_col4\" class=\"data row16 col4\" >214935.800000</td>\n",
       "      <td id=\"T_4d5f2_row16_col5\" class=\"data row16 col5\" >249.040000</td>\n",
       "      <td id=\"T_4d5f2_row16_col6\" class=\"data row16 col6\" >312722.420000</td>\n",
       "    </tr>\n",
       "  </tbody>\n",
       "</table>\n"
      ],
      "text/plain": [
       "<pandas.io.formats.style.Styler at 0x287c81240>"
      ]
     },
     "execution_count": 44,
     "metadata": {},
     "output_type": "execute_result"
    }
   ],
   "source": [
    "final_results_ff[[\"SteelGrade\", \"FeSiMn Overshot (Tons)\", \"FeSiMn Overshot (Cost$)\", \"FeSi Overshot (Tons)\", \"FeSi Overshot (Cost$)\",\"Ferroalloys Overshot (Tons)\",\"Ferroalloys Overshot Cost ($USD)\"]].style.background_gradient(cmap=\"Greens\")\n"
   ]
  },
  {
   "cell_type": "code",
   "execution_count": 121,
   "id": "8fc46dce-16c6-4a03-abb0-6f2e3db14cd1",
   "metadata": {
    "scrolled": true,
    "ExecuteTime": {
     "end_time": "2024-03-25T10:28:31.317150Z",
     "start_time": "2024-03-25T10:28:31.305474Z"
    }
   },
   "outputs": [],
   "source": []
  },
  {
   "cell_type": "code",
   "execution_count": 124,
   "id": "49866dbb-2dff-44cc-9106-018b0406ca22",
   "metadata": {
    "ExecuteTime": {
     "end_time": "2024-03-25T10:29:41.109340Z",
     "start_time": "2024-03-25T10:29:40.999150Z"
    }
   },
   "outputs": [
    {
     "name": "stderr",
     "output_type": "stream",
     "text": [
      "/var/folders/r9/87gtbty52c79d176x87qqc1c0000gn/T/ipykernel_9082/2900433435.py:13: FutureWarning: \n",
      "\n",
      "Passing `palette` without assigning `hue` is deprecated and will be removed in v0.14.0. Assign the `y` variable to `hue` and set `legend=False` for the same effect.\n",
      "\n",
      "  sns.barplot(y='SteelGrade', x='Ferroalloys Overshot Cost ($USD)', data=fff, palette=\"coolwarm\", orient='h')\n"
     ]
    },
    {
     "data": {
      "text/plain": "<Figure size 1000x600 with 1 Axes>",
      "image/png": "[encoded data removed]"
     },
     "metadata": {},
     "output_type": "display_data"
    }
   ],
   "source": [
    "\n",
    "\n",
    "final_results_fff = final_results[final_results[\"SteelGrade\"]!= \"Total\"]\n",
    "fff = final_results_fff.nlargest(3, 'Ferroalloys Overshot Cost ($USD)')\n",
    "\n"
   ]
  },
  {
   "cell_type": "code",
   "outputs": [
    {
     "name": "stderr",
     "output_type": "stream",
     "text": [
      "/var/folders/r9/87gtbty52c79d176x87qqc1c0000gn/T/ipykernel_9082/3067459622.py:13: FutureWarning: \n",
      "\n",
      "Passing `palette` without assigning `hue` is deprecated and will be removed in v0.14.0. Assign the `y` variable to `hue` and set `legend=False` for the same effect.\n",
      "\n",
      "  sns.barplot(y='SteelGrade', x='Ferroalloys Overshot Cost ($USD)', data=fff, palette=\"coolwarm\", orient='h')\n"
     ]
    },
    {
     "data": {
      "text/plain": "<Figure size 1000x600 with 1 Axes>",
      "image/png": "[encoded data removed]"
     },
     "metadata": {},
     "output_type": "display_data"
    }
   ],
   "source": [
    "\n",
    "import seaborn as sns\n",
    "\n",
    "\n",
    "\n",
    "final_results_fff = final_results[final_results[\"SteelGrade\"]!= \"Total\"]\n",
    "fff = final_results_fff.nlargest(3, 'Ferroalloys Overshot Cost ($USD)')\n",
    "\n",
    "\n",
    "# Setting the theme for Seaborn\n",
    "sns.set_theme(style=\"whitegrid\")\n",
    "\n",
    "plt.figure(figsize=(10, 6))\n",
    "sns.barplot(y='SteelGrade', x='Ferroalloys Overshot Cost ($USD)', data=fff, palette=\"coolwarm\", orient='h')\n",
    "plt.title('SMP-1, Top 3 Ferroalloys Overshot Costs (in USD)', fontsize=22)\n",
    "plt.ylabel('SteelGrade', fontsize=18)\n",
    "plt.xlabel('Overshot Cost ($USD)', fontsize=18)\n",
    "plt.xticks(fontsize=14)\n",
    "plt.yticks(fontsize=14)\n",
    "plt.show()\n"
   ],
   "metadata": {
    "collapsed": false,
    "ExecuteTime": {
     "end_time": "2024-03-25T10:34:01.140436Z",
     "start_time": "2024-03-25T10:34:01.045500Z"
    }
   },
   "id": "135abe9e9c07cce8",
   "execution_count": 134
  }
 ],
 "metadata": {
  "kernelspec": {
   "display_name": "Python 3 (ipykernel)",
   "language": "python",
   "name": "python3"
  },
  "language_info": {
   "codemirror_mode": {
    "name": "ipython",
    "version": 3
   },
   "file_extension": ".py",
   "mimetype": "text/x-python",
   "name": "python",
   "nbconvert_exporter": "python",
   "pygments_lexer": "ipython3",
   "version": "3.10.13"
  }
 },
 "nbformat": 4,
 "nbformat_minor": 5
}
