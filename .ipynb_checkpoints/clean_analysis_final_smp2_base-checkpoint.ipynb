{
 "cells": [
  {
   "cell_type": "code",
   "execution_count": 213,
   "id": "initial_id",
   "metadata": {
    "ExecuteTime": {
     "end_time": "2024-03-25T05:59:46.275993Z",
     "start_time": "2024-03-25T05:59:46.273809Z"
    }
   },
   "outputs": [],
   "source": [
    "\n",
    "\n",
    "import pandas as pd\n",
    "import seaborn as sns\n",
    "import matplotlib.pyplot as plt\n",
    "import numpy as np \n",
    "\n"
   ]
  },
  {
   "cell_type": "markdown",
   "id": "fe0bfe827623e75e",
   "metadata": {
    "collapsed": false
   },
   "source": [
    "\n",
    "\n",
    "## Composition Consumption and Cost Calculation\n",
    "\n",
    "To accurately calculate the composition consumption and its corresponding cost for a given grade of steel, we follow a two-step process. This approach first determines the actual amount of composition used in kilograms (kg) and then calculates the cost based on the price per ton.\n",
    "\n",
    "### Step 1: Calculate Composition Consumption in Kilograms (kg)\n",
    "\n",
    "Given variables:\n",
    "- `C` = Composition consumption rate in kg of composition per ton of billets\n",
    "- `T` = Tons of billets produced\n",
    "\n",
    "The formula to calculate the actual consumption of the composition (`A`) in kilograms (kg) for that grade of steel is:\n",
    "\n",
    "$$\\[A = C \\times T\\]$$\n",
    "\n",
    "### Step 2: Convert Consumption into Cost\n",
    "\n",
    "Given additional variable:\n",
    "$$ `P` = Price of the sheet (or composition) per ton$$\n",
    "\n",
    "Since the price `P` is provided per ton, and there are 1000 kg in a ton, we first convert the actual consumption from kilograms to tons (`A_tons`):\n",
    "\n",
    "$$\\[A_{\\text{tons}} = \\frac{A}{1000}\\]$$\n",
    "\n",
    "To calculate the total cost (`Cost`) of the composition based on its consumption and the sheet price per ton, we use the formula:\n",
    "\n",
    "$$\\[Cost = A_{\\text{tons}} \\times P\\]$$\n",
    "\n",
    "Combining the steps, we get the comprehensive formula for calculating cost:\n",
    "\n",
    "$$\\[Cost = \\left( \\frac{C \\times T}{1000} \\right) \\times P\\]$$\n",
    "\n",
    "This formula allows us to calculate the total cost of the composition used based on its consumption rate per ton of billets produced, the total tons of billets produced, and the price per ton of the composition.\n",
    " \n",
    "composition consumption in kg/ton * tons of billets produced = composition consumption in KG \n",
    " 1.   kg/ton * ton = kg you get the actual consumption of composition for that grade steel \n",
    " 2.   from 1, divide by 1000 to get ton, multiply the result by tth sheet price ton * (sheet price since its per ton) per composition.\n",
    "\n"
   ]
  },
  {
   "cell_type": "markdown",
   "id": "7f5fe5a36513cf94",
   "metadata": {
    "collapsed": false
   },
   "source": [
    "## Prices for SMP2 Chemicals:"
   ]
  },
  {
   "cell_type": "code",
   "execution_count": 214,
   "id": "b966d88d83fb71e7",
   "metadata": {
    "collapsed": false,
    "ExecuteTime": {
     "end_time": "2024-03-25T05:59:46.396516Z",
     "start_time": "2024-03-25T05:59:46.391425Z"
    }
   },
   "outputs": [
    {
     "data": {
      "text/plain": "{'FeSi - Ferro-Silicon': 1718.069471192685,\n 'FeSiMn - Silicon-maganese': 1198.290427122754,\n 'FeMnHC - Ferro-Manganese (High Carbon)': 1036.421919534007,\n 'Recarburizer - Recarburizer': 470.809108058571,\n 'FeCr - Ferrochrome': 0.0}"
     },
     "execution_count": 214,
     "metadata": {},
     "output_type": "execute_result"
    }
   ],
   "source": [
    "\n",
    "\n",
    "# Given dictionaries\n",
    "list_names_prices_smp2_december_2023 = {\n",
    "    \"FeSi - Ferro-Silicon\": 1784.26869542229,\n",
    "    \"FeSiMn - Silicon-maganese\": 982.491100414191,\n",
    "    \"FeMnHC - Ferro-Manganese (High Carbon)\": 1072.38667899182,\n",
    "    \"Recarburizer - Recarburizer\": 459.168109303317,\n",
    "    'FeCr - Ferrochrome': 0.0\n",
    "}\n",
    "\n",
    "list_names_prices_smp2_februrary_2024 = {\n",
    "    \"FeSi - Ferro-Silicon\": 1513.14266939651,\n",
    "    \"FeSiMn - Silicon-maganese\": 981.166637222105,\n",
    "    \"FeMnHC - Ferro-Manganese (High Carbon)\": 987.371168766638,\n",
    "    \"Recarburizer - Recarburizer\": 396.65551241767,\n",
    "    'FeCr - Ferrochrome': 0.0\n",
    "}\n",
    "\n",
    "list_names_prices_smp2_january_2024 = {\n",
    "    \"FeSi - Ferro-Silicon\": 1761.04858264133,\n",
    "    \"FeSiMn - Silicon-maganese\": 1761.04858264133,\n",
    "    \"FeMnHC - Ferro-Manganese (High Carbon)\": 1013.54162166185,\n",
    "    \"Recarburizer - Recarburizer\": 485.931625802038,\n",
    "    'FeCr - Ferrochrome': 0.0\n",
    "}\n",
    "\n",
    "list_names_prices_smp2_november_2023 = {\n",
    "    \"FeSi - Ferro-Silicon\": 1813.81793731061,\n",
    "    \"FeSiMn - Silicon-maganese\": 1068.45538821339,\n",
    "    \"FeMnHC - Ferro-Manganese (High Carbon)\": 1072.38820871572,\n",
    "    \"Recarburizer - Recarburizer\": 541.481184711259,\n",
    "    'FeCr - Ferrochrome': 0.0\n",
    "}\n",
    "\n",
    "df = pd.DataFrame([\n",
    "    list_names_prices_smp2_december_2023,\n",
    "    list_names_prices_smp2_februrary_2024,\n",
    "    list_names_prices_smp2_january_2024,\n",
    "    list_names_prices_smp2_november_2023\n",
    "])\n",
    "\n",
    "mean_prices = df.mean()\n",
    "list_names_prices_smp2_mean = mean_prices.to_dict()\n",
    "list_names_prices_smp2_mean\n"
   ]
  },
  {
   "cell_type": "code",
   "outputs": [
    {
     "data": {
      "text/plain": "1198.290427122754"
     },
     "execution_count": 215,
     "metadata": {},
     "output_type": "execute_result"
    }
   ],
   "source": [
    "\n",
    "# FeSiMn - Silicon-maganese average cost over 4 months\n",
    "(982.491100414191 + 981.166637222105 + 1761.04858264133 +  1068.45538821339) /4\n",
    "\n"
   ],
   "metadata": {
    "collapsed": false,
    "ExecuteTime": {
     "end_time": "2024-03-25T05:59:46.415708Z",
     "start_time": "2024-03-25T05:59:46.413483Z"
    }
   },
   "id": "cd8b92e862b93aa6",
   "execution_count": 215
  },
  {
   "cell_type": "code",
   "outputs": [
    {
     "data": {
      "text/plain": "1718.069471192685"
     },
     "execution_count": 216,
     "metadata": {},
     "output_type": "execute_result"
    }
   ],
   "source": [
    "\n",
    "# FeSi - Ferro-Silicon average cost per 4 months:\n",
    "\n",
    "(1784.26869542229 + 1513.14266939651 + 1761.04858264133 + 1813.81793731061) / 4\n"
   ],
   "metadata": {
    "collapsed": false,
    "ExecuteTime": {
     "end_time": "2024-03-25T05:59:46.455549Z",
     "start_time": "2024-03-25T05:59:46.453267Z"
    }
   },
   "id": "17e96073205f4937",
   "execution_count": 216
  },
  {
   "cell_type": "code",
   "execution_count": 217,
   "id": "bc6d52f4e7a6d7ff",
   "metadata": {
    "collapsed": false,
    "ExecuteTime": {
     "end_time": "2024-03-25T05:59:46.485966Z",
     "start_time": "2024-03-25T05:59:46.482880Z"
    }
   },
   "outputs": [],
   "source": [
    "\n",
    "def plot_ferroalloys_comparison_modified(dataframe):\n",
    "\n",
    "    long_df = dataframe.melt(id_vars=\"SteelGrade\", var_name=\"Type\", value_name=\"KG/Ton\")\n",
    "\n",
    "    plt.figure(figsize=(18, 10))\n",
    "    sns.barplot(data=long_df, x=\"SteelGrade\", y=\"KG/Ton\", hue=\"Type\")\n",
    "    plt.title(\"Ferroalloys Target vs Actual vs OverShot (KG/Ton) by Steel Grade\", fontsize=22)\n",
    "    plt.xticks(rotation=90, fontsize=14)\n",
    "    plt.ylabel(\"KG/Ton\", fontsize=24)\n",
    "    plt.xlabel(\"Steel Grade\", fontsize=24)\n",
    "    plt.legend(title='', title_fontsize='18', labelspacing=0.95)\n",
    "    plt.tight_layout()\n",
    "    plt.show()\n",
    "\n"
   ]
  },
  {
   "cell_type": "code",
   "outputs": [],
   "source": [
    "\n",
    "# choose SMP \n",
    "data = pd.read_csv(\"Ferroalloys Consumption SMP #2.csv\")\n",
    "\n",
    "\n",
    "\n",
    "# extract columns you are going to use for the analysis:\n",
    "data = data[['SteelGrade', \n",
    "             'Billet',\n",
    "             'FeSiMn Target (KG/Ton)',\n",
    "             'FeSiMn Actual (KG/Ton)',\n",
    "             'FeSi Target (KG/Ton)',\n",
    "             'FeSi Actual (KG/Ton)', \n",
    "             ]]\n",
    "\n",
    "\n",
    "\n",
    "\n",
    "# calculate overshot per Chemicals:\n",
    "data['FeSiMn Overshot (KG/Ton)'] = data['FeSiMn Actual (KG/Ton)'] - data['FeSiMn Target (KG/Ton)']\n",
    "data['FeSi Overshot (KG/Ton)'] = data['FeSi Actual (KG/Ton)'] - data['FeSi Target (KG/Ton)']\n",
    "# \n",
    "# \n",
    "# # separate dataframe to do the calculations, to be more accurate and precise:\n",
    "fesmin_data = data[[\"SteelGrade\",\"Billet\",\"FeSiMn Actual (KG/Ton)\",\"FeSiMn Target (KG/Ton)\",\"FeSiMn Overshot (KG/Ton)\"]]\n",
    "fesi_data = data[[\"SteelGrade\",\"Billet\",\"FeSi Actual (KG/Ton)\",\"FeSi Target (KG/Ton)\",\"FeSi Overshot (KG/Ton)\"]]\n",
    "\n"
   ],
   "metadata": {
    "collapsed": false,
    "ExecuteTime": {
     "end_time": "2024-03-25T05:59:46.517160Z",
     "start_time": "2024-03-25T05:59:46.511221Z"
    }
   },
   "id": "fb2c56459f42435f",
   "execution_count": 218
  },
  {
   "cell_type": "markdown",
   "source": [
    "### Calculation of conservative target 2.5% inctrease of the target variables:"
   ],
   "metadata": {
    "collapsed": false
   },
   "id": "c52865b66bbbf4ac"
  },
  {
   "cell_type": "code",
   "outputs": [],
   "source": [
    "\n",
    "\n",
    "# add filter here:\n",
    "# target_columns = [col for col in data.columns if 'target' in col.lower()]\n",
    "# data[target_columns] = data[target_columns] * 1.025\n",
    "# calculate only target conservative for the chems only and not for all targets that what caused the mistake before:\n",
    "\n"
   ],
   "metadata": {
    "collapsed": false,
    "ExecuteTime": {
     "end_time": "2024-03-25T05:59:46.529561Z",
     "start_time": "2024-03-25T05:59:46.527732Z"
    }
   },
   "id": "5e924c772008f17c",
   "execution_count": 219
  },
  {
   "cell_type": "markdown",
   "source": [
    "### Rename columns to standardize them:"
   ],
   "metadata": {
    "collapsed": false
   },
   "id": "4019c5cb1a85df1f"
  },
  {
   "cell_type": "code",
   "outputs": [],
   "source": [
    "\n",
    "fesmin_data = fesmin_data.rename(columns={'Billet': 'Billet Mass (Tons)'})\n",
    "fesi_data =  fesi_data.rename(columns={'Billet': 'Billet Mass (Tons)'})\n"
   ],
   "metadata": {
    "collapsed": false,
    "ExecuteTime": {
     "end_time": "2024-03-25T05:59:46.547105Z",
     "start_time": "2024-03-25T05:59:46.544618Z"
    }
   },
   "id": "2f697f232738fe1f",
   "execution_count": 220
  },
  {
   "cell_type": "markdown",
   "source": [
    "### Add Suffix to duplicated steel grades names:"
   ],
   "metadata": {
    "collapsed": false
   },
   "id": "2b6bfbf523eccdc8"
  },
  {
   "cell_type": "code",
   "outputs": [],
   "source": [
    "\n",
    "fesi_data['Suffix'] = fesi_data.groupby('SteelGrade').cumcount() + 1\n",
    "fesi_data['SteelGrade_Unique'] = fesi_data['SteelGrade'] + '-' + fesi_data['Suffix'].astype(str)\n",
    "fesi_data[\"SteelGrade\"] = fesi_data[\"SteelGrade_Unique\"]\n",
    "fesi_data.drop(columns=['Suffix',\"SteelGrade_Unique\"], inplace=True)\n",
    "\n"
   ],
   "metadata": {
    "collapsed": false,
    "ExecuteTime": {
     "end_time": "2024-03-25T05:59:46.583856Z",
     "start_time": "2024-03-25T05:59:46.579530Z"
    }
   },
   "id": "fa53d80d3cc74402",
   "execution_count": 221
  },
  {
   "cell_type": "code",
   "outputs": [],
   "source": [
    "# add unique name to steel grade\n",
    "\n",
    "fesmin_data['Suffix'] = fesmin_data.groupby('SteelGrade').cumcount() + 1\n",
    "fesmin_data['SteelGrade_Unique'] = fesmin_data['SteelGrade'] + '-' + fesmin_data['Suffix'].astype(str)\n",
    "fesmin_data[\"SteelGrade\"] = fesmin_data[\"SteelGrade_Unique\"]\n",
    "fesmin_data.drop(columns=['Suffix',\"SteelGrade_Unique\"], inplace=True)\n"
   ],
   "metadata": {
    "collapsed": false,
    "ExecuteTime": {
     "end_time": "2024-03-25T05:59:46.604228Z",
     "start_time": "2024-03-25T05:59:46.600691Z"
    }
   },
   "id": "252ab0a3be51ecfc",
   "execution_count": 222
  },
  {
   "cell_type": "markdown",
   "source": [
    "### Filter columns where target must not equal 0 and overshot must be greater than 0.0:"
   ],
   "metadata": {
    "collapsed": false
   },
   "id": "79f7f51d8ed0b67"
  },
  {
   "cell_type": "code",
   "outputs": [],
   "source": [
    "\n",
    "# filter columns you are interested in:\n",
    "# first condition target must be greater than 0.0:\n",
    "fesmin_data = fesmin_data[fesmin_data[\"FeSiMn Target (KG/Ton)\"]!= 0.0]\n",
    "\n",
    "# second condition overshot must be > 0.0 \n",
    "fesmin_data = fesmin_data[fesmin_data[\"FeSiMn Overshot (KG/Ton)\"] > 0.0]\n",
    "\n"
   ],
   "metadata": {
    "collapsed": false,
    "ExecuteTime": {
     "end_time": "2024-03-25T05:59:46.607832Z",
     "start_time": "2024-03-25T05:59:46.605307Z"
    }
   },
   "id": "e0b70cb3f9dd2b1f",
   "execution_count": 223
  },
  {
   "cell_type": "code",
   "outputs": [],
   "source": [
    "\n",
    "# filter columns you are interested in:\n",
    "# first condition target must be greater than 0.0:\n",
    "fesi_data = fesi_data[fesi_data[\"FeSi Target (KG/Ton)\"]!= 0.0]\n",
    "\n",
    "# second condition overshot must be > 0.0 \n",
    "fesi_data = fesi_data[fesi_data[\"FeSi Overshot (KG/Ton)\"] > 0.0]\n",
    "\n"
   ],
   "metadata": {
    "collapsed": false,
    "ExecuteTime": {
     "end_time": "2024-03-25T05:59:46.637911Z",
     "start_time": "2024-03-25T05:59:46.635107Z"
    }
   },
   "id": "211e1dc2893902a3",
   "execution_count": 224
  },
  {
   "cell_type": "code",
   "outputs": [],
   "source": [
    "\n",
    "\n"
   ],
   "metadata": {
    "collapsed": false
   },
   "id": "122fea5eefe170d5"
  },
  {
   "cell_type": "markdown",
   "id": "30de2cd62a897dd",
   "metadata": {
    "collapsed": false
   },
   "source": []
  },
  {
   "cell_type": "code",
   "execution_count": 225,
   "id": "2f638a05a3a5fd57",
   "metadata": {
    "collapsed": false,
    "ExecuteTime": {
     "end_time": "2024-03-25T05:59:46.660182Z",
     "start_time": "2024-03-25T05:59:46.650934Z"
    }
   },
   "outputs": [
    {
     "data": {
      "text/plain": "          SteelGrade  Billet Mass (Tons)  FeSiMn Actual (KG/Ton)  \\\n0          3SP CON-1           10040.952                    7.79   \n2          3SP UIS-1           19396.407                    8.14   \n8    AISI 1006 CAQ-1           14217.135                    3.14   \n10       AISI 1012-1             127.478                    7.89   \n11       AISI 1012-2            2847.713                    7.73   \n12       AISI 1015-1            3129.471                    8.02   \n13       AISI 1018-1            8659.960                    8.91   \n14       AISI 1038-1            2732.942                   10.07   \n20    BS-G500B R22-1           11144.716                    7.92   \n21    BS-G500B R22-2           11956.901                    8.00   \n22    BS-G500B R51-1            1242.724                   10.37   \n23      BSG500BR41-1           74008.489                    7.98   \n24      BSG500BR41-2          179322.080                    7.91   \n25      BSG500BR42-1            1980.089                    8.04   \n26      BSG500BR42-2          151789.712                    7.83   \n27      BSSS560R12-1            8578.967                   11.86   \n28      BSSS560R22-1            2217.466                    7.72   \n29      BSSS560R22-2            7713.394                    7.97   \n32  KWSB500BWR R11-1            2948.755                    8.70   \n33  KWSB500BWR R12-1            1364.831                    9.84   \n34  KWSB500BWR R22-1           14175.175                    7.67   \n35       S235 JR-A-1            4384.918                   10.57   \n36       S235 JR-A-2           19308.201                   10.32   \n37       S275 JR-A-1           23003.444                   14.64   \n38       S275 JR-A-2           75502.051                   14.70   \n39     S275 JR-AAA-1           12155.000                   14.42   \n40     S275 JR-AAA-2          112660.245                   14.53   \n41      S355 G11-A-1            1886.049                   18.52   \n42      S355 G11-A-2            5001.665                   17.10   \n57        SAE 1012-1             129.499                    8.66   \n58        SAE 1018-1            3862.805                   10.04   \n74         SWRY 11-1           14536.372                    2.45   \n\n    FeSiMn Target (KG/Ton)  FeSiMn Overshot (KG/Ton)  FeSiMn Overshot (KG)  \\\n0                      6.0                      1.79           17973.30408   \n2                      6.2                      1.94           37629.02958   \n8                      1.5                      1.64           23316.10140   \n10                     6.5                      1.39             177.19442   \n11                     6.5                      1.23            3502.68699   \n12                     5.8                      2.22            6947.42562   \n13                     8.2                      0.71            6148.57160   \n14                    10.0                      0.07             191.30594   \n20                     5.9                      2.02           22512.32632   \n21                     5.9                      2.10           25109.49210   \n22                     7.4                      2.97            3690.89028   \n23                     5.9                      2.08          153937.65712   \n24                     5.9                      2.01          360437.38080   \n25                     7.4                      0.64            1267.25696   \n26                     7.4                      0.43           65269.57616   \n27                     9.0                      2.86           24535.84562   \n28                     5.9                      1.82            4035.78812   \n29                     5.9                      2.07           15966.72558   \n32                     8.5                      0.20             589.75100   \n33                     9.0                      0.84            1146.45804   \n34                     5.9                      1.77           25090.05975   \n35                     9.0                      1.57            6884.32126   \n36                     9.0                      1.32           25486.82532   \n37                    13.6                      1.04           23923.58176   \n38                    13.6                      1.10           83052.25610   \n39                    13.6                      0.82            9967.10000   \n40                    13.6                      0.93          104774.02785   \n41                    16.4                      2.12            3998.42388   \n42                    16.4                      0.70            3501.16550   \n57                     6.5                      2.16             279.71784   \n58                     8.2                      1.84            7107.56120   \n74                     1.5                      0.95           13809.55340   \n\n    FeSiMn Overshot (Tons)  FeSiMn Overshot (Cost$)  \n0                17.973304             21537.238223  \n2                37.629030             45090.505928  \n8                23.316101             27939.461105  \n10                0.177194               212.330377  \n11                3.502687              4197.236289  \n12                6.947426              8325.033614  \n13                6.148572              7367.774489  \n14                0.191306               229.240077  \n20               22.512326             26976.305122  \n21               25.109492             30088.464013  \n22                3.690890              4422.758490  \n23              153.937657            184462.020901  \n24              360.437381            431908.662990  \n25                1.267257              1518.541884  \n26               65.269576             78211.908295  \n27               24.535846             29401.068928  \n28                4.035788              4836.046270  \n29               15.966726             19132.774415  \n32                0.589751               706.692978  \n33                1.146458              1373.789694  \n34               25.090060             30065.178414  \n35                6.884321              8249.416263  \n36               25.486825             30540.618799  \n37               23.923582             28667.399005  \n38               83.052256             99520.723436  \n39                9.967100             11943.480516  \n40              104.774028            125549.714584  \n41                3.998424              4791.273059  \n42                3.501166              4195.413102  \n57                0.279718               335.183210  \n58                7.107561              8516.922546  \n74               13.809553             16547.855642  ",
      "text/html": "<div>\n<style scoped>\n    .dataframe tbody tr th:only-of-type {\n        vertical-align: middle;\n    }\n\n    .dataframe tbody tr th {\n        vertical-align: top;\n    }\n\n    .dataframe thead th {\n        text-align: right;\n    }\n</style>\n<table border=\"1\" class=\"dataframe\">\n  <thead>\n    <tr style=\"text-align: right;\">\n      <th></th>\n      <th>SteelGrade</th>\n      <th>Billet Mass (Tons)</th>\n      <th>FeSiMn Actual (KG/Ton)</th>\n      <th>FeSiMn Target (KG/Ton)</th>\n      <th>FeSiMn Overshot (KG/Ton)</th>\n      <th>FeSiMn Overshot (KG)</th>\n      <th>FeSiMn Overshot (Tons)</th>\n      <th>FeSiMn Overshot (Cost$)</th>\n    </tr>\n  </thead>\n  <tbody>\n    <tr>\n      <th>0</th>\n      <td>3SP CON-1</td>\n      <td>10040.952</td>\n      <td>7.79</td>\n      <td>6.0</td>\n      <td>1.79</td>\n      <td>17973.30408</td>\n      <td>17.973304</td>\n      <td>21537.238223</td>\n    </tr>\n    <tr>\n      <th>2</th>\n      <td>3SP UIS-1</td>\n      <td>19396.407</td>\n      <td>8.14</td>\n      <td>6.2</td>\n      <td>1.94</td>\n      <td>37629.02958</td>\n      <td>37.629030</td>\n      <td>45090.505928</td>\n    </tr>\n    <tr>\n      <th>8</th>\n      <td>AISI 1006 CAQ-1</td>\n      <td>14217.135</td>\n      <td>3.14</td>\n      <td>1.5</td>\n      <td>1.64</td>\n      <td>23316.10140</td>\n      <td>23.316101</td>\n      <td>27939.461105</td>\n    </tr>\n    <tr>\n      <th>10</th>\n      <td>AISI 1012-1</td>\n      <td>127.478</td>\n      <td>7.89</td>\n      <td>6.5</td>\n      <td>1.39</td>\n      <td>177.19442</td>\n      <td>0.177194</td>\n      <td>212.330377</td>\n    </tr>\n    <tr>\n      <th>11</th>\n      <td>AISI 1012-2</td>\n      <td>2847.713</td>\n      <td>7.73</td>\n      <td>6.5</td>\n      <td>1.23</td>\n      <td>3502.68699</td>\n      <td>3.502687</td>\n      <td>4197.236289</td>\n    </tr>\n    <tr>\n      <th>12</th>\n      <td>AISI 1015-1</td>\n      <td>3129.471</td>\n      <td>8.02</td>\n      <td>5.8</td>\n      <td>2.22</td>\n      <td>6947.42562</td>\n      <td>6.947426</td>\n      <td>8325.033614</td>\n    </tr>\n    <tr>\n      <th>13</th>\n      <td>AISI 1018-1</td>\n      <td>8659.960</td>\n      <td>8.91</td>\n      <td>8.2</td>\n      <td>0.71</td>\n      <td>6148.57160</td>\n      <td>6.148572</td>\n      <td>7367.774489</td>\n    </tr>\n    <tr>\n      <th>14</th>\n      <td>AISI 1038-1</td>\n      <td>2732.942</td>\n      <td>10.07</td>\n      <td>10.0</td>\n      <td>0.07</td>\n      <td>191.30594</td>\n      <td>0.191306</td>\n      <td>229.240077</td>\n    </tr>\n    <tr>\n      <th>20</th>\n      <td>BS-G500B R22-1</td>\n      <td>11144.716</td>\n      <td>7.92</td>\n      <td>5.9</td>\n      <td>2.02</td>\n      <td>22512.32632</td>\n      <td>22.512326</td>\n      <td>26976.305122</td>\n    </tr>\n    <tr>\n      <th>21</th>\n      <td>BS-G500B R22-2</td>\n      <td>11956.901</td>\n      <td>8.00</td>\n      <td>5.9</td>\n      <td>2.10</td>\n      <td>25109.49210</td>\n      <td>25.109492</td>\n      <td>30088.464013</td>\n    </tr>\n    <tr>\n      <th>22</th>\n      <td>BS-G500B R51-1</td>\n      <td>1242.724</td>\n      <td>10.37</td>\n      <td>7.4</td>\n      <td>2.97</td>\n      <td>3690.89028</td>\n      <td>3.690890</td>\n      <td>4422.758490</td>\n    </tr>\n    <tr>\n      <th>23</th>\n      <td>BSG500BR41-1</td>\n      <td>74008.489</td>\n      <td>7.98</td>\n      <td>5.9</td>\n      <td>2.08</td>\n      <td>153937.65712</td>\n      <td>153.937657</td>\n      <td>184462.020901</td>\n    </tr>\n    <tr>\n      <th>24</th>\n      <td>BSG500BR41-2</td>\n      <td>179322.080</td>\n      <td>7.91</td>\n      <td>5.9</td>\n      <td>2.01</td>\n      <td>360437.38080</td>\n      <td>360.437381</td>\n      <td>431908.662990</td>\n    </tr>\n    <tr>\n      <th>25</th>\n      <td>BSG500BR42-1</td>\n      <td>1980.089</td>\n      <td>8.04</td>\n      <td>7.4</td>\n      <td>0.64</td>\n      <td>1267.25696</td>\n      <td>1.267257</td>\n      <td>1518.541884</td>\n    </tr>\n    <tr>\n      <th>26</th>\n      <td>BSG500BR42-2</td>\n      <td>151789.712</td>\n      <td>7.83</td>\n      <td>7.4</td>\n      <td>0.43</td>\n      <td>65269.57616</td>\n      <td>65.269576</td>\n      <td>78211.908295</td>\n    </tr>\n    <tr>\n      <th>27</th>\n      <td>BSSS560R12-1</td>\n      <td>8578.967</td>\n      <td>11.86</td>\n      <td>9.0</td>\n      <td>2.86</td>\n      <td>24535.84562</td>\n      <td>24.535846</td>\n      <td>29401.068928</td>\n    </tr>\n    <tr>\n      <th>28</th>\n      <td>BSSS560R22-1</td>\n      <td>2217.466</td>\n      <td>7.72</td>\n      <td>5.9</td>\n      <td>1.82</td>\n      <td>4035.78812</td>\n      <td>4.035788</td>\n      <td>4836.046270</td>\n    </tr>\n    <tr>\n      <th>29</th>\n      <td>BSSS560R22-2</td>\n      <td>7713.394</td>\n      <td>7.97</td>\n      <td>5.9</td>\n      <td>2.07</td>\n      <td>15966.72558</td>\n      <td>15.966726</td>\n      <td>19132.774415</td>\n    </tr>\n    <tr>\n      <th>32</th>\n      <td>KWSB500BWR R11-1</td>\n      <td>2948.755</td>\n      <td>8.70</td>\n      <td>8.5</td>\n      <td>0.20</td>\n      <td>589.75100</td>\n      <td>0.589751</td>\n      <td>706.692978</td>\n    </tr>\n    <tr>\n      <th>33</th>\n      <td>KWSB500BWR R12-1</td>\n      <td>1364.831</td>\n      <td>9.84</td>\n      <td>9.0</td>\n      <td>0.84</td>\n      <td>1146.45804</td>\n      <td>1.146458</td>\n      <td>1373.789694</td>\n    </tr>\n    <tr>\n      <th>34</th>\n      <td>KWSB500BWR R22-1</td>\n      <td>14175.175</td>\n      <td>7.67</td>\n      <td>5.9</td>\n      <td>1.77</td>\n      <td>25090.05975</td>\n      <td>25.090060</td>\n      <td>30065.178414</td>\n    </tr>\n    <tr>\n      <th>35</th>\n      <td>S235 JR-A-1</td>\n      <td>4384.918</td>\n      <td>10.57</td>\n      <td>9.0</td>\n      <td>1.57</td>\n      <td>6884.32126</td>\n      <td>6.884321</td>\n      <td>8249.416263</td>\n    </tr>\n    <tr>\n      <th>36</th>\n      <td>S235 JR-A-2</td>\n      <td>19308.201</td>\n      <td>10.32</td>\n      <td>9.0</td>\n      <td>1.32</td>\n      <td>25486.82532</td>\n      <td>25.486825</td>\n      <td>30540.618799</td>\n    </tr>\n    <tr>\n      <th>37</th>\n      <td>S275 JR-A-1</td>\n      <td>23003.444</td>\n      <td>14.64</td>\n      <td>13.6</td>\n      <td>1.04</td>\n      <td>23923.58176</td>\n      <td>23.923582</td>\n      <td>28667.399005</td>\n    </tr>\n    <tr>\n      <th>38</th>\n      <td>S275 JR-A-2</td>\n      <td>75502.051</td>\n      <td>14.70</td>\n      <td>13.6</td>\n      <td>1.10</td>\n      <td>83052.25610</td>\n      <td>83.052256</td>\n      <td>99520.723436</td>\n    </tr>\n    <tr>\n      <th>39</th>\n      <td>S275 JR-AAA-1</td>\n      <td>12155.000</td>\n      <td>14.42</td>\n      <td>13.6</td>\n      <td>0.82</td>\n      <td>9967.10000</td>\n      <td>9.967100</td>\n      <td>11943.480516</td>\n    </tr>\n    <tr>\n      <th>40</th>\n      <td>S275 JR-AAA-2</td>\n      <td>112660.245</td>\n      <td>14.53</td>\n      <td>13.6</td>\n      <td>0.93</td>\n      <td>104774.02785</td>\n      <td>104.774028</td>\n      <td>125549.714584</td>\n    </tr>\n    <tr>\n      <th>41</th>\n      <td>S355 G11-A-1</td>\n      <td>1886.049</td>\n      <td>18.52</td>\n      <td>16.4</td>\n      <td>2.12</td>\n      <td>3998.42388</td>\n      <td>3.998424</td>\n      <td>4791.273059</td>\n    </tr>\n    <tr>\n      <th>42</th>\n      <td>S355 G11-A-2</td>\n      <td>5001.665</td>\n      <td>17.10</td>\n      <td>16.4</td>\n      <td>0.70</td>\n      <td>3501.16550</td>\n      <td>3.501166</td>\n      <td>4195.413102</td>\n    </tr>\n    <tr>\n      <th>57</th>\n      <td>SAE 1012-1</td>\n      <td>129.499</td>\n      <td>8.66</td>\n      <td>6.5</td>\n      <td>2.16</td>\n      <td>279.71784</td>\n      <td>0.279718</td>\n      <td>335.183210</td>\n    </tr>\n    <tr>\n      <th>58</th>\n      <td>SAE 1018-1</td>\n      <td>3862.805</td>\n      <td>10.04</td>\n      <td>8.2</td>\n      <td>1.84</td>\n      <td>7107.56120</td>\n      <td>7.107561</td>\n      <td>8516.922546</td>\n    </tr>\n    <tr>\n      <th>74</th>\n      <td>SWRY 11-1</td>\n      <td>14536.372</td>\n      <td>2.45</td>\n      <td>1.5</td>\n      <td>0.95</td>\n      <td>13809.55340</td>\n      <td>13.809553</td>\n      <td>16547.855642</td>\n    </tr>\n  </tbody>\n</table>\n</div>"
     },
     "execution_count": 225,
     "metadata": {},
     "output_type": "execute_result"
    }
   ],
   "source": [
    "\n",
    "mean_cost_per_ton_FeSiMn = 1198.290427122754\n",
    "\n",
    "# get consumption per kg by multiplying with kg/ton of produced billet mass:\n",
    "fesmin_data[\"FeSiMn Overshot (KG)\"] = fesmin_data[\"FeSiMn Overshot (KG/Ton)\"]  * fesmin_data[\"Billet Mass (Tons)\"] \n",
    "\n",
    "# get consumption in tons by dividing kg by 1000:\n",
    "fesmin_data[\"FeSiMn Overshot (Tons)\"] = fesmin_data[\"FeSiMn Overshot (KG)\"]/1000\n",
    "\n",
    "# calculate the cost of over shot by multiplying the tons used buy the cost per ton:\n",
    "fesmin_data[\"FeSiMn Overshot (Cost$)\"] = fesmin_data[\"FeSiMn Overshot (Tons)\"] * mean_cost_per_ton_FeSiMn\n",
    "\n",
    "\n",
    "fesmin_data\n"
   ]
  },
  {
   "cell_type": "code",
   "outputs": [
    {
     "data": {
      "text/plain": "1296861.0326572799"
     },
     "execution_count": 226,
     "metadata": {},
     "output_type": "execute_result"
    }
   ],
   "source": [
    "\n",
    "fesmin_data[\"FeSiMn Overshot (Cost$)\"].sum()\n"
   ],
   "metadata": {
    "collapsed": false,
    "ExecuteTime": {
     "end_time": "2024-03-25T05:59:46.667939Z",
     "start_time": "2024-03-25T05:59:46.665313Z"
    }
   },
   "id": "ccb4bded8bdad8d7",
   "execution_count": 226
  },
  {
   "cell_type": "code",
   "execution_count": 227,
   "id": "20d80789928ad1ef",
   "metadata": {
    "collapsed": false,
    "ExecuteTime": {
     "end_time": "2024-03-25T05:59:46.693842Z",
     "start_time": "2024-03-25T05:59:46.685763Z"
    }
   },
   "outputs": [
    {
     "data": {
      "text/plain": "      SteelGrade  Billet Mass (Tons)  FeSi Actual (KG/Ton)  \\\n10   AISI 1012-1             127.478                  2.76   \n11   AISI 1012-2            2847.713                  2.27   \n16   AISI 1045-1            2321.857                  1.57   \n17   AISI 1065-1            4813.276                  1.45   \n18   AISI 1067-1            1677.066                  1.35   \n19   AISI 1070-1             148.695                  1.22   \n30       EM12K-1             125.307                  2.22   \n35   S235 JR-A-1            4384.918                  3.55   \n37   S275 JR-A-1           23003.444                  2.24   \n41  S355 G11-A-1            1886.049                  2.07   \n43   S355 J2-A-1            5487.360                  1.88   \n48   S355 JR-B-1            1957.463                  1.84   \n56    SAE 1008-2           20128.323                  1.50   \n57    SAE 1012-1             129.499                  2.19   \n63    SWRH 42B-1             279.843                  1.69   \n65    SWRH 47B-1             617.338                  1.32   \n66    SWRH 52B-1             294.495                  1.82   \n67    SWRH 57B-1             319.415                  1.52   \n69    SWRH 62B-1            2024.886                  1.29   \n71    SWRH 67B-1             310.349                  1.32   \n\n    FeSi Target (KG/Ton)  FeSi Overshot (KG/Ton)  FeSi Overshot (KG)  \\\n10                   2.0                    0.76            96.88328   \n11                   2.0                    0.27           768.88251   \n16                   1.0                    0.57          1323.45849   \n17                   1.0                    0.45          2165.97420   \n18                   1.0                    0.35           586.97310   \n19                   1.0                    0.22            32.71290   \n30                   2.0                    0.22            27.56754   \n35                   2.8                    0.75          3288.68850   \n37                   2.1                    0.14          3220.48216   \n41                   1.6                    0.47           886.44303   \n43                   1.3                    0.58          3182.66880   \n48                   1.6                    0.24           469.79112   \n56                   1.3                    0.20          4025.66460   \n57                   2.0                    0.19            24.60481   \n63                   1.0                    0.69           193.09167   \n65                   1.0                    0.32           197.54816   \n66                   1.0                    0.82           241.48590   \n67                   1.0                    0.52           166.09580   \n69                   1.0                    0.29           587.21694   \n71                   1.0                    0.32            99.31168   \n\n    FeSi Overshot (Tons)  FeSi Overshot (Cost$)  \n10              0.096883             166.452206  \n11              0.768883            1320.993567  \n16              1.323458            2273.793628  \n17              2.165974            3721.294148  \n18              0.586973            1008.460564  \n19              0.032713              56.203035  \n30              0.027568              47.362949  \n35              3.288688            5650.195312  \n37              3.220482            5533.012082  \n41              0.886443            1522.970708  \n43              3.182669            5468.046102  \n48              0.469791             807.133781  \n56              4.025665            6916.371451  \n57              0.024605              42.272773  \n63              0.193092             331.744903  \n65              0.197548             339.401463  \n66              0.241486             414.889553  \n67              0.166096             285.364123  \n69              0.587217            1008.879498  \n71              0.099312             170.624366  ",
      "text/html": "<div>\n<style scoped>\n    .dataframe tbody tr th:only-of-type {\n        vertical-align: middle;\n    }\n\n    .dataframe tbody tr th {\n        vertical-align: top;\n    }\n\n    .dataframe thead th {\n        text-align: right;\n    }\n</style>\n<table border=\"1\" class=\"dataframe\">\n  <thead>\n    <tr style=\"text-align: right;\">\n      <th></th>\n      <th>SteelGrade</th>\n      <th>Billet Mass (Tons)</th>\n      <th>FeSi Actual (KG/Ton)</th>\n      <th>FeSi Target (KG/Ton)</th>\n      <th>FeSi Overshot (KG/Ton)</th>\n      <th>FeSi Overshot (KG)</th>\n      <th>FeSi Overshot (Tons)</th>\n      <th>FeSi Overshot (Cost$)</th>\n    </tr>\n  </thead>\n  <tbody>\n    <tr>\n      <th>10</th>\n      <td>AISI 1012-1</td>\n      <td>127.478</td>\n      <td>2.76</td>\n      <td>2.0</td>\n      <td>0.76</td>\n      <td>96.88328</td>\n      <td>0.096883</td>\n      <td>166.452206</td>\n    </tr>\n    <tr>\n      <th>11</th>\n      <td>AISI 1012-2</td>\n      <td>2847.713</td>\n      <td>2.27</td>\n      <td>2.0</td>\n      <td>0.27</td>\n      <td>768.88251</td>\n      <td>0.768883</td>\n      <td>1320.993567</td>\n    </tr>\n    <tr>\n      <th>16</th>\n      <td>AISI 1045-1</td>\n      <td>2321.857</td>\n      <td>1.57</td>\n      <td>1.0</td>\n      <td>0.57</td>\n      <td>1323.45849</td>\n      <td>1.323458</td>\n      <td>2273.793628</td>\n    </tr>\n    <tr>\n      <th>17</th>\n      <td>AISI 1065-1</td>\n      <td>4813.276</td>\n      <td>1.45</td>\n      <td>1.0</td>\n      <td>0.45</td>\n      <td>2165.97420</td>\n      <td>2.165974</td>\n      <td>3721.294148</td>\n    </tr>\n    <tr>\n      <th>18</th>\n      <td>AISI 1067-1</td>\n      <td>1677.066</td>\n      <td>1.35</td>\n      <td>1.0</td>\n      <td>0.35</td>\n      <td>586.97310</td>\n      <td>0.586973</td>\n      <td>1008.460564</td>\n    </tr>\n    <tr>\n      <th>19</th>\n      <td>AISI 1070-1</td>\n      <td>148.695</td>\n      <td>1.22</td>\n      <td>1.0</td>\n      <td>0.22</td>\n      <td>32.71290</td>\n      <td>0.032713</td>\n      <td>56.203035</td>\n    </tr>\n    <tr>\n      <th>30</th>\n      <td>EM12K-1</td>\n      <td>125.307</td>\n      <td>2.22</td>\n      <td>2.0</td>\n      <td>0.22</td>\n      <td>27.56754</td>\n      <td>0.027568</td>\n      <td>47.362949</td>\n    </tr>\n    <tr>\n      <th>35</th>\n      <td>S235 JR-A-1</td>\n      <td>4384.918</td>\n      <td>3.55</td>\n      <td>2.8</td>\n      <td>0.75</td>\n      <td>3288.68850</td>\n      <td>3.288688</td>\n      <td>5650.195312</td>\n    </tr>\n    <tr>\n      <th>37</th>\n      <td>S275 JR-A-1</td>\n      <td>23003.444</td>\n      <td>2.24</td>\n      <td>2.1</td>\n      <td>0.14</td>\n      <td>3220.48216</td>\n      <td>3.220482</td>\n      <td>5533.012082</td>\n    </tr>\n    <tr>\n      <th>41</th>\n      <td>S355 G11-A-1</td>\n      <td>1886.049</td>\n      <td>2.07</td>\n      <td>1.6</td>\n      <td>0.47</td>\n      <td>886.44303</td>\n      <td>0.886443</td>\n      <td>1522.970708</td>\n    </tr>\n    <tr>\n      <th>43</th>\n      <td>S355 J2-A-1</td>\n      <td>5487.360</td>\n      <td>1.88</td>\n      <td>1.3</td>\n      <td>0.58</td>\n      <td>3182.66880</td>\n      <td>3.182669</td>\n      <td>5468.046102</td>\n    </tr>\n    <tr>\n      <th>48</th>\n      <td>S355 JR-B-1</td>\n      <td>1957.463</td>\n      <td>1.84</td>\n      <td>1.6</td>\n      <td>0.24</td>\n      <td>469.79112</td>\n      <td>0.469791</td>\n      <td>807.133781</td>\n    </tr>\n    <tr>\n      <th>56</th>\n      <td>SAE 1008-2</td>\n      <td>20128.323</td>\n      <td>1.50</td>\n      <td>1.3</td>\n      <td>0.20</td>\n      <td>4025.66460</td>\n      <td>4.025665</td>\n      <td>6916.371451</td>\n    </tr>\n    <tr>\n      <th>57</th>\n      <td>SAE 1012-1</td>\n      <td>129.499</td>\n      <td>2.19</td>\n      <td>2.0</td>\n      <td>0.19</td>\n      <td>24.60481</td>\n      <td>0.024605</td>\n      <td>42.272773</td>\n    </tr>\n    <tr>\n      <th>63</th>\n      <td>SWRH 42B-1</td>\n      <td>279.843</td>\n      <td>1.69</td>\n      <td>1.0</td>\n      <td>0.69</td>\n      <td>193.09167</td>\n      <td>0.193092</td>\n      <td>331.744903</td>\n    </tr>\n    <tr>\n      <th>65</th>\n      <td>SWRH 47B-1</td>\n      <td>617.338</td>\n      <td>1.32</td>\n      <td>1.0</td>\n      <td>0.32</td>\n      <td>197.54816</td>\n      <td>0.197548</td>\n      <td>339.401463</td>\n    </tr>\n    <tr>\n      <th>66</th>\n      <td>SWRH 52B-1</td>\n      <td>294.495</td>\n      <td>1.82</td>\n      <td>1.0</td>\n      <td>0.82</td>\n      <td>241.48590</td>\n      <td>0.241486</td>\n      <td>414.889553</td>\n    </tr>\n    <tr>\n      <th>67</th>\n      <td>SWRH 57B-1</td>\n      <td>319.415</td>\n      <td>1.52</td>\n      <td>1.0</td>\n      <td>0.52</td>\n      <td>166.09580</td>\n      <td>0.166096</td>\n      <td>285.364123</td>\n    </tr>\n    <tr>\n      <th>69</th>\n      <td>SWRH 62B-1</td>\n      <td>2024.886</td>\n      <td>1.29</td>\n      <td>1.0</td>\n      <td>0.29</td>\n      <td>587.21694</td>\n      <td>0.587217</td>\n      <td>1008.879498</td>\n    </tr>\n    <tr>\n      <th>71</th>\n      <td>SWRH 67B-1</td>\n      <td>310.349</td>\n      <td>1.32</td>\n      <td>1.0</td>\n      <td>0.32</td>\n      <td>99.31168</td>\n      <td>0.099312</td>\n      <td>170.624366</td>\n    </tr>\n  </tbody>\n</table>\n</div>"
     },
     "execution_count": 227,
     "metadata": {},
     "output_type": "execute_result"
    }
   ],
   "source": [
    "\n",
    "mean_cost_per_ton_FeSi = 1718.069471192685\n",
    "\n",
    "# get consumption per kg by multiplying with kg/ton of produced billet mass:\n",
    "fesi_data[\"FeSi Overshot (KG)\"] = fesi_data[\"FeSi Overshot (KG/Ton)\"]  * fesi_data[\"Billet Mass (Tons)\"]\n",
    "\n",
    "# get consumption in tons by dividing kg by 1000:\n",
    "fesi_data[\"FeSi Overshot (Tons)\"] = fesi_data[\"FeSi Overshot (KG)\"]/1000\n",
    "\n",
    "# calculate the cost of over shot by multiplying the tons used buy the cost per ton:\n",
    "fesi_data[\"FeSi Overshot (Cost$)\"] = fesi_data[\"FeSi Overshot (Tons)\"] * mean_cost_per_ton_FeSi\n",
    "\n",
    "fesi_data\n"
   ]
  },
  {
   "cell_type": "code",
   "outputs": [
    {
     "data": {
      "text/plain": "37085.46620998909"
     },
     "execution_count": 228,
     "metadata": {},
     "output_type": "execute_result"
    }
   ],
   "source": [
    "\n",
    "fesi_data[\"FeSi Overshot (Cost$)\"].sum()\n"
   ],
   "metadata": {
    "collapsed": false,
    "ExecuteTime": {
     "end_time": "2024-03-25T05:59:46.719305Z",
     "start_time": "2024-03-25T05:59:46.716296Z"
    }
   },
   "id": "85a0898a89ab01c6",
   "execution_count": 228
  },
  {
   "cell_type": "markdown",
   "source": [
    "### Overall cost:"
   ],
   "metadata": {
    "collapsed": false
   },
   "id": "e8914830054a887a"
  },
  {
   "cell_type": "code",
   "outputs": [
    {
     "data": {
      "text/plain": "1333946.498867269"
     },
     "execution_count": 229,
     "metadata": {},
     "output_type": "execute_result"
    }
   ],
   "source": [
    "\n",
    "\n",
    "fesmin_data[\"FeSiMn Overshot (Cost$)\"].sum() + fesi_data[\"FeSi Overshot (Cost$)\"].sum() \n",
    "\n"
   ],
   "metadata": {
    "collapsed": false,
    "ExecuteTime": {
     "end_time": "2024-03-25T05:59:46.740396Z",
     "start_time": "2024-03-25T05:59:46.737666Z"
    }
   },
   "id": "9ea21ba5f5b02a9f",
   "execution_count": 229
  },
  {
   "cell_type": "code",
   "outputs": [
    {
     "data": {
      "text/plain": "1082.25936159"
     },
     "execution_count": 230,
     "metadata": {},
     "output_type": "execute_result"
    }
   ],
   "source": [
    "\n",
    "\n",
    "fesmin_data[\"FeSiMn Overshot (Tons)\"].sum()\n"
   ],
   "metadata": {
    "collapsed": false,
    "ExecuteTime": {
     "end_time": "2024-03-25T05:59:46.793834Z",
     "start_time": "2024-03-25T05:59:46.790693Z"
    }
   },
   "id": "622cee6d8b136b16",
   "execution_count": 230
  },
  {
   "cell_type": "code",
   "outputs": [
    {
     "data": {
      "text/plain": "21.58554519"
     },
     "execution_count": 231,
     "metadata": {},
     "output_type": "execute_result"
    }
   ],
   "source": [
    "\n",
    "fesi_data[\"FeSi Overshot (Tons)\"].sum()\n"
   ],
   "metadata": {
    "collapsed": false,
    "ExecuteTime": {
     "end_time": "2024-03-25T05:59:46.889875Z",
     "start_time": "2024-03-25T05:59:46.887239Z"
    }
   },
   "id": "1d8e9d8f44404deb",
   "execution_count": 231
  },
  {
   "cell_type": "markdown",
   "source": [
    "### Overall (Tons) overshot:"
   ],
   "metadata": {
    "collapsed": false
   },
   "id": "da2ae40d4d9133fe"
  },
  {
   "cell_type": "code",
   "outputs": [
    {
     "data": {
      "text/plain": "1103.84490678"
     },
     "execution_count": 232,
     "metadata": {},
     "output_type": "execute_result"
    }
   ],
   "source": [
    "\n",
    "fesmin_data[\"FeSiMn Overshot (Tons)\"].sum() + fesi_data[\"FeSi Overshot (Tons)\"].sum()\n"
   ],
   "metadata": {
    "collapsed": false,
    "ExecuteTime": {
     "end_time": "2024-03-25T05:59:46.912452Z",
     "start_time": "2024-03-25T05:59:46.909804Z"
    }
   },
   "id": "547af87b7511df96",
   "execution_count": 232
  },
  {
   "cell_type": "markdown",
   "source": [
    "### Merge two chemicals results, fill nan and sum results:"
   ],
   "metadata": {
    "collapsed": false
   },
   "id": "14db191c194718f6"
  },
  {
   "cell_type": "code",
   "execution_count": 233,
   "id": "5cbded715cf37a13",
   "metadata": {
    "collapsed": false,
    "ExecuteTime": {
     "end_time": "2024-03-25T05:59:46.955022Z",
     "start_time": "2024-03-25T05:59:46.950416Z"
    }
   },
   "outputs": [],
   "source": [
    "\n",
    "\n",
    "final_results = pd.merge(fesi_data, fesmin_data, on=['SteelGrade', 'Billet Mass (Tons)'],how=\"outer\")\n",
    "\n",
    "# to insure that you won't get null result from summing two columns that one include null and the other is int you will get null value and it will lead to misleading results:\n",
    "final_results.fillna(0.0, inplace=True)\n",
    "\n",
    "\n"
   ]
  },
  {
   "cell_type": "code",
   "outputs": [],
   "source": [
    "\n",
    "final_results[\"Ferroalloys Overshot (KG/Ton)\"] = final_results[\"FeSiMn Overshot (KG/Ton)\"] + final_results[\"FeSi Overshot (KG/Ton)\"]\n",
    "final_results[\"Ferroalloys Overshot (Tons)\"] =  final_results[\"FeSiMn Overshot (Tons)\"] + final_results[\"FeSi Overshot (Tons)\"]\n",
    "final_results[\"Ferroalloys Overshot Cost ($USD)\"] = final_results[\"FeSiMn Overshot (Cost$)\"] + final_results[\"FeSi Overshot (Cost$)\"]\n"
   ],
   "metadata": {
    "collapsed": false,
    "ExecuteTime": {
     "end_time": "2024-03-25T05:59:46.984639Z",
     "start_time": "2024-03-25T05:59:46.981658Z"
    }
   },
   "id": "d415ef6e6d93b439",
   "execution_count": 234
  },
  {
   "cell_type": "code",
   "outputs": [
    {
     "data": {
      "text/plain": "1333946.498867269"
     },
     "execution_count": 235,
     "metadata": {},
     "output_type": "execute_result"
    }
   ],
   "source": [
    "\n",
    "fesmin_data[\"FeSiMn Overshot (Cost$)\"].sum() + fesi_data[\"FeSi Overshot (Cost$)\"].sum()\n",
    "\n"
   ],
   "metadata": {
    "collapsed": false,
    "ExecuteTime": {
     "end_time": "2024-03-25T05:59:47.014641Z",
     "start_time": "2024-03-25T05:59:47.011945Z"
    }
   },
   "id": "691f52276317caba",
   "execution_count": 235
  },
  {
   "cell_type": "code",
   "outputs": [
    {
     "data": {
      "text/plain": "1103.84490678"
     },
     "execution_count": 236,
     "metadata": {},
     "output_type": "execute_result"
    }
   ],
   "source": [
    "\n",
    "fesmin_data[\"FeSiMn Overshot (Tons)\"].sum() + fesi_data[\"FeSi Overshot (Tons)\"].sum()\n"
   ],
   "metadata": {
    "collapsed": false,
    "ExecuteTime": {
     "end_time": "2024-03-25T05:59:47.033985Z",
     "start_time": "2024-03-25T05:59:47.031384Z"
    }
   },
   "id": "4a62de411e0fbf1c",
   "execution_count": 236
  },
  {
   "cell_type": "code",
   "outputs": [
    {
     "data": {
      "text/plain": "1333946.498867269"
     },
     "execution_count": 237,
     "metadata": {},
     "output_type": "execute_result"
    }
   ],
   "source": [
    "\n",
    "\n",
    "final_results[\"FeSi Overshot (Cost$)\"].sum() + final_results[\"FeSiMn Overshot (Cost$)\"].sum()\n"
   ],
   "metadata": {
    "collapsed": false,
    "ExecuteTime": {
     "end_time": "2024-03-25T05:59:47.051133Z",
     "start_time": "2024-03-25T05:59:47.048522Z"
    }
   },
   "id": "a861ed45378994e6",
   "execution_count": 237
  },
  {
   "cell_type": "code",
   "outputs": [
    {
     "data": {
      "text/plain": "1103.8449067799997"
     },
     "execution_count": 238,
     "metadata": {},
     "output_type": "execute_result"
    }
   ],
   "source": [
    "\n",
    "final_results[\"FeSi Overshot (Tons)\"].sum() + final_results[\"FeSiMn Overshot (Tons)\"].sum()\n"
   ],
   "metadata": {
    "collapsed": false,
    "ExecuteTime": {
     "end_time": "2024-03-25T05:59:47.087432Z",
     "start_time": "2024-03-25T05:59:47.084980Z"
    }
   },
   "id": "428401f6632fcd35",
   "execution_count": 238
  },
  {
   "cell_type": "code",
   "outputs": [
    {
     "data": {
      "text/plain": "1103.8449067799997"
     },
     "execution_count": 239,
     "metadata": {},
     "output_type": "execute_result"
    }
   ],
   "source": [
    "\n",
    "final_results[\"Ferroalloys Overshot (Tons)\"].sum()\n",
    "\n"
   ],
   "metadata": {
    "collapsed": false,
    "ExecuteTime": {
     "end_time": "2024-03-25T05:59:47.116686Z",
     "start_time": "2024-03-25T05:59:47.113814Z"
    }
   },
   "id": "b7cdb0e9813daf85",
   "execution_count": 239
  },
  {
   "cell_type": "code",
   "outputs": [
    {
     "data": {
      "text/plain": "1333946.4988672694"
     },
     "execution_count": 240,
     "metadata": {},
     "output_type": "execute_result"
    }
   ],
   "source": [
    "\n",
    "final_results[\"Ferroalloys Overshot Cost ($USD)\"].sum()\n"
   ],
   "metadata": {
    "collapsed": false,
    "ExecuteTime": {
     "end_time": "2024-03-25T05:59:47.132951Z",
     "start_time": "2024-03-25T05:59:47.130458Z"
    }
   },
   "id": "ccbadd674ea44c86",
   "execution_count": 240
  },
  {
   "cell_type": "markdown",
   "source": [
    "### Sum numerical columns and create \"total\" row:"
   ],
   "metadata": {
    "collapsed": false
   },
   "id": "6b9abbb7fd4fa0cf"
  },
  {
   "cell_type": "code",
   "outputs": [
    {
     "data": {
      "text/plain": "          SteelGrade  Billet Mass (Tons)  FeSi Actual (KG/Ton)  \\\n0          3SP CON-1           10040.952                  0.00   \n1          3SP UIS-1           19396.407                  0.00   \n2    AISI 1006 CAQ-1           14217.135                  0.00   \n3        AISI 1012-1             127.478                  2.76   \n4        AISI 1012-2            2847.713                  2.27   \n5        AISI 1015-1            3129.471                  0.00   \n6        AISI 1018-1            8659.960                  0.00   \n7        AISI 1038-1            2732.942                  0.00   \n8        AISI 1045-1            2321.857                  1.57   \n9        AISI 1065-1            4813.276                  1.45   \n10       AISI 1067-1            1677.066                  1.35   \n11       AISI 1070-1             148.695                  1.22   \n12    BS-G500B R22-1           11144.716                  0.00   \n13    BS-G500B R22-2           11956.901                  0.00   \n14    BS-G500B R51-1            1242.724                  0.00   \n15      BSG500BR41-1           74008.489                  0.00   \n16      BSG500BR41-2          179322.080                  0.00   \n17      BSG500BR42-1            1980.089                  0.00   \n18      BSG500BR42-2          151789.712                  0.00   \n19      BSSS560R12-1            8578.967                  0.00   \n20      BSSS560R22-1            2217.466                  0.00   \n21      BSSS560R22-2            7713.394                  0.00   \n22           EM12K-1             125.307                  2.22   \n23  KWSB500BWR R11-1            2948.755                  0.00   \n24  KWSB500BWR R12-1            1364.831                  0.00   \n25  KWSB500BWR R22-1           14175.175                  0.00   \n26       S235 JR-A-1            4384.918                  3.55   \n27       S235 JR-A-2           19308.201                  0.00   \n28       S275 JR-A-1           23003.444                  2.24   \n29       S275 JR-A-2           75502.051                  0.00   \n30     S275 JR-AAA-1           12155.000                  0.00   \n31     S275 JR-AAA-2          112660.245                  0.00   \n32      S355 G11-A-1            1886.049                  2.07   \n33      S355 G11-A-2            5001.665                  0.00   \n34       S355 J2-A-1            5487.360                  1.88   \n35       S355 JR-B-1            1957.463                  1.84   \n36        SAE 1008-2           20128.323                  1.50   \n37        SAE 1012-1             129.499                  2.19   \n38        SAE 1018-1            3862.805                  0.00   \n39        SWRH 42B-1             279.843                  1.69   \n40        SWRH 47B-1             617.338                  1.32   \n41        SWRH 52B-1             294.495                  1.82   \n42        SWRH 57B-1             319.415                  1.52   \n43        SWRH 62B-1            2024.886                  1.29   \n44        SWRH 67B-1             310.349                  1.32   \n45         SWRY 11-1           14536.372                  0.00   \n46             Total          842531.279                 37.07   \n\n    FeSi Target (KG/Ton)  FeSi Overshot (KG/Ton)  FeSi Overshot (KG)  \\\n0                    0.0                    0.00             0.00000   \n1                    0.0                    0.00             0.00000   \n2                    0.0                    0.00             0.00000   \n3                    2.0                    0.76            96.88328   \n4                    2.0                    0.27           768.88251   \n5                    0.0                    0.00             0.00000   \n6                    0.0                    0.00             0.00000   \n7                    0.0                    0.00             0.00000   \n8                    1.0                    0.57          1323.45849   \n9                    1.0                    0.45          2165.97420   \n10                   1.0                    0.35           586.97310   \n11                   1.0                    0.22            32.71290   \n12                   0.0                    0.00             0.00000   \n13                   0.0                    0.00             0.00000   \n14                   0.0                    0.00             0.00000   \n15                   0.0                    0.00             0.00000   \n16                   0.0                    0.00             0.00000   \n17                   0.0                    0.00             0.00000   \n18                   0.0                    0.00             0.00000   \n19                   0.0                    0.00             0.00000   \n20                   0.0                    0.00             0.00000   \n21                   0.0                    0.00             0.00000   \n22                   2.0                    0.22            27.56754   \n23                   0.0                    0.00             0.00000   \n24                   0.0                    0.00             0.00000   \n25                   0.0                    0.00             0.00000   \n26                   2.8                    0.75          3288.68850   \n27                   0.0                    0.00             0.00000   \n28                   2.1                    0.14          3220.48216   \n29                   0.0                    0.00             0.00000   \n30                   0.0                    0.00             0.00000   \n31                   0.0                    0.00             0.00000   \n32                   1.6                    0.47           886.44303   \n33                   0.0                    0.00             0.00000   \n34                   1.3                    0.58          3182.66880   \n35                   1.6                    0.24           469.79112   \n36                   1.3                    0.20          4025.66460   \n37                   2.0                    0.19            24.60481   \n38                   0.0                    0.00             0.00000   \n39                   1.0                    0.69           193.09167   \n40                   1.0                    0.32           197.54816   \n41                   1.0                    0.82           241.48590   \n42                   1.0                    0.52           166.09580   \n43                   1.0                    0.29           587.21694   \n44                   1.0                    0.32            99.31168   \n45                   0.0                    0.00             0.00000   \n46                  28.7                    8.37         21585.54519   \n\n    FeSi Overshot (Tons)  FeSi Overshot (Cost$)  FeSiMn Actual (KG/Ton)  \\\n0               0.000000               0.000000                    7.79   \n1               0.000000               0.000000                    8.14   \n2               0.000000               0.000000                    3.14   \n3               0.096883             166.452206                    7.89   \n4               0.768883            1320.993567                    7.73   \n5               0.000000               0.000000                    8.02   \n6               0.000000               0.000000                    8.91   \n7               0.000000               0.000000                   10.07   \n8               1.323458            2273.793628                    0.00   \n9               2.165974            3721.294148                    0.00   \n10              0.586973            1008.460564                    0.00   \n11              0.032713              56.203035                    0.00   \n12              0.000000               0.000000                    7.92   \n13              0.000000               0.000000                    8.00   \n14              0.000000               0.000000                   10.37   \n15              0.000000               0.000000                    7.98   \n16              0.000000               0.000000                    7.91   \n17              0.000000               0.000000                    8.04   \n18              0.000000               0.000000                    7.83   \n19              0.000000               0.000000                   11.86   \n20              0.000000               0.000000                    7.72   \n21              0.000000               0.000000                    7.97   \n22              0.027568              47.362949                    0.00   \n23              0.000000               0.000000                    8.70   \n24              0.000000               0.000000                    9.84   \n25              0.000000               0.000000                    7.67   \n26              3.288688            5650.195312                   10.57   \n27              0.000000               0.000000                   10.32   \n28              3.220482            5533.012082                   14.64   \n29              0.000000               0.000000                   14.70   \n30              0.000000               0.000000                   14.42   \n31              0.000000               0.000000                   14.53   \n32              0.886443            1522.970708                   18.52   \n33              0.000000               0.000000                   17.10   \n34              3.182669            5468.046102                    0.00   \n35              0.469791             807.133781                    0.00   \n36              4.025665            6916.371451                    0.00   \n37              0.024605              42.272773                    8.66   \n38              0.000000               0.000000                   10.04   \n39              0.193092             331.744903                    0.00   \n40              0.197548             339.401463                    0.00   \n41              0.241486             414.889553                    0.00   \n42              0.166096             285.364123                    0.00   \n43              0.587217            1008.879498                    0.00   \n44              0.099312             170.624366                    0.00   \n45              0.000000               0.000000                    2.45   \n46             21.585545           37085.466210                  309.45   \n\n    FeSiMn Target (KG/Ton)  FeSiMn Overshot (KG/Ton)  FeSiMn Overshot (KG)  \\\n0                      6.0                      1.79          1.797330e+04   \n1                      6.2                      1.94          3.762903e+04   \n2                      1.5                      1.64          2.331610e+04   \n3                      6.5                      1.39          1.771944e+02   \n4                      6.5                      1.23          3.502687e+03   \n5                      5.8                      2.22          6.947426e+03   \n6                      8.2                      0.71          6.148572e+03   \n7                     10.0                      0.07          1.913059e+02   \n8                      0.0                      0.00          0.000000e+00   \n9                      0.0                      0.00          0.000000e+00   \n10                     0.0                      0.00          0.000000e+00   \n11                     0.0                      0.00          0.000000e+00   \n12                     5.9                      2.02          2.251233e+04   \n13                     5.9                      2.10          2.510949e+04   \n14                     7.4                      2.97          3.690890e+03   \n15                     5.9                      2.08          1.539377e+05   \n16                     5.9                      2.01          3.604374e+05   \n17                     7.4                      0.64          1.267257e+03   \n18                     7.4                      0.43          6.526958e+04   \n19                     9.0                      2.86          2.453585e+04   \n20                     5.9                      1.82          4.035788e+03   \n21                     5.9                      2.07          1.596673e+04   \n22                     0.0                      0.00          0.000000e+00   \n23                     8.5                      0.20          5.897510e+02   \n24                     9.0                      0.84          1.146458e+03   \n25                     5.9                      1.77          2.509006e+04   \n26                     9.0                      1.57          6.884321e+03   \n27                     9.0                      1.32          2.548683e+04   \n28                    13.6                      1.04          2.392358e+04   \n29                    13.6                      1.10          8.305226e+04   \n30                    13.6                      0.82          9.967100e+03   \n31                    13.6                      0.93          1.047740e+05   \n32                    16.4                      2.12          3.998424e+03   \n33                    16.4                      0.70          3.501166e+03   \n34                     0.0                      0.00          0.000000e+00   \n35                     0.0                      0.00          0.000000e+00   \n36                     0.0                      0.00          0.000000e+00   \n37                     6.5                      2.16          2.797178e+02   \n38                     8.2                      1.84          7.107561e+03   \n39                     0.0                      0.00          0.000000e+00   \n40                     0.0                      0.00          0.000000e+00   \n41                     0.0                      0.00          0.000000e+00   \n42                     0.0                      0.00          0.000000e+00   \n43                     0.0                      0.00          0.000000e+00   \n44                     0.0                      0.00          0.000000e+00   \n45                     1.5                      0.95          1.380955e+04   \n46                   262.1                     47.35          1.082259e+06   \n\n    FeSiMn Overshot (Tons)  FeSiMn Overshot (Cost$)  \\\n0                17.973304             2.153724e+04   \n1                37.629030             4.509051e+04   \n2                23.316101             2.793946e+04   \n3                 0.177194             2.123304e+02   \n4                 3.502687             4.197236e+03   \n5                 6.947426             8.325034e+03   \n6                 6.148572             7.367774e+03   \n7                 0.191306             2.292401e+02   \n8                 0.000000             0.000000e+00   \n9                 0.000000             0.000000e+00   \n10                0.000000             0.000000e+00   \n11                0.000000             0.000000e+00   \n12               22.512326             2.697631e+04   \n13               25.109492             3.008846e+04   \n14                3.690890             4.422758e+03   \n15              153.937657             1.844620e+05   \n16              360.437381             4.319087e+05   \n17                1.267257             1.518542e+03   \n18               65.269576             7.821191e+04   \n19               24.535846             2.940107e+04   \n20                4.035788             4.836046e+03   \n21               15.966726             1.913277e+04   \n22                0.000000             0.000000e+00   \n23                0.589751             7.066930e+02   \n24                1.146458             1.373790e+03   \n25               25.090060             3.006518e+04   \n26                6.884321             8.249416e+03   \n27               25.486825             3.054062e+04   \n28               23.923582             2.866740e+04   \n29               83.052256             9.952072e+04   \n30                9.967100             1.194348e+04   \n31              104.774028             1.255497e+05   \n32                3.998424             4.791273e+03   \n33                3.501166             4.195413e+03   \n34                0.000000             0.000000e+00   \n35                0.000000             0.000000e+00   \n36                0.000000             0.000000e+00   \n37                0.279718             3.351832e+02   \n38                7.107561             8.516923e+03   \n39                0.000000             0.000000e+00   \n40                0.000000             0.000000e+00   \n41                0.000000             0.000000e+00   \n42                0.000000             0.000000e+00   \n43                0.000000             0.000000e+00   \n44                0.000000             0.000000e+00   \n45               13.809553             1.654786e+04   \n46             1082.259362             1.296861e+06   \n\n    Ferroalloys Overshot (KG/Ton)  Ferroalloys Overshot (Tons)  \\\n0                            1.79                    17.973304   \n1                            1.94                    37.629030   \n2                            1.64                    23.316101   \n3                            2.15                     0.274078   \n4                            1.50                     4.271570   \n5                            2.22                     6.947426   \n6                            0.71                     6.148572   \n7                            0.07                     0.191306   \n8                            0.57                     1.323458   \n9                            0.45                     2.165974   \n10                           0.35                     0.586973   \n11                           0.22                     0.032713   \n12                           2.02                    22.512326   \n13                           2.10                    25.109492   \n14                           2.97                     3.690890   \n15                           2.08                   153.937657   \n16                           2.01                   360.437381   \n17                           0.64                     1.267257   \n18                           0.43                    65.269576   \n19                           2.86                    24.535846   \n20                           1.82                     4.035788   \n21                           2.07                    15.966726   \n22                           0.22                     0.027568   \n23                           0.20                     0.589751   \n24                           0.84                     1.146458   \n25                           1.77                    25.090060   \n26                           2.32                    10.173010   \n27                           1.32                    25.486825   \n28                           1.18                    27.144064   \n29                           1.10                    83.052256   \n30                           0.82                     9.967100   \n31                           0.93                   104.774028   \n32                           2.59                     4.884867   \n33                           0.70                     3.501166   \n34                           0.58                     3.182669   \n35                           0.24                     0.469791   \n36                           0.20                     4.025665   \n37                           2.35                     0.304323   \n38                           1.84                     7.107561   \n39                           0.69                     0.193092   \n40                           0.32                     0.197548   \n41                           0.82                     0.241486   \n42                           0.52                     0.166096   \n43                           0.29                     0.587217   \n44                           0.32                     0.099312   \n45                           0.95                    13.809553   \n46                          55.72                  1103.844907   \n\n    Ferroalloys Overshot Cost ($USD)  \n0                       2.153724e+04  \n1                       4.509051e+04  \n2                       2.793946e+04  \n3                       3.787826e+02  \n4                       5.518230e+03  \n5                       8.325034e+03  \n6                       7.367774e+03  \n7                       2.292401e+02  \n8                       2.273794e+03  \n9                       3.721294e+03  \n10                      1.008461e+03  \n11                      5.620303e+01  \n12                      2.697631e+04  \n13                      3.008846e+04  \n14                      4.422758e+03  \n15                      1.844620e+05  \n16                      4.319087e+05  \n17                      1.518542e+03  \n18                      7.821191e+04  \n19                      2.940107e+04  \n20                      4.836046e+03  \n21                      1.913277e+04  \n22                      4.736295e+01  \n23                      7.066930e+02  \n24                      1.373790e+03  \n25                      3.006518e+04  \n26                      1.389961e+04  \n27                      3.054062e+04  \n28                      3.420041e+04  \n29                      9.952072e+04  \n30                      1.194348e+04  \n31                      1.255497e+05  \n32                      6.314244e+03  \n33                      4.195413e+03  \n34                      5.468046e+03  \n35                      8.071338e+02  \n36                      6.916371e+03  \n37                      3.774560e+02  \n38                      8.516923e+03  \n39                      3.317449e+02  \n40                      3.394015e+02  \n41                      4.148896e+02  \n42                      2.853641e+02  \n43                      1.008879e+03  \n44                      1.706244e+02  \n45                      1.654786e+04  \n46                      1.333946e+06  ",
      "text/html": "<div>\n<style scoped>\n    .dataframe tbody tr th:only-of-type {\n        vertical-align: middle;\n    }\n\n    .dataframe tbody tr th {\n        vertical-align: top;\n    }\n\n    .dataframe thead th {\n        text-align: right;\n    }\n</style>\n<table border=\"1\" class=\"dataframe\">\n  <thead>\n    <tr style=\"text-align: right;\">\n      <th></th>\n      <th>SteelGrade</th>\n      <th>Billet Mass (Tons)</th>\n      <th>FeSi Actual (KG/Ton)</th>\n      <th>FeSi Target (KG/Ton)</th>\n      <th>FeSi Overshot (KG/Ton)</th>\n      <th>FeSi Overshot (KG)</th>\n      <th>FeSi Overshot (Tons)</th>\n      <th>FeSi Overshot (Cost$)</th>\n      <th>FeSiMn Actual (KG/Ton)</th>\n      <th>FeSiMn Target (KG/Ton)</th>\n      <th>FeSiMn Overshot (KG/Ton)</th>\n      <th>FeSiMn Overshot (KG)</th>\n      <th>FeSiMn Overshot (Tons)</th>\n      <th>FeSiMn Overshot (Cost$)</th>\n      <th>Ferroalloys Overshot (KG/Ton)</th>\n      <th>Ferroalloys Overshot (Tons)</th>\n      <th>Ferroalloys Overshot Cost ($USD)</th>\n    </tr>\n  </thead>\n  <tbody>\n    <tr>\n      <th>0</th>\n      <td>3SP CON-1</td>\n      <td>10040.952</td>\n      <td>0.00</td>\n      <td>0.0</td>\n      <td>0.00</td>\n      <td>0.00000</td>\n      <td>0.000000</td>\n      <td>0.000000</td>\n      <td>7.79</td>\n      <td>6.0</td>\n      <td>1.79</td>\n      <td>1.797330e+04</td>\n      <td>17.973304</td>\n      <td>2.153724e+04</td>\n      <td>1.79</td>\n      <td>17.973304</td>\n      <td>2.153724e+04</td>\n    </tr>\n    <tr>\n      <th>1</th>\n      <td>3SP UIS-1</td>\n      <td>19396.407</td>\n      <td>0.00</td>\n      <td>0.0</td>\n      <td>0.00</td>\n      <td>0.00000</td>\n      <td>0.000000</td>\n      <td>0.000000</td>\n      <td>8.14</td>\n      <td>6.2</td>\n      <td>1.94</td>\n      <td>3.762903e+04</td>\n      <td>37.629030</td>\n      <td>4.509051e+04</td>\n      <td>1.94</td>\n      <td>37.629030</td>\n      <td>4.509051e+04</td>\n    </tr>\n    <tr>\n      <th>2</th>\n      <td>AISI 1006 CAQ-1</td>\n      <td>14217.135</td>\n      <td>0.00</td>\n      <td>0.0</td>\n      <td>0.00</td>\n      <td>0.00000</td>\n      <td>0.000000</td>\n      <td>0.000000</td>\n      <td>3.14</td>\n      <td>1.5</td>\n      <td>1.64</td>\n      <td>2.331610e+04</td>\n      <td>23.316101</td>\n      <td>2.793946e+04</td>\n      <td>1.64</td>\n      <td>23.316101</td>\n      <td>2.793946e+04</td>\n    </tr>\n    <tr>\n      <th>3</th>\n      <td>AISI 1012-1</td>\n      <td>127.478</td>\n      <td>2.76</td>\n      <td>2.0</td>\n      <td>0.76</td>\n      <td>96.88328</td>\n      <td>0.096883</td>\n      <td>166.452206</td>\n      <td>7.89</td>\n      <td>6.5</td>\n      <td>1.39</td>\n      <td>1.771944e+02</td>\n      <td>0.177194</td>\n      <td>2.123304e+02</td>\n      <td>2.15</td>\n      <td>0.274078</td>\n      <td>3.787826e+02</td>\n    </tr>\n    <tr>\n      <th>4</th>\n      <td>AISI 1012-2</td>\n      <td>2847.713</td>\n      <td>2.27</td>\n      <td>2.0</td>\n      <td>0.27</td>\n      <td>768.88251</td>\n      <td>0.768883</td>\n      <td>1320.993567</td>\n      <td>7.73</td>\n      <td>6.5</td>\n      <td>1.23</td>\n      <td>3.502687e+03</td>\n      <td>3.502687</td>\n      <td>4.197236e+03</td>\n      <td>1.50</td>\n      <td>4.271570</td>\n      <td>5.518230e+03</td>\n    </tr>\n    <tr>\n      <th>5</th>\n      <td>AISI 1015-1</td>\n      <td>3129.471</td>\n      <td>0.00</td>\n      <td>0.0</td>\n      <td>0.00</td>\n      <td>0.00000</td>\n      <td>0.000000</td>\n      <td>0.000000</td>\n      <td>8.02</td>\n      <td>5.8</td>\n      <td>2.22</td>\n      <td>6.947426e+03</td>\n      <td>6.947426</td>\n      <td>8.325034e+03</td>\n      <td>2.22</td>\n      <td>6.947426</td>\n      <td>8.325034e+03</td>\n    </tr>\n    <tr>\n      <th>6</th>\n      <td>AISI 1018-1</td>\n      <td>8659.960</td>\n      <td>0.00</td>\n      <td>0.0</td>\n      <td>0.00</td>\n      <td>0.00000</td>\n      <td>0.000000</td>\n      <td>0.000000</td>\n      <td>8.91</td>\n      <td>8.2</td>\n      <td>0.71</td>\n      <td>6.148572e+03</td>\n      <td>6.148572</td>\n      <td>7.367774e+03</td>\n      <td>0.71</td>\n      <td>6.148572</td>\n      <td>7.367774e+03</td>\n    </tr>\n    <tr>\n      <th>7</th>\n      <td>AISI 1038-1</td>\n      <td>2732.942</td>\n      <td>0.00</td>\n      <td>0.0</td>\n      <td>0.00</td>\n      <td>0.00000</td>\n      <td>0.000000</td>\n      <td>0.000000</td>\n      <td>10.07</td>\n      <td>10.0</td>\n      <td>0.07</td>\n      <td>1.913059e+02</td>\n      <td>0.191306</td>\n      <td>2.292401e+02</td>\n      <td>0.07</td>\n      <td>0.191306</td>\n      <td>2.292401e+02</td>\n    </tr>\n    <tr>\n      <th>8</th>\n      <td>AISI 1045-1</td>\n      <td>2321.857</td>\n      <td>1.57</td>\n      <td>1.0</td>\n      <td>0.57</td>\n      <td>1323.45849</td>\n      <td>1.323458</td>\n      <td>2273.793628</td>\n      <td>0.00</td>\n      <td>0.0</td>\n      <td>0.00</td>\n      <td>0.000000e+00</td>\n      <td>0.000000</td>\n      <td>0.000000e+00</td>\n      <td>0.57</td>\n      <td>1.323458</td>\n      <td>2.273794e+03</td>\n    </tr>\n    <tr>\n      <th>9</th>\n      <td>AISI 1065-1</td>\n      <td>4813.276</td>\n      <td>1.45</td>\n      <td>1.0</td>\n      <td>0.45</td>\n      <td>2165.97420</td>\n      <td>2.165974</td>\n      <td>3721.294148</td>\n      <td>0.00</td>\n      <td>0.0</td>\n      <td>0.00</td>\n      <td>0.000000e+00</td>\n      <td>0.000000</td>\n      <td>0.000000e+00</td>\n      <td>0.45</td>\n      <td>2.165974</td>\n      <td>3.721294e+03</td>\n    </tr>\n    <tr>\n      <th>10</th>\n      <td>AISI 1067-1</td>\n      <td>1677.066</td>\n      <td>1.35</td>\n      <td>1.0</td>\n      <td>0.35</td>\n      <td>586.97310</td>\n      <td>0.586973</td>\n      <td>1008.460564</td>\n      <td>0.00</td>\n      <td>0.0</td>\n      <td>0.00</td>\n      <td>0.000000e+00</td>\n      <td>0.000000</td>\n      <td>0.000000e+00</td>\n      <td>0.35</td>\n      <td>0.586973</td>\n      <td>1.008461e+03</td>\n    </tr>\n    <tr>\n      <th>11</th>\n      <td>AISI 1070-1</td>\n      <td>148.695</td>\n      <td>1.22</td>\n      <td>1.0</td>\n      <td>0.22</td>\n      <td>32.71290</td>\n      <td>0.032713</td>\n      <td>56.203035</td>\n      <td>0.00</td>\n      <td>0.0</td>\n      <td>0.00</td>\n      <td>0.000000e+00</td>\n      <td>0.000000</td>\n      <td>0.000000e+00</td>\n      <td>0.22</td>\n      <td>0.032713</td>\n      <td>5.620303e+01</td>\n    </tr>\n    <tr>\n      <th>12</th>\n      <td>BS-G500B R22-1</td>\n      <td>11144.716</td>\n      <td>0.00</td>\n      <td>0.0</td>\n      <td>0.00</td>\n      <td>0.00000</td>\n      <td>0.000000</td>\n      <td>0.000000</td>\n      <td>7.92</td>\n      <td>5.9</td>\n      <td>2.02</td>\n      <td>2.251233e+04</td>\n      <td>22.512326</td>\n      <td>2.697631e+04</td>\n      <td>2.02</td>\n      <td>22.512326</td>\n      <td>2.697631e+04</td>\n    </tr>\n    <tr>\n      <th>13</th>\n      <td>BS-G500B R22-2</td>\n      <td>11956.901</td>\n      <td>0.00</td>\n      <td>0.0</td>\n      <td>0.00</td>\n      <td>0.00000</td>\n      <td>0.000000</td>\n      <td>0.000000</td>\n      <td>8.00</td>\n      <td>5.9</td>\n      <td>2.10</td>\n      <td>2.510949e+04</td>\n      <td>25.109492</td>\n      <td>3.008846e+04</td>\n      <td>2.10</td>\n      <td>25.109492</td>\n      <td>3.008846e+04</td>\n    </tr>\n    <tr>\n      <th>14</th>\n      <td>BS-G500B R51-1</td>\n      <td>1242.724</td>\n      <td>0.00</td>\n      <td>0.0</td>\n      <td>0.00</td>\n      <td>0.00000</td>\n      <td>0.000000</td>\n      <td>0.000000</td>\n      <td>10.37</td>\n      <td>7.4</td>\n      <td>2.97</td>\n      <td>3.690890e+03</td>\n      <td>3.690890</td>\n      <td>4.422758e+03</td>\n      <td>2.97</td>\n      <td>3.690890</td>\n      <td>4.422758e+03</td>\n    </tr>\n    <tr>\n      <th>15</th>\n      <td>BSG500BR41-1</td>\n      <td>74008.489</td>\n      <td>0.00</td>\n      <td>0.0</td>\n      <td>0.00</td>\n      <td>0.00000</td>\n      <td>0.000000</td>\n      <td>0.000000</td>\n      <td>7.98</td>\n      <td>5.9</td>\n      <td>2.08</td>\n      <td>1.539377e+05</td>\n      <td>153.937657</td>\n      <td>1.844620e+05</td>\n      <td>2.08</td>\n      <td>153.937657</td>\n      <td>1.844620e+05</td>\n    </tr>\n    <tr>\n      <th>16</th>\n      <td>BSG500BR41-2</td>\n      <td>179322.080</td>\n      <td>0.00</td>\n      <td>0.0</td>\n      <td>0.00</td>\n      <td>0.00000</td>\n      <td>0.000000</td>\n      <td>0.000000</td>\n      <td>7.91</td>\n      <td>5.9</td>\n      <td>2.01</td>\n      <td>3.604374e+05</td>\n      <td>360.437381</td>\n      <td>4.319087e+05</td>\n      <td>2.01</td>\n      <td>360.437381</td>\n      <td>4.319087e+05</td>\n    </tr>\n    <tr>\n      <th>17</th>\n      <td>BSG500BR42-1</td>\n      <td>1980.089</td>\n      <td>0.00</td>\n      <td>0.0</td>\n      <td>0.00</td>\n      <td>0.00000</td>\n      <td>0.000000</td>\n      <td>0.000000</td>\n      <td>8.04</td>\n      <td>7.4</td>\n      <td>0.64</td>\n      <td>1.267257e+03</td>\n      <td>1.267257</td>\n      <td>1.518542e+03</td>\n      <td>0.64</td>\n      <td>1.267257</td>\n      <td>1.518542e+03</td>\n    </tr>\n    <tr>\n      <th>18</th>\n      <td>BSG500BR42-2</td>\n      <td>151789.712</td>\n      <td>0.00</td>\n      <td>0.0</td>\n      <td>0.00</td>\n      <td>0.00000</td>\n      <td>0.000000</td>\n      <td>0.000000</td>\n      <td>7.83</td>\n      <td>7.4</td>\n      <td>0.43</td>\n      <td>6.526958e+04</td>\n      <td>65.269576</td>\n      <td>7.821191e+04</td>\n      <td>0.43</td>\n      <td>65.269576</td>\n      <td>7.821191e+04</td>\n    </tr>\n    <tr>\n      <th>19</th>\n      <td>BSSS560R12-1</td>\n      <td>8578.967</td>\n      <td>0.00</td>\n      <td>0.0</td>\n      <td>0.00</td>\n      <td>0.00000</td>\n      <td>0.000000</td>\n      <td>0.000000</td>\n      <td>11.86</td>\n      <td>9.0</td>\n      <td>2.86</td>\n      <td>2.453585e+04</td>\n      <td>24.535846</td>\n      <td>2.940107e+04</td>\n      <td>2.86</td>\n      <td>24.535846</td>\n      <td>2.940107e+04</td>\n    </tr>\n    <tr>\n      <th>20</th>\n      <td>BSSS560R22-1</td>\n      <td>2217.466</td>\n      <td>0.00</td>\n      <td>0.0</td>\n      <td>0.00</td>\n      <td>0.00000</td>\n      <td>0.000000</td>\n      <td>0.000000</td>\n      <td>7.72</td>\n      <td>5.9</td>\n      <td>1.82</td>\n      <td>4.035788e+03</td>\n      <td>4.035788</td>\n      <td>4.836046e+03</td>\n      <td>1.82</td>\n      <td>4.035788</td>\n      <td>4.836046e+03</td>\n    </tr>\n    <tr>\n      <th>21</th>\n      <td>BSSS560R22-2</td>\n      <td>7713.394</td>\n      <td>0.00</td>\n      <td>0.0</td>\n      <td>0.00</td>\n      <td>0.00000</td>\n      <td>0.000000</td>\n      <td>0.000000</td>\n      <td>7.97</td>\n      <td>5.9</td>\n      <td>2.07</td>\n      <td>1.596673e+04</td>\n      <td>15.966726</td>\n      <td>1.913277e+04</td>\n      <td>2.07</td>\n      <td>15.966726</td>\n      <td>1.913277e+04</td>\n    </tr>\n    <tr>\n      <th>22</th>\n      <td>EM12K-1</td>\n      <td>125.307</td>\n      <td>2.22</td>\n      <td>2.0</td>\n      <td>0.22</td>\n      <td>27.56754</td>\n      <td>0.027568</td>\n      <td>47.362949</td>\n      <td>0.00</td>\n      <td>0.0</td>\n      <td>0.00</td>\n      <td>0.000000e+00</td>\n      <td>0.000000</td>\n      <td>0.000000e+00</td>\n      <td>0.22</td>\n      <td>0.027568</td>\n      <td>4.736295e+01</td>\n    </tr>\n    <tr>\n      <th>23</th>\n      <td>KWSB500BWR R11-1</td>\n      <td>2948.755</td>\n      <td>0.00</td>\n      <td>0.0</td>\n      <td>0.00</td>\n      <td>0.00000</td>\n      <td>0.000000</td>\n      <td>0.000000</td>\n      <td>8.70</td>\n      <td>8.5</td>\n      <td>0.20</td>\n      <td>5.897510e+02</td>\n      <td>0.589751</td>\n      <td>7.066930e+02</td>\n      <td>0.20</td>\n      <td>0.589751</td>\n      <td>7.066930e+02</td>\n    </tr>\n    <tr>\n      <th>24</th>\n      <td>KWSB500BWR R12-1</td>\n      <td>1364.831</td>\n      <td>0.00</td>\n      <td>0.0</td>\n      <td>0.00</td>\n      <td>0.00000</td>\n      <td>0.000000</td>\n      <td>0.000000</td>\n      <td>9.84</td>\n      <td>9.0</td>\n      <td>0.84</td>\n      <td>1.146458e+03</td>\n      <td>1.146458</td>\n      <td>1.373790e+03</td>\n      <td>0.84</td>\n      <td>1.146458</td>\n      <td>1.373790e+03</td>\n    </tr>\n    <tr>\n      <th>25</th>\n      <td>KWSB500BWR R22-1</td>\n      <td>14175.175</td>\n      <td>0.00</td>\n      <td>0.0</td>\n      <td>0.00</td>\n      <td>0.00000</td>\n      <td>0.000000</td>\n      <td>0.000000</td>\n      <td>7.67</td>\n      <td>5.9</td>\n      <td>1.77</td>\n      <td>2.509006e+04</td>\n      <td>25.090060</td>\n      <td>3.006518e+04</td>\n      <td>1.77</td>\n      <td>25.090060</td>\n      <td>3.006518e+04</td>\n    </tr>\n    <tr>\n      <th>26</th>\n      <td>S235 JR-A-1</td>\n      <td>4384.918</td>\n      <td>3.55</td>\n      <td>2.8</td>\n      <td>0.75</td>\n      <td>3288.68850</td>\n      <td>3.288688</td>\n      <td>5650.195312</td>\n      <td>10.57</td>\n      <td>9.0</td>\n      <td>1.57</td>\n      <td>6.884321e+03</td>\n      <td>6.884321</td>\n      <td>8.249416e+03</td>\n      <td>2.32</td>\n      <td>10.173010</td>\n      <td>1.389961e+04</td>\n    </tr>\n    <tr>\n      <th>27</th>\n      <td>S235 JR-A-2</td>\n      <td>19308.201</td>\n      <td>0.00</td>\n      <td>0.0</td>\n      <td>0.00</td>\n      <td>0.00000</td>\n      <td>0.000000</td>\n      <td>0.000000</td>\n      <td>10.32</td>\n      <td>9.0</td>\n      <td>1.32</td>\n      <td>2.548683e+04</td>\n      <td>25.486825</td>\n      <td>3.054062e+04</td>\n      <td>1.32</td>\n      <td>25.486825</td>\n      <td>3.054062e+04</td>\n    </tr>\n    <tr>\n      <th>28</th>\n      <td>S275 JR-A-1</td>\n      <td>23003.444</td>\n      <td>2.24</td>\n      <td>2.1</td>\n      <td>0.14</td>\n      <td>3220.48216</td>\n      <td>3.220482</td>\n      <td>5533.012082</td>\n      <td>14.64</td>\n      <td>13.6</td>\n      <td>1.04</td>\n      <td>2.392358e+04</td>\n      <td>23.923582</td>\n      <td>2.866740e+04</td>\n      <td>1.18</td>\n      <td>27.144064</td>\n      <td>3.420041e+04</td>\n    </tr>\n    <tr>\n      <th>29</th>\n      <td>S275 JR-A-2</td>\n      <td>75502.051</td>\n      <td>0.00</td>\n      <td>0.0</td>\n      <td>0.00</td>\n      <td>0.00000</td>\n      <td>0.000000</td>\n      <td>0.000000</td>\n      <td>14.70</td>\n      <td>13.6</td>\n      <td>1.10</td>\n      <td>8.305226e+04</td>\n      <td>83.052256</td>\n      <td>9.952072e+04</td>\n      <td>1.10</td>\n      <td>83.052256</td>\n      <td>9.952072e+04</td>\n    </tr>\n    <tr>\n      <th>30</th>\n      <td>S275 JR-AAA-1</td>\n      <td>12155.000</td>\n      <td>0.00</td>\n      <td>0.0</td>\n      <td>0.00</td>\n      <td>0.00000</td>\n      <td>0.000000</td>\n      <td>0.000000</td>\n      <td>14.42</td>\n      <td>13.6</td>\n      <td>0.82</td>\n      <td>9.967100e+03</td>\n      <td>9.967100</td>\n      <td>1.194348e+04</td>\n      <td>0.82</td>\n      <td>9.967100</td>\n      <td>1.194348e+04</td>\n    </tr>\n    <tr>\n      <th>31</th>\n      <td>S275 JR-AAA-2</td>\n      <td>112660.245</td>\n      <td>0.00</td>\n      <td>0.0</td>\n      <td>0.00</td>\n      <td>0.00000</td>\n      <td>0.000000</td>\n      <td>0.000000</td>\n      <td>14.53</td>\n      <td>13.6</td>\n      <td>0.93</td>\n      <td>1.047740e+05</td>\n      <td>104.774028</td>\n      <td>1.255497e+05</td>\n      <td>0.93</td>\n      <td>104.774028</td>\n      <td>1.255497e+05</td>\n    </tr>\n    <tr>\n      <th>32</th>\n      <td>S355 G11-A-1</td>\n      <td>1886.049</td>\n      <td>2.07</td>\n      <td>1.6</td>\n      <td>0.47</td>\n      <td>886.44303</td>\n      <td>0.886443</td>\n      <td>1522.970708</td>\n      <td>18.52</td>\n      <td>16.4</td>\n      <td>2.12</td>\n      <td>3.998424e+03</td>\n      <td>3.998424</td>\n      <td>4.791273e+03</td>\n      <td>2.59</td>\n      <td>4.884867</td>\n      <td>6.314244e+03</td>\n    </tr>\n    <tr>\n      <th>33</th>\n      <td>S355 G11-A-2</td>\n      <td>5001.665</td>\n      <td>0.00</td>\n      <td>0.0</td>\n      <td>0.00</td>\n      <td>0.00000</td>\n      <td>0.000000</td>\n      <td>0.000000</td>\n      <td>17.10</td>\n      <td>16.4</td>\n      <td>0.70</td>\n      <td>3.501166e+03</td>\n      <td>3.501166</td>\n      <td>4.195413e+03</td>\n      <td>0.70</td>\n      <td>3.501166</td>\n      <td>4.195413e+03</td>\n    </tr>\n    <tr>\n      <th>34</th>\n      <td>S355 J2-A-1</td>\n      <td>5487.360</td>\n      <td>1.88</td>\n      <td>1.3</td>\n      <td>0.58</td>\n      <td>3182.66880</td>\n      <td>3.182669</td>\n      <td>5468.046102</td>\n      <td>0.00</td>\n      <td>0.0</td>\n      <td>0.00</td>\n      <td>0.000000e+00</td>\n      <td>0.000000</td>\n      <td>0.000000e+00</td>\n      <td>0.58</td>\n      <td>3.182669</td>\n      <td>5.468046e+03</td>\n    </tr>\n    <tr>\n      <th>35</th>\n      <td>S355 JR-B-1</td>\n      <td>1957.463</td>\n      <td>1.84</td>\n      <td>1.6</td>\n      <td>0.24</td>\n      <td>469.79112</td>\n      <td>0.469791</td>\n      <td>807.133781</td>\n      <td>0.00</td>\n      <td>0.0</td>\n      <td>0.00</td>\n      <td>0.000000e+00</td>\n      <td>0.000000</td>\n      <td>0.000000e+00</td>\n      <td>0.24</td>\n      <td>0.469791</td>\n      <td>8.071338e+02</td>\n    </tr>\n    <tr>\n      <th>36</th>\n      <td>SAE 1008-2</td>\n      <td>20128.323</td>\n      <td>1.50</td>\n      <td>1.3</td>\n      <td>0.20</td>\n      <td>4025.66460</td>\n      <td>4.025665</td>\n      <td>6916.371451</td>\n      <td>0.00</td>\n      <td>0.0</td>\n      <td>0.00</td>\n      <td>0.000000e+00</td>\n      <td>0.000000</td>\n      <td>0.000000e+00</td>\n      <td>0.20</td>\n      <td>4.025665</td>\n      <td>6.916371e+03</td>\n    </tr>\n    <tr>\n      <th>37</th>\n      <td>SAE 1012-1</td>\n      <td>129.499</td>\n      <td>2.19</td>\n      <td>2.0</td>\n      <td>0.19</td>\n      <td>24.60481</td>\n      <td>0.024605</td>\n      <td>42.272773</td>\n      <td>8.66</td>\n      <td>6.5</td>\n      <td>2.16</td>\n      <td>2.797178e+02</td>\n      <td>0.279718</td>\n      <td>3.351832e+02</td>\n      <td>2.35</td>\n      <td>0.304323</td>\n      <td>3.774560e+02</td>\n    </tr>\n    <tr>\n      <th>38</th>\n      <td>SAE 1018-1</td>\n      <td>3862.805</td>\n      <td>0.00</td>\n      <td>0.0</td>\n      <td>0.00</td>\n      <td>0.00000</td>\n      <td>0.000000</td>\n      <td>0.000000</td>\n      <td>10.04</td>\n      <td>8.2</td>\n      <td>1.84</td>\n      <td>7.107561e+03</td>\n      <td>7.107561</td>\n      <td>8.516923e+03</td>\n      <td>1.84</td>\n      <td>7.107561</td>\n      <td>8.516923e+03</td>\n    </tr>\n    <tr>\n      <th>39</th>\n      <td>SWRH 42B-1</td>\n      <td>279.843</td>\n      <td>1.69</td>\n      <td>1.0</td>\n      <td>0.69</td>\n      <td>193.09167</td>\n      <td>0.193092</td>\n      <td>331.744903</td>\n      <td>0.00</td>\n      <td>0.0</td>\n      <td>0.00</td>\n      <td>0.000000e+00</td>\n      <td>0.000000</td>\n      <td>0.000000e+00</td>\n      <td>0.69</td>\n      <td>0.193092</td>\n      <td>3.317449e+02</td>\n    </tr>\n    <tr>\n      <th>40</th>\n      <td>SWRH 47B-1</td>\n      <td>617.338</td>\n      <td>1.32</td>\n      <td>1.0</td>\n      <td>0.32</td>\n      <td>197.54816</td>\n      <td>0.197548</td>\n      <td>339.401463</td>\n      <td>0.00</td>\n      <td>0.0</td>\n      <td>0.00</td>\n      <td>0.000000e+00</td>\n      <td>0.000000</td>\n      <td>0.000000e+00</td>\n      <td>0.32</td>\n      <td>0.197548</td>\n      <td>3.394015e+02</td>\n    </tr>\n    <tr>\n      <th>41</th>\n      <td>SWRH 52B-1</td>\n      <td>294.495</td>\n      <td>1.82</td>\n      <td>1.0</td>\n      <td>0.82</td>\n      <td>241.48590</td>\n      <td>0.241486</td>\n      <td>414.889553</td>\n      <td>0.00</td>\n      <td>0.0</td>\n      <td>0.00</td>\n      <td>0.000000e+00</td>\n      <td>0.000000</td>\n      <td>0.000000e+00</td>\n      <td>0.82</td>\n      <td>0.241486</td>\n      <td>4.148896e+02</td>\n    </tr>\n    <tr>\n      <th>42</th>\n      <td>SWRH 57B-1</td>\n      <td>319.415</td>\n      <td>1.52</td>\n      <td>1.0</td>\n      <td>0.52</td>\n      <td>166.09580</td>\n      <td>0.166096</td>\n      <td>285.364123</td>\n      <td>0.00</td>\n      <td>0.0</td>\n      <td>0.00</td>\n      <td>0.000000e+00</td>\n      <td>0.000000</td>\n      <td>0.000000e+00</td>\n      <td>0.52</td>\n      <td>0.166096</td>\n      <td>2.853641e+02</td>\n    </tr>\n    <tr>\n      <th>43</th>\n      <td>SWRH 62B-1</td>\n      <td>2024.886</td>\n      <td>1.29</td>\n      <td>1.0</td>\n      <td>0.29</td>\n      <td>587.21694</td>\n      <td>0.587217</td>\n      <td>1008.879498</td>\n      <td>0.00</td>\n      <td>0.0</td>\n      <td>0.00</td>\n      <td>0.000000e+00</td>\n      <td>0.000000</td>\n      <td>0.000000e+00</td>\n      <td>0.29</td>\n      <td>0.587217</td>\n      <td>1.008879e+03</td>\n    </tr>\n    <tr>\n      <th>44</th>\n      <td>SWRH 67B-1</td>\n      <td>310.349</td>\n      <td>1.32</td>\n      <td>1.0</td>\n      <td>0.32</td>\n      <td>99.31168</td>\n      <td>0.099312</td>\n      <td>170.624366</td>\n      <td>0.00</td>\n      <td>0.0</td>\n      <td>0.00</td>\n      <td>0.000000e+00</td>\n      <td>0.000000</td>\n      <td>0.000000e+00</td>\n      <td>0.32</td>\n      <td>0.099312</td>\n      <td>1.706244e+02</td>\n    </tr>\n    <tr>\n      <th>45</th>\n      <td>SWRY 11-1</td>\n      <td>14536.372</td>\n      <td>0.00</td>\n      <td>0.0</td>\n      <td>0.00</td>\n      <td>0.00000</td>\n      <td>0.000000</td>\n      <td>0.000000</td>\n      <td>2.45</td>\n      <td>1.5</td>\n      <td>0.95</td>\n      <td>1.380955e+04</td>\n      <td>13.809553</td>\n      <td>1.654786e+04</td>\n      <td>0.95</td>\n      <td>13.809553</td>\n      <td>1.654786e+04</td>\n    </tr>\n    <tr>\n      <th>46</th>\n      <td>Total</td>\n      <td>842531.279</td>\n      <td>37.07</td>\n      <td>28.7</td>\n      <td>8.37</td>\n      <td>21585.54519</td>\n      <td>21.585545</td>\n      <td>37085.466210</td>\n      <td>309.45</td>\n      <td>262.1</td>\n      <td>47.35</td>\n      <td>1.082259e+06</td>\n      <td>1082.259362</td>\n      <td>1.296861e+06</td>\n      <td>55.72</td>\n      <td>1103.844907</td>\n      <td>1.333946e+06</td>\n    </tr>\n  </tbody>\n</table>\n</div>"
     },
     "execution_count": 241,
     "metadata": {},
     "output_type": "execute_result"
    }
   ],
   "source": [
    "\n",
    "totals = final_results.select_dtypes(include=[np.number]).sum().rename('Total')\n",
    "totals['SteelGrade'] = 'Total'\n",
    "final_results = pd.concat([final_results, pd.DataFrame([totals])], ignore_index=True)\n",
    "final_results\n"
   ],
   "metadata": {
    "collapsed": false,
    "ExecuteTime": {
     "end_time": "2024-03-25T05:59:47.173646Z",
     "start_time": "2024-03-25T05:59:47.153511Z"
    }
   },
   "id": "746edcb2c3d2f802",
   "execution_count": 241
  },
  {
   "cell_type": "code",
   "outputs": [
    {
     "data": {
      "text/plain": "          SteelGrade  Billet Mass (Tons)  FeSi Actual (KG/Ton)  \\\n0          3SP CON-1            10040.95                  0.00   \n1          3SP UIS-1            19396.41                  0.00   \n2    AISI 1006 CAQ-1            14217.14                  0.00   \n3        AISI 1012-1              127.48                  2.76   \n4        AISI 1012-2             2847.71                  2.27   \n5        AISI 1015-1             3129.47                  0.00   \n6        AISI 1018-1             8659.96                  0.00   \n7        AISI 1038-1             2732.94                  0.00   \n8        AISI 1045-1             2321.86                  1.57   \n9        AISI 1065-1             4813.28                  1.45   \n10       AISI 1067-1             1677.07                  1.35   \n11       AISI 1070-1              148.69                  1.22   \n12    BS-G500B R22-1            11144.72                  0.00   \n13    BS-G500B R22-2            11956.90                  0.00   \n14    BS-G500B R51-1             1242.72                  0.00   \n15      BSG500BR41-1            74008.49                  0.00   \n16      BSG500BR41-2           179322.08                  0.00   \n17      BSG500BR42-1             1980.09                  0.00   \n18      BSG500BR42-2           151789.71                  0.00   \n19      BSSS560R12-1             8578.97                  0.00   \n20      BSSS560R22-1             2217.47                  0.00   \n21      BSSS560R22-2             7713.39                  0.00   \n22           EM12K-1              125.31                  2.22   \n23  KWSB500BWR R11-1             2948.76                  0.00   \n24  KWSB500BWR R12-1             1364.83                  0.00   \n25  KWSB500BWR R22-1            14175.17                  0.00   \n26       S235 JR-A-1             4384.92                  3.55   \n27       S235 JR-A-2            19308.20                  0.00   \n28       S275 JR-A-1            23003.44                  2.24   \n29       S275 JR-A-2            75502.05                  0.00   \n30     S275 JR-AAA-1            12155.00                  0.00   \n31     S275 JR-AAA-2           112660.24                  0.00   \n32      S355 G11-A-1             1886.05                  2.07   \n33      S355 G11-A-2             5001.66                  0.00   \n34       S355 J2-A-1             5487.36                  1.88   \n35       S355 JR-B-1             1957.46                  1.84   \n36        SAE 1008-2            20128.32                  1.50   \n37        SAE 1012-1              129.50                  2.19   \n38        SAE 1018-1             3862.80                  0.00   \n39        SWRH 42B-1              279.84                  1.69   \n40        SWRH 47B-1              617.34                  1.32   \n41        SWRH 52B-1              294.50                  1.82   \n42        SWRH 57B-1              319.42                  1.52   \n43        SWRH 62B-1             2024.89                  1.29   \n44        SWRH 67B-1              310.35                  1.32   \n45         SWRY 11-1            14536.37                  0.00   \n46             Total           842531.28                 37.07   \n\n    FeSi Target (KG/Ton)  FeSi Overshot (KG/Ton)  FeSi Overshot (KG)  \\\n0                    0.0                    0.00                0.00   \n1                    0.0                    0.00                0.00   \n2                    0.0                    0.00                0.00   \n3                    2.0                    0.76               96.88   \n4                    2.0                    0.27              768.88   \n5                    0.0                    0.00                0.00   \n6                    0.0                    0.00                0.00   \n7                    0.0                    0.00                0.00   \n8                    1.0                    0.57             1323.46   \n9                    1.0                    0.45             2165.97   \n10                   1.0                    0.35              586.97   \n11                   1.0                    0.22               32.71   \n12                   0.0                    0.00                0.00   \n13                   0.0                    0.00                0.00   \n14                   0.0                    0.00                0.00   \n15                   0.0                    0.00                0.00   \n16                   0.0                    0.00                0.00   \n17                   0.0                    0.00                0.00   \n18                   0.0                    0.00                0.00   \n19                   0.0                    0.00                0.00   \n20                   0.0                    0.00                0.00   \n21                   0.0                    0.00                0.00   \n22                   2.0                    0.22               27.57   \n23                   0.0                    0.00                0.00   \n24                   0.0                    0.00                0.00   \n25                   0.0                    0.00                0.00   \n26                   2.8                    0.75             3288.69   \n27                   0.0                    0.00                0.00   \n28                   2.1                    0.14             3220.48   \n29                   0.0                    0.00                0.00   \n30                   0.0                    0.00                0.00   \n31                   0.0                    0.00                0.00   \n32                   1.6                    0.47              886.44   \n33                   0.0                    0.00                0.00   \n34                   1.3                    0.58             3182.67   \n35                   1.6                    0.24              469.79   \n36                   1.3                    0.20             4025.66   \n37                   2.0                    0.19               24.60   \n38                   0.0                    0.00                0.00   \n39                   1.0                    0.69              193.09   \n40                   1.0                    0.32              197.55   \n41                   1.0                    0.82              241.49   \n42                   1.0                    0.52              166.10   \n43                   1.0                    0.29              587.22   \n44                   1.0                    0.32               99.31   \n45                   0.0                    0.00                0.00   \n46                  28.7                    8.37            21585.55   \n\n    FeSi Overshot (Tons)  FeSi Overshot (Cost$)  FeSiMn Actual (KG/Ton)  \\\n0                   0.00                   0.00                    7.79   \n1                   0.00                   0.00                    8.14   \n2                   0.00                   0.00                    3.14   \n3                   0.10                 166.45                    7.89   \n4                   0.77                1320.99                    7.73   \n5                   0.00                   0.00                    8.02   \n6                   0.00                   0.00                    8.91   \n7                   0.00                   0.00                   10.07   \n8                   1.32                2273.79                    0.00   \n9                   2.17                3721.29                    0.00   \n10                  0.59                1008.46                    0.00   \n11                  0.03                  56.20                    0.00   \n12                  0.00                   0.00                    7.92   \n13                  0.00                   0.00                    8.00   \n14                  0.00                   0.00                   10.37   \n15                  0.00                   0.00                    7.98   \n16                  0.00                   0.00                    7.91   \n17                  0.00                   0.00                    8.04   \n18                  0.00                   0.00                    7.83   \n19                  0.00                   0.00                   11.86   \n20                  0.00                   0.00                    7.72   \n21                  0.00                   0.00                    7.97   \n22                  0.03                  47.36                    0.00   \n23                  0.00                   0.00                    8.70   \n24                  0.00                   0.00                    9.84   \n25                  0.00                   0.00                    7.67   \n26                  3.29                5650.20                   10.57   \n27                  0.00                   0.00                   10.32   \n28                  3.22                5533.01                   14.64   \n29                  0.00                   0.00                   14.70   \n30                  0.00                   0.00                   14.42   \n31                  0.00                   0.00                   14.53   \n32                  0.89                1522.97                   18.52   \n33                  0.00                   0.00                   17.10   \n34                  3.18                5468.05                    0.00   \n35                  0.47                 807.13                    0.00   \n36                  4.03                6916.37                    0.00   \n37                  0.02                  42.27                    8.66   \n38                  0.00                   0.00                   10.04   \n39                  0.19                 331.74                    0.00   \n40                  0.20                 339.40                    0.00   \n41                  0.24                 414.89                    0.00   \n42                  0.17                 285.36                    0.00   \n43                  0.59                1008.88                    0.00   \n44                  0.10                 170.62                    0.00   \n45                  0.00                   0.00                    2.45   \n46                 21.59               37085.47                  309.45   \n\n    FeSiMn Target (KG/Ton)  FeSiMn Overshot (KG/Ton)  FeSiMn Overshot (KG)  \\\n0                      6.0                      1.79              17973.30   \n1                      6.2                      1.94              37629.03   \n2                      1.5                      1.64              23316.10   \n3                      6.5                      1.39                177.19   \n4                      6.5                      1.23               3502.69   \n5                      5.8                      2.22               6947.43   \n6                      8.2                      0.71               6148.57   \n7                     10.0                      0.07                191.31   \n8                      0.0                      0.00                  0.00   \n9                      0.0                      0.00                  0.00   \n10                     0.0                      0.00                  0.00   \n11                     0.0                      0.00                  0.00   \n12                     5.9                      2.02              22512.33   \n13                     5.9                      2.10              25109.49   \n14                     7.4                      2.97               3690.89   \n15                     5.9                      2.08             153937.66   \n16                     5.9                      2.01             360437.38   \n17                     7.4                      0.64               1267.26   \n18                     7.4                      0.43              65269.58   \n19                     9.0                      2.86              24535.85   \n20                     5.9                      1.82               4035.79   \n21                     5.9                      2.07              15966.73   \n22                     0.0                      0.00                  0.00   \n23                     8.5                      0.20                589.75   \n24                     9.0                      0.84               1146.46   \n25                     5.9                      1.77              25090.06   \n26                     9.0                      1.57               6884.32   \n27                     9.0                      1.32              25486.83   \n28                    13.6                      1.04              23923.58   \n29                    13.6                      1.10              83052.26   \n30                    13.6                      0.82               9967.10   \n31                    13.6                      0.93             104774.03   \n32                    16.4                      2.12               3998.42   \n33                    16.4                      0.70               3501.17   \n34                     0.0                      0.00                  0.00   \n35                     0.0                      0.00                  0.00   \n36                     0.0                      0.00                  0.00   \n37                     6.5                      2.16                279.72   \n38                     8.2                      1.84               7107.56   \n39                     0.0                      0.00                  0.00   \n40                     0.0                      0.00                  0.00   \n41                     0.0                      0.00                  0.00   \n42                     0.0                      0.00                  0.00   \n43                     0.0                      0.00                  0.00   \n44                     0.0                      0.00                  0.00   \n45                     1.5                      0.95              13809.55   \n46                   262.1                     47.35            1082259.36   \n\n    FeSiMn Overshot (Tons)  FeSiMn Overshot (Cost$)  \\\n0                    17.97                 21537.24   \n1                    37.63                 45090.51   \n2                    23.32                 27939.46   \n3                     0.18                   212.33   \n4                     3.50                  4197.24   \n5                     6.95                  8325.03   \n6                     6.15                  7367.77   \n7                     0.19                   229.24   \n8                     0.00                     0.00   \n9                     0.00                     0.00   \n10                    0.00                     0.00   \n11                    0.00                     0.00   \n12                   22.51                 26976.31   \n13                   25.11                 30088.46   \n14                    3.69                  4422.76   \n15                  153.94                184462.02   \n16                  360.44                431908.66   \n17                    1.27                  1518.54   \n18                   65.27                 78211.91   \n19                   24.54                 29401.07   \n20                    4.04                  4836.05   \n21                   15.97                 19132.77   \n22                    0.00                     0.00   \n23                    0.59                   706.69   \n24                    1.15                  1373.79   \n25                   25.09                 30065.18   \n26                    6.88                  8249.42   \n27                   25.49                 30540.62   \n28                   23.92                 28667.40   \n29                   83.05                 99520.72   \n30                    9.97                 11943.48   \n31                  104.77                125549.71   \n32                    4.00                  4791.27   \n33                    3.50                  4195.41   \n34                    0.00                     0.00   \n35                    0.00                     0.00   \n36                    0.00                     0.00   \n37                    0.28                   335.18   \n38                    7.11                  8516.92   \n39                    0.00                     0.00   \n40                    0.00                     0.00   \n41                    0.00                     0.00   \n42                    0.00                     0.00   \n43                    0.00                     0.00   \n44                    0.00                     0.00   \n45                   13.81                 16547.86   \n46                 1082.26               1296861.03   \n\n    Ferroalloys Overshot (KG/Ton)  Ferroalloys Overshot (Tons)  \\\n0                            1.79                        17.97   \n1                            1.94                        37.63   \n2                            1.64                        23.32   \n3                            2.15                         0.27   \n4                            1.50                         4.27   \n5                            2.22                         6.95   \n6                            0.71                         6.15   \n7                            0.07                         0.19   \n8                            0.57                         1.32   \n9                            0.45                         2.17   \n10                           0.35                         0.59   \n11                           0.22                         0.03   \n12                           2.02                        22.51   \n13                           2.10                        25.11   \n14                           2.97                         3.69   \n15                           2.08                       153.94   \n16                           2.01                       360.44   \n17                           0.64                         1.27   \n18                           0.43                        65.27   \n19                           2.86                        24.54   \n20                           1.82                         4.04   \n21                           2.07                        15.97   \n22                           0.22                         0.03   \n23                           0.20                         0.59   \n24                           0.84                         1.15   \n25                           1.77                        25.09   \n26                           2.32                        10.17   \n27                           1.32                        25.49   \n28                           1.18                        27.14   \n29                           1.10                        83.05   \n30                           0.82                         9.97   \n31                           0.93                       104.77   \n32                           2.59                         4.88   \n33                           0.70                         3.50   \n34                           0.58                         3.18   \n35                           0.24                         0.47   \n36                           0.20                         4.03   \n37                           2.35                         0.30   \n38                           1.84                         7.11   \n39                           0.69                         0.19   \n40                           0.32                         0.20   \n41                           0.82                         0.24   \n42                           0.52                         0.17   \n43                           0.29                         0.59   \n44                           0.32                         0.10   \n45                           0.95                        13.81   \n46                          55.72                      1103.84   \n\n    Ferroalloys Overshot Cost ($USD)  \n0                           21537.24  \n1                           45090.51  \n2                           27939.46  \n3                             378.78  \n4                            5518.23  \n5                            8325.03  \n6                            7367.77  \n7                             229.24  \n8                            2273.79  \n9                            3721.29  \n10                           1008.46  \n11                             56.20  \n12                          26976.31  \n13                          30088.46  \n14                           4422.76  \n15                         184462.02  \n16                         431908.66  \n17                           1518.54  \n18                          78211.91  \n19                          29401.07  \n20                           4836.05  \n21                          19132.77  \n22                             47.36  \n23                            706.69  \n24                           1373.79  \n25                          30065.18  \n26                          13899.61  \n27                          30540.62  \n28                          34200.41  \n29                          99520.72  \n30                          11943.48  \n31                         125549.71  \n32                           6314.24  \n33                           4195.41  \n34                           5468.05  \n35                            807.13  \n36                           6916.37  \n37                            377.46  \n38                           8516.92  \n39                            331.74  \n40                            339.40  \n41                            414.89  \n42                            285.36  \n43                           1008.88  \n44                            170.62  \n45                          16547.86  \n46                        1333946.50  ",
      "text/html": "<div>\n<style scoped>\n    .dataframe tbody tr th:only-of-type {\n        vertical-align: middle;\n    }\n\n    .dataframe tbody tr th {\n        vertical-align: top;\n    }\n\n    .dataframe thead th {\n        text-align: right;\n    }\n</style>\n<table border=\"1\" class=\"dataframe\">\n  <thead>\n    <tr style=\"text-align: right;\">\n      <th></th>\n      <th>SteelGrade</th>\n      <th>Billet Mass (Tons)</th>\n      <th>FeSi Actual (KG/Ton)</th>\n      <th>FeSi Target (KG/Ton)</th>\n      <th>FeSi Overshot (KG/Ton)</th>\n      <th>FeSi Overshot (KG)</th>\n      <th>FeSi Overshot (Tons)</th>\n      <th>FeSi Overshot (Cost$)</th>\n      <th>FeSiMn Actual (KG/Ton)</th>\n      <th>FeSiMn Target (KG/Ton)</th>\n      <th>FeSiMn Overshot (KG/Ton)</th>\n      <th>FeSiMn Overshot (KG)</th>\n      <th>FeSiMn Overshot (Tons)</th>\n      <th>FeSiMn Overshot (Cost$)</th>\n      <th>Ferroalloys Overshot (KG/Ton)</th>\n      <th>Ferroalloys Overshot (Tons)</th>\n      <th>Ferroalloys Overshot Cost ($USD)</th>\n    </tr>\n  </thead>\n  <tbody>\n    <tr>\n      <th>0</th>\n      <td>3SP CON-1</td>\n      <td>10040.95</td>\n      <td>0.00</td>\n      <td>0.0</td>\n      <td>0.00</td>\n      <td>0.00</td>\n      <td>0.00</td>\n      <td>0.00</td>\n      <td>7.79</td>\n      <td>6.0</td>\n      <td>1.79</td>\n      <td>17973.30</td>\n      <td>17.97</td>\n      <td>21537.24</td>\n      <td>1.79</td>\n      <td>17.97</td>\n      <td>21537.24</td>\n    </tr>\n    <tr>\n      <th>1</th>\n      <td>3SP UIS-1</td>\n      <td>19396.41</td>\n      <td>0.00</td>\n      <td>0.0</td>\n      <td>0.00</td>\n      <td>0.00</td>\n      <td>0.00</td>\n      <td>0.00</td>\n      <td>8.14</td>\n      <td>6.2</td>\n      <td>1.94</td>\n      <td>37629.03</td>\n      <td>37.63</td>\n      <td>45090.51</td>\n      <td>1.94</td>\n      <td>37.63</td>\n      <td>45090.51</td>\n    </tr>\n    <tr>\n      <th>2</th>\n      <td>AISI 1006 CAQ-1</td>\n      <td>14217.14</td>\n      <td>0.00</td>\n      <td>0.0</td>\n      <td>0.00</td>\n      <td>0.00</td>\n      <td>0.00</td>\n      <td>0.00</td>\n      <td>3.14</td>\n      <td>1.5</td>\n      <td>1.64</td>\n      <td>23316.10</td>\n      <td>23.32</td>\n      <td>27939.46</td>\n      <td>1.64</td>\n      <td>23.32</td>\n      <td>27939.46</td>\n    </tr>\n    <tr>\n      <th>3</th>\n      <td>AISI 1012-1</td>\n      <td>127.48</td>\n      <td>2.76</td>\n      <td>2.0</td>\n      <td>0.76</td>\n      <td>96.88</td>\n      <td>0.10</td>\n      <td>166.45</td>\n      <td>7.89</td>\n      <td>6.5</td>\n      <td>1.39</td>\n      <td>177.19</td>\n      <td>0.18</td>\n      <td>212.33</td>\n      <td>2.15</td>\n      <td>0.27</td>\n      <td>378.78</td>\n    </tr>\n    <tr>\n      <th>4</th>\n      <td>AISI 1012-2</td>\n      <td>2847.71</td>\n      <td>2.27</td>\n      <td>2.0</td>\n      <td>0.27</td>\n      <td>768.88</td>\n      <td>0.77</td>\n      <td>1320.99</td>\n      <td>7.73</td>\n      <td>6.5</td>\n      <td>1.23</td>\n      <td>3502.69</td>\n      <td>3.50</td>\n      <td>4197.24</td>\n      <td>1.50</td>\n      <td>4.27</td>\n      <td>5518.23</td>\n    </tr>\n    <tr>\n      <th>5</th>\n      <td>AISI 1015-1</td>\n      <td>3129.47</td>\n      <td>0.00</td>\n      <td>0.0</td>\n      <td>0.00</td>\n      <td>0.00</td>\n      <td>0.00</td>\n      <td>0.00</td>\n      <td>8.02</td>\n      <td>5.8</td>\n      <td>2.22</td>\n      <td>6947.43</td>\n      <td>6.95</td>\n      <td>8325.03</td>\n      <td>2.22</td>\n      <td>6.95</td>\n      <td>8325.03</td>\n    </tr>\n    <tr>\n      <th>6</th>\n      <td>AISI 1018-1</td>\n      <td>8659.96</td>\n      <td>0.00</td>\n      <td>0.0</td>\n      <td>0.00</td>\n      <td>0.00</td>\n      <td>0.00</td>\n      <td>0.00</td>\n      <td>8.91</td>\n      <td>8.2</td>\n      <td>0.71</td>\n      <td>6148.57</td>\n      <td>6.15</td>\n      <td>7367.77</td>\n      <td>0.71</td>\n      <td>6.15</td>\n      <td>7367.77</td>\n    </tr>\n    <tr>\n      <th>7</th>\n      <td>AISI 1038-1</td>\n      <td>2732.94</td>\n      <td>0.00</td>\n      <td>0.0</td>\n      <td>0.00</td>\n      <td>0.00</td>\n      <td>0.00</td>\n      <td>0.00</td>\n      <td>10.07</td>\n      <td>10.0</td>\n      <td>0.07</td>\n      <td>191.31</td>\n      <td>0.19</td>\n      <td>229.24</td>\n      <td>0.07</td>\n      <td>0.19</td>\n      <td>229.24</td>\n    </tr>\n    <tr>\n      <th>8</th>\n      <td>AISI 1045-1</td>\n      <td>2321.86</td>\n      <td>1.57</td>\n      <td>1.0</td>\n      <td>0.57</td>\n      <td>1323.46</td>\n      <td>1.32</td>\n      <td>2273.79</td>\n      <td>0.00</td>\n      <td>0.0</td>\n      <td>0.00</td>\n      <td>0.00</td>\n      <td>0.00</td>\n      <td>0.00</td>\n      <td>0.57</td>\n      <td>1.32</td>\n      <td>2273.79</td>\n    </tr>\n    <tr>\n      <th>9</th>\n      <td>AISI 1065-1</td>\n      <td>4813.28</td>\n      <td>1.45</td>\n      <td>1.0</td>\n      <td>0.45</td>\n      <td>2165.97</td>\n      <td>2.17</td>\n      <td>3721.29</td>\n      <td>0.00</td>\n      <td>0.0</td>\n      <td>0.00</td>\n      <td>0.00</td>\n      <td>0.00</td>\n      <td>0.00</td>\n      <td>0.45</td>\n      <td>2.17</td>\n      <td>3721.29</td>\n    </tr>\n    <tr>\n      <th>10</th>\n      <td>AISI 1067-1</td>\n      <td>1677.07</td>\n      <td>1.35</td>\n      <td>1.0</td>\n      <td>0.35</td>\n      <td>586.97</td>\n      <td>0.59</td>\n      <td>1008.46</td>\n      <td>0.00</td>\n      <td>0.0</td>\n      <td>0.00</td>\n      <td>0.00</td>\n      <td>0.00</td>\n      <td>0.00</td>\n      <td>0.35</td>\n      <td>0.59</td>\n      <td>1008.46</td>\n    </tr>\n    <tr>\n      <th>11</th>\n      <td>AISI 1070-1</td>\n      <td>148.69</td>\n      <td>1.22</td>\n      <td>1.0</td>\n      <td>0.22</td>\n      <td>32.71</td>\n      <td>0.03</td>\n      <td>56.20</td>\n      <td>0.00</td>\n      <td>0.0</td>\n      <td>0.00</td>\n      <td>0.00</td>\n      <td>0.00</td>\n      <td>0.00</td>\n      <td>0.22</td>\n      <td>0.03</td>\n      <td>56.20</td>\n    </tr>\n    <tr>\n      <th>12</th>\n      <td>BS-G500B R22-1</td>\n      <td>11144.72</td>\n      <td>0.00</td>\n      <td>0.0</td>\n      <td>0.00</td>\n      <td>0.00</td>\n      <td>0.00</td>\n      <td>0.00</td>\n      <td>7.92</td>\n      <td>5.9</td>\n      <td>2.02</td>\n      <td>22512.33</td>\n      <td>22.51</td>\n      <td>26976.31</td>\n      <td>2.02</td>\n      <td>22.51</td>\n      <td>26976.31</td>\n    </tr>\n    <tr>\n      <th>13</th>\n      <td>BS-G500B R22-2</td>\n      <td>11956.90</td>\n      <td>0.00</td>\n      <td>0.0</td>\n      <td>0.00</td>\n      <td>0.00</td>\n      <td>0.00</td>\n      <td>0.00</td>\n      <td>8.00</td>\n      <td>5.9</td>\n      <td>2.10</td>\n      <td>25109.49</td>\n      <td>25.11</td>\n      <td>30088.46</td>\n      <td>2.10</td>\n      <td>25.11</td>\n      <td>30088.46</td>\n    </tr>\n    <tr>\n      <th>14</th>\n      <td>BS-G500B R51-1</td>\n      <td>1242.72</td>\n      <td>0.00</td>\n      <td>0.0</td>\n      <td>0.00</td>\n      <td>0.00</td>\n      <td>0.00</td>\n      <td>0.00</td>\n      <td>10.37</td>\n      <td>7.4</td>\n      <td>2.97</td>\n      <td>3690.89</td>\n      <td>3.69</td>\n      <td>4422.76</td>\n      <td>2.97</td>\n      <td>3.69</td>\n      <td>4422.76</td>\n    </tr>\n    <tr>\n      <th>15</th>\n      <td>BSG500BR41-1</td>\n      <td>74008.49</td>\n      <td>0.00</td>\n      <td>0.0</td>\n      <td>0.00</td>\n      <td>0.00</td>\n      <td>0.00</td>\n      <td>0.00</td>\n      <td>7.98</td>\n      <td>5.9</td>\n      <td>2.08</td>\n      <td>153937.66</td>\n      <td>153.94</td>\n      <td>184462.02</td>\n      <td>2.08</td>\n      <td>153.94</td>\n      <td>184462.02</td>\n    </tr>\n    <tr>\n      <th>16</th>\n      <td>BSG500BR41-2</td>\n      <td>179322.08</td>\n      <td>0.00</td>\n      <td>0.0</td>\n      <td>0.00</td>\n      <td>0.00</td>\n      <td>0.00</td>\n      <td>0.00</td>\n      <td>7.91</td>\n      <td>5.9</td>\n      <td>2.01</td>\n      <td>360437.38</td>\n      <td>360.44</td>\n      <td>431908.66</td>\n      <td>2.01</td>\n      <td>360.44</td>\n      <td>431908.66</td>\n    </tr>\n    <tr>\n      <th>17</th>\n      <td>BSG500BR42-1</td>\n      <td>1980.09</td>\n      <td>0.00</td>\n      <td>0.0</td>\n      <td>0.00</td>\n      <td>0.00</td>\n      <td>0.00</td>\n      <td>0.00</td>\n      <td>8.04</td>\n      <td>7.4</td>\n      <td>0.64</td>\n      <td>1267.26</td>\n      <td>1.27</td>\n      <td>1518.54</td>\n      <td>0.64</td>\n      <td>1.27</td>\n      <td>1518.54</td>\n    </tr>\n    <tr>\n      <th>18</th>\n      <td>BSG500BR42-2</td>\n      <td>151789.71</td>\n      <td>0.00</td>\n      <td>0.0</td>\n      <td>0.00</td>\n      <td>0.00</td>\n      <td>0.00</td>\n      <td>0.00</td>\n      <td>7.83</td>\n      <td>7.4</td>\n      <td>0.43</td>\n      <td>65269.58</td>\n      <td>65.27</td>\n      <td>78211.91</td>\n      <td>0.43</td>\n      <td>65.27</td>\n      <td>78211.91</td>\n    </tr>\n    <tr>\n      <th>19</th>\n      <td>BSSS560R12-1</td>\n      <td>8578.97</td>\n      <td>0.00</td>\n      <td>0.0</td>\n      <td>0.00</td>\n      <td>0.00</td>\n      <td>0.00</td>\n      <td>0.00</td>\n      <td>11.86</td>\n      <td>9.0</td>\n      <td>2.86</td>\n      <td>24535.85</td>\n      <td>24.54</td>\n      <td>29401.07</td>\n      <td>2.86</td>\n      <td>24.54</td>\n      <td>29401.07</td>\n    </tr>\n    <tr>\n      <th>20</th>\n      <td>BSSS560R22-1</td>\n      <td>2217.47</td>\n      <td>0.00</td>\n      <td>0.0</td>\n      <td>0.00</td>\n      <td>0.00</td>\n      <td>0.00</td>\n      <td>0.00</td>\n      <td>7.72</td>\n      <td>5.9</td>\n      <td>1.82</td>\n      <td>4035.79</td>\n      <td>4.04</td>\n      <td>4836.05</td>\n      <td>1.82</td>\n      <td>4.04</td>\n      <td>4836.05</td>\n    </tr>\n    <tr>\n      <th>21</th>\n      <td>BSSS560R22-2</td>\n      <td>7713.39</td>\n      <td>0.00</td>\n      <td>0.0</td>\n      <td>0.00</td>\n      <td>0.00</td>\n      <td>0.00</td>\n      <td>0.00</td>\n      <td>7.97</td>\n      <td>5.9</td>\n      <td>2.07</td>\n      <td>15966.73</td>\n      <td>15.97</td>\n      <td>19132.77</td>\n      <td>2.07</td>\n      <td>15.97</td>\n      <td>19132.77</td>\n    </tr>\n    <tr>\n      <th>22</th>\n      <td>EM12K-1</td>\n      <td>125.31</td>\n      <td>2.22</td>\n      <td>2.0</td>\n      <td>0.22</td>\n      <td>27.57</td>\n      <td>0.03</td>\n      <td>47.36</td>\n      <td>0.00</td>\n      <td>0.0</td>\n      <td>0.00</td>\n      <td>0.00</td>\n      <td>0.00</td>\n      <td>0.00</td>\n      <td>0.22</td>\n      <td>0.03</td>\n      <td>47.36</td>\n    </tr>\n    <tr>\n      <th>23</th>\n      <td>KWSB500BWR R11-1</td>\n      <td>2948.76</td>\n      <td>0.00</td>\n      <td>0.0</td>\n      <td>0.00</td>\n      <td>0.00</td>\n      <td>0.00</td>\n      <td>0.00</td>\n      <td>8.70</td>\n      <td>8.5</td>\n      <td>0.20</td>\n      <td>589.75</td>\n      <td>0.59</td>\n      <td>706.69</td>\n      <td>0.20</td>\n      <td>0.59</td>\n      <td>706.69</td>\n    </tr>\n    <tr>\n      <th>24</th>\n      <td>KWSB500BWR R12-1</td>\n      <td>1364.83</td>\n      <td>0.00</td>\n      <td>0.0</td>\n      <td>0.00</td>\n      <td>0.00</td>\n      <td>0.00</td>\n      <td>0.00</td>\n      <td>9.84</td>\n      <td>9.0</td>\n      <td>0.84</td>\n      <td>1146.46</td>\n      <td>1.15</td>\n      <td>1373.79</td>\n      <td>0.84</td>\n      <td>1.15</td>\n      <td>1373.79</td>\n    </tr>\n    <tr>\n      <th>25</th>\n      <td>KWSB500BWR R22-1</td>\n      <td>14175.17</td>\n      <td>0.00</td>\n      <td>0.0</td>\n      <td>0.00</td>\n      <td>0.00</td>\n      <td>0.00</td>\n      <td>0.00</td>\n      <td>7.67</td>\n      <td>5.9</td>\n      <td>1.77</td>\n      <td>25090.06</td>\n      <td>25.09</td>\n      <td>30065.18</td>\n      <td>1.77</td>\n      <td>25.09</td>\n      <td>30065.18</td>\n    </tr>\n    <tr>\n      <th>26</th>\n      <td>S235 JR-A-1</td>\n      <td>4384.92</td>\n      <td>3.55</td>\n      <td>2.8</td>\n      <td>0.75</td>\n      <td>3288.69</td>\n      <td>3.29</td>\n      <td>5650.20</td>\n      <td>10.57</td>\n      <td>9.0</td>\n      <td>1.57</td>\n      <td>6884.32</td>\n      <td>6.88</td>\n      <td>8249.42</td>\n      <td>2.32</td>\n      <td>10.17</td>\n      <td>13899.61</td>\n    </tr>\n    <tr>\n      <th>27</th>\n      <td>S235 JR-A-2</td>\n      <td>19308.20</td>\n      <td>0.00</td>\n      <td>0.0</td>\n      <td>0.00</td>\n      <td>0.00</td>\n      <td>0.00</td>\n      <td>0.00</td>\n      <td>10.32</td>\n      <td>9.0</td>\n      <td>1.32</td>\n      <td>25486.83</td>\n      <td>25.49</td>\n      <td>30540.62</td>\n      <td>1.32</td>\n      <td>25.49</td>\n      <td>30540.62</td>\n    </tr>\n    <tr>\n      <th>28</th>\n      <td>S275 JR-A-1</td>\n      <td>23003.44</td>\n      <td>2.24</td>\n      <td>2.1</td>\n      <td>0.14</td>\n      <td>3220.48</td>\n      <td>3.22</td>\n      <td>5533.01</td>\n      <td>14.64</td>\n      <td>13.6</td>\n      <td>1.04</td>\n      <td>23923.58</td>\n      <td>23.92</td>\n      <td>28667.40</td>\n      <td>1.18</td>\n      <td>27.14</td>\n      <td>34200.41</td>\n    </tr>\n    <tr>\n      <th>29</th>\n      <td>S275 JR-A-2</td>\n      <td>75502.05</td>\n      <td>0.00</td>\n      <td>0.0</td>\n      <td>0.00</td>\n      <td>0.00</td>\n      <td>0.00</td>\n      <td>0.00</td>\n      <td>14.70</td>\n      <td>13.6</td>\n      <td>1.10</td>\n      <td>83052.26</td>\n      <td>83.05</td>\n      <td>99520.72</td>\n      <td>1.10</td>\n      <td>83.05</td>\n      <td>99520.72</td>\n    </tr>\n    <tr>\n      <th>30</th>\n      <td>S275 JR-AAA-1</td>\n      <td>12155.00</td>\n      <td>0.00</td>\n      <td>0.0</td>\n      <td>0.00</td>\n      <td>0.00</td>\n      <td>0.00</td>\n      <td>0.00</td>\n      <td>14.42</td>\n      <td>13.6</td>\n      <td>0.82</td>\n      <td>9967.10</td>\n      <td>9.97</td>\n      <td>11943.48</td>\n      <td>0.82</td>\n      <td>9.97</td>\n      <td>11943.48</td>\n    </tr>\n    <tr>\n      <th>31</th>\n      <td>S275 JR-AAA-2</td>\n      <td>112660.24</td>\n      <td>0.00</td>\n      <td>0.0</td>\n      <td>0.00</td>\n      <td>0.00</td>\n      <td>0.00</td>\n      <td>0.00</td>\n      <td>14.53</td>\n      <td>13.6</td>\n      <td>0.93</td>\n      <td>104774.03</td>\n      <td>104.77</td>\n      <td>125549.71</td>\n      <td>0.93</td>\n      <td>104.77</td>\n      <td>125549.71</td>\n    </tr>\n    <tr>\n      <th>32</th>\n      <td>S355 G11-A-1</td>\n      <td>1886.05</td>\n      <td>2.07</td>\n      <td>1.6</td>\n      <td>0.47</td>\n      <td>886.44</td>\n      <td>0.89</td>\n      <td>1522.97</td>\n      <td>18.52</td>\n      <td>16.4</td>\n      <td>2.12</td>\n      <td>3998.42</td>\n      <td>4.00</td>\n      <td>4791.27</td>\n      <td>2.59</td>\n      <td>4.88</td>\n      <td>6314.24</td>\n    </tr>\n    <tr>\n      <th>33</th>\n      <td>S355 G11-A-2</td>\n      <td>5001.66</td>\n      <td>0.00</td>\n      <td>0.0</td>\n      <td>0.00</td>\n      <td>0.00</td>\n      <td>0.00</td>\n      <td>0.00</td>\n      <td>17.10</td>\n      <td>16.4</td>\n      <td>0.70</td>\n      <td>3501.17</td>\n      <td>3.50</td>\n      <td>4195.41</td>\n      <td>0.70</td>\n      <td>3.50</td>\n      <td>4195.41</td>\n    </tr>\n    <tr>\n      <th>34</th>\n      <td>S355 J2-A-1</td>\n      <td>5487.36</td>\n      <td>1.88</td>\n      <td>1.3</td>\n      <td>0.58</td>\n      <td>3182.67</td>\n      <td>3.18</td>\n      <td>5468.05</td>\n      <td>0.00</td>\n      <td>0.0</td>\n      <td>0.00</td>\n      <td>0.00</td>\n      <td>0.00</td>\n      <td>0.00</td>\n      <td>0.58</td>\n      <td>3.18</td>\n      <td>5468.05</td>\n    </tr>\n    <tr>\n      <th>35</th>\n      <td>S355 JR-B-1</td>\n      <td>1957.46</td>\n      <td>1.84</td>\n      <td>1.6</td>\n      <td>0.24</td>\n      <td>469.79</td>\n      <td>0.47</td>\n      <td>807.13</td>\n      <td>0.00</td>\n      <td>0.0</td>\n      <td>0.00</td>\n      <td>0.00</td>\n      <td>0.00</td>\n      <td>0.00</td>\n      <td>0.24</td>\n      <td>0.47</td>\n      <td>807.13</td>\n    </tr>\n    <tr>\n      <th>36</th>\n      <td>SAE 1008-2</td>\n      <td>20128.32</td>\n      <td>1.50</td>\n      <td>1.3</td>\n      <td>0.20</td>\n      <td>4025.66</td>\n      <td>4.03</td>\n      <td>6916.37</td>\n      <td>0.00</td>\n      <td>0.0</td>\n      <td>0.00</td>\n      <td>0.00</td>\n      <td>0.00</td>\n      <td>0.00</td>\n      <td>0.20</td>\n      <td>4.03</td>\n      <td>6916.37</td>\n    </tr>\n    <tr>\n      <th>37</th>\n      <td>SAE 1012-1</td>\n      <td>129.50</td>\n      <td>2.19</td>\n      <td>2.0</td>\n      <td>0.19</td>\n      <td>24.60</td>\n      <td>0.02</td>\n      <td>42.27</td>\n      <td>8.66</td>\n      <td>6.5</td>\n      <td>2.16</td>\n      <td>279.72</td>\n      <td>0.28</td>\n      <td>335.18</td>\n      <td>2.35</td>\n      <td>0.30</td>\n      <td>377.46</td>\n    </tr>\n    <tr>\n      <th>38</th>\n      <td>SAE 1018-1</td>\n      <td>3862.80</td>\n      <td>0.00</td>\n      <td>0.0</td>\n      <td>0.00</td>\n      <td>0.00</td>\n      <td>0.00</td>\n      <td>0.00</td>\n      <td>10.04</td>\n      <td>8.2</td>\n      <td>1.84</td>\n      <td>7107.56</td>\n      <td>7.11</td>\n      <td>8516.92</td>\n      <td>1.84</td>\n      <td>7.11</td>\n      <td>8516.92</td>\n    </tr>\n    <tr>\n      <th>39</th>\n      <td>SWRH 42B-1</td>\n      <td>279.84</td>\n      <td>1.69</td>\n      <td>1.0</td>\n      <td>0.69</td>\n      <td>193.09</td>\n      <td>0.19</td>\n      <td>331.74</td>\n      <td>0.00</td>\n      <td>0.0</td>\n      <td>0.00</td>\n      <td>0.00</td>\n      <td>0.00</td>\n      <td>0.00</td>\n      <td>0.69</td>\n      <td>0.19</td>\n      <td>331.74</td>\n    </tr>\n    <tr>\n      <th>40</th>\n      <td>SWRH 47B-1</td>\n      <td>617.34</td>\n      <td>1.32</td>\n      <td>1.0</td>\n      <td>0.32</td>\n      <td>197.55</td>\n      <td>0.20</td>\n      <td>339.40</td>\n      <td>0.00</td>\n      <td>0.0</td>\n      <td>0.00</td>\n      <td>0.00</td>\n      <td>0.00</td>\n      <td>0.00</td>\n      <td>0.32</td>\n      <td>0.20</td>\n      <td>339.40</td>\n    </tr>\n    <tr>\n      <th>41</th>\n      <td>SWRH 52B-1</td>\n      <td>294.50</td>\n      <td>1.82</td>\n      <td>1.0</td>\n      <td>0.82</td>\n      <td>241.49</td>\n      <td>0.24</td>\n      <td>414.89</td>\n      <td>0.00</td>\n      <td>0.0</td>\n      <td>0.00</td>\n      <td>0.00</td>\n      <td>0.00</td>\n      <td>0.00</td>\n      <td>0.82</td>\n      <td>0.24</td>\n      <td>414.89</td>\n    </tr>\n    <tr>\n      <th>42</th>\n      <td>SWRH 57B-1</td>\n      <td>319.42</td>\n      <td>1.52</td>\n      <td>1.0</td>\n      <td>0.52</td>\n      <td>166.10</td>\n      <td>0.17</td>\n      <td>285.36</td>\n      <td>0.00</td>\n      <td>0.0</td>\n      <td>0.00</td>\n      <td>0.00</td>\n      <td>0.00</td>\n      <td>0.00</td>\n      <td>0.52</td>\n      <td>0.17</td>\n      <td>285.36</td>\n    </tr>\n    <tr>\n      <th>43</th>\n      <td>SWRH 62B-1</td>\n      <td>2024.89</td>\n      <td>1.29</td>\n      <td>1.0</td>\n      <td>0.29</td>\n      <td>587.22</td>\n      <td>0.59</td>\n      <td>1008.88</td>\n      <td>0.00</td>\n      <td>0.0</td>\n      <td>0.00</td>\n      <td>0.00</td>\n      <td>0.00</td>\n      <td>0.00</td>\n      <td>0.29</td>\n      <td>0.59</td>\n      <td>1008.88</td>\n    </tr>\n    <tr>\n      <th>44</th>\n      <td>SWRH 67B-1</td>\n      <td>310.35</td>\n      <td>1.32</td>\n      <td>1.0</td>\n      <td>0.32</td>\n      <td>99.31</td>\n      <td>0.10</td>\n      <td>170.62</td>\n      <td>0.00</td>\n      <td>0.0</td>\n      <td>0.00</td>\n      <td>0.00</td>\n      <td>0.00</td>\n      <td>0.00</td>\n      <td>0.32</td>\n      <td>0.10</td>\n      <td>170.62</td>\n    </tr>\n    <tr>\n      <th>45</th>\n      <td>SWRY 11-1</td>\n      <td>14536.37</td>\n      <td>0.00</td>\n      <td>0.0</td>\n      <td>0.00</td>\n      <td>0.00</td>\n      <td>0.00</td>\n      <td>0.00</td>\n      <td>2.45</td>\n      <td>1.5</td>\n      <td>0.95</td>\n      <td>13809.55</td>\n      <td>13.81</td>\n      <td>16547.86</td>\n      <td>0.95</td>\n      <td>13.81</td>\n      <td>16547.86</td>\n    </tr>\n    <tr>\n      <th>46</th>\n      <td>Total</td>\n      <td>842531.28</td>\n      <td>37.07</td>\n      <td>28.7</td>\n      <td>8.37</td>\n      <td>21585.55</td>\n      <td>21.59</td>\n      <td>37085.47</td>\n      <td>309.45</td>\n      <td>262.1</td>\n      <td>47.35</td>\n      <td>1082259.36</td>\n      <td>1082.26</td>\n      <td>1296861.03</td>\n      <td>55.72</td>\n      <td>1103.84</td>\n      <td>1333946.50</td>\n    </tr>\n  </tbody>\n</table>\n</div>"
     },
     "execution_count": 260,
     "metadata": {},
     "output_type": "execute_result"
    }
   ],
   "source": [
    "\n",
    "\n",
    "final_results\n",
    "\n"
   ],
   "metadata": {
    "collapsed": false,
    "ExecuteTime": {
     "end_time": "2024-03-25T08:02:27.736436Z",
     "start_time": "2024-03-25T08:02:27.707130Z"
    }
   },
   "id": "424a7bed6f518210",
   "execution_count": 260
  },
  {
   "cell_type": "code",
   "outputs": [
    {
     "data": {
      "text/plain": "True"
     },
     "execution_count": 264,
     "metadata": {},
     "output_type": "execute_result"
    }
   ],
   "source": [
    "\n",
    "\n",
    "# Check if all 'Steel Grade' values in df2 are present in df1\n",
    "all_in_reverse = fesmin_data[\"SteelGrade\"].isin(final_results[\"SteelGrade\"]).all()\n",
    "\n",
    "all_in_reverse\n",
    "\n"
   ],
   "metadata": {
    "collapsed": false,
    "ExecuteTime": {
     "end_time": "2024-03-25T08:04:35.191604Z",
     "start_time": "2024-03-25T08:04:35.186580Z"
    }
   },
   "id": "de546b600bf80d6c",
   "execution_count": 264
  },
  {
   "cell_type": "code",
   "outputs": [
    {
     "data": {
      "text/plain": "True"
     },
     "execution_count": 265,
     "metadata": {},
     "output_type": "execute_result"
    }
   ],
   "source": [
    "\n",
    "all_in_reverse = fesi_data[\"SteelGrade\"].isin(final_results[\"SteelGrade\"]).all()\n",
    "\n",
    "all_in_reverse\n",
    "\n"
   ],
   "metadata": {
    "collapsed": false,
    "ExecuteTime": {
     "end_time": "2024-03-25T08:04:43.946313Z",
     "start_time": "2024-03-25T08:04:43.930486Z"
    }
   },
   "id": "a12c5a30c3c11cfa",
   "execution_count": 265
  },
  {
   "cell_type": "code",
   "outputs": [],
   "source": [
    "\n",
    "\n",
    "\n"
   ],
   "metadata": {
    "collapsed": false
   },
   "id": "f510af566af2e2d3"
  },
  {
   "cell_type": "code",
   "outputs": [],
   "source": [
    "numerical_columns = ['Billet Mass (Tons)',\n",
    "                     'FeSi Actual (KG/Ton)',\n",
    "                     'FeSi Target (KG/Ton)',\n",
    "                     'FeSi Overshot (KG/Ton)',\n",
    "                     'FeSi Overshot (KG)',\n",
    "                     'FeSi Overshot (Tons)',\n",
    "                     'FeSi Overshot (Cost$)',\n",
    "                     'FeSiMn Actual (KG/Ton)',\n",
    "                     'FeSiMn Target (KG/Ton)',\n",
    "                     'FeSiMn Overshot (KG/Ton)',\n",
    "                     'FeSiMn Overshot (KG)',\n",
    "                     'FeSiMn Overshot (Tons)',\n",
    "                     'FeSiMn Overshot (Cost$)',\n",
    "                     'Ferroalloys Overshot (KG/Ton)',\n",
    "                     'Ferroalloys Overshot (Tons)',\n",
    "                     'Ferroalloys Overshot Cost ($USD)']\n",
    "\n",
    "final_results[numerical_columns] = final_results[numerical_columns].astype(float)\n",
    "\n",
    "numerical_df = final_results.select_dtypes(include=[np.number])\n",
    "\n",
    "\n",
    "for col in numerical_columns:\n",
    "    final_results[col] = final_results[col].apply(lambda x: f\"{x:.2f}\")\n",
    "\n",
    "final_results[numerical_columns] = final_results[numerical_columns].astype(float)\n",
    "\n"
   ],
   "metadata": {
    "collapsed": false
   },
   "id": "cc8cdb0ff2964a7",
   "execution_count": null
  },
  {
   "cell_type": "markdown",
   "source": [
    "### Validate Again:"
   ],
   "metadata": {
    "collapsed": false
   },
   "id": "9c62c935b44cfdd5"
  },
  {
   "cell_type": "code",
   "outputs": [
    {
     "data": {
      "text/plain": "37.07"
     },
     "execution_count": 246,
     "metadata": {},
     "output_type": "execute_result"
    }
   ],
   "source": [
    "\n",
    "\n",
    "fesi_data[\"FeSi Actual (KG/Ton)\"].sum()\n"
   ],
   "metadata": {
    "collapsed": false,
    "ExecuteTime": {
     "end_time": "2024-03-25T06:06:04.376644Z",
     "start_time": "2024-03-25T06:06:04.370126Z"
    }
   },
   "id": "4cbfd1b13a36856e",
   "execution_count": 246
  },
  {
   "cell_type": "code",
   "outputs": [
    {
     "data": {
      "text/plain": "28.7"
     },
     "execution_count": 247,
     "metadata": {},
     "output_type": "execute_result"
    }
   ],
   "source": [
    "\n",
    "fesi_data[\"FeSi Target (KG/Ton)\"].sum()\n"
   ],
   "metadata": {
    "collapsed": false,
    "ExecuteTime": {
     "end_time": "2024-03-25T06:06:25.768001Z",
     "start_time": "2024-03-25T06:06:25.765209Z"
    }
   },
   "id": "efc948e6a2182108",
   "execution_count": 247
  },
  {
   "cell_type": "code",
   "outputs": [
    {
     "data": {
      "text/plain": "874910.3799999999"
     },
     "execution_count": 248,
     "metadata": {},
     "output_type": "execute_result"
    }
   ],
   "source": [
    "\n",
    "fesi_data[\"Billet Mass (Tons)\"].sum() + fesmin_data[\"Billet Mass (Tons)\"].sum()\n"
   ],
   "metadata": {
    "collapsed": false,
    "ExecuteTime": {
     "end_time": "2024-03-25T06:06:58.855395Z",
     "start_time": "2024-03-25T06:06:58.847812Z"
    }
   },
   "id": "7b2983ba4924f1b8",
   "execution_count": 248
  },
  {
   "cell_type": "code",
   "outputs": [
    {
     "data": {
      "text/plain": "55.72"
     },
     "execution_count": 253,
     "metadata": {},
     "output_type": "execute_result"
    }
   ],
   "source": [
    "\n",
    "fesi_data[\"FeSi Overshot (KG/Ton)\"].sum() + fesmin_data[\"FeSiMn Overshot (KG/Ton)\"].sum()\n",
    "\n"
   ],
   "metadata": {
    "collapsed": false,
    "ExecuteTime": {
     "end_time": "2024-03-25T06:15:32.788830Z",
     "start_time": "2024-03-25T06:15:32.780335Z"
    }
   },
   "id": "78aa5cd9a1814fea",
   "execution_count": 253
  },
  {
   "cell_type": "code",
   "outputs": [
    {
     "data": {
      "text/plain": "1103.84490678"
     },
     "execution_count": 252,
     "metadata": {},
     "output_type": "execute_result"
    }
   ],
   "source": [
    "\n",
    "fesmin_data[\"FeSiMn Overshot (Tons)\"].sum() + fesi_data[\"FeSi Overshot (Tons)\"].sum()\n"
   ],
   "metadata": {
    "collapsed": false,
    "ExecuteTime": {
     "end_time": "2024-03-25T06:11:40.924008Z",
     "start_time": "2024-03-25T06:11:40.920168Z"
    }
   },
   "id": "ad6076a0c0afbb0d",
   "execution_count": 252
  },
  {
   "cell_type": "code",
   "outputs": [
    {
     "data": {
      "text/plain": "1333946.498867269"
     },
     "execution_count": 254,
     "metadata": {},
     "output_type": "execute_result"
    }
   ],
   "source": [
    "\n",
    "fesmin_data[\"FeSiMn Overshot (Cost$)\"].sum() + fesi_data[\"FeSi Overshot (Cost$)\"].sum()\n"
   ],
   "metadata": {
    "collapsed": false,
    "ExecuteTime": {
     "end_time": "2024-03-25T06:16:36.302949Z",
     "start_time": "2024-03-25T06:16:36.298762Z"
    }
   },
   "id": "327b3ed3dbbcd0c5",
   "execution_count": 254
  },
  {
   "cell_type": "code",
   "outputs": [
    {
     "data": {
      "text/plain": "1296861.0326572799"
     },
     "execution_count": 259,
     "metadata": {},
     "output_type": "execute_result"
    }
   ],
   "source": [
    "\n",
    "fesmin_data[\"FeSiMn Overshot (Cost$)\"].sum()\n"
   ],
   "metadata": {
    "collapsed": false,
    "ExecuteTime": {
     "end_time": "2024-03-25T07:07:41.263213Z",
     "start_time": "2024-03-25T07:07:41.256063Z"
    }
   },
   "id": "4a7a8f9ecad17c05",
   "execution_count": 259
  },
  {
   "cell_type": "code",
   "outputs": [
    {
     "data": {
      "text/plain": "   SteelGrade  Billet Mass (Tons)  FeSi Actual (KG/Ton)  FeSi Target (KG/Ton)  \\\n46      Total           842531.28                 37.07                  28.7   \n\n    FeSi Overshot (KG/Ton)  FeSi Overshot (KG)  FeSi Overshot (Tons)  \\\n46                    8.37            21585.55                 21.59   \n\n    FeSi Overshot (Cost$)  FeSiMn Actual (KG/Ton)  FeSiMn Target (KG/Ton)  \\\n46               37085.47                  309.45                   262.1   \n\n    FeSiMn Overshot (KG/Ton)  FeSiMn Overshot (KG)  FeSiMn Overshot (Tons)  \\\n46                     47.35            1082259.36                 1082.26   \n\n    FeSiMn Overshot (Cost$)  Ferroalloys Overshot (KG/Ton)  \\\n46               1296861.03                          55.72   \n\n    Ferroalloys Overshot (Tons)  Ferroalloys Overshot Cost ($USD)  \n46                      1103.84                         1333946.5  ",
      "text/html": "<div>\n<style scoped>\n    .dataframe tbody tr th:only-of-type {\n        vertical-align: middle;\n    }\n\n    .dataframe tbody tr th {\n        vertical-align: top;\n    }\n\n    .dataframe thead th {\n        text-align: right;\n    }\n</style>\n<table border=\"1\" class=\"dataframe\">\n  <thead>\n    <tr style=\"text-align: right;\">\n      <th></th>\n      <th>SteelGrade</th>\n      <th>Billet Mass (Tons)</th>\n      <th>FeSi Actual (KG/Ton)</th>\n      <th>FeSi Target (KG/Ton)</th>\n      <th>FeSi Overshot (KG/Ton)</th>\n      <th>FeSi Overshot (KG)</th>\n      <th>FeSi Overshot (Tons)</th>\n      <th>FeSi Overshot (Cost$)</th>\n      <th>FeSiMn Actual (KG/Ton)</th>\n      <th>FeSiMn Target (KG/Ton)</th>\n      <th>FeSiMn Overshot (KG/Ton)</th>\n      <th>FeSiMn Overshot (KG)</th>\n      <th>FeSiMn Overshot (Tons)</th>\n      <th>FeSiMn Overshot (Cost$)</th>\n      <th>Ferroalloys Overshot (KG/Ton)</th>\n      <th>Ferroalloys Overshot (Tons)</th>\n      <th>Ferroalloys Overshot Cost ($USD)</th>\n    </tr>\n  </thead>\n  <tbody>\n    <tr>\n      <th>46</th>\n      <td>Total</td>\n      <td>842531.28</td>\n      <td>37.07</td>\n      <td>28.7</td>\n      <td>8.37</td>\n      <td>21585.55</td>\n      <td>21.59</td>\n      <td>37085.47</td>\n      <td>309.45</td>\n      <td>262.1</td>\n      <td>47.35</td>\n      <td>1082259.36</td>\n      <td>1082.26</td>\n      <td>1296861.03</td>\n      <td>55.72</td>\n      <td>1103.84</td>\n      <td>1333946.5</td>\n    </tr>\n  </tbody>\n</table>\n</div>"
     },
     "execution_count": 245,
     "metadata": {},
     "output_type": "execute_result"
    }
   ],
   "source": [
    "\n",
    "\n",
    "final_results[final_results[\"SteelGrade\"] == \"Total\"]\n"
   ],
   "metadata": {
    "collapsed": false,
    "ExecuteTime": {
     "end_time": "2024-03-25T06:02:31.900282Z",
     "start_time": "2024-03-25T06:02:31.880337Z"
    }
   },
   "id": "1d5d883eb2430196",
   "execution_count": 245
  },
  {
   "cell_type": "code",
   "outputs": [
    {
     "data": {
      "text/plain": "1296861.0326572799"
     },
     "execution_count": 256,
     "metadata": {},
     "output_type": "execute_result"
    }
   ],
   "source": [
    "\n",
    "\n",
    "fesmin_data[\"FeSiMn Overshot (Cost$)\"].sum()\n"
   ],
   "metadata": {
    "collapsed": false,
    "ExecuteTime": {
     "end_time": "2024-03-25T06:17:50.789027Z",
     "start_time": "2024-03-25T06:17:50.786598Z"
    }
   },
   "id": "2533229aaf32c749",
   "execution_count": 256
  },
  {
   "cell_type": "code",
   "outputs": [
    {
     "data": {
      "text/plain": "37085.46620998909"
     },
     "execution_count": 257,
     "metadata": {},
     "output_type": "execute_result"
    }
   ],
   "source": [
    "\n",
    "fesi_data[\"FeSi Overshot (Cost$)\"].sum()\n"
   ],
   "metadata": {
    "collapsed": false,
    "ExecuteTime": {
     "end_time": "2024-03-25T06:18:17.514258Z",
     "start_time": "2024-03-25T06:18:17.510185Z"
    }
   },
   "id": "a6b80991c7131ffe",
   "execution_count": 257
  },
  {
   "cell_type": "markdown",
   "id": "72acd6588d30dc46",
   "metadata": {
    "collapsed": false
   },
   "source": [
    "\n",
    "\n",
    "SMP2 2023 Base estimates:\n",
    "FeSiMn overshot Cost: 1296861 USD \n",
    "FeSi Overshot Cost: 37085 USD \n",
    "Overall Cost: 1333946 USD \n",
    "Ferroalloys Overshot (Tons): 1103\n",
    "\n"
   ]
  },
  {
   "cell_type": "code",
   "outputs": [
    {
     "data": {
      "text/plain": "<pandas.io.formats.style.Styler at 0x134fb4be0>",
      "text/html": "<style type=\"text/css\">\n#T_33f4a_row0_col1, #T_33f4a_row0_col2, #T_33f4a_row0_col3, #T_33f4a_row0_col4, #T_33f4a_row0_col5, #T_33f4a_row0_col6, #T_33f4a_row1_col1, #T_33f4a_row1_col2, #T_33f4a_row1_col3, #T_33f4a_row1_col4, #T_33f4a_row1_col5, #T_33f4a_row1_col6, #T_33f4a_row2_col1, #T_33f4a_row2_col2, #T_33f4a_row2_col3, #T_33f4a_row2_col4, #T_33f4a_row2_col5, #T_33f4a_row2_col6, #T_33f4a_row3_col10, #T_33f4a_row3_col11, #T_33f4a_row3_col12, #T_33f4a_row3_col14, #T_33f4a_row3_col15, #T_33f4a_row4_col10, #T_33f4a_row4_col11, #T_33f4a_row4_col12, #T_33f4a_row4_col14, #T_33f4a_row5_col1, #T_33f4a_row5_col2, #T_33f4a_row5_col3, #T_33f4a_row5_col4, #T_33f4a_row5_col5, #T_33f4a_row5_col6, #T_33f4a_row6_col1, #T_33f4a_row6_col2, #T_33f4a_row6_col3, #T_33f4a_row6_col4, #T_33f4a_row6_col5, #T_33f4a_row6_col6, #T_33f4a_row7_col1, #T_33f4a_row7_col2, #T_33f4a_row7_col3, #T_33f4a_row7_col4, #T_33f4a_row7_col5, #T_33f4a_row7_col6, #T_33f4a_row7_col9, #T_33f4a_row7_col10, #T_33f4a_row7_col11, #T_33f4a_row7_col12, #T_33f4a_row7_col13, #T_33f4a_row7_col14, #T_33f4a_row7_col15, #T_33f4a_row8_col7, #T_33f4a_row8_col8, #T_33f4a_row8_col9, #T_33f4a_row8_col10, #T_33f4a_row8_col11, #T_33f4a_row8_col12, #T_33f4a_row8_col14, #T_33f4a_row8_col15, #T_33f4a_row9_col7, #T_33f4a_row9_col8, #T_33f4a_row9_col9, #T_33f4a_row9_col10, #T_33f4a_row9_col11, #T_33f4a_row9_col12, #T_33f4a_row9_col14, #T_33f4a_row9_col15, #T_33f4a_row10_col7, #T_33f4a_row10_col8, #T_33f4a_row10_col9, #T_33f4a_row10_col10, #T_33f4a_row10_col11, #T_33f4a_row10_col12, #T_33f4a_row10_col14, #T_33f4a_row10_col15, #T_33f4a_row11_col4, #T_33f4a_row11_col5, #T_33f4a_row11_col6, #T_33f4a_row11_col7, #T_33f4a_row11_col8, #T_33f4a_row11_col9, #T_33f4a_row11_col10, #T_33f4a_row11_col11, #T_33f4a_row11_col12, #T_33f4a_row11_col13, #T_33f4a_row11_col14, #T_33f4a_row11_col15, #T_33f4a_row12_col1, #T_33f4a_row12_col2, #T_33f4a_row12_col3, #T_33f4a_row12_col4, #T_33f4a_row12_col5, #T_33f4a_row12_col6, #T_33f4a_row13_col1, #T_33f4a_row13_col2, #T_33f4a_row13_col3, #T_33f4a_row13_col4, #T_33f4a_row13_col5, #T_33f4a_row13_col6, #T_33f4a_row14_col1, #T_33f4a_row14_col2, #T_33f4a_row14_col3, #T_33f4a_row14_col4, #T_33f4a_row14_col5, #T_33f4a_row14_col6, #T_33f4a_row14_col10, #T_33f4a_row14_col11, #T_33f4a_row14_col12, #T_33f4a_row14_col14, #T_33f4a_row14_col15, #T_33f4a_row15_col1, #T_33f4a_row15_col2, #T_33f4a_row15_col3, #T_33f4a_row15_col4, #T_33f4a_row15_col5, #T_33f4a_row15_col6, #T_33f4a_row16_col1, #T_33f4a_row16_col2, #T_33f4a_row16_col3, #T_33f4a_row16_col4, #T_33f4a_row16_col5, #T_33f4a_row16_col6, #T_33f4a_row17_col1, #T_33f4a_row17_col2, #T_33f4a_row17_col3, #T_33f4a_row17_col4, #T_33f4a_row17_col5, #T_33f4a_row17_col6, #T_33f4a_row17_col10, #T_33f4a_row17_col11, #T_33f4a_row17_col12, #T_33f4a_row17_col14, #T_33f4a_row17_col15, #T_33f4a_row18_col1, #T_33f4a_row18_col2, #T_33f4a_row18_col3, #T_33f4a_row18_col4, #T_33f4a_row18_col5, #T_33f4a_row18_col6, #T_33f4a_row19_col1, #T_33f4a_row19_col2, #T_33f4a_row19_col3, #T_33f4a_row19_col4, #T_33f4a_row19_col5, #T_33f4a_row19_col6, #T_33f4a_row20_col1, #T_33f4a_row20_col2, #T_33f4a_row20_col3, #T_33f4a_row20_col4, #T_33f4a_row20_col5, #T_33f4a_row20_col6, #T_33f4a_row20_col10, #T_33f4a_row20_col11, #T_33f4a_row20_col12, #T_33f4a_row20_col14, #T_33f4a_row20_col15, #T_33f4a_row21_col1, #T_33f4a_row21_col2, #T_33f4a_row21_col3, #T_33f4a_row21_col4, #T_33f4a_row21_col5, #T_33f4a_row21_col6, #T_33f4a_row22_col4, #T_33f4a_row22_col5, #T_33f4a_row22_col6, #T_33f4a_row22_col7, #T_33f4a_row22_col8, #T_33f4a_row22_col9, #T_33f4a_row22_col10, #T_33f4a_row22_col11, #T_33f4a_row22_col12, #T_33f4a_row22_col13, #T_33f4a_row22_col14, #T_33f4a_row22_col15, #T_33f4a_row23_col1, #T_33f4a_row23_col2, #T_33f4a_row23_col3, #T_33f4a_row23_col4, #T_33f4a_row23_col5, #T_33f4a_row23_col6, #T_33f4a_row23_col10, #T_33f4a_row23_col11, #T_33f4a_row23_col12, #T_33f4a_row23_col13, #T_33f4a_row23_col14, #T_33f4a_row23_col15, #T_33f4a_row24_col1, #T_33f4a_row24_col2, #T_33f4a_row24_col3, #T_33f4a_row24_col4, #T_33f4a_row24_col5, #T_33f4a_row24_col6, #T_33f4a_row24_col10, #T_33f4a_row24_col11, #T_33f4a_row24_col12, #T_33f4a_row24_col14, #T_33f4a_row24_col15, #T_33f4a_row25_col1, #T_33f4a_row25_col2, #T_33f4a_row25_col3, #T_33f4a_row25_col4, #T_33f4a_row25_col5, #T_33f4a_row25_col6, #T_33f4a_row27_col1, #T_33f4a_row27_col2, #T_33f4a_row27_col3, #T_33f4a_row27_col4, #T_33f4a_row27_col5, #T_33f4a_row27_col6, #T_33f4a_row29_col1, #T_33f4a_row29_col2, #T_33f4a_row29_col3, #T_33f4a_row29_col4, #T_33f4a_row29_col5, #T_33f4a_row29_col6, #T_33f4a_row30_col1, #T_33f4a_row30_col2, #T_33f4a_row30_col3, #T_33f4a_row30_col4, #T_33f4a_row30_col5, #T_33f4a_row30_col6, #T_33f4a_row31_col1, #T_33f4a_row31_col2, #T_33f4a_row31_col3, #T_33f4a_row31_col4, #T_33f4a_row31_col5, #T_33f4a_row31_col6, #T_33f4a_row32_col10, #T_33f4a_row32_col11, #T_33f4a_row32_col12, #T_33f4a_row33_col1, #T_33f4a_row33_col2, #T_33f4a_row33_col3, #T_33f4a_row33_col4, #T_33f4a_row33_col5, #T_33f4a_row33_col6, #T_33f4a_row33_col10, #T_33f4a_row33_col11, #T_33f4a_row33_col12, #T_33f4a_row33_col14, #T_33f4a_row33_col15, #T_33f4a_row34_col7, #T_33f4a_row34_col8, #T_33f4a_row34_col9, #T_33f4a_row34_col10, #T_33f4a_row34_col11, #T_33f4a_row34_col12, #T_33f4a_row34_col14, #T_33f4a_row35_col7, #T_33f4a_row35_col8, #T_33f4a_row35_col9, #T_33f4a_row35_col10, #T_33f4a_row35_col11, #T_33f4a_row35_col12, #T_33f4a_row35_col13, #T_33f4a_row35_col14, #T_33f4a_row35_col15, #T_33f4a_row36_col7, #T_33f4a_row36_col8, #T_33f4a_row36_col9, #T_33f4a_row36_col10, #T_33f4a_row36_col11, #T_33f4a_row36_col12, #T_33f4a_row36_col13, #T_33f4a_row36_col14, #T_33f4a_row37_col4, #T_33f4a_row37_col5, #T_33f4a_row37_col6, #T_33f4a_row37_col10, #T_33f4a_row37_col11, #T_33f4a_row37_col12, #T_33f4a_row37_col14, #T_33f4a_row37_col15, #T_33f4a_row38_col1, #T_33f4a_row38_col2, #T_33f4a_row38_col3, #T_33f4a_row38_col4, #T_33f4a_row38_col5, #T_33f4a_row38_col6, #T_33f4a_row39_col7, #T_33f4a_row39_col8, #T_33f4a_row39_col9, #T_33f4a_row39_col10, #T_33f4a_row39_col11, #T_33f4a_row39_col12, #T_33f4a_row39_col14, #T_33f4a_row39_col15, #T_33f4a_row40_col7, #T_33f4a_row40_col8, #T_33f4a_row40_col9, #T_33f4a_row40_col10, #T_33f4a_row40_col11, #T_33f4a_row40_col12, #T_33f4a_row40_col14, #T_33f4a_row40_col15, #T_33f4a_row41_col7, #T_33f4a_row41_col8, #T_33f4a_row41_col9, #T_33f4a_row41_col10, #T_33f4a_row41_col11, #T_33f4a_row41_col12, #T_33f4a_row41_col14, #T_33f4a_row41_col15, #T_33f4a_row42_col7, #T_33f4a_row42_col8, #T_33f4a_row42_col9, #T_33f4a_row42_col10, #T_33f4a_row42_col11, #T_33f4a_row42_col12, #T_33f4a_row42_col14, #T_33f4a_row42_col15, #T_33f4a_row43_col7, #T_33f4a_row43_col8, #T_33f4a_row43_col9, #T_33f4a_row43_col10, #T_33f4a_row43_col11, #T_33f4a_row43_col12, #T_33f4a_row43_col14, #T_33f4a_row43_col15, #T_33f4a_row44_col7, #T_33f4a_row44_col8, #T_33f4a_row44_col9, #T_33f4a_row44_col10, #T_33f4a_row44_col11, #T_33f4a_row44_col12, #T_33f4a_row44_col14, #T_33f4a_row44_col15, #T_33f4a_row45_col1, #T_33f4a_row45_col2, #T_33f4a_row45_col3, #T_33f4a_row45_col4, #T_33f4a_row45_col5, #T_33f4a_row45_col6 {\n  background-color: #fff5f0;\n  color: #000000;\n}\n#T_33f4a_row0_col7, #T_33f4a_row1_col7, #T_33f4a_row1_col8, #T_33f4a_row3_col7, #T_33f4a_row3_col8, #T_33f4a_row4_col7, #T_33f4a_row4_col8, #T_33f4a_row4_col9, #T_33f4a_row4_col13, #T_33f4a_row5_col7, #T_33f4a_row10_col4, #T_33f4a_row10_col5, #T_33f4a_row10_col6, #T_33f4a_row11_col3, #T_33f4a_row12_col7, #T_33f4a_row13_col7, #T_33f4a_row15_col7, #T_33f4a_row16_col7, #T_33f4a_row17_col7, #T_33f4a_row18_col7, #T_33f4a_row20_col7, #T_33f4a_row21_col7, #T_33f4a_row22_col3, #T_33f4a_row25_col7, #T_33f4a_row27_col10, #T_33f4a_row27_col11, #T_33f4a_row27_col12, #T_33f4a_row28_col14, #T_33f4a_row28_col15, #T_33f4a_row36_col3, #T_33f4a_row37_col8, #T_33f4a_row43_col4, #T_33f4a_row43_col5, #T_33f4a_row43_col6 {\n  background-color: #fff1ea;\n  color: #000000;\n}\n#T_33f4a_row0_col8, #T_33f4a_row2_col10, #T_33f4a_row2_col11, #T_33f4a_row2_col12, #T_33f4a_row2_col14, #T_33f4a_row2_col15, #T_33f4a_row5_col8, #T_33f4a_row12_col8, #T_33f4a_row12_col10, #T_33f4a_row12_col11, #T_33f4a_row12_col12, #T_33f4a_row12_col14, #T_33f4a_row12_col15, #T_33f4a_row13_col8, #T_33f4a_row13_col10, #T_33f4a_row13_col11, #T_33f4a_row13_col12, #T_33f4a_row13_col14, #T_33f4a_row13_col15, #T_33f4a_row15_col8, #T_33f4a_row16_col8, #T_33f4a_row19_col10, #T_33f4a_row19_col11, #T_33f4a_row19_col12, #T_33f4a_row19_col14, #T_33f4a_row19_col15, #T_33f4a_row20_col8, #T_33f4a_row21_col8, #T_33f4a_row25_col8, #T_33f4a_row25_col10, #T_33f4a_row25_col11, #T_33f4a_row25_col12, #T_33f4a_row25_col14, #T_33f4a_row25_col15, #T_33f4a_row27_col13, #T_33f4a_row27_col14, #T_33f4a_row27_col15, #T_33f4a_row28_col9, #T_33f4a_row28_col10, #T_33f4a_row28_col11, #T_33f4a_row28_col12, #T_33f4a_row28_col13, #T_33f4a_row29_col9, #T_33f4a_row31_col9, #T_33f4a_row35_col4, #T_33f4a_row35_col5, #T_33f4a_row35_col6, #T_33f4a_row37_col3, #T_33f4a_row45_col9 {\n  background-color: #fff2eb;\n  color: #000000;\n}\n#T_33f4a_row0_col9, #T_33f4a_row3_col13, #T_33f4a_row4_col4, #T_33f4a_row4_col5, #T_33f4a_row4_col6, #T_33f4a_row5_col13, #T_33f4a_row7_col8, #T_33f4a_row10_col1, #T_33f4a_row13_col13, #T_33f4a_row15_col13, #T_33f4a_row19_col7, #T_33f4a_row20_col9, #T_33f4a_row21_col13, #T_33f4a_row25_col9, #T_33f4a_row38_col9, #T_33f4a_row40_col1, #T_33f4a_row40_col3, #T_33f4a_row44_col1, #T_33f4a_row44_col3 {\n  background-color: #ffefe8;\n  color: #000000;\n}\n#T_33f4a_row0_col10, #T_33f4a_row0_col11, #T_33f4a_row0_col12, #T_33f4a_row0_col14, #T_33f4a_row0_col15, #T_33f4a_row24_col9, #T_33f4a_row28_col3, #T_33f4a_row29_col13, #T_33f4a_row30_col9, #T_33f4a_row45_col13 {\n  background-color: #fff2ec;\n  color: #000000;\n}\n#T_33f4a_row0_col13, #T_33f4a_row2_col13, #T_33f4a_row3_col9, #T_33f4a_row6_col7, #T_33f4a_row14_col8, #T_33f4a_row17_col8, #T_33f4a_row18_col8, #T_33f4a_row23_col7, #T_33f4a_row25_col13, #T_33f4a_row27_col9, #T_33f4a_row35_col3, #T_33f4a_row37_col7 {\n  background-color: #fff0e9;\n  color: #000000;\n}\n#T_33f4a_row1_col9, #T_33f4a_row8_col1, #T_33f4a_row9_col1, #T_33f4a_row10_col3, #T_33f4a_row12_col9, #T_33f4a_row16_col9, #T_33f4a_row26_col13, #T_33f4a_row32_col4, #T_33f4a_row32_col5, #T_33f4a_row32_col6, #T_33f4a_row36_col1, #T_33f4a_row37_col13, #T_33f4a_row42_col1 {\n  background-color: #ffeee7;\n  color: #000000;\n}\n#T_33f4a_row1_col10, #T_33f4a_row1_col11, #T_33f4a_row1_col12, #T_33f4a_row1_col13, #T_33f4a_row1_col14, #T_33f4a_row1_col15, #T_33f4a_row2_col9, #T_33f4a_row4_col3, #T_33f4a_row6_col8, #T_33f4a_row7_col7, #T_33f4a_row8_col2, #T_33f4a_row9_col2, #T_33f4a_row10_col2, #T_33f4a_row11_col1, #T_33f4a_row11_col2, #T_33f4a_row12_col13, #T_33f4a_row14_col7, #T_33f4a_row16_col13, #T_33f4a_row19_col8, #T_33f4a_row20_col13, #T_33f4a_row23_col8, #T_33f4a_row24_col7, #T_33f4a_row24_col8, #T_33f4a_row26_col7, #T_33f4a_row26_col8, #T_33f4a_row26_col9, #T_33f4a_row27_col7, #T_33f4a_row27_col8, #T_33f4a_row38_col7, #T_33f4a_row38_col8, #T_33f4a_row38_col13, #T_33f4a_row39_col2, #T_33f4a_row40_col2, #T_33f4a_row41_col2, #T_33f4a_row42_col2, #T_33f4a_row43_col1, #T_33f4a_row43_col2, #T_33f4a_row43_col3, #T_33f4a_row44_col2 {\n  background-color: #fff0e8;\n  color: #000000;\n}\n#T_33f4a_row2_col7, #T_33f4a_row6_col13, #T_33f4a_row8_col13, #T_33f4a_row17_col13, #T_33f4a_row18_col9, #T_33f4a_row26_col14, #T_33f4a_row26_col15, #T_33f4a_row30_col10, #T_33f4a_row30_col11, #T_33f4a_row30_col12, #T_33f4a_row30_col14, #T_33f4a_row30_col15, #T_33f4a_row33_col13, #T_33f4a_row34_col13, #T_33f4a_row39_col4, #T_33f4a_row39_col5, #T_33f4a_row39_col6, #T_33f4a_row39_col13, #T_33f4a_row40_col4, #T_33f4a_row40_col5, #T_33f4a_row40_col6, #T_33f4a_row41_col4, #T_33f4a_row41_col5, #T_33f4a_row41_col6, #T_33f4a_row42_col5, #T_33f4a_row42_col13, #T_33f4a_row45_col7 {\n  background-color: #fff4ee;\n  color: #000000;\n}\n#T_33f4a_row2_col8, #T_33f4a_row3_col4, #T_33f4a_row3_col5, #T_33f4a_row3_col6, #T_33f4a_row4_col15, #T_33f4a_row5_col10, #T_33f4a_row5_col11, #T_33f4a_row5_col12, #T_33f4a_row5_col14, #T_33f4a_row5_col15, #T_33f4a_row6_col10, #T_33f4a_row6_col11, #T_33f4a_row6_col12, #T_33f4a_row6_col14, #T_33f4a_row6_col15, #T_33f4a_row9_col13, #T_33f4a_row10_col13, #T_33f4a_row18_col13, #T_33f4a_row23_col9, #T_33f4a_row26_col10, #T_33f4a_row26_col11, #T_33f4a_row26_col12, #T_33f4a_row32_col14, #T_33f4a_row32_col15, #T_33f4a_row34_col15, #T_33f4a_row36_col15, #T_33f4a_row38_col10, #T_33f4a_row38_col11, #T_33f4a_row38_col12, #T_33f4a_row38_col14, #T_33f4a_row38_col15, #T_33f4a_row40_col13, #T_33f4a_row42_col4, #T_33f4a_row42_col6, #T_33f4a_row43_col13, #T_33f4a_row44_col4, #T_33f4a_row44_col5, #T_33f4a_row44_col6, #T_33f4a_row44_col13, #T_33f4a_row45_col8 {\n  background-color: #fff4ef;\n  color: #000000;\n}\n#T_33f4a_row3_col1, #T_33f4a_row29_col10, #T_33f4a_row29_col11, #T_33f4a_row29_col12, #T_33f4a_row29_col14, #T_33f4a_row29_col15 {\n  background-color: #fee8de;\n  color: #000000;\n}\n#T_33f4a_row3_col2, #T_33f4a_row4_col2, #T_33f4a_row8_col3, #T_33f4a_row22_col2, #T_33f4a_row34_col3, #T_33f4a_row37_col2 {\n  background-color: #feeae0;\n  color: #000000;\n}\n#T_33f4a_row3_col3 {\n  background-color: #fee6da;\n  color: #000000;\n}\n#T_33f4a_row4_col1, #T_33f4a_row8_col4, #T_33f4a_row8_col5, #T_33f4a_row8_col6, #T_33f4a_row18_col10, #T_33f4a_row18_col11, #T_33f4a_row18_col12, #T_33f4a_row18_col14, #T_33f4a_row18_col15, #T_33f4a_row19_col9, #T_33f4a_row22_col1, #T_33f4a_row28_col1, #T_33f4a_row32_col7, #T_33f4a_row37_col1, #T_33f4a_row42_col3 {\n  background-color: #ffebe2;\n  color: #000000;\n}\n#T_33f4a_row5_col9, #T_33f4a_row19_col13, #T_33f4a_row28_col7, #T_33f4a_row29_col7, #T_33f4a_row31_col7, #T_33f4a_row34_col1, #T_33f4a_row35_col1, #T_33f4a_row41_col1 {\n  background-color: #ffede5;\n  color: #000000;\n}\n#T_33f4a_row6_col9, #T_33f4a_row17_col9, #T_33f4a_row21_col10, #T_33f4a_row21_col11, #T_33f4a_row21_col12, #T_33f4a_row21_col14, #T_33f4a_row21_col15, #T_33f4a_row24_col13, #T_33f4a_row30_col13, #T_33f4a_row31_col13, #T_33f4a_row33_col9, #T_33f4a_row41_col13, #T_33f4a_row45_col10, #T_33f4a_row45_col11, #T_33f4a_row45_col12, #T_33f4a_row45_col14, #T_33f4a_row45_col15 {\n  background-color: #fff3ed;\n  color: #000000;\n}\n#T_33f4a_row9_col3, #T_33f4a_row14_col13, #T_33f4a_row28_col8, #T_33f4a_row29_col8, #T_33f4a_row30_col8, #T_33f4a_row31_col8 {\n  background-color: #ffece4;\n  color: #000000;\n}\n#T_33f4a_row9_col4, #T_33f4a_row9_col5, #T_33f4a_row9_col6, #T_33f4a_row41_col3 {\n  background-color: #fee5d8;\n  color: #000000;\n}\n#T_33f4a_row13_col9, #T_33f4a_row15_col9, #T_33f4a_row21_col9, #T_33f4a_row30_col7, #T_33f4a_row32_col9, #T_33f4a_row32_col13, #T_33f4a_row34_col2, #T_33f4a_row36_col2, #T_33f4a_row37_col9, #T_33f4a_row39_col1 {\n  background-color: #ffeee6;\n  color: #000000;\n}\n#T_33f4a_row14_col9, #T_33f4a_row32_col8, #T_33f4a_row33_col8 {\n  background-color: #feeae1;\n  color: #000000;\n}\n#T_33f4a_row15_col10, #T_33f4a_row15_col11, #T_33f4a_row15_col12 {\n  background-color: #fedbcc;\n  color: #000000;\n}\n#T_33f4a_row15_col14, #T_33f4a_row15_col15 {\n  background-color: #fedccd;\n  color: #000000;\n}\n#T_33f4a_row16_col10, #T_33f4a_row16_col11, #T_33f4a_row16_col12 {\n  background-color: #fca082;\n  color: #000000;\n}\n#T_33f4a_row16_col14 {\n  background-color: #fca285;\n  color: #000000;\n}\n#T_33f4a_row16_col15 {\n  background-color: #fca486;\n  color: #000000;\n}\n#T_33f4a_row26_col1, #T_33f4a_row26_col2, #T_33f4a_row31_col10, #T_33f4a_row31_col11, #T_33f4a_row31_col12, #T_33f4a_row31_col14, #T_33f4a_row31_col15 {\n  background-color: #fee5d9;\n  color: #000000;\n}\n#T_33f4a_row26_col3 {\n  background-color: #fee7db;\n  color: #000000;\n}\n#T_33f4a_row26_col4, #T_33f4a_row26_col5, #T_33f4a_row26_col6 {\n  background-color: #fed8c7;\n  color: #000000;\n}\n#T_33f4a_row28_col2 {\n  background-color: #fee9df;\n  color: #000000;\n}\n#T_33f4a_row28_col4, #T_33f4a_row28_col5, #T_33f4a_row28_col6 {\n  background-color: #fed9c9;\n  color: #000000;\n}\n#T_33f4a_row32_col1, #T_33f4a_row32_col2, #T_33f4a_row32_col3, #T_33f4a_row33_col7, #T_33f4a_row35_col2 {\n  background-color: #ffece3;\n  color: #000000;\n}\n#T_33f4a_row34_col4, #T_33f4a_row34_col5, #T_33f4a_row34_col6 {\n  background-color: #fedaca;\n  color: #000000;\n}\n#T_33f4a_row36_col4, #T_33f4a_row36_col5, #T_33f4a_row36_col6 {\n  background-color: #fdcebb;\n  color: #000000;\n}\n#T_33f4a_row39_col3 {\n  background-color: #fee7dc;\n  color: #000000;\n}\n#T_33f4a_row46_col1, #T_33f4a_row46_col2, #T_33f4a_row46_col3, #T_33f4a_row46_col4, #T_33f4a_row46_col5, #T_33f4a_row46_col6, #T_33f4a_row46_col7, #T_33f4a_row46_col8, #T_33f4a_row46_col9, #T_33f4a_row46_col10, #T_33f4a_row46_col11, #T_33f4a_row46_col12, #T_33f4a_row46_col13, #T_33f4a_row46_col14, #T_33f4a_row46_col15 {\n  background-color: #67000d;\n  color: #f1f1f1;\n}\n</style>\n<table id=\"T_33f4a\">\n  <thead>\n    <tr>\n      <th class=\"blank level0\" >&nbsp;</th>\n      <th id=\"T_33f4a_level0_col0\" class=\"col_heading level0 col0\" >SteelGrade</th>\n      <th id=\"T_33f4a_level0_col1\" class=\"col_heading level0 col1\" >FeSi Actual (KG/Ton)</th>\n      <th id=\"T_33f4a_level0_col2\" class=\"col_heading level0 col2\" >FeSi Target (KG/Ton)</th>\n      <th id=\"T_33f4a_level0_col3\" class=\"col_heading level0 col3\" >FeSi Overshot (KG/Ton)</th>\n      <th id=\"T_33f4a_level0_col4\" class=\"col_heading level0 col4\" >FeSi Overshot (KG)</th>\n      <th id=\"T_33f4a_level0_col5\" class=\"col_heading level0 col5\" >FeSi Overshot (Tons)</th>\n      <th id=\"T_33f4a_level0_col6\" class=\"col_heading level0 col6\" >FeSi Overshot (Cost$)</th>\n      <th id=\"T_33f4a_level0_col7\" class=\"col_heading level0 col7\" >FeSiMn Actual (KG/Ton)</th>\n      <th id=\"T_33f4a_level0_col8\" class=\"col_heading level0 col8\" >FeSiMn Target (KG/Ton)</th>\n      <th id=\"T_33f4a_level0_col9\" class=\"col_heading level0 col9\" >FeSiMn Overshot (KG/Ton)</th>\n      <th id=\"T_33f4a_level0_col10\" class=\"col_heading level0 col10\" >FeSiMn Overshot (KG)</th>\n      <th id=\"T_33f4a_level0_col11\" class=\"col_heading level0 col11\" >FeSiMn Overshot (Tons)</th>\n      <th id=\"T_33f4a_level0_col12\" class=\"col_heading level0 col12\" >FeSiMn Overshot (Cost$)</th>\n      <th id=\"T_33f4a_level0_col13\" class=\"col_heading level0 col13\" >Ferroalloys Overshot (KG/Ton)</th>\n      <th id=\"T_33f4a_level0_col14\" class=\"col_heading level0 col14\" >Ferroalloys Overshot (Tons)</th>\n      <th id=\"T_33f4a_level0_col15\" class=\"col_heading level0 col15\" >Ferroalloys Overshot Cost ($USD)</th>\n    </tr>\n  </thead>\n  <tbody>\n    <tr>\n      <th id=\"T_33f4a_level0_row0\" class=\"row_heading level0 row0\" >0</th>\n      <td id=\"T_33f4a_row0_col0\" class=\"data row0 col0\" >3SP CON-1</td>\n      <td id=\"T_33f4a_row0_col1\" class=\"data row0 col1\" >0.000000</td>\n      <td id=\"T_33f4a_row0_col2\" class=\"data row0 col2\" >0.000000</td>\n      <td id=\"T_33f4a_row0_col3\" class=\"data row0 col3\" >0.000000</td>\n      <td id=\"T_33f4a_row0_col4\" class=\"data row0 col4\" >0.000000</td>\n      <td id=\"T_33f4a_row0_col5\" class=\"data row0 col5\" >0.000000</td>\n      <td id=\"T_33f4a_row0_col6\" class=\"data row0 col6\" >0.000000</td>\n      <td id=\"T_33f4a_row0_col7\" class=\"data row0 col7\" >7.790000</td>\n      <td id=\"T_33f4a_row0_col8\" class=\"data row0 col8\" >6.000000</td>\n      <td id=\"T_33f4a_row0_col9\" class=\"data row0 col9\" >1.790000</td>\n      <td id=\"T_33f4a_row0_col10\" class=\"data row0 col10\" >17973.300000</td>\n      <td id=\"T_33f4a_row0_col11\" class=\"data row0 col11\" >17.970000</td>\n      <td id=\"T_33f4a_row0_col12\" class=\"data row0 col12\" >21537.240000</td>\n      <td id=\"T_33f4a_row0_col13\" class=\"data row0 col13\" >1.790000</td>\n      <td id=\"T_33f4a_row0_col14\" class=\"data row0 col14\" >17.970000</td>\n      <td id=\"T_33f4a_row0_col15\" class=\"data row0 col15\" >21537.240000</td>\n    </tr>\n    <tr>\n      <th id=\"T_33f4a_level0_row1\" class=\"row_heading level0 row1\" >1</th>\n      <td id=\"T_33f4a_row1_col0\" class=\"data row1 col0\" >3SP UIS-1</td>\n      <td id=\"T_33f4a_row1_col1\" class=\"data row1 col1\" >0.000000</td>\n      <td id=\"T_33f4a_row1_col2\" class=\"data row1 col2\" >0.000000</td>\n      <td id=\"T_33f4a_row1_col3\" class=\"data row1 col3\" >0.000000</td>\n      <td id=\"T_33f4a_row1_col4\" class=\"data row1 col4\" >0.000000</td>\n      <td id=\"T_33f4a_row1_col5\" class=\"data row1 col5\" >0.000000</td>\n      <td id=\"T_33f4a_row1_col6\" class=\"data row1 col6\" >0.000000</td>\n      <td id=\"T_33f4a_row1_col7\" class=\"data row1 col7\" >8.140000</td>\n      <td id=\"T_33f4a_row1_col8\" class=\"data row1 col8\" >6.200000</td>\n      <td id=\"T_33f4a_row1_col9\" class=\"data row1 col9\" >1.940000</td>\n      <td id=\"T_33f4a_row1_col10\" class=\"data row1 col10\" >37629.030000</td>\n      <td id=\"T_33f4a_row1_col11\" class=\"data row1 col11\" >37.630000</td>\n      <td id=\"T_33f4a_row1_col12\" class=\"data row1 col12\" >45090.510000</td>\n      <td id=\"T_33f4a_row1_col13\" class=\"data row1 col13\" >1.940000</td>\n      <td id=\"T_33f4a_row1_col14\" class=\"data row1 col14\" >37.630000</td>\n      <td id=\"T_33f4a_row1_col15\" class=\"data row1 col15\" >45090.510000</td>\n    </tr>\n    <tr>\n      <th id=\"T_33f4a_level0_row2\" class=\"row_heading level0 row2\" >2</th>\n      <td id=\"T_33f4a_row2_col0\" class=\"data row2 col0\" >AISI 1006 CAQ-1</td>\n      <td id=\"T_33f4a_row2_col1\" class=\"data row2 col1\" >0.000000</td>\n      <td id=\"T_33f4a_row2_col2\" class=\"data row2 col2\" >0.000000</td>\n      <td id=\"T_33f4a_row2_col3\" class=\"data row2 col3\" >0.000000</td>\n      <td id=\"T_33f4a_row2_col4\" class=\"data row2 col4\" >0.000000</td>\n      <td id=\"T_33f4a_row2_col5\" class=\"data row2 col5\" >0.000000</td>\n      <td id=\"T_33f4a_row2_col6\" class=\"data row2 col6\" >0.000000</td>\n      <td id=\"T_33f4a_row2_col7\" class=\"data row2 col7\" >3.140000</td>\n      <td id=\"T_33f4a_row2_col8\" class=\"data row2 col8\" >1.500000</td>\n      <td id=\"T_33f4a_row2_col9\" class=\"data row2 col9\" >1.640000</td>\n      <td id=\"T_33f4a_row2_col10\" class=\"data row2 col10\" >23316.100000</td>\n      <td id=\"T_33f4a_row2_col11\" class=\"data row2 col11\" >23.320000</td>\n      <td id=\"T_33f4a_row2_col12\" class=\"data row2 col12\" >27939.460000</td>\n      <td id=\"T_33f4a_row2_col13\" class=\"data row2 col13\" >1.640000</td>\n      <td id=\"T_33f4a_row2_col14\" class=\"data row2 col14\" >23.320000</td>\n      <td id=\"T_33f4a_row2_col15\" class=\"data row2 col15\" >27939.460000</td>\n    </tr>\n    <tr>\n      <th id=\"T_33f4a_level0_row3\" class=\"row_heading level0 row3\" >3</th>\n      <td id=\"T_33f4a_row3_col0\" class=\"data row3 col0\" >AISI 1012-1</td>\n      <td id=\"T_33f4a_row3_col1\" class=\"data row3 col1\" >2.760000</td>\n      <td id=\"T_33f4a_row3_col2\" class=\"data row3 col2\" >2.000000</td>\n      <td id=\"T_33f4a_row3_col3\" class=\"data row3 col3\" >0.760000</td>\n      <td id=\"T_33f4a_row3_col4\" class=\"data row3 col4\" >96.880000</td>\n      <td id=\"T_33f4a_row3_col5\" class=\"data row3 col5\" >0.100000</td>\n      <td id=\"T_33f4a_row3_col6\" class=\"data row3 col6\" >166.450000</td>\n      <td id=\"T_33f4a_row3_col7\" class=\"data row3 col7\" >7.890000</td>\n      <td id=\"T_33f4a_row3_col8\" class=\"data row3 col8\" >6.500000</td>\n      <td id=\"T_33f4a_row3_col9\" class=\"data row3 col9\" >1.390000</td>\n      <td id=\"T_33f4a_row3_col10\" class=\"data row3 col10\" >177.190000</td>\n      <td id=\"T_33f4a_row3_col11\" class=\"data row3 col11\" >0.180000</td>\n      <td id=\"T_33f4a_row3_col12\" class=\"data row3 col12\" >212.330000</td>\n      <td id=\"T_33f4a_row3_col13\" class=\"data row3 col13\" >2.150000</td>\n      <td id=\"T_33f4a_row3_col14\" class=\"data row3 col14\" >0.270000</td>\n      <td id=\"T_33f4a_row3_col15\" class=\"data row3 col15\" >378.780000</td>\n    </tr>\n    <tr>\n      <th id=\"T_33f4a_level0_row4\" class=\"row_heading level0 row4\" >4</th>\n      <td id=\"T_33f4a_row4_col0\" class=\"data row4 col0\" >AISI 1012-2</td>\n      <td id=\"T_33f4a_row4_col1\" class=\"data row4 col1\" >2.270000</td>\n      <td id=\"T_33f4a_row4_col2\" class=\"data row4 col2\" >2.000000</td>\n      <td id=\"T_33f4a_row4_col3\" class=\"data row4 col3\" >0.270000</td>\n      <td id=\"T_33f4a_row4_col4\" class=\"data row4 col4\" >768.880000</td>\n      <td id=\"T_33f4a_row4_col5\" class=\"data row4 col5\" >0.770000</td>\n      <td id=\"T_33f4a_row4_col6\" class=\"data row4 col6\" >1320.990000</td>\n      <td id=\"T_33f4a_row4_col7\" class=\"data row4 col7\" >7.730000</td>\n      <td id=\"T_33f4a_row4_col8\" class=\"data row4 col8\" >6.500000</td>\n      <td id=\"T_33f4a_row4_col9\" class=\"data row4 col9\" >1.230000</td>\n      <td id=\"T_33f4a_row4_col10\" class=\"data row4 col10\" >3502.690000</td>\n      <td id=\"T_33f4a_row4_col11\" class=\"data row4 col11\" >3.500000</td>\n      <td id=\"T_33f4a_row4_col12\" class=\"data row4 col12\" >4197.240000</td>\n      <td id=\"T_33f4a_row4_col13\" class=\"data row4 col13\" >1.500000</td>\n      <td id=\"T_33f4a_row4_col14\" class=\"data row4 col14\" >4.270000</td>\n      <td id=\"T_33f4a_row4_col15\" class=\"data row4 col15\" >5518.230000</td>\n    </tr>\n    <tr>\n      <th id=\"T_33f4a_level0_row5\" class=\"row_heading level0 row5\" >5</th>\n      <td id=\"T_33f4a_row5_col0\" class=\"data row5 col0\" >AISI 1015-1</td>\n      <td id=\"T_33f4a_row5_col1\" class=\"data row5 col1\" >0.000000</td>\n      <td id=\"T_33f4a_row5_col2\" class=\"data row5 col2\" >0.000000</td>\n      <td id=\"T_33f4a_row5_col3\" class=\"data row5 col3\" >0.000000</td>\n      <td id=\"T_33f4a_row5_col4\" class=\"data row5 col4\" >0.000000</td>\n      <td id=\"T_33f4a_row5_col5\" class=\"data row5 col5\" >0.000000</td>\n      <td id=\"T_33f4a_row5_col6\" class=\"data row5 col6\" >0.000000</td>\n      <td id=\"T_33f4a_row5_col7\" class=\"data row5 col7\" >8.020000</td>\n      <td id=\"T_33f4a_row5_col8\" class=\"data row5 col8\" >5.800000</td>\n      <td id=\"T_33f4a_row5_col9\" class=\"data row5 col9\" >2.220000</td>\n      <td id=\"T_33f4a_row5_col10\" class=\"data row5 col10\" >6947.430000</td>\n      <td id=\"T_33f4a_row5_col11\" class=\"data row5 col11\" >6.950000</td>\n      <td id=\"T_33f4a_row5_col12\" class=\"data row5 col12\" >8325.030000</td>\n      <td id=\"T_33f4a_row5_col13\" class=\"data row5 col13\" >2.220000</td>\n      <td id=\"T_33f4a_row5_col14\" class=\"data row5 col14\" >6.950000</td>\n      <td id=\"T_33f4a_row5_col15\" class=\"data row5 col15\" >8325.030000</td>\n    </tr>\n    <tr>\n      <th id=\"T_33f4a_level0_row6\" class=\"row_heading level0 row6\" >6</th>\n      <td id=\"T_33f4a_row6_col0\" class=\"data row6 col0\" >AISI 1018-1</td>\n      <td id=\"T_33f4a_row6_col1\" class=\"data row6 col1\" >0.000000</td>\n      <td id=\"T_33f4a_row6_col2\" class=\"data row6 col2\" >0.000000</td>\n      <td id=\"T_33f4a_row6_col3\" class=\"data row6 col3\" >0.000000</td>\n      <td id=\"T_33f4a_row6_col4\" class=\"data row6 col4\" >0.000000</td>\n      <td id=\"T_33f4a_row6_col5\" class=\"data row6 col5\" >0.000000</td>\n      <td id=\"T_33f4a_row6_col6\" class=\"data row6 col6\" >0.000000</td>\n      <td id=\"T_33f4a_row6_col7\" class=\"data row6 col7\" >8.910000</td>\n      <td id=\"T_33f4a_row6_col8\" class=\"data row6 col8\" >8.200000</td>\n      <td id=\"T_33f4a_row6_col9\" class=\"data row6 col9\" >0.710000</td>\n      <td id=\"T_33f4a_row6_col10\" class=\"data row6 col10\" >6148.570000</td>\n      <td id=\"T_33f4a_row6_col11\" class=\"data row6 col11\" >6.150000</td>\n      <td id=\"T_33f4a_row6_col12\" class=\"data row6 col12\" >7367.770000</td>\n      <td id=\"T_33f4a_row6_col13\" class=\"data row6 col13\" >0.710000</td>\n      <td id=\"T_33f4a_row6_col14\" class=\"data row6 col14\" >6.150000</td>\n      <td id=\"T_33f4a_row6_col15\" class=\"data row6 col15\" >7367.770000</td>\n    </tr>\n    <tr>\n      <th id=\"T_33f4a_level0_row7\" class=\"row_heading level0 row7\" >7</th>\n      <td id=\"T_33f4a_row7_col0\" class=\"data row7 col0\" >AISI 1038-1</td>\n      <td id=\"T_33f4a_row7_col1\" class=\"data row7 col1\" >0.000000</td>\n      <td id=\"T_33f4a_row7_col2\" class=\"data row7 col2\" >0.000000</td>\n      <td id=\"T_33f4a_row7_col3\" class=\"data row7 col3\" >0.000000</td>\n      <td id=\"T_33f4a_row7_col4\" class=\"data row7 col4\" >0.000000</td>\n      <td id=\"T_33f4a_row7_col5\" class=\"data row7 col5\" >0.000000</td>\n      <td id=\"T_33f4a_row7_col6\" class=\"data row7 col6\" >0.000000</td>\n      <td id=\"T_33f4a_row7_col7\" class=\"data row7 col7\" >10.070000</td>\n      <td id=\"T_33f4a_row7_col8\" class=\"data row7 col8\" >10.000000</td>\n      <td id=\"T_33f4a_row7_col9\" class=\"data row7 col9\" >0.070000</td>\n      <td id=\"T_33f4a_row7_col10\" class=\"data row7 col10\" >191.310000</td>\n      <td id=\"T_33f4a_row7_col11\" class=\"data row7 col11\" >0.190000</td>\n      <td id=\"T_33f4a_row7_col12\" class=\"data row7 col12\" >229.240000</td>\n      <td id=\"T_33f4a_row7_col13\" class=\"data row7 col13\" >0.070000</td>\n      <td id=\"T_33f4a_row7_col14\" class=\"data row7 col14\" >0.190000</td>\n      <td id=\"T_33f4a_row7_col15\" class=\"data row7 col15\" >229.240000</td>\n    </tr>\n    <tr>\n      <th id=\"T_33f4a_level0_row8\" class=\"row_heading level0 row8\" >8</th>\n      <td id=\"T_33f4a_row8_col0\" class=\"data row8 col0\" >AISI 1045-1</td>\n      <td id=\"T_33f4a_row8_col1\" class=\"data row8 col1\" >1.570000</td>\n      <td id=\"T_33f4a_row8_col2\" class=\"data row8 col2\" >1.000000</td>\n      <td id=\"T_33f4a_row8_col3\" class=\"data row8 col3\" >0.570000</td>\n      <td id=\"T_33f4a_row8_col4\" class=\"data row8 col4\" >1323.460000</td>\n      <td id=\"T_33f4a_row8_col5\" class=\"data row8 col5\" >1.320000</td>\n      <td id=\"T_33f4a_row8_col6\" class=\"data row8 col6\" >2273.790000</td>\n      <td id=\"T_33f4a_row8_col7\" class=\"data row8 col7\" >0.000000</td>\n      <td id=\"T_33f4a_row8_col8\" class=\"data row8 col8\" >0.000000</td>\n      <td id=\"T_33f4a_row8_col9\" class=\"data row8 col9\" >0.000000</td>\n      <td id=\"T_33f4a_row8_col10\" class=\"data row8 col10\" >0.000000</td>\n      <td id=\"T_33f4a_row8_col11\" class=\"data row8 col11\" >0.000000</td>\n      <td id=\"T_33f4a_row8_col12\" class=\"data row8 col12\" >0.000000</td>\n      <td id=\"T_33f4a_row8_col13\" class=\"data row8 col13\" >0.570000</td>\n      <td id=\"T_33f4a_row8_col14\" class=\"data row8 col14\" >1.320000</td>\n      <td id=\"T_33f4a_row8_col15\" class=\"data row8 col15\" >2273.790000</td>\n    </tr>\n    <tr>\n      <th id=\"T_33f4a_level0_row9\" class=\"row_heading level0 row9\" >9</th>\n      <td id=\"T_33f4a_row9_col0\" class=\"data row9 col0\" >AISI 1065-1</td>\n      <td id=\"T_33f4a_row9_col1\" class=\"data row9 col1\" >1.450000</td>\n      <td id=\"T_33f4a_row9_col2\" class=\"data row9 col2\" >1.000000</td>\n      <td id=\"T_33f4a_row9_col3\" class=\"data row9 col3\" >0.450000</td>\n      <td id=\"T_33f4a_row9_col4\" class=\"data row9 col4\" >2165.970000</td>\n      <td id=\"T_33f4a_row9_col5\" class=\"data row9 col5\" >2.170000</td>\n      <td id=\"T_33f4a_row9_col6\" class=\"data row9 col6\" >3721.290000</td>\n      <td id=\"T_33f4a_row9_col7\" class=\"data row9 col7\" >0.000000</td>\n      <td id=\"T_33f4a_row9_col8\" class=\"data row9 col8\" >0.000000</td>\n      <td id=\"T_33f4a_row9_col9\" class=\"data row9 col9\" >0.000000</td>\n      <td id=\"T_33f4a_row9_col10\" class=\"data row9 col10\" >0.000000</td>\n      <td id=\"T_33f4a_row9_col11\" class=\"data row9 col11\" >0.000000</td>\n      <td id=\"T_33f4a_row9_col12\" class=\"data row9 col12\" >0.000000</td>\n      <td id=\"T_33f4a_row9_col13\" class=\"data row9 col13\" >0.450000</td>\n      <td id=\"T_33f4a_row9_col14\" class=\"data row9 col14\" >2.170000</td>\n      <td id=\"T_33f4a_row9_col15\" class=\"data row9 col15\" >3721.290000</td>\n    </tr>\n    <tr>\n      <th id=\"T_33f4a_level0_row10\" class=\"row_heading level0 row10\" >10</th>\n      <td id=\"T_33f4a_row10_col0\" class=\"data row10 col0\" >AISI 1067-1</td>\n      <td id=\"T_33f4a_row10_col1\" class=\"data row10 col1\" >1.350000</td>\n      <td id=\"T_33f4a_row10_col2\" class=\"data row10 col2\" >1.000000</td>\n      <td id=\"T_33f4a_row10_col3\" class=\"data row10 col3\" >0.350000</td>\n      <td id=\"T_33f4a_row10_col4\" class=\"data row10 col4\" >586.970000</td>\n      <td id=\"T_33f4a_row10_col5\" class=\"data row10 col5\" >0.590000</td>\n      <td id=\"T_33f4a_row10_col6\" class=\"data row10 col6\" >1008.460000</td>\n      <td id=\"T_33f4a_row10_col7\" class=\"data row10 col7\" >0.000000</td>\n      <td id=\"T_33f4a_row10_col8\" class=\"data row10 col8\" >0.000000</td>\n      <td id=\"T_33f4a_row10_col9\" class=\"data row10 col9\" >0.000000</td>\n      <td id=\"T_33f4a_row10_col10\" class=\"data row10 col10\" >0.000000</td>\n      <td id=\"T_33f4a_row10_col11\" class=\"data row10 col11\" >0.000000</td>\n      <td id=\"T_33f4a_row10_col12\" class=\"data row10 col12\" >0.000000</td>\n      <td id=\"T_33f4a_row10_col13\" class=\"data row10 col13\" >0.350000</td>\n      <td id=\"T_33f4a_row10_col14\" class=\"data row10 col14\" >0.590000</td>\n      <td id=\"T_33f4a_row10_col15\" class=\"data row10 col15\" >1008.460000</td>\n    </tr>\n    <tr>\n      <th id=\"T_33f4a_level0_row11\" class=\"row_heading level0 row11\" >11</th>\n      <td id=\"T_33f4a_row11_col0\" class=\"data row11 col0\" >AISI 1070-1</td>\n      <td id=\"T_33f4a_row11_col1\" class=\"data row11 col1\" >1.220000</td>\n      <td id=\"T_33f4a_row11_col2\" class=\"data row11 col2\" >1.000000</td>\n      <td id=\"T_33f4a_row11_col3\" class=\"data row11 col3\" >0.220000</td>\n      <td id=\"T_33f4a_row11_col4\" class=\"data row11 col4\" >32.710000</td>\n      <td id=\"T_33f4a_row11_col5\" class=\"data row11 col5\" >0.030000</td>\n      <td id=\"T_33f4a_row11_col6\" class=\"data row11 col6\" >56.200000</td>\n      <td id=\"T_33f4a_row11_col7\" class=\"data row11 col7\" >0.000000</td>\n      <td id=\"T_33f4a_row11_col8\" class=\"data row11 col8\" >0.000000</td>\n      <td id=\"T_33f4a_row11_col9\" class=\"data row11 col9\" >0.000000</td>\n      <td id=\"T_33f4a_row11_col10\" class=\"data row11 col10\" >0.000000</td>\n      <td id=\"T_33f4a_row11_col11\" class=\"data row11 col11\" >0.000000</td>\n      <td id=\"T_33f4a_row11_col12\" class=\"data row11 col12\" >0.000000</td>\n      <td id=\"T_33f4a_row11_col13\" class=\"data row11 col13\" >0.220000</td>\n      <td id=\"T_33f4a_row11_col14\" class=\"data row11 col14\" >0.030000</td>\n      <td id=\"T_33f4a_row11_col15\" class=\"data row11 col15\" >56.200000</td>\n    </tr>\n    <tr>\n      <th id=\"T_33f4a_level0_row12\" class=\"row_heading level0 row12\" >12</th>\n      <td id=\"T_33f4a_row12_col0\" class=\"data row12 col0\" >BS-G500B R22-1</td>\n      <td id=\"T_33f4a_row12_col1\" class=\"data row12 col1\" >0.000000</td>\n      <td id=\"T_33f4a_row12_col2\" class=\"data row12 col2\" >0.000000</td>\n      <td id=\"T_33f4a_row12_col3\" class=\"data row12 col3\" >0.000000</td>\n      <td id=\"T_33f4a_row12_col4\" class=\"data row12 col4\" >0.000000</td>\n      <td id=\"T_33f4a_row12_col5\" class=\"data row12 col5\" >0.000000</td>\n      <td id=\"T_33f4a_row12_col6\" class=\"data row12 col6\" >0.000000</td>\n      <td id=\"T_33f4a_row12_col7\" class=\"data row12 col7\" >7.920000</td>\n      <td id=\"T_33f4a_row12_col8\" class=\"data row12 col8\" >5.900000</td>\n      <td id=\"T_33f4a_row12_col9\" class=\"data row12 col9\" >2.020000</td>\n      <td id=\"T_33f4a_row12_col10\" class=\"data row12 col10\" >22512.330000</td>\n      <td id=\"T_33f4a_row12_col11\" class=\"data row12 col11\" >22.510000</td>\n      <td id=\"T_33f4a_row12_col12\" class=\"data row12 col12\" >26976.310000</td>\n      <td id=\"T_33f4a_row12_col13\" class=\"data row12 col13\" >2.020000</td>\n      <td id=\"T_33f4a_row12_col14\" class=\"data row12 col14\" >22.510000</td>\n      <td id=\"T_33f4a_row12_col15\" class=\"data row12 col15\" >26976.310000</td>\n    </tr>\n    <tr>\n      <th id=\"T_33f4a_level0_row13\" class=\"row_heading level0 row13\" >13</th>\n      <td id=\"T_33f4a_row13_col0\" class=\"data row13 col0\" >BS-G500B R22-2</td>\n      <td id=\"T_33f4a_row13_col1\" class=\"data row13 col1\" >0.000000</td>\n      <td id=\"T_33f4a_row13_col2\" class=\"data row13 col2\" >0.000000</td>\n      <td id=\"T_33f4a_row13_col3\" class=\"data row13 col3\" >0.000000</td>\n      <td id=\"T_33f4a_row13_col4\" class=\"data row13 col4\" >0.000000</td>\n      <td id=\"T_33f4a_row13_col5\" class=\"data row13 col5\" >0.000000</td>\n      <td id=\"T_33f4a_row13_col6\" class=\"data row13 col6\" >0.000000</td>\n      <td id=\"T_33f4a_row13_col7\" class=\"data row13 col7\" >8.000000</td>\n      <td id=\"T_33f4a_row13_col8\" class=\"data row13 col8\" >5.900000</td>\n      <td id=\"T_33f4a_row13_col9\" class=\"data row13 col9\" >2.100000</td>\n      <td id=\"T_33f4a_row13_col10\" class=\"data row13 col10\" >25109.490000</td>\n      <td id=\"T_33f4a_row13_col11\" class=\"data row13 col11\" >25.110000</td>\n      <td id=\"T_33f4a_row13_col12\" class=\"data row13 col12\" >30088.460000</td>\n      <td id=\"T_33f4a_row13_col13\" class=\"data row13 col13\" >2.100000</td>\n      <td id=\"T_33f4a_row13_col14\" class=\"data row13 col14\" >25.110000</td>\n      <td id=\"T_33f4a_row13_col15\" class=\"data row13 col15\" >30088.460000</td>\n    </tr>\n    <tr>\n      <th id=\"T_33f4a_level0_row14\" class=\"row_heading level0 row14\" >14</th>\n      <td id=\"T_33f4a_row14_col0\" class=\"data row14 col0\" >BS-G500B R51-1</td>\n      <td id=\"T_33f4a_row14_col1\" class=\"data row14 col1\" >0.000000</td>\n      <td id=\"T_33f4a_row14_col2\" class=\"data row14 col2\" >0.000000</td>\n      <td id=\"T_33f4a_row14_col3\" class=\"data row14 col3\" >0.000000</td>\n      <td id=\"T_33f4a_row14_col4\" class=\"data row14 col4\" >0.000000</td>\n      <td id=\"T_33f4a_row14_col5\" class=\"data row14 col5\" >0.000000</td>\n      <td id=\"T_33f4a_row14_col6\" class=\"data row14 col6\" >0.000000</td>\n      <td id=\"T_33f4a_row14_col7\" class=\"data row14 col7\" >10.370000</td>\n      <td id=\"T_33f4a_row14_col8\" class=\"data row14 col8\" >7.400000</td>\n      <td id=\"T_33f4a_row14_col9\" class=\"data row14 col9\" >2.970000</td>\n      <td id=\"T_33f4a_row14_col10\" class=\"data row14 col10\" >3690.890000</td>\n      <td id=\"T_33f4a_row14_col11\" class=\"data row14 col11\" >3.690000</td>\n      <td id=\"T_33f4a_row14_col12\" class=\"data row14 col12\" >4422.760000</td>\n      <td id=\"T_33f4a_row14_col13\" class=\"data row14 col13\" >2.970000</td>\n      <td id=\"T_33f4a_row14_col14\" class=\"data row14 col14\" >3.690000</td>\n      <td id=\"T_33f4a_row14_col15\" class=\"data row14 col15\" >4422.760000</td>\n    </tr>\n    <tr>\n      <th id=\"T_33f4a_level0_row15\" class=\"row_heading level0 row15\" >15</th>\n      <td id=\"T_33f4a_row15_col0\" class=\"data row15 col0\" >BSG500BR41-1</td>\n      <td id=\"T_33f4a_row15_col1\" class=\"data row15 col1\" >0.000000</td>\n      <td id=\"T_33f4a_row15_col2\" class=\"data row15 col2\" >0.000000</td>\n      <td id=\"T_33f4a_row15_col3\" class=\"data row15 col3\" >0.000000</td>\n      <td id=\"T_33f4a_row15_col4\" class=\"data row15 col4\" >0.000000</td>\n      <td id=\"T_33f4a_row15_col5\" class=\"data row15 col5\" >0.000000</td>\n      <td id=\"T_33f4a_row15_col6\" class=\"data row15 col6\" >0.000000</td>\n      <td id=\"T_33f4a_row15_col7\" class=\"data row15 col7\" >7.980000</td>\n      <td id=\"T_33f4a_row15_col8\" class=\"data row15 col8\" >5.900000</td>\n      <td id=\"T_33f4a_row15_col9\" class=\"data row15 col9\" >2.080000</td>\n      <td id=\"T_33f4a_row15_col10\" class=\"data row15 col10\" >153937.660000</td>\n      <td id=\"T_33f4a_row15_col11\" class=\"data row15 col11\" >153.940000</td>\n      <td id=\"T_33f4a_row15_col12\" class=\"data row15 col12\" >184462.020000</td>\n      <td id=\"T_33f4a_row15_col13\" class=\"data row15 col13\" >2.080000</td>\n      <td id=\"T_33f4a_row15_col14\" class=\"data row15 col14\" >153.940000</td>\n      <td id=\"T_33f4a_row15_col15\" class=\"data row15 col15\" >184462.020000</td>\n    </tr>\n    <tr>\n      <th id=\"T_33f4a_level0_row16\" class=\"row_heading level0 row16\" >16</th>\n      <td id=\"T_33f4a_row16_col0\" class=\"data row16 col0\" >BSG500BR41-2</td>\n      <td id=\"T_33f4a_row16_col1\" class=\"data row16 col1\" >0.000000</td>\n      <td id=\"T_33f4a_row16_col2\" class=\"data row16 col2\" >0.000000</td>\n      <td id=\"T_33f4a_row16_col3\" class=\"data row16 col3\" >0.000000</td>\n      <td id=\"T_33f4a_row16_col4\" class=\"data row16 col4\" >0.000000</td>\n      <td id=\"T_33f4a_row16_col5\" class=\"data row16 col5\" >0.000000</td>\n      <td id=\"T_33f4a_row16_col6\" class=\"data row16 col6\" >0.000000</td>\n      <td id=\"T_33f4a_row16_col7\" class=\"data row16 col7\" >7.910000</td>\n      <td id=\"T_33f4a_row16_col8\" class=\"data row16 col8\" >5.900000</td>\n      <td id=\"T_33f4a_row16_col9\" class=\"data row16 col9\" >2.010000</td>\n      <td id=\"T_33f4a_row16_col10\" class=\"data row16 col10\" >360437.380000</td>\n      <td id=\"T_33f4a_row16_col11\" class=\"data row16 col11\" >360.440000</td>\n      <td id=\"T_33f4a_row16_col12\" class=\"data row16 col12\" >431908.660000</td>\n      <td id=\"T_33f4a_row16_col13\" class=\"data row16 col13\" >2.010000</td>\n      <td id=\"T_33f4a_row16_col14\" class=\"data row16 col14\" >360.440000</td>\n      <td id=\"T_33f4a_row16_col15\" class=\"data row16 col15\" >431908.660000</td>\n    </tr>\n    <tr>\n      <th id=\"T_33f4a_level0_row17\" class=\"row_heading level0 row17\" >17</th>\n      <td id=\"T_33f4a_row17_col0\" class=\"data row17 col0\" >BSG500BR42-1</td>\n      <td id=\"T_33f4a_row17_col1\" class=\"data row17 col1\" >0.000000</td>\n      <td id=\"T_33f4a_row17_col2\" class=\"data row17 col2\" >0.000000</td>\n      <td id=\"T_33f4a_row17_col3\" class=\"data row17 col3\" >0.000000</td>\n      <td id=\"T_33f4a_row17_col4\" class=\"data row17 col4\" >0.000000</td>\n      <td id=\"T_33f4a_row17_col5\" class=\"data row17 col5\" >0.000000</td>\n      <td id=\"T_33f4a_row17_col6\" class=\"data row17 col6\" >0.000000</td>\n      <td id=\"T_33f4a_row17_col7\" class=\"data row17 col7\" >8.040000</td>\n      <td id=\"T_33f4a_row17_col8\" class=\"data row17 col8\" >7.400000</td>\n      <td id=\"T_33f4a_row17_col9\" class=\"data row17 col9\" >0.640000</td>\n      <td id=\"T_33f4a_row17_col10\" class=\"data row17 col10\" >1267.260000</td>\n      <td id=\"T_33f4a_row17_col11\" class=\"data row17 col11\" >1.270000</td>\n      <td id=\"T_33f4a_row17_col12\" class=\"data row17 col12\" >1518.540000</td>\n      <td id=\"T_33f4a_row17_col13\" class=\"data row17 col13\" >0.640000</td>\n      <td id=\"T_33f4a_row17_col14\" class=\"data row17 col14\" >1.270000</td>\n      <td id=\"T_33f4a_row17_col15\" class=\"data row17 col15\" >1518.540000</td>\n    </tr>\n    <tr>\n      <th id=\"T_33f4a_level0_row18\" class=\"row_heading level0 row18\" >18</th>\n      <td id=\"T_33f4a_row18_col0\" class=\"data row18 col0\" >BSG500BR42-2</td>\n      <td id=\"T_33f4a_row18_col1\" class=\"data row18 col1\" >0.000000</td>\n      <td id=\"T_33f4a_row18_col2\" class=\"data row18 col2\" >0.000000</td>\n      <td id=\"T_33f4a_row18_col3\" class=\"data row18 col3\" >0.000000</td>\n      <td id=\"T_33f4a_row18_col4\" class=\"data row18 col4\" >0.000000</td>\n      <td id=\"T_33f4a_row18_col5\" class=\"data row18 col5\" >0.000000</td>\n      <td id=\"T_33f4a_row18_col6\" class=\"data row18 col6\" >0.000000</td>\n      <td id=\"T_33f4a_row18_col7\" class=\"data row18 col7\" >7.830000</td>\n      <td id=\"T_33f4a_row18_col8\" class=\"data row18 col8\" >7.400000</td>\n      <td id=\"T_33f4a_row18_col9\" class=\"data row18 col9\" >0.430000</td>\n      <td id=\"T_33f4a_row18_col10\" class=\"data row18 col10\" >65269.580000</td>\n      <td id=\"T_33f4a_row18_col11\" class=\"data row18 col11\" >65.270000</td>\n      <td id=\"T_33f4a_row18_col12\" class=\"data row18 col12\" >78211.910000</td>\n      <td id=\"T_33f4a_row18_col13\" class=\"data row18 col13\" >0.430000</td>\n      <td id=\"T_33f4a_row18_col14\" class=\"data row18 col14\" >65.270000</td>\n      <td id=\"T_33f4a_row18_col15\" class=\"data row18 col15\" >78211.910000</td>\n    </tr>\n    <tr>\n      <th id=\"T_33f4a_level0_row19\" class=\"row_heading level0 row19\" >19</th>\n      <td id=\"T_33f4a_row19_col0\" class=\"data row19 col0\" >BSSS560R12-1</td>\n      <td id=\"T_33f4a_row19_col1\" class=\"data row19 col1\" >0.000000</td>\n      <td id=\"T_33f4a_row19_col2\" class=\"data row19 col2\" >0.000000</td>\n      <td id=\"T_33f4a_row19_col3\" class=\"data row19 col3\" >0.000000</td>\n      <td id=\"T_33f4a_row19_col4\" class=\"data row19 col4\" >0.000000</td>\n      <td id=\"T_33f4a_row19_col5\" class=\"data row19 col5\" >0.000000</td>\n      <td id=\"T_33f4a_row19_col6\" class=\"data row19 col6\" >0.000000</td>\n      <td id=\"T_33f4a_row19_col7\" class=\"data row19 col7\" >11.860000</td>\n      <td id=\"T_33f4a_row19_col8\" class=\"data row19 col8\" >9.000000</td>\n      <td id=\"T_33f4a_row19_col9\" class=\"data row19 col9\" >2.860000</td>\n      <td id=\"T_33f4a_row19_col10\" class=\"data row19 col10\" >24535.850000</td>\n      <td id=\"T_33f4a_row19_col11\" class=\"data row19 col11\" >24.540000</td>\n      <td id=\"T_33f4a_row19_col12\" class=\"data row19 col12\" >29401.070000</td>\n      <td id=\"T_33f4a_row19_col13\" class=\"data row19 col13\" >2.860000</td>\n      <td id=\"T_33f4a_row19_col14\" class=\"data row19 col14\" >24.540000</td>\n      <td id=\"T_33f4a_row19_col15\" class=\"data row19 col15\" >29401.070000</td>\n    </tr>\n    <tr>\n      <th id=\"T_33f4a_level0_row20\" class=\"row_heading level0 row20\" >20</th>\n      <td id=\"T_33f4a_row20_col0\" class=\"data row20 col0\" >BSSS560R22-1</td>\n      <td id=\"T_33f4a_row20_col1\" class=\"data row20 col1\" >0.000000</td>\n      <td id=\"T_33f4a_row20_col2\" class=\"data row20 col2\" >0.000000</td>\n      <td id=\"T_33f4a_row20_col3\" class=\"data row20 col3\" >0.000000</td>\n      <td id=\"T_33f4a_row20_col4\" class=\"data row20 col4\" >0.000000</td>\n      <td id=\"T_33f4a_row20_col5\" class=\"data row20 col5\" >0.000000</td>\n      <td id=\"T_33f4a_row20_col6\" class=\"data row20 col6\" >0.000000</td>\n      <td id=\"T_33f4a_row20_col7\" class=\"data row20 col7\" >7.720000</td>\n      <td id=\"T_33f4a_row20_col8\" class=\"data row20 col8\" >5.900000</td>\n      <td id=\"T_33f4a_row20_col9\" class=\"data row20 col9\" >1.820000</td>\n      <td id=\"T_33f4a_row20_col10\" class=\"data row20 col10\" >4035.790000</td>\n      <td id=\"T_33f4a_row20_col11\" class=\"data row20 col11\" >4.040000</td>\n      <td id=\"T_33f4a_row20_col12\" class=\"data row20 col12\" >4836.050000</td>\n      <td id=\"T_33f4a_row20_col13\" class=\"data row20 col13\" >1.820000</td>\n      <td id=\"T_33f4a_row20_col14\" class=\"data row20 col14\" >4.040000</td>\n      <td id=\"T_33f4a_row20_col15\" class=\"data row20 col15\" >4836.050000</td>\n    </tr>\n    <tr>\n      <th id=\"T_33f4a_level0_row21\" class=\"row_heading level0 row21\" >21</th>\n      <td id=\"T_33f4a_row21_col0\" class=\"data row21 col0\" >BSSS560R22-2</td>\n      <td id=\"T_33f4a_row21_col1\" class=\"data row21 col1\" >0.000000</td>\n      <td id=\"T_33f4a_row21_col2\" class=\"data row21 col2\" >0.000000</td>\n      <td id=\"T_33f4a_row21_col3\" class=\"data row21 col3\" >0.000000</td>\n      <td id=\"T_33f4a_row21_col4\" class=\"data row21 col4\" >0.000000</td>\n      <td id=\"T_33f4a_row21_col5\" class=\"data row21 col5\" >0.000000</td>\n      <td id=\"T_33f4a_row21_col6\" class=\"data row21 col6\" >0.000000</td>\n      <td id=\"T_33f4a_row21_col7\" class=\"data row21 col7\" >7.970000</td>\n      <td id=\"T_33f4a_row21_col8\" class=\"data row21 col8\" >5.900000</td>\n      <td id=\"T_33f4a_row21_col9\" class=\"data row21 col9\" >2.070000</td>\n      <td id=\"T_33f4a_row21_col10\" class=\"data row21 col10\" >15966.730000</td>\n      <td id=\"T_33f4a_row21_col11\" class=\"data row21 col11\" >15.970000</td>\n      <td id=\"T_33f4a_row21_col12\" class=\"data row21 col12\" >19132.770000</td>\n      <td id=\"T_33f4a_row21_col13\" class=\"data row21 col13\" >2.070000</td>\n      <td id=\"T_33f4a_row21_col14\" class=\"data row21 col14\" >15.970000</td>\n      <td id=\"T_33f4a_row21_col15\" class=\"data row21 col15\" >19132.770000</td>\n    </tr>\n    <tr>\n      <th id=\"T_33f4a_level0_row22\" class=\"row_heading level0 row22\" >22</th>\n      <td id=\"T_33f4a_row22_col0\" class=\"data row22 col0\" >EM12K-1</td>\n      <td id=\"T_33f4a_row22_col1\" class=\"data row22 col1\" >2.220000</td>\n      <td id=\"T_33f4a_row22_col2\" class=\"data row22 col2\" >2.000000</td>\n      <td id=\"T_33f4a_row22_col3\" class=\"data row22 col3\" >0.220000</td>\n      <td id=\"T_33f4a_row22_col4\" class=\"data row22 col4\" >27.570000</td>\n      <td id=\"T_33f4a_row22_col5\" class=\"data row22 col5\" >0.030000</td>\n      <td id=\"T_33f4a_row22_col6\" class=\"data row22 col6\" >47.360000</td>\n      <td id=\"T_33f4a_row22_col7\" class=\"data row22 col7\" >0.000000</td>\n      <td id=\"T_33f4a_row22_col8\" class=\"data row22 col8\" >0.000000</td>\n      <td id=\"T_33f4a_row22_col9\" class=\"data row22 col9\" >0.000000</td>\n      <td id=\"T_33f4a_row22_col10\" class=\"data row22 col10\" >0.000000</td>\n      <td id=\"T_33f4a_row22_col11\" class=\"data row22 col11\" >0.000000</td>\n      <td id=\"T_33f4a_row22_col12\" class=\"data row22 col12\" >0.000000</td>\n      <td id=\"T_33f4a_row22_col13\" class=\"data row22 col13\" >0.220000</td>\n      <td id=\"T_33f4a_row22_col14\" class=\"data row22 col14\" >0.030000</td>\n      <td id=\"T_33f4a_row22_col15\" class=\"data row22 col15\" >47.360000</td>\n    </tr>\n    <tr>\n      <th id=\"T_33f4a_level0_row23\" class=\"row_heading level0 row23\" >23</th>\n      <td id=\"T_33f4a_row23_col0\" class=\"data row23 col0\" >KWSB500BWR R11-1</td>\n      <td id=\"T_33f4a_row23_col1\" class=\"data row23 col1\" >0.000000</td>\n      <td id=\"T_33f4a_row23_col2\" class=\"data row23 col2\" >0.000000</td>\n      <td id=\"T_33f4a_row23_col3\" class=\"data row23 col3\" >0.000000</td>\n      <td id=\"T_33f4a_row23_col4\" class=\"data row23 col4\" >0.000000</td>\n      <td id=\"T_33f4a_row23_col5\" class=\"data row23 col5\" >0.000000</td>\n      <td id=\"T_33f4a_row23_col6\" class=\"data row23 col6\" >0.000000</td>\n      <td id=\"T_33f4a_row23_col7\" class=\"data row23 col7\" >8.700000</td>\n      <td id=\"T_33f4a_row23_col8\" class=\"data row23 col8\" >8.500000</td>\n      <td id=\"T_33f4a_row23_col9\" class=\"data row23 col9\" >0.200000</td>\n      <td id=\"T_33f4a_row23_col10\" class=\"data row23 col10\" >589.750000</td>\n      <td id=\"T_33f4a_row23_col11\" class=\"data row23 col11\" >0.590000</td>\n      <td id=\"T_33f4a_row23_col12\" class=\"data row23 col12\" >706.690000</td>\n      <td id=\"T_33f4a_row23_col13\" class=\"data row23 col13\" >0.200000</td>\n      <td id=\"T_33f4a_row23_col14\" class=\"data row23 col14\" >0.590000</td>\n      <td id=\"T_33f4a_row23_col15\" class=\"data row23 col15\" >706.690000</td>\n    </tr>\n    <tr>\n      <th id=\"T_33f4a_level0_row24\" class=\"row_heading level0 row24\" >24</th>\n      <td id=\"T_33f4a_row24_col0\" class=\"data row24 col0\" >KWSB500BWR R12-1</td>\n      <td id=\"T_33f4a_row24_col1\" class=\"data row24 col1\" >0.000000</td>\n      <td id=\"T_33f4a_row24_col2\" class=\"data row24 col2\" >0.000000</td>\n      <td id=\"T_33f4a_row24_col3\" class=\"data row24 col3\" >0.000000</td>\n      <td id=\"T_33f4a_row24_col4\" class=\"data row24 col4\" >0.000000</td>\n      <td id=\"T_33f4a_row24_col5\" class=\"data row24 col5\" >0.000000</td>\n      <td id=\"T_33f4a_row24_col6\" class=\"data row24 col6\" >0.000000</td>\n      <td id=\"T_33f4a_row24_col7\" class=\"data row24 col7\" >9.840000</td>\n      <td id=\"T_33f4a_row24_col8\" class=\"data row24 col8\" >9.000000</td>\n      <td id=\"T_33f4a_row24_col9\" class=\"data row24 col9\" >0.840000</td>\n      <td id=\"T_33f4a_row24_col10\" class=\"data row24 col10\" >1146.460000</td>\n      <td id=\"T_33f4a_row24_col11\" class=\"data row24 col11\" >1.150000</td>\n      <td id=\"T_33f4a_row24_col12\" class=\"data row24 col12\" >1373.790000</td>\n      <td id=\"T_33f4a_row24_col13\" class=\"data row24 col13\" >0.840000</td>\n      <td id=\"T_33f4a_row24_col14\" class=\"data row24 col14\" >1.150000</td>\n      <td id=\"T_33f4a_row24_col15\" class=\"data row24 col15\" >1373.790000</td>\n    </tr>\n    <tr>\n      <th id=\"T_33f4a_level0_row25\" class=\"row_heading level0 row25\" >25</th>\n      <td id=\"T_33f4a_row25_col0\" class=\"data row25 col0\" >KWSB500BWR R22-1</td>\n      <td id=\"T_33f4a_row25_col1\" class=\"data row25 col1\" >0.000000</td>\n      <td id=\"T_33f4a_row25_col2\" class=\"data row25 col2\" >0.000000</td>\n      <td id=\"T_33f4a_row25_col3\" class=\"data row25 col3\" >0.000000</td>\n      <td id=\"T_33f4a_row25_col4\" class=\"data row25 col4\" >0.000000</td>\n      <td id=\"T_33f4a_row25_col5\" class=\"data row25 col5\" >0.000000</td>\n      <td id=\"T_33f4a_row25_col6\" class=\"data row25 col6\" >0.000000</td>\n      <td id=\"T_33f4a_row25_col7\" class=\"data row25 col7\" >7.670000</td>\n      <td id=\"T_33f4a_row25_col8\" class=\"data row25 col8\" >5.900000</td>\n      <td id=\"T_33f4a_row25_col9\" class=\"data row25 col9\" >1.770000</td>\n      <td id=\"T_33f4a_row25_col10\" class=\"data row25 col10\" >25090.060000</td>\n      <td id=\"T_33f4a_row25_col11\" class=\"data row25 col11\" >25.090000</td>\n      <td id=\"T_33f4a_row25_col12\" class=\"data row25 col12\" >30065.180000</td>\n      <td id=\"T_33f4a_row25_col13\" class=\"data row25 col13\" >1.770000</td>\n      <td id=\"T_33f4a_row25_col14\" class=\"data row25 col14\" >25.090000</td>\n      <td id=\"T_33f4a_row25_col15\" class=\"data row25 col15\" >30065.180000</td>\n    </tr>\n    <tr>\n      <th id=\"T_33f4a_level0_row26\" class=\"row_heading level0 row26\" >26</th>\n      <td id=\"T_33f4a_row26_col0\" class=\"data row26 col0\" >S235 JR-A-1</td>\n      <td id=\"T_33f4a_row26_col1\" class=\"data row26 col1\" >3.550000</td>\n      <td id=\"T_33f4a_row26_col2\" class=\"data row26 col2\" >2.800000</td>\n      <td id=\"T_33f4a_row26_col3\" class=\"data row26 col3\" >0.750000</td>\n      <td id=\"T_33f4a_row26_col4\" class=\"data row26 col4\" >3288.690000</td>\n      <td id=\"T_33f4a_row26_col5\" class=\"data row26 col5\" >3.290000</td>\n      <td id=\"T_33f4a_row26_col6\" class=\"data row26 col6\" >5650.200000</td>\n      <td id=\"T_33f4a_row26_col7\" class=\"data row26 col7\" >10.570000</td>\n      <td id=\"T_33f4a_row26_col8\" class=\"data row26 col8\" >9.000000</td>\n      <td id=\"T_33f4a_row26_col9\" class=\"data row26 col9\" >1.570000</td>\n      <td id=\"T_33f4a_row26_col10\" class=\"data row26 col10\" >6884.320000</td>\n      <td id=\"T_33f4a_row26_col11\" class=\"data row26 col11\" >6.880000</td>\n      <td id=\"T_33f4a_row26_col12\" class=\"data row26 col12\" >8249.420000</td>\n      <td id=\"T_33f4a_row26_col13\" class=\"data row26 col13\" >2.320000</td>\n      <td id=\"T_33f4a_row26_col14\" class=\"data row26 col14\" >10.170000</td>\n      <td id=\"T_33f4a_row26_col15\" class=\"data row26 col15\" >13899.610000</td>\n    </tr>\n    <tr>\n      <th id=\"T_33f4a_level0_row27\" class=\"row_heading level0 row27\" >27</th>\n      <td id=\"T_33f4a_row27_col0\" class=\"data row27 col0\" >S235 JR-A-2</td>\n      <td id=\"T_33f4a_row27_col1\" class=\"data row27 col1\" >0.000000</td>\n      <td id=\"T_33f4a_row27_col2\" class=\"data row27 col2\" >0.000000</td>\n      <td id=\"T_33f4a_row27_col3\" class=\"data row27 col3\" >0.000000</td>\n      <td id=\"T_33f4a_row27_col4\" class=\"data row27 col4\" >0.000000</td>\n      <td id=\"T_33f4a_row27_col5\" class=\"data row27 col5\" >0.000000</td>\n      <td id=\"T_33f4a_row27_col6\" class=\"data row27 col6\" >0.000000</td>\n      <td id=\"T_33f4a_row27_col7\" class=\"data row27 col7\" >10.320000</td>\n      <td id=\"T_33f4a_row27_col8\" class=\"data row27 col8\" >9.000000</td>\n      <td id=\"T_33f4a_row27_col9\" class=\"data row27 col9\" >1.320000</td>\n      <td id=\"T_33f4a_row27_col10\" class=\"data row27 col10\" >25486.830000</td>\n      <td id=\"T_33f4a_row27_col11\" class=\"data row27 col11\" >25.490000</td>\n      <td id=\"T_33f4a_row27_col12\" class=\"data row27 col12\" >30540.620000</td>\n      <td id=\"T_33f4a_row27_col13\" class=\"data row27 col13\" >1.320000</td>\n      <td id=\"T_33f4a_row27_col14\" class=\"data row27 col14\" >25.490000</td>\n      <td id=\"T_33f4a_row27_col15\" class=\"data row27 col15\" >30540.620000</td>\n    </tr>\n    <tr>\n      <th id=\"T_33f4a_level0_row28\" class=\"row_heading level0 row28\" >28</th>\n      <td id=\"T_33f4a_row28_col0\" class=\"data row28 col0\" >S275 JR-A-1</td>\n      <td id=\"T_33f4a_row28_col1\" class=\"data row28 col1\" >2.240000</td>\n      <td id=\"T_33f4a_row28_col2\" class=\"data row28 col2\" >2.100000</td>\n      <td id=\"T_33f4a_row28_col3\" class=\"data row28 col3\" >0.140000</td>\n      <td id=\"T_33f4a_row28_col4\" class=\"data row28 col4\" >3220.480000</td>\n      <td id=\"T_33f4a_row28_col5\" class=\"data row28 col5\" >3.220000</td>\n      <td id=\"T_33f4a_row28_col6\" class=\"data row28 col6\" >5533.010000</td>\n      <td id=\"T_33f4a_row28_col7\" class=\"data row28 col7\" >14.640000</td>\n      <td id=\"T_33f4a_row28_col8\" class=\"data row28 col8\" >13.600000</td>\n      <td id=\"T_33f4a_row28_col9\" class=\"data row28 col9\" >1.040000</td>\n      <td id=\"T_33f4a_row28_col10\" class=\"data row28 col10\" >23923.580000</td>\n      <td id=\"T_33f4a_row28_col11\" class=\"data row28 col11\" >23.920000</td>\n      <td id=\"T_33f4a_row28_col12\" class=\"data row28 col12\" >28667.400000</td>\n      <td id=\"T_33f4a_row28_col13\" class=\"data row28 col13\" >1.180000</td>\n      <td id=\"T_33f4a_row28_col14\" class=\"data row28 col14\" >27.140000</td>\n      <td id=\"T_33f4a_row28_col15\" class=\"data row28 col15\" >34200.410000</td>\n    </tr>\n    <tr>\n      <th id=\"T_33f4a_level0_row29\" class=\"row_heading level0 row29\" >29</th>\n      <td id=\"T_33f4a_row29_col0\" class=\"data row29 col0\" >S275 JR-A-2</td>\n      <td id=\"T_33f4a_row29_col1\" class=\"data row29 col1\" >0.000000</td>\n      <td id=\"T_33f4a_row29_col2\" class=\"data row29 col2\" >0.000000</td>\n      <td id=\"T_33f4a_row29_col3\" class=\"data row29 col3\" >0.000000</td>\n      <td id=\"T_33f4a_row29_col4\" class=\"data row29 col4\" >0.000000</td>\n      <td id=\"T_33f4a_row29_col5\" class=\"data row29 col5\" >0.000000</td>\n      <td id=\"T_33f4a_row29_col6\" class=\"data row29 col6\" >0.000000</td>\n      <td id=\"T_33f4a_row29_col7\" class=\"data row29 col7\" >14.700000</td>\n      <td id=\"T_33f4a_row29_col8\" class=\"data row29 col8\" >13.600000</td>\n      <td id=\"T_33f4a_row29_col9\" class=\"data row29 col9\" >1.100000</td>\n      <td id=\"T_33f4a_row29_col10\" class=\"data row29 col10\" >83052.260000</td>\n      <td id=\"T_33f4a_row29_col11\" class=\"data row29 col11\" >83.050000</td>\n      <td id=\"T_33f4a_row29_col12\" class=\"data row29 col12\" >99520.720000</td>\n      <td id=\"T_33f4a_row29_col13\" class=\"data row29 col13\" >1.100000</td>\n      <td id=\"T_33f4a_row29_col14\" class=\"data row29 col14\" >83.050000</td>\n      <td id=\"T_33f4a_row29_col15\" class=\"data row29 col15\" >99520.720000</td>\n    </tr>\n    <tr>\n      <th id=\"T_33f4a_level0_row30\" class=\"row_heading level0 row30\" >30</th>\n      <td id=\"T_33f4a_row30_col0\" class=\"data row30 col0\" >S275 JR-AAA-1</td>\n      <td id=\"T_33f4a_row30_col1\" class=\"data row30 col1\" >0.000000</td>\n      <td id=\"T_33f4a_row30_col2\" class=\"data row30 col2\" >0.000000</td>\n      <td id=\"T_33f4a_row30_col3\" class=\"data row30 col3\" >0.000000</td>\n      <td id=\"T_33f4a_row30_col4\" class=\"data row30 col4\" >0.000000</td>\n      <td id=\"T_33f4a_row30_col5\" class=\"data row30 col5\" >0.000000</td>\n      <td id=\"T_33f4a_row30_col6\" class=\"data row30 col6\" >0.000000</td>\n      <td id=\"T_33f4a_row30_col7\" class=\"data row30 col7\" >14.420000</td>\n      <td id=\"T_33f4a_row30_col8\" class=\"data row30 col8\" >13.600000</td>\n      <td id=\"T_33f4a_row30_col9\" class=\"data row30 col9\" >0.820000</td>\n      <td id=\"T_33f4a_row30_col10\" class=\"data row30 col10\" >9967.100000</td>\n      <td id=\"T_33f4a_row30_col11\" class=\"data row30 col11\" >9.970000</td>\n      <td id=\"T_33f4a_row30_col12\" class=\"data row30 col12\" >11943.480000</td>\n      <td id=\"T_33f4a_row30_col13\" class=\"data row30 col13\" >0.820000</td>\n      <td id=\"T_33f4a_row30_col14\" class=\"data row30 col14\" >9.970000</td>\n      <td id=\"T_33f4a_row30_col15\" class=\"data row30 col15\" >11943.480000</td>\n    </tr>\n    <tr>\n      <th id=\"T_33f4a_level0_row31\" class=\"row_heading level0 row31\" >31</th>\n      <td id=\"T_33f4a_row31_col0\" class=\"data row31 col0\" >S275 JR-AAA-2</td>\n      <td id=\"T_33f4a_row31_col1\" class=\"data row31 col1\" >0.000000</td>\n      <td id=\"T_33f4a_row31_col2\" class=\"data row31 col2\" >0.000000</td>\n      <td id=\"T_33f4a_row31_col3\" class=\"data row31 col3\" >0.000000</td>\n      <td id=\"T_33f4a_row31_col4\" class=\"data row31 col4\" >0.000000</td>\n      <td id=\"T_33f4a_row31_col5\" class=\"data row31 col5\" >0.000000</td>\n      <td id=\"T_33f4a_row31_col6\" class=\"data row31 col6\" >0.000000</td>\n      <td id=\"T_33f4a_row31_col7\" class=\"data row31 col7\" >14.530000</td>\n      <td id=\"T_33f4a_row31_col8\" class=\"data row31 col8\" >13.600000</td>\n      <td id=\"T_33f4a_row31_col9\" class=\"data row31 col9\" >0.930000</td>\n      <td id=\"T_33f4a_row31_col10\" class=\"data row31 col10\" >104774.030000</td>\n      <td id=\"T_33f4a_row31_col11\" class=\"data row31 col11\" >104.770000</td>\n      <td id=\"T_33f4a_row31_col12\" class=\"data row31 col12\" >125549.710000</td>\n      <td id=\"T_33f4a_row31_col13\" class=\"data row31 col13\" >0.930000</td>\n      <td id=\"T_33f4a_row31_col14\" class=\"data row31 col14\" >104.770000</td>\n      <td id=\"T_33f4a_row31_col15\" class=\"data row31 col15\" >125549.710000</td>\n    </tr>\n    <tr>\n      <th id=\"T_33f4a_level0_row32\" class=\"row_heading level0 row32\" >32</th>\n      <td id=\"T_33f4a_row32_col0\" class=\"data row32 col0\" >S355 G11-A-1</td>\n      <td id=\"T_33f4a_row32_col1\" class=\"data row32 col1\" >2.070000</td>\n      <td id=\"T_33f4a_row32_col2\" class=\"data row32 col2\" >1.600000</td>\n      <td id=\"T_33f4a_row32_col3\" class=\"data row32 col3\" >0.470000</td>\n      <td id=\"T_33f4a_row32_col4\" class=\"data row32 col4\" >886.440000</td>\n      <td id=\"T_33f4a_row32_col5\" class=\"data row32 col5\" >0.890000</td>\n      <td id=\"T_33f4a_row32_col6\" class=\"data row32 col6\" >1522.970000</td>\n      <td id=\"T_33f4a_row32_col7\" class=\"data row32 col7\" >18.520000</td>\n      <td id=\"T_33f4a_row32_col8\" class=\"data row32 col8\" >16.400000</td>\n      <td id=\"T_33f4a_row32_col9\" class=\"data row32 col9\" >2.120000</td>\n      <td id=\"T_33f4a_row32_col10\" class=\"data row32 col10\" >3998.420000</td>\n      <td id=\"T_33f4a_row32_col11\" class=\"data row32 col11\" >4.000000</td>\n      <td id=\"T_33f4a_row32_col12\" class=\"data row32 col12\" >4791.270000</td>\n      <td id=\"T_33f4a_row32_col13\" class=\"data row32 col13\" >2.590000</td>\n      <td id=\"T_33f4a_row32_col14\" class=\"data row32 col14\" >4.880000</td>\n      <td id=\"T_33f4a_row32_col15\" class=\"data row32 col15\" >6314.240000</td>\n    </tr>\n    <tr>\n      <th id=\"T_33f4a_level0_row33\" class=\"row_heading level0 row33\" >33</th>\n      <td id=\"T_33f4a_row33_col0\" class=\"data row33 col0\" >S355 G11-A-2</td>\n      <td id=\"T_33f4a_row33_col1\" class=\"data row33 col1\" >0.000000</td>\n      <td id=\"T_33f4a_row33_col2\" class=\"data row33 col2\" >0.000000</td>\n      <td id=\"T_33f4a_row33_col3\" class=\"data row33 col3\" >0.000000</td>\n      <td id=\"T_33f4a_row33_col4\" class=\"data row33 col4\" >0.000000</td>\n      <td id=\"T_33f4a_row33_col5\" class=\"data row33 col5\" >0.000000</td>\n      <td id=\"T_33f4a_row33_col6\" class=\"data row33 col6\" >0.000000</td>\n      <td id=\"T_33f4a_row33_col7\" class=\"data row33 col7\" >17.100000</td>\n      <td id=\"T_33f4a_row33_col8\" class=\"data row33 col8\" >16.400000</td>\n      <td id=\"T_33f4a_row33_col9\" class=\"data row33 col9\" >0.700000</td>\n      <td id=\"T_33f4a_row33_col10\" class=\"data row33 col10\" >3501.170000</td>\n      <td id=\"T_33f4a_row33_col11\" class=\"data row33 col11\" >3.500000</td>\n      <td id=\"T_33f4a_row33_col12\" class=\"data row33 col12\" >4195.410000</td>\n      <td id=\"T_33f4a_row33_col13\" class=\"data row33 col13\" >0.700000</td>\n      <td id=\"T_33f4a_row33_col14\" class=\"data row33 col14\" >3.500000</td>\n      <td id=\"T_33f4a_row33_col15\" class=\"data row33 col15\" >4195.410000</td>\n    </tr>\n    <tr>\n      <th id=\"T_33f4a_level0_row34\" class=\"row_heading level0 row34\" >34</th>\n      <td id=\"T_33f4a_row34_col0\" class=\"data row34 col0\" >S355 J2-A-1</td>\n      <td id=\"T_33f4a_row34_col1\" class=\"data row34 col1\" >1.880000</td>\n      <td id=\"T_33f4a_row34_col2\" class=\"data row34 col2\" >1.300000</td>\n      <td id=\"T_33f4a_row34_col3\" class=\"data row34 col3\" >0.580000</td>\n      <td id=\"T_33f4a_row34_col4\" class=\"data row34 col4\" >3182.670000</td>\n      <td id=\"T_33f4a_row34_col5\" class=\"data row34 col5\" >3.180000</td>\n      <td id=\"T_33f4a_row34_col6\" class=\"data row34 col6\" >5468.050000</td>\n      <td id=\"T_33f4a_row34_col7\" class=\"data row34 col7\" >0.000000</td>\n      <td id=\"T_33f4a_row34_col8\" class=\"data row34 col8\" >0.000000</td>\n      <td id=\"T_33f4a_row34_col9\" class=\"data row34 col9\" >0.000000</td>\n      <td id=\"T_33f4a_row34_col10\" class=\"data row34 col10\" >0.000000</td>\n      <td id=\"T_33f4a_row34_col11\" class=\"data row34 col11\" >0.000000</td>\n      <td id=\"T_33f4a_row34_col12\" class=\"data row34 col12\" >0.000000</td>\n      <td id=\"T_33f4a_row34_col13\" class=\"data row34 col13\" >0.580000</td>\n      <td id=\"T_33f4a_row34_col14\" class=\"data row34 col14\" >3.180000</td>\n      <td id=\"T_33f4a_row34_col15\" class=\"data row34 col15\" >5468.050000</td>\n    </tr>\n    <tr>\n      <th id=\"T_33f4a_level0_row35\" class=\"row_heading level0 row35\" >35</th>\n      <td id=\"T_33f4a_row35_col0\" class=\"data row35 col0\" >S355 JR-B-1</td>\n      <td id=\"T_33f4a_row35_col1\" class=\"data row35 col1\" >1.840000</td>\n      <td id=\"T_33f4a_row35_col2\" class=\"data row35 col2\" >1.600000</td>\n      <td id=\"T_33f4a_row35_col3\" class=\"data row35 col3\" >0.240000</td>\n      <td id=\"T_33f4a_row35_col4\" class=\"data row35 col4\" >469.790000</td>\n      <td id=\"T_33f4a_row35_col5\" class=\"data row35 col5\" >0.470000</td>\n      <td id=\"T_33f4a_row35_col6\" class=\"data row35 col6\" >807.130000</td>\n      <td id=\"T_33f4a_row35_col7\" class=\"data row35 col7\" >0.000000</td>\n      <td id=\"T_33f4a_row35_col8\" class=\"data row35 col8\" >0.000000</td>\n      <td id=\"T_33f4a_row35_col9\" class=\"data row35 col9\" >0.000000</td>\n      <td id=\"T_33f4a_row35_col10\" class=\"data row35 col10\" >0.000000</td>\n      <td id=\"T_33f4a_row35_col11\" class=\"data row35 col11\" >0.000000</td>\n      <td id=\"T_33f4a_row35_col12\" class=\"data row35 col12\" >0.000000</td>\n      <td id=\"T_33f4a_row35_col13\" class=\"data row35 col13\" >0.240000</td>\n      <td id=\"T_33f4a_row35_col14\" class=\"data row35 col14\" >0.470000</td>\n      <td id=\"T_33f4a_row35_col15\" class=\"data row35 col15\" >807.130000</td>\n    </tr>\n    <tr>\n      <th id=\"T_33f4a_level0_row36\" class=\"row_heading level0 row36\" >36</th>\n      <td id=\"T_33f4a_row36_col0\" class=\"data row36 col0\" >SAE 1008-2</td>\n      <td id=\"T_33f4a_row36_col1\" class=\"data row36 col1\" >1.500000</td>\n      <td id=\"T_33f4a_row36_col2\" class=\"data row36 col2\" >1.300000</td>\n      <td id=\"T_33f4a_row36_col3\" class=\"data row36 col3\" >0.200000</td>\n      <td id=\"T_33f4a_row36_col4\" class=\"data row36 col4\" >4025.660000</td>\n      <td id=\"T_33f4a_row36_col5\" class=\"data row36 col5\" >4.030000</td>\n      <td id=\"T_33f4a_row36_col6\" class=\"data row36 col6\" >6916.370000</td>\n      <td id=\"T_33f4a_row36_col7\" class=\"data row36 col7\" >0.000000</td>\n      <td id=\"T_33f4a_row36_col8\" class=\"data row36 col8\" >0.000000</td>\n      <td id=\"T_33f4a_row36_col9\" class=\"data row36 col9\" >0.000000</td>\n      <td id=\"T_33f4a_row36_col10\" class=\"data row36 col10\" >0.000000</td>\n      <td id=\"T_33f4a_row36_col11\" class=\"data row36 col11\" >0.000000</td>\n      <td id=\"T_33f4a_row36_col12\" class=\"data row36 col12\" >0.000000</td>\n      <td id=\"T_33f4a_row36_col13\" class=\"data row36 col13\" >0.200000</td>\n      <td id=\"T_33f4a_row36_col14\" class=\"data row36 col14\" >4.030000</td>\n      <td id=\"T_33f4a_row36_col15\" class=\"data row36 col15\" >6916.370000</td>\n    </tr>\n    <tr>\n      <th id=\"T_33f4a_level0_row37\" class=\"row_heading level0 row37\" >37</th>\n      <td id=\"T_33f4a_row37_col0\" class=\"data row37 col0\" >SAE 1012-1</td>\n      <td id=\"T_33f4a_row37_col1\" class=\"data row37 col1\" >2.190000</td>\n      <td id=\"T_33f4a_row37_col2\" class=\"data row37 col2\" >2.000000</td>\n      <td id=\"T_33f4a_row37_col3\" class=\"data row37 col3\" >0.190000</td>\n      <td id=\"T_33f4a_row37_col4\" class=\"data row37 col4\" >24.600000</td>\n      <td id=\"T_33f4a_row37_col5\" class=\"data row37 col5\" >0.020000</td>\n      <td id=\"T_33f4a_row37_col6\" class=\"data row37 col6\" >42.270000</td>\n      <td id=\"T_33f4a_row37_col7\" class=\"data row37 col7\" >8.660000</td>\n      <td id=\"T_33f4a_row37_col8\" class=\"data row37 col8\" >6.500000</td>\n      <td id=\"T_33f4a_row37_col9\" class=\"data row37 col9\" >2.160000</td>\n      <td id=\"T_33f4a_row37_col10\" class=\"data row37 col10\" >279.720000</td>\n      <td id=\"T_33f4a_row37_col11\" class=\"data row37 col11\" >0.280000</td>\n      <td id=\"T_33f4a_row37_col12\" class=\"data row37 col12\" >335.180000</td>\n      <td id=\"T_33f4a_row37_col13\" class=\"data row37 col13\" >2.350000</td>\n      <td id=\"T_33f4a_row37_col14\" class=\"data row37 col14\" >0.300000</td>\n      <td id=\"T_33f4a_row37_col15\" class=\"data row37 col15\" >377.460000</td>\n    </tr>\n    <tr>\n      <th id=\"T_33f4a_level0_row38\" class=\"row_heading level0 row38\" >38</th>\n      <td id=\"T_33f4a_row38_col0\" class=\"data row38 col0\" >SAE 1018-1</td>\n      <td id=\"T_33f4a_row38_col1\" class=\"data row38 col1\" >0.000000</td>\n      <td id=\"T_33f4a_row38_col2\" class=\"data row38 col2\" >0.000000</td>\n      <td id=\"T_33f4a_row38_col3\" class=\"data row38 col3\" >0.000000</td>\n      <td id=\"T_33f4a_row38_col4\" class=\"data row38 col4\" >0.000000</td>\n      <td id=\"T_33f4a_row38_col5\" class=\"data row38 col5\" >0.000000</td>\n      <td id=\"T_33f4a_row38_col6\" class=\"data row38 col6\" >0.000000</td>\n      <td id=\"T_33f4a_row38_col7\" class=\"data row38 col7\" >10.040000</td>\n      <td id=\"T_33f4a_row38_col8\" class=\"data row38 col8\" >8.200000</td>\n      <td id=\"T_33f4a_row38_col9\" class=\"data row38 col9\" >1.840000</td>\n      <td id=\"T_33f4a_row38_col10\" class=\"data row38 col10\" >7107.560000</td>\n      <td id=\"T_33f4a_row38_col11\" class=\"data row38 col11\" >7.110000</td>\n      <td id=\"T_33f4a_row38_col12\" class=\"data row38 col12\" >8516.920000</td>\n      <td id=\"T_33f4a_row38_col13\" class=\"data row38 col13\" >1.840000</td>\n      <td id=\"T_33f4a_row38_col14\" class=\"data row38 col14\" >7.110000</td>\n      <td id=\"T_33f4a_row38_col15\" class=\"data row38 col15\" >8516.920000</td>\n    </tr>\n    <tr>\n      <th id=\"T_33f4a_level0_row39\" class=\"row_heading level0 row39\" >39</th>\n      <td id=\"T_33f4a_row39_col0\" class=\"data row39 col0\" >SWRH 42B-1</td>\n      <td id=\"T_33f4a_row39_col1\" class=\"data row39 col1\" >1.690000</td>\n      <td id=\"T_33f4a_row39_col2\" class=\"data row39 col2\" >1.000000</td>\n      <td id=\"T_33f4a_row39_col3\" class=\"data row39 col3\" >0.690000</td>\n      <td id=\"T_33f4a_row39_col4\" class=\"data row39 col4\" >193.090000</td>\n      <td id=\"T_33f4a_row39_col5\" class=\"data row39 col5\" >0.190000</td>\n      <td id=\"T_33f4a_row39_col6\" class=\"data row39 col6\" >331.740000</td>\n      <td id=\"T_33f4a_row39_col7\" class=\"data row39 col7\" >0.000000</td>\n      <td id=\"T_33f4a_row39_col8\" class=\"data row39 col8\" >0.000000</td>\n      <td id=\"T_33f4a_row39_col9\" class=\"data row39 col9\" >0.000000</td>\n      <td id=\"T_33f4a_row39_col10\" class=\"data row39 col10\" >0.000000</td>\n      <td id=\"T_33f4a_row39_col11\" class=\"data row39 col11\" >0.000000</td>\n      <td id=\"T_33f4a_row39_col12\" class=\"data row39 col12\" >0.000000</td>\n      <td id=\"T_33f4a_row39_col13\" class=\"data row39 col13\" >0.690000</td>\n      <td id=\"T_33f4a_row39_col14\" class=\"data row39 col14\" >0.190000</td>\n      <td id=\"T_33f4a_row39_col15\" class=\"data row39 col15\" >331.740000</td>\n    </tr>\n    <tr>\n      <th id=\"T_33f4a_level0_row40\" class=\"row_heading level0 row40\" >40</th>\n      <td id=\"T_33f4a_row40_col0\" class=\"data row40 col0\" >SWRH 47B-1</td>\n      <td id=\"T_33f4a_row40_col1\" class=\"data row40 col1\" >1.320000</td>\n      <td id=\"T_33f4a_row40_col2\" class=\"data row40 col2\" >1.000000</td>\n      <td id=\"T_33f4a_row40_col3\" class=\"data row40 col3\" >0.320000</td>\n      <td id=\"T_33f4a_row40_col4\" class=\"data row40 col4\" >197.550000</td>\n      <td id=\"T_33f4a_row40_col5\" class=\"data row40 col5\" >0.200000</td>\n      <td id=\"T_33f4a_row40_col6\" class=\"data row40 col6\" >339.400000</td>\n      <td id=\"T_33f4a_row40_col7\" class=\"data row40 col7\" >0.000000</td>\n      <td id=\"T_33f4a_row40_col8\" class=\"data row40 col8\" >0.000000</td>\n      <td id=\"T_33f4a_row40_col9\" class=\"data row40 col9\" >0.000000</td>\n      <td id=\"T_33f4a_row40_col10\" class=\"data row40 col10\" >0.000000</td>\n      <td id=\"T_33f4a_row40_col11\" class=\"data row40 col11\" >0.000000</td>\n      <td id=\"T_33f4a_row40_col12\" class=\"data row40 col12\" >0.000000</td>\n      <td id=\"T_33f4a_row40_col13\" class=\"data row40 col13\" >0.320000</td>\n      <td id=\"T_33f4a_row40_col14\" class=\"data row40 col14\" >0.200000</td>\n      <td id=\"T_33f4a_row40_col15\" class=\"data row40 col15\" >339.400000</td>\n    </tr>\n    <tr>\n      <th id=\"T_33f4a_level0_row41\" class=\"row_heading level0 row41\" >41</th>\n      <td id=\"T_33f4a_row41_col0\" class=\"data row41 col0\" >SWRH 52B-1</td>\n      <td id=\"T_33f4a_row41_col1\" class=\"data row41 col1\" >1.820000</td>\n      <td id=\"T_33f4a_row41_col2\" class=\"data row41 col2\" >1.000000</td>\n      <td id=\"T_33f4a_row41_col3\" class=\"data row41 col3\" >0.820000</td>\n      <td id=\"T_33f4a_row41_col4\" class=\"data row41 col4\" >241.490000</td>\n      <td id=\"T_33f4a_row41_col5\" class=\"data row41 col5\" >0.240000</td>\n      <td id=\"T_33f4a_row41_col6\" class=\"data row41 col6\" >414.890000</td>\n      <td id=\"T_33f4a_row41_col7\" class=\"data row41 col7\" >0.000000</td>\n      <td id=\"T_33f4a_row41_col8\" class=\"data row41 col8\" >0.000000</td>\n      <td id=\"T_33f4a_row41_col9\" class=\"data row41 col9\" >0.000000</td>\n      <td id=\"T_33f4a_row41_col10\" class=\"data row41 col10\" >0.000000</td>\n      <td id=\"T_33f4a_row41_col11\" class=\"data row41 col11\" >0.000000</td>\n      <td id=\"T_33f4a_row41_col12\" class=\"data row41 col12\" >0.000000</td>\n      <td id=\"T_33f4a_row41_col13\" class=\"data row41 col13\" >0.820000</td>\n      <td id=\"T_33f4a_row41_col14\" class=\"data row41 col14\" >0.240000</td>\n      <td id=\"T_33f4a_row41_col15\" class=\"data row41 col15\" >414.890000</td>\n    </tr>\n    <tr>\n      <th id=\"T_33f4a_level0_row42\" class=\"row_heading level0 row42\" >42</th>\n      <td id=\"T_33f4a_row42_col0\" class=\"data row42 col0\" >SWRH 57B-1</td>\n      <td id=\"T_33f4a_row42_col1\" class=\"data row42 col1\" >1.520000</td>\n      <td id=\"T_33f4a_row42_col2\" class=\"data row42 col2\" >1.000000</td>\n      <td id=\"T_33f4a_row42_col3\" class=\"data row42 col3\" >0.520000</td>\n      <td id=\"T_33f4a_row42_col4\" class=\"data row42 col4\" >166.100000</td>\n      <td id=\"T_33f4a_row42_col5\" class=\"data row42 col5\" >0.170000</td>\n      <td id=\"T_33f4a_row42_col6\" class=\"data row42 col6\" >285.360000</td>\n      <td id=\"T_33f4a_row42_col7\" class=\"data row42 col7\" >0.000000</td>\n      <td id=\"T_33f4a_row42_col8\" class=\"data row42 col8\" >0.000000</td>\n      <td id=\"T_33f4a_row42_col9\" class=\"data row42 col9\" >0.000000</td>\n      <td id=\"T_33f4a_row42_col10\" class=\"data row42 col10\" >0.000000</td>\n      <td id=\"T_33f4a_row42_col11\" class=\"data row42 col11\" >0.000000</td>\n      <td id=\"T_33f4a_row42_col12\" class=\"data row42 col12\" >0.000000</td>\n      <td id=\"T_33f4a_row42_col13\" class=\"data row42 col13\" >0.520000</td>\n      <td id=\"T_33f4a_row42_col14\" class=\"data row42 col14\" >0.170000</td>\n      <td id=\"T_33f4a_row42_col15\" class=\"data row42 col15\" >285.360000</td>\n    </tr>\n    <tr>\n      <th id=\"T_33f4a_level0_row43\" class=\"row_heading level0 row43\" >43</th>\n      <td id=\"T_33f4a_row43_col0\" class=\"data row43 col0\" >SWRH 62B-1</td>\n      <td id=\"T_33f4a_row43_col1\" class=\"data row43 col1\" >1.290000</td>\n      <td id=\"T_33f4a_row43_col2\" class=\"data row43 col2\" >1.000000</td>\n      <td id=\"T_33f4a_row43_col3\" class=\"data row43 col3\" >0.290000</td>\n      <td id=\"T_33f4a_row43_col4\" class=\"data row43 col4\" >587.220000</td>\n      <td id=\"T_33f4a_row43_col5\" class=\"data row43 col5\" >0.590000</td>\n      <td id=\"T_33f4a_row43_col6\" class=\"data row43 col6\" >1008.880000</td>\n      <td id=\"T_33f4a_row43_col7\" class=\"data row43 col7\" >0.000000</td>\n      <td id=\"T_33f4a_row43_col8\" class=\"data row43 col8\" >0.000000</td>\n      <td id=\"T_33f4a_row43_col9\" class=\"data row43 col9\" >0.000000</td>\n      <td id=\"T_33f4a_row43_col10\" class=\"data row43 col10\" >0.000000</td>\n      <td id=\"T_33f4a_row43_col11\" class=\"data row43 col11\" >0.000000</td>\n      <td id=\"T_33f4a_row43_col12\" class=\"data row43 col12\" >0.000000</td>\n      <td id=\"T_33f4a_row43_col13\" class=\"data row43 col13\" >0.290000</td>\n      <td id=\"T_33f4a_row43_col14\" class=\"data row43 col14\" >0.590000</td>\n      <td id=\"T_33f4a_row43_col15\" class=\"data row43 col15\" >1008.880000</td>\n    </tr>\n    <tr>\n      <th id=\"T_33f4a_level0_row44\" class=\"row_heading level0 row44\" >44</th>\n      <td id=\"T_33f4a_row44_col0\" class=\"data row44 col0\" >SWRH 67B-1</td>\n      <td id=\"T_33f4a_row44_col1\" class=\"data row44 col1\" >1.320000</td>\n      <td id=\"T_33f4a_row44_col2\" class=\"data row44 col2\" >1.000000</td>\n      <td id=\"T_33f4a_row44_col3\" class=\"data row44 col3\" >0.320000</td>\n      <td id=\"T_33f4a_row44_col4\" class=\"data row44 col4\" >99.310000</td>\n      <td id=\"T_33f4a_row44_col5\" class=\"data row44 col5\" >0.100000</td>\n      <td id=\"T_33f4a_row44_col6\" class=\"data row44 col6\" >170.620000</td>\n      <td id=\"T_33f4a_row44_col7\" class=\"data row44 col7\" >0.000000</td>\n      <td id=\"T_33f4a_row44_col8\" class=\"data row44 col8\" >0.000000</td>\n      <td id=\"T_33f4a_row44_col9\" class=\"data row44 col9\" >0.000000</td>\n      <td id=\"T_33f4a_row44_col10\" class=\"data row44 col10\" >0.000000</td>\n      <td id=\"T_33f4a_row44_col11\" class=\"data row44 col11\" >0.000000</td>\n      <td id=\"T_33f4a_row44_col12\" class=\"data row44 col12\" >0.000000</td>\n      <td id=\"T_33f4a_row44_col13\" class=\"data row44 col13\" >0.320000</td>\n      <td id=\"T_33f4a_row44_col14\" class=\"data row44 col14\" >0.100000</td>\n      <td id=\"T_33f4a_row44_col15\" class=\"data row44 col15\" >170.620000</td>\n    </tr>\n    <tr>\n      <th id=\"T_33f4a_level0_row45\" class=\"row_heading level0 row45\" >45</th>\n      <td id=\"T_33f4a_row45_col0\" class=\"data row45 col0\" >SWRY 11-1</td>\n      <td id=\"T_33f4a_row45_col1\" class=\"data row45 col1\" >0.000000</td>\n      <td id=\"T_33f4a_row45_col2\" class=\"data row45 col2\" >0.000000</td>\n      <td id=\"T_33f4a_row45_col3\" class=\"data row45 col3\" >0.000000</td>\n      <td id=\"T_33f4a_row45_col4\" class=\"data row45 col4\" >0.000000</td>\n      <td id=\"T_33f4a_row45_col5\" class=\"data row45 col5\" >0.000000</td>\n      <td id=\"T_33f4a_row45_col6\" class=\"data row45 col6\" >0.000000</td>\n      <td id=\"T_33f4a_row45_col7\" class=\"data row45 col7\" >2.450000</td>\n      <td id=\"T_33f4a_row45_col8\" class=\"data row45 col8\" >1.500000</td>\n      <td id=\"T_33f4a_row45_col9\" class=\"data row45 col9\" >0.950000</td>\n      <td id=\"T_33f4a_row45_col10\" class=\"data row45 col10\" >13809.550000</td>\n      <td id=\"T_33f4a_row45_col11\" class=\"data row45 col11\" >13.810000</td>\n      <td id=\"T_33f4a_row45_col12\" class=\"data row45 col12\" >16547.860000</td>\n      <td id=\"T_33f4a_row45_col13\" class=\"data row45 col13\" >0.950000</td>\n      <td id=\"T_33f4a_row45_col14\" class=\"data row45 col14\" >13.810000</td>\n      <td id=\"T_33f4a_row45_col15\" class=\"data row45 col15\" >16547.860000</td>\n    </tr>\n    <tr>\n      <th id=\"T_33f4a_level0_row46\" class=\"row_heading level0 row46\" >46</th>\n      <td id=\"T_33f4a_row46_col0\" class=\"data row46 col0\" >Total</td>\n      <td id=\"T_33f4a_row46_col1\" class=\"data row46 col1\" >37.070000</td>\n      <td id=\"T_33f4a_row46_col2\" class=\"data row46 col2\" >28.700000</td>\n      <td id=\"T_33f4a_row46_col3\" class=\"data row46 col3\" >8.370000</td>\n      <td id=\"T_33f4a_row46_col4\" class=\"data row46 col4\" >21585.550000</td>\n      <td id=\"T_33f4a_row46_col5\" class=\"data row46 col5\" >21.590000</td>\n      <td id=\"T_33f4a_row46_col6\" class=\"data row46 col6\" >37085.470000</td>\n      <td id=\"T_33f4a_row46_col7\" class=\"data row46 col7\" >309.450000</td>\n      <td id=\"T_33f4a_row46_col8\" class=\"data row46 col8\" >262.100000</td>\n      <td id=\"T_33f4a_row46_col9\" class=\"data row46 col9\" >47.350000</td>\n      <td id=\"T_33f4a_row46_col10\" class=\"data row46 col10\" >1082259.360000</td>\n      <td id=\"T_33f4a_row46_col11\" class=\"data row46 col11\" >1082.260000</td>\n      <td id=\"T_33f4a_row46_col12\" class=\"data row46 col12\" >1296861.030000</td>\n      <td id=\"T_33f4a_row46_col13\" class=\"data row46 col13\" >55.720000</td>\n      <td id=\"T_33f4a_row46_col14\" class=\"data row46 col14\" >1103.840000</td>\n      <td id=\"T_33f4a_row46_col15\" class=\"data row46 col15\" >1333946.500000</td>\n    </tr>\n  </tbody>\n</table>\n"
     },
     "execution_count": 267,
     "metadata": {},
     "output_type": "execute_result"
    }
   ],
   "source": [
    "\n",
    "\n",
    "final_results_ff = final_results.drop(columns=[\"Billet Mass (Tons)\"])\n",
    "final_results_ff.style.background_gradient(cmap=\"Reds\")\n"
   ],
   "metadata": {
    "collapsed": false,
    "ExecuteTime": {
     "end_time": "2024-03-25T08:26:53.965883Z",
     "start_time": "2024-03-25T08:26:53.940976Z"
    }
   },
   "id": "3db84405f0b54a05",
   "execution_count": 267
  }
 ],
 "metadata": {
  "kernelspec": {
   "display_name": "Python 3 (ipykernel)",
   "language": "python",
   "name": "python3"
  },
  "language_info": {
   "codemirror_mode": {
    "name": "ipython",
    "version": 3
   },
   "file_extension": ".py",
   "mimetype": "text/x-python",
   "name": "python",
   "nbconvert_exporter": "python",
   "pygments_lexer": "ipython3",
   "version": "3.10.13"
  }
 },
 "nbformat": 4,
 "nbformat_minor": 5
}
