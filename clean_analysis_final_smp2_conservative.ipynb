{
 "cells": [
  {
   "cell_type": "code",
   "execution_count": 1,
   "id": "initial_id",
   "metadata": {
    "ExecuteTime": {
     "end_time": "2024-03-25T06:56:44.220616Z",
     "start_time": "2024-03-25T06:56:44.213210Z"
    }
   },
   "outputs": [],
   "source": [
    "\n",
    "\n",
    "import pandas as pd\n",
    "import seaborn as sns\n",
    "import matplotlib.pyplot as plt\n",
    "import numpy as np \n",
    "\n"
   ]
  },
  {
   "cell_type": "markdown",
   "id": "fe0bfe827623e75e",
   "metadata": {
    "collapsed": false
   },
   "source": [
    "\n",
    "\n",
    "## Composition Consumption and Cost Calculation\n",
    "\n",
    "To accurately calculate the composition consumption and its corresponding cost for a given grade of steel, we follow a two-step process. This approach first determines the actual amount of composition used in kilograms (kg) and then calculates the cost based on the price per ton.\n",
    "\n",
    "### Step 1: Calculate Composition Consumption in Kilograms (kg)\n",
    "\n",
    "Given variables:\n",
    "- `C` = Composition consumption rate in kg of composition per ton of billets\n",
    "- `T` = Tons of billets produced\n",
    "\n",
    "The formula to calculate the actual consumption of the composition (`A`) in kilograms (kg) for that grade of steel is:\n",
    "\n",
    "$$\\[A = C \\times T\\]$$\n",
    "\n",
    "### Step 2: Convert Consumption into Cost\n",
    "\n",
    "Given additional variable:\n",
    "$$ `P` = Price of the sheet (or composition) per ton$$\n",
    "\n",
    "Since the price `P` is provided per ton, and there are 1000 kg in a ton, we first convert the actual consumption from kilograms to tons (`A_tons`):\n",
    "\n",
    "$$\\[A_{\\text{tons}} = \\frac{A}{1000}\\]$$\n",
    "\n",
    "To calculate the total cost (`Cost`) of the composition based on its consumption and the sheet price per ton, we use the formula:\n",
    "\n",
    "$$\\[Cost = A_{\\text{tons}} \\times P\\]$$\n",
    "\n",
    "Combining the steps, we get the comprehensive formula for calculating cost:\n",
    "\n",
    "$$\\[Cost = \\left( \\frac{C \\times T}{1000} \\right) \\times P\\]$$\n",
    "\n",
    "This formula allows us to calculate the total cost of the composition used based on its consumption rate per ton of billets produced, the total tons of billets produced, and the price per ton of the composition.\n",
    " \n",
    "composition consumption in kg/ton * tons of billets produced = composition consumption in KG \n",
    " 1.   kg/ton * ton = kg you get the actual consumption of composition for that grade steel \n",
    " 2.   from 1, divide by 1000 to get ton, multiply the result by tth sheet price ton * (sheet price since its per ton) per composition.\n",
    "\n"
   ]
  },
  {
   "cell_type": "markdown",
   "id": "7f5fe5a36513cf94",
   "metadata": {
    "collapsed": false
   },
   "source": [
    "## Prices for SMP2 Chemicals:"
   ]
  },
  {
   "cell_type": "code",
   "execution_count": 2,
   "id": "b966d88d83fb71e7",
   "metadata": {
    "collapsed": false,
    "ExecuteTime": {
     "end_time": "2024-03-25T06:56:44.352436Z",
     "start_time": "2024-03-25T06:56:44.346243Z"
    }
   },
   "outputs": [
    {
     "data": {
      "text/plain": "{'FeSi - Ferro-Silicon': 1718.069471192685,\n 'FeSiMn - Silicon-maganese': 1198.290427122754,\n 'FeMnHC - Ferro-Manganese (High Carbon)': 1036.421919534007,\n 'Recarburizer - Recarburizer': 470.809108058571,\n 'FeCr - Ferrochrome': 0.0}"
     },
     "execution_count": 2,
     "metadata": {},
     "output_type": "execute_result"
    }
   ],
   "source": [
    "\n",
    "\n",
    "# Given dictionaries\n",
    "list_names_prices_smp2_december_2023 = {\n",
    "    \"FeSi - Ferro-Silicon\": 1784.26869542229,\n",
    "    \"FeSiMn - Silicon-maganese\": 982.491100414191,\n",
    "    \"FeMnHC - Ferro-Manganese (High Carbon)\": 1072.38667899182,\n",
    "    \"Recarburizer - Recarburizer\": 459.168109303317,\n",
    "    'FeCr - Ferrochrome': 0.0\n",
    "}\n",
    "\n",
    "list_names_prices_smp2_februrary_2024 = {\n",
    "    \"FeSi - Ferro-Silicon\": 1513.14266939651,\n",
    "    \"FeSiMn - Silicon-maganese\": 981.166637222105,\n",
    "    \"FeMnHC - Ferro-Manganese (High Carbon)\": 987.371168766638,\n",
    "    \"Recarburizer - Recarburizer\": 396.65551241767,\n",
    "    'FeCr - Ferrochrome': 0.0\n",
    "}\n",
    "\n",
    "list_names_prices_smp2_january_2024 = {\n",
    "    \"FeSi - Ferro-Silicon\": 1761.04858264133,\n",
    "    \"FeSiMn - Silicon-maganese\": 1761.04858264133,\n",
    "    \"FeMnHC - Ferro-Manganese (High Carbon)\": 1013.54162166185,\n",
    "    \"Recarburizer - Recarburizer\": 485.931625802038,\n",
    "    'FeCr - Ferrochrome': 0.0\n",
    "}\n",
    "\n",
    "list_names_prices_smp2_november_2023 = {\n",
    "    \"FeSi - Ferro-Silicon\": 1813.81793731061,\n",
    "    \"FeSiMn - Silicon-maganese\": 1068.45538821339,\n",
    "    \"FeMnHC - Ferro-Manganese (High Carbon)\": 1072.38820871572,\n",
    "    \"Recarburizer - Recarburizer\": 541.481184711259,\n",
    "    'FeCr - Ferrochrome': 0.0\n",
    "}\n",
    "\n",
    "df = pd.DataFrame([\n",
    "    list_names_prices_smp2_december_2023,\n",
    "    list_names_prices_smp2_februrary_2024,\n",
    "    list_names_prices_smp2_january_2024,\n",
    "    list_names_prices_smp2_november_2023\n",
    "])\n",
    "\n",
    "mean_prices = df.mean()\n",
    "list_names_prices_smp2_mean = mean_prices.to_dict()\n",
    "list_names_prices_smp2_mean\n"
   ]
  },
  {
   "cell_type": "code",
   "outputs": [
    {
     "data": {
      "text/plain": "1198.290427122754"
     },
     "execution_count": 3,
     "metadata": {},
     "output_type": "execute_result"
    }
   ],
   "source": [
    "\n",
    "# FeSiMn - Silicon-maganese average cost over 4 months\n",
    "(982.491100414191 + 981.166637222105 + 1761.04858264133 +  1068.45538821339) /4\n",
    "\n"
   ],
   "metadata": {
    "collapsed": false,
    "ExecuteTime": {
     "end_time": "2024-03-25T06:56:44.360472Z",
     "start_time": "2024-03-25T06:56:44.358248Z"
    }
   },
   "id": "cd8b92e862b93aa6",
   "execution_count": 3
  },
  {
   "cell_type": "code",
   "outputs": [
    {
     "data": {
      "text/plain": "1718.069471192685"
     },
     "execution_count": 4,
     "metadata": {},
     "output_type": "execute_result"
    }
   ],
   "source": [
    "\n",
    "# FeSi - Ferro-Silicon average cost per 4 months:\n",
    "\n",
    "(1784.26869542229 + 1513.14266939651 + 1761.04858264133 + 1813.81793731061) / 4\n"
   ],
   "metadata": {
    "collapsed": false,
    "ExecuteTime": {
     "end_time": "2024-03-25T06:56:44.366722Z",
     "start_time": "2024-03-25T06:56:44.364622Z"
    }
   },
   "id": "17e96073205f4937",
   "execution_count": 4
  },
  {
   "cell_type": "code",
   "outputs": [],
   "source": [
    "\n",
    "# choose SMP \n",
    "data = pd.read_csv(\"Ferroalloys Consumption SMP #2.csv\")\n",
    "\n",
    "\n",
    "\n",
    "# extract columns you are going to use for the analysis:\n",
    "data = data[['SteelGrade', \n",
    "             'Billet',\n",
    "             'FeSiMn Target (KG/Ton)',\n",
    "             'FeSiMn Actual (KG/Ton)',\n",
    "             'FeSi Target (KG/Ton)',\n",
    "             'FeSi Actual (KG/Ton)', \n",
    "             ]]\n",
    "\n",
    "\n",
    "\n",
    "\n",
    "# calculate overshot per Chemicals:\n",
    "data['FeSiMn Overshot (KG/Ton)'] = data['FeSiMn Actual (KG/Ton)'] - data['FeSiMn Target (KG/Ton)']\n",
    "data['FeSi Overshot (KG/Ton)'] = data['FeSi Actual (KG/Ton)'] - data['FeSi Target (KG/Ton)']\n",
    "\n",
    "\n",
    "# separate dataframe to do the calculations, to be more accurate and precise:\n",
    "fesmin_data = data[[\"SteelGrade\",\"Billet\",\"FeSiMn Actual (KG/Ton)\",\"FeSiMn Target (KG/Ton)\",\"FeSiMn Overshot (KG/Ton)\"]]\n",
    "fesi_data = data[[\"SteelGrade\",\"Billet\",\"FeSi Actual (KG/Ton)\",\"FeSi Target (KG/Ton)\",\"FeSi Overshot (KG/Ton)\"]]\n",
    "\n",
    "\n"
   ],
   "metadata": {
    "collapsed": false,
    "ExecuteTime": {
     "end_time": "2024-03-25T06:56:44.390455Z",
     "start_time": "2024-03-25T06:56:44.384539Z"
    }
   },
   "id": "fb2c56459f42435f",
   "execution_count": 5
  },
  {
   "cell_type": "code",
   "outputs": [],
   "source": [
    "\n",
    "# now calculate here conservative estimates and compare them with the base:\n",
    "\n",
    "data_conservative = pd.read_csv(\"Ferroalloys Consumption SMP #2.csv\")\n",
    "\n",
    "\n",
    "\n",
    "# extract columns you are going to use for the analysis:\n",
    "data_conservative = data_conservative[['SteelGrade',\n",
    "             'Billet',\n",
    "             'FeSiMn Target (KG/Ton)',\n",
    "             'FeSiMn Actual (KG/Ton)',\n",
    "             'FeSi Target (KG/Ton)',\n",
    "             'FeSi Actual (KG/Ton)',\n",
    "             ]]\n",
    "\n",
    "\n",
    "data_conservative[\"FeSiMn Target (KG/Ton)\"] = data_conservative[\"FeSiMn Target (KG/Ton)\"] * 1.025\n",
    "data_conservative[\"FeSi Target (KG/Ton)\"] = data_conservative[\"FeSi Target (KG/Ton)\"] * 1.025\n",
    " \n",
    "\n",
    "\n",
    "# now calculate overshot per mentioned chemicals:\n",
    "\n",
    "data_conservative['FeSiMn Overshot (KG/Ton)'] = data_conservative['FeSiMn Actual (KG/Ton)'] - data_conservative['FeSiMn Target (KG/Ton)']\n",
    "data_conservative['FeSi Overshot (KG/Ton)'] = data_conservative['FeSi Actual (KG/Ton)'] - data_conservative['FeSi Target (KG/Ton)']\n",
    "\n",
    "\n",
    "\n",
    "fesmin_data_conservative = data_conservative[[\"SteelGrade\",\"Billet\",\"FeSiMn Actual (KG/Ton)\",\"FeSiMn Target (KG/Ton)\",\"FeSiMn Overshot (KG/Ton)\"]]\n",
    "fesi_data_conservative = data_conservative[[\"SteelGrade\",\"Billet\",\"FeSi Actual (KG/Ton)\",\"FeSi Target (KG/Ton)\",\"FeSi Overshot (KG/Ton)\"]]\n",
    "\n"
   ],
   "metadata": {
    "collapsed": false,
    "ExecuteTime": {
     "end_time": "2024-03-25T06:56:44.420542Z",
     "start_time": "2024-03-25T06:56:44.414687Z"
    }
   },
   "id": "5917342ed5b097ad",
   "execution_count": 6
  },
  {
   "cell_type": "markdown",
   "source": [
    "### Rename columns to standardize them:"
   ],
   "metadata": {
    "collapsed": false
   },
   "id": "4019c5cb1a85df1f"
  },
  {
   "cell_type": "code",
   "outputs": [],
   "source": [
    "\n",
    "fesmin_data = fesmin_data.rename(columns={'Billet': 'Billet Mass (Tons)'})\n",
    "fesi_data =  fesi_data.rename(columns={'Billet': 'Billet Mass (Tons)'})\n"
   ],
   "metadata": {
    "collapsed": false,
    "ExecuteTime": {
     "end_time": "2024-03-25T06:56:44.439300Z",
     "start_time": "2024-03-25T06:56:44.436742Z"
    }
   },
   "id": "2f697f232738fe1f",
   "execution_count": 7
  },
  {
   "cell_type": "code",
   "outputs": [],
   "source": [
    "\n",
    "\n",
    "fesmin_data_conservative = fesmin_data_conservative.rename(columns={'Billet': 'Billet Mass (Tons)'})\n",
    "fesi_data_conservative =  fesi_data_conservative.rename(columns={'Billet': 'Billet Mass (Tons)'})\n",
    "\n"
   ],
   "metadata": {
    "collapsed": false,
    "ExecuteTime": {
     "end_time": "2024-03-25T06:56:44.513564Z",
     "start_time": "2024-03-25T06:56:44.484737Z"
    }
   },
   "id": "a72ecebb0bc1f2d8",
   "execution_count": 8
  },
  {
   "cell_type": "markdown",
   "source": [
    "### Add Suffix to duplicated steel grades names:"
   ],
   "metadata": {
    "collapsed": false
   },
   "id": "2b6bfbf523eccdc8"
  },
  {
   "cell_type": "code",
   "outputs": [],
   "source": [
    "\n",
    "fesi_data['Suffix'] = fesi_data.groupby('SteelGrade').cumcount() + 1\n",
    "fesi_data['SteelGrade_Unique'] = fesi_data['SteelGrade'] + '-' + fesi_data['Suffix'].astype(str)\n",
    "fesi_data[\"SteelGrade\"] = fesi_data[\"SteelGrade_Unique\"]\n",
    "fesi_data.drop(columns=['Suffix',\"SteelGrade_Unique\"], inplace=True)\n",
    "\n"
   ],
   "metadata": {
    "collapsed": false,
    "ExecuteTime": {
     "end_time": "2024-03-25T06:56:44.540129Z",
     "start_time": "2024-03-25T06:56:44.535461Z"
    }
   },
   "id": "fa53d80d3cc74402",
   "execution_count": 9
  },
  {
   "cell_type": "code",
   "outputs": [],
   "source": [
    "# add unique name to steel grade\n",
    "\n",
    "fesmin_data['Suffix'] = fesmin_data.groupby('SteelGrade').cumcount() + 1\n",
    "fesmin_data['SteelGrade_Unique'] = fesmin_data['SteelGrade'] + '-' + fesmin_data['Suffix'].astype(str)\n",
    "fesmin_data[\"SteelGrade\"] = fesmin_data[\"SteelGrade_Unique\"]\n",
    "fesmin_data.drop(columns=['Suffix',\"SteelGrade_Unique\"], inplace=True)\n"
   ],
   "metadata": {
    "collapsed": false,
    "ExecuteTime": {
     "end_time": "2024-03-25T06:56:44.580744Z",
     "start_time": "2024-03-25T06:56:44.575911Z"
    }
   },
   "id": "252ab0a3be51ecfc",
   "execution_count": 10
  },
  {
   "cell_type": "code",
   "outputs": [],
   "source": [
    "\n",
    "fesi_data_conservative['Suffix'] = fesi_data_conservative.groupby('SteelGrade').cumcount() + 1\n",
    "fesi_data_conservative['SteelGrade_Unique'] = fesi_data_conservative['SteelGrade'] + '-' + fesi_data_conservative['Suffix'].astype(str)\n",
    "fesi_data_conservative[\"SteelGrade\"] = fesi_data_conservative[\"SteelGrade_Unique\"]\n",
    "fesi_data_conservative.drop(columns=['Suffix',\"SteelGrade_Unique\"], inplace=True)\n",
    "\n"
   ],
   "metadata": {
    "collapsed": false,
    "ExecuteTime": {
     "end_time": "2024-03-25T06:56:44.601948Z",
     "start_time": "2024-03-25T06:56:44.597974Z"
    }
   },
   "id": "8b2ddd4c5c414301",
   "execution_count": 11
  },
  {
   "cell_type": "code",
   "outputs": [],
   "source": [
    "\n",
    "fesmin_data_conservative['Suffix'] = fesmin_data_conservative.groupby('SteelGrade').cumcount() + 1\n",
    "fesmin_data_conservative['SteelGrade_Unique'] = fesmin_data_conservative['SteelGrade'] + '-' + fesmin_data_conservative['Suffix'].astype(str)\n",
    "fesmin_data_conservative[\"SteelGrade\"] = fesmin_data_conservative[\"SteelGrade_Unique\"]\n",
    "fesmin_data_conservative.drop(columns=['Suffix',\"SteelGrade_Unique\"], inplace=True)\n"
   ],
   "metadata": {
    "collapsed": false,
    "ExecuteTime": {
     "end_time": "2024-03-25T06:56:44.618223Z",
     "start_time": "2024-03-25T06:56:44.614437Z"
    }
   },
   "id": "5e89dda75374859e",
   "execution_count": 12
  },
  {
   "cell_type": "markdown",
   "source": [
    "### Filter columns where target must not equal 0 and overshot must be greater than 0.0:"
   ],
   "metadata": {
    "collapsed": false
   },
   "id": "79f7f51d8ed0b67"
  },
  {
   "cell_type": "code",
   "outputs": [],
   "source": [
    "\n",
    "# filter columns you are interested in:\n",
    "# first condition target must be greater than 0.0:\n",
    "fesmin_data = fesmin_data[fesmin_data[\"FeSiMn Target (KG/Ton)\"]!= 0.0]\n",
    "\n",
    "# second condition overshot must be > 0.0 \n",
    "fesmin_data = fesmin_data[fesmin_data[\"FeSiMn Overshot (KG/Ton)\"] > 0.0]\n",
    "\n"
   ],
   "metadata": {
    "collapsed": false,
    "ExecuteTime": {
     "end_time": "2024-03-25T06:56:44.633472Z",
     "start_time": "2024-03-25T06:56:44.630270Z"
    }
   },
   "id": "e0b70cb3f9dd2b1f",
   "execution_count": 13
  },
  {
   "cell_type": "code",
   "outputs": [],
   "source": [
    "\n",
    "\n",
    "\n",
    "# filter columns you are interested in:\n",
    "# first condition target must be greater than 0.0:\n",
    "fesmin_data_conservative = fesmin_data_conservative[fesmin_data_conservative[\"FeSiMn Target (KG/Ton)\"]!= 0.0]\n",
    "\n",
    "# second condition overshot must be > 0.0 \n",
    "fesmin_data_conservative = fesmin_data_conservative[fesmin_data_conservative[\"FeSiMn Overshot (KG/Ton)\"] > 0.0]\n",
    "\n",
    "\n"
   ],
   "metadata": {
    "collapsed": false,
    "ExecuteTime": {
     "end_time": "2024-03-25T06:56:44.657329Z",
     "start_time": "2024-03-25T06:56:44.654418Z"
    }
   },
   "id": "e3691bf270cf307b",
   "execution_count": 14
  },
  {
   "cell_type": "code",
   "outputs": [],
   "source": [
    "\n",
    "# filter columns you are interested in:\n",
    "# first condition target must be greater than 0.0:\n",
    "fesi_data = fesi_data[fesi_data[\"FeSi Target (KG/Ton)\"]!= 0.0]\n",
    "\n",
    "# second condition overshot must be > 0.0 \n",
    "fesi_data = fesi_data[fesi_data[\"FeSi Overshot (KG/Ton)\"] > 0.0]\n",
    "\n"
   ],
   "metadata": {
    "collapsed": false,
    "ExecuteTime": {
     "end_time": "2024-03-25T06:56:44.686531Z",
     "start_time": "2024-03-25T06:56:44.683984Z"
    }
   },
   "id": "211e1dc2893902a3",
   "execution_count": 15
  },
  {
   "cell_type": "code",
   "outputs": [],
   "source": [
    "\n",
    "\n",
    "# filter columns you are interested in:\n",
    "# first condition target must be greater than 0.0:\n",
    "fesi_data_conservative = fesi_data_conservative[fesi_data_conservative[\"FeSi Target (KG/Ton)\"]!= 0.0]\n",
    "\n",
    "# second condition overshot must be > 0.0 \n",
    "fesi_data_conservative = fesi_data_conservative[fesi_data_conservative[\"FeSi Overshot (KG/Ton)\"] > 0.0]\n",
    "\n",
    "\n"
   ],
   "metadata": {
    "collapsed": false,
    "ExecuteTime": {
     "end_time": "2024-03-25T06:56:44.700948Z",
     "start_time": "2024-03-25T06:56:44.698248Z"
    }
   },
   "id": "aecf3ecc889311f7",
   "execution_count": 16
  },
  {
   "cell_type": "code",
   "outputs": [
    {
     "data": {
      "text/plain": "          SteelGrade  Billet Mass (Tons)  FeSiMn Actual (KG/Ton)  \\\n0          3SP CON-1           10040.952                    7.79   \n2          3SP UIS-1           19396.407                    8.14   \n8    AISI 1006 CAQ-1           14217.135                    3.14   \n10       AISI 1012-1             127.478                    7.89   \n11       AISI 1012-2            2847.713                    7.73   \n12       AISI 1015-1            3129.471                    8.02   \n13       AISI 1018-1            8659.960                    8.91   \n14       AISI 1038-1            2732.942                   10.07   \n20    BS-G500B R22-1           11144.716                    7.92   \n21    BS-G500B R22-2           11956.901                    8.00   \n22    BS-G500B R51-1            1242.724                   10.37   \n23      BSG500BR41-1           74008.489                    7.98   \n24      BSG500BR41-2          179322.080                    7.91   \n25      BSG500BR42-1            1980.089                    8.04   \n26      BSG500BR42-2          151789.712                    7.83   \n27      BSSS560R12-1            8578.967                   11.86   \n28      BSSS560R22-1            2217.466                    7.72   \n29      BSSS560R22-2            7713.394                    7.97   \n32  KWSB500BWR R11-1            2948.755                    8.70   \n33  KWSB500BWR R12-1            1364.831                    9.84   \n34  KWSB500BWR R22-1           14175.175                    7.67   \n35       S235 JR-A-1            4384.918                   10.57   \n36       S235 JR-A-2           19308.201                   10.32   \n37       S275 JR-A-1           23003.444                   14.64   \n38       S275 JR-A-2           75502.051                   14.70   \n39     S275 JR-AAA-1           12155.000                   14.42   \n40     S275 JR-AAA-2          112660.245                   14.53   \n41      S355 G11-A-1            1886.049                   18.52   \n42      S355 G11-A-2            5001.665                   17.10   \n57        SAE 1012-1             129.499                    8.66   \n58        SAE 1018-1            3862.805                   10.04   \n74         SWRY 11-1           14536.372                    2.45   \n\n    FeSiMn Target (KG/Ton)  FeSiMn Overshot (KG/Ton)  \n0                      6.0                      1.79  \n2                      6.2                      1.94  \n8                      1.5                      1.64  \n10                     6.5                      1.39  \n11                     6.5                      1.23  \n12                     5.8                      2.22  \n13                     8.2                      0.71  \n14                    10.0                      0.07  \n20                     5.9                      2.02  \n21                     5.9                      2.10  \n22                     7.4                      2.97  \n23                     5.9                      2.08  \n24                     5.9                      2.01  \n25                     7.4                      0.64  \n26                     7.4                      0.43  \n27                     9.0                      2.86  \n28                     5.9                      1.82  \n29                     5.9                      2.07  \n32                     8.5                      0.20  \n33                     9.0                      0.84  \n34                     5.9                      1.77  \n35                     9.0                      1.57  \n36                     9.0                      1.32  \n37                    13.6                      1.04  \n38                    13.6                      1.10  \n39                    13.6                      0.82  \n40                    13.6                      0.93  \n41                    16.4                      2.12  \n42                    16.4                      0.70  \n57                     6.5                      2.16  \n58                     8.2                      1.84  \n74                     1.5                      0.95  ",
      "text/html": "<div>\n<style scoped>\n    .dataframe tbody tr th:only-of-type {\n        vertical-align: middle;\n    }\n\n    .dataframe tbody tr th {\n        vertical-align: top;\n    }\n\n    .dataframe thead th {\n        text-align: right;\n    }\n</style>\n<table border=\"1\" class=\"dataframe\">\n  <thead>\n    <tr style=\"text-align: right;\">\n      <th></th>\n      <th>SteelGrade</th>\n      <th>Billet Mass (Tons)</th>\n      <th>FeSiMn Actual (KG/Ton)</th>\n      <th>FeSiMn Target (KG/Ton)</th>\n      <th>FeSiMn Overshot (KG/Ton)</th>\n    </tr>\n  </thead>\n  <tbody>\n    <tr>\n      <th>0</th>\n      <td>3SP CON-1</td>\n      <td>10040.952</td>\n      <td>7.79</td>\n      <td>6.0</td>\n      <td>1.79</td>\n    </tr>\n    <tr>\n      <th>2</th>\n      <td>3SP UIS-1</td>\n      <td>19396.407</td>\n      <td>8.14</td>\n      <td>6.2</td>\n      <td>1.94</td>\n    </tr>\n    <tr>\n      <th>8</th>\n      <td>AISI 1006 CAQ-1</td>\n      <td>14217.135</td>\n      <td>3.14</td>\n      <td>1.5</td>\n      <td>1.64</td>\n    </tr>\n    <tr>\n      <th>10</th>\n      <td>AISI 1012-1</td>\n      <td>127.478</td>\n      <td>7.89</td>\n      <td>6.5</td>\n      <td>1.39</td>\n    </tr>\n    <tr>\n      <th>11</th>\n      <td>AISI 1012-2</td>\n      <td>2847.713</td>\n      <td>7.73</td>\n      <td>6.5</td>\n      <td>1.23</td>\n    </tr>\n    <tr>\n      <th>12</th>\n      <td>AISI 1015-1</td>\n      <td>3129.471</td>\n      <td>8.02</td>\n      <td>5.8</td>\n      <td>2.22</td>\n    </tr>\n    <tr>\n      <th>13</th>\n      <td>AISI 1018-1</td>\n      <td>8659.960</td>\n      <td>8.91</td>\n      <td>8.2</td>\n      <td>0.71</td>\n    </tr>\n    <tr>\n      <th>14</th>\n      <td>AISI 1038-1</td>\n      <td>2732.942</td>\n      <td>10.07</td>\n      <td>10.0</td>\n      <td>0.07</td>\n    </tr>\n    <tr>\n      <th>20</th>\n      <td>BS-G500B R22-1</td>\n      <td>11144.716</td>\n      <td>7.92</td>\n      <td>5.9</td>\n      <td>2.02</td>\n    </tr>\n    <tr>\n      <th>21</th>\n      <td>BS-G500B R22-2</td>\n      <td>11956.901</td>\n      <td>8.00</td>\n      <td>5.9</td>\n      <td>2.10</td>\n    </tr>\n    <tr>\n      <th>22</th>\n      <td>BS-G500B R51-1</td>\n      <td>1242.724</td>\n      <td>10.37</td>\n      <td>7.4</td>\n      <td>2.97</td>\n    </tr>\n    <tr>\n      <th>23</th>\n      <td>BSG500BR41-1</td>\n      <td>74008.489</td>\n      <td>7.98</td>\n      <td>5.9</td>\n      <td>2.08</td>\n    </tr>\n    <tr>\n      <th>24</th>\n      <td>BSG500BR41-2</td>\n      <td>179322.080</td>\n      <td>7.91</td>\n      <td>5.9</td>\n      <td>2.01</td>\n    </tr>\n    <tr>\n      <th>25</th>\n      <td>BSG500BR42-1</td>\n      <td>1980.089</td>\n      <td>8.04</td>\n      <td>7.4</td>\n      <td>0.64</td>\n    </tr>\n    <tr>\n      <th>26</th>\n      <td>BSG500BR42-2</td>\n      <td>151789.712</td>\n      <td>7.83</td>\n      <td>7.4</td>\n      <td>0.43</td>\n    </tr>\n    <tr>\n      <th>27</th>\n      <td>BSSS560R12-1</td>\n      <td>8578.967</td>\n      <td>11.86</td>\n      <td>9.0</td>\n      <td>2.86</td>\n    </tr>\n    <tr>\n      <th>28</th>\n      <td>BSSS560R22-1</td>\n      <td>2217.466</td>\n      <td>7.72</td>\n      <td>5.9</td>\n      <td>1.82</td>\n    </tr>\n    <tr>\n      <th>29</th>\n      <td>BSSS560R22-2</td>\n      <td>7713.394</td>\n      <td>7.97</td>\n      <td>5.9</td>\n      <td>2.07</td>\n    </tr>\n    <tr>\n      <th>32</th>\n      <td>KWSB500BWR R11-1</td>\n      <td>2948.755</td>\n      <td>8.70</td>\n      <td>8.5</td>\n      <td>0.20</td>\n    </tr>\n    <tr>\n      <th>33</th>\n      <td>KWSB500BWR R12-1</td>\n      <td>1364.831</td>\n      <td>9.84</td>\n      <td>9.0</td>\n      <td>0.84</td>\n    </tr>\n    <tr>\n      <th>34</th>\n      <td>KWSB500BWR R22-1</td>\n      <td>14175.175</td>\n      <td>7.67</td>\n      <td>5.9</td>\n      <td>1.77</td>\n    </tr>\n    <tr>\n      <th>35</th>\n      <td>S235 JR-A-1</td>\n      <td>4384.918</td>\n      <td>10.57</td>\n      <td>9.0</td>\n      <td>1.57</td>\n    </tr>\n    <tr>\n      <th>36</th>\n      <td>S235 JR-A-2</td>\n      <td>19308.201</td>\n      <td>10.32</td>\n      <td>9.0</td>\n      <td>1.32</td>\n    </tr>\n    <tr>\n      <th>37</th>\n      <td>S275 JR-A-1</td>\n      <td>23003.444</td>\n      <td>14.64</td>\n      <td>13.6</td>\n      <td>1.04</td>\n    </tr>\n    <tr>\n      <th>38</th>\n      <td>S275 JR-A-2</td>\n      <td>75502.051</td>\n      <td>14.70</td>\n      <td>13.6</td>\n      <td>1.10</td>\n    </tr>\n    <tr>\n      <th>39</th>\n      <td>S275 JR-AAA-1</td>\n      <td>12155.000</td>\n      <td>14.42</td>\n      <td>13.6</td>\n      <td>0.82</td>\n    </tr>\n    <tr>\n      <th>40</th>\n      <td>S275 JR-AAA-2</td>\n      <td>112660.245</td>\n      <td>14.53</td>\n      <td>13.6</td>\n      <td>0.93</td>\n    </tr>\n    <tr>\n      <th>41</th>\n      <td>S355 G11-A-1</td>\n      <td>1886.049</td>\n      <td>18.52</td>\n      <td>16.4</td>\n      <td>2.12</td>\n    </tr>\n    <tr>\n      <th>42</th>\n      <td>S355 G11-A-2</td>\n      <td>5001.665</td>\n      <td>17.10</td>\n      <td>16.4</td>\n      <td>0.70</td>\n    </tr>\n    <tr>\n      <th>57</th>\n      <td>SAE 1012-1</td>\n      <td>129.499</td>\n      <td>8.66</td>\n      <td>6.5</td>\n      <td>2.16</td>\n    </tr>\n    <tr>\n      <th>58</th>\n      <td>SAE 1018-1</td>\n      <td>3862.805</td>\n      <td>10.04</td>\n      <td>8.2</td>\n      <td>1.84</td>\n    </tr>\n    <tr>\n      <th>74</th>\n      <td>SWRY 11-1</td>\n      <td>14536.372</td>\n      <td>2.45</td>\n      <td>1.5</td>\n      <td>0.95</td>\n    </tr>\n  </tbody>\n</table>\n</div>"
     },
     "execution_count": 17,
     "metadata": {},
     "output_type": "execute_result"
    }
   ],
   "source": [
    "\n",
    "fesmin_data\n"
   ],
   "metadata": {
    "collapsed": false,
    "ExecuteTime": {
     "end_time": "2024-03-25T06:56:44.715384Z",
     "start_time": "2024-03-25T06:56:44.706137Z"
    }
   },
   "id": "884af08ae615a462",
   "execution_count": 17
  },
  {
   "cell_type": "code",
   "outputs": [
    {
     "data": {
      "text/plain": "          SteelGrade  Billet Mass (Tons)  FeSiMn Actual (KG/Ton)  \\\n0          3SP CON-1           10040.952                    7.79   \n2          3SP UIS-1           19396.407                    8.14   \n8    AISI 1006 CAQ-1           14217.135                    3.14   \n10       AISI 1012-1             127.478                    7.89   \n11       AISI 1012-2            2847.713                    7.73   \n12       AISI 1015-1            3129.471                    8.02   \n13       AISI 1018-1            8659.960                    8.91   \n20    BS-G500B R22-1           11144.716                    7.92   \n21    BS-G500B R22-2           11956.901                    8.00   \n22    BS-G500B R51-1            1242.724                   10.37   \n23      BSG500BR41-1           74008.489                    7.98   \n24      BSG500BR41-2          179322.080                    7.91   \n25      BSG500BR42-1            1980.089                    8.04   \n26      BSG500BR42-2          151789.712                    7.83   \n27      BSSS560R12-1            8578.967                   11.86   \n28      BSSS560R22-1            2217.466                    7.72   \n29      BSSS560R22-2            7713.394                    7.97   \n33  KWSB500BWR R12-1            1364.831                    9.84   \n34  KWSB500BWR R22-1           14175.175                    7.67   \n35       S235 JR-A-1            4384.918                   10.57   \n36       S235 JR-A-2           19308.201                   10.32   \n37       S275 JR-A-1           23003.444                   14.64   \n38       S275 JR-A-2           75502.051                   14.70   \n39     S275 JR-AAA-1           12155.000                   14.42   \n40     S275 JR-AAA-2          112660.245                   14.53   \n41      S355 G11-A-1            1886.049                   18.52   \n42      S355 G11-A-2            5001.665                   17.10   \n57        SAE 1012-1             129.499                    8.66   \n58        SAE 1018-1            3862.805                   10.04   \n74         SWRY 11-1           14536.372                    2.45   \n\n    FeSiMn Target (KG/Ton)  FeSiMn Overshot (KG/Ton)  \n0                   6.1500                    1.6400  \n2                   6.3550                    1.7850  \n8                   1.5375                    1.6025  \n10                  6.6625                    1.2275  \n11                  6.6625                    1.0675  \n12                  5.9450                    2.0750  \n13                  8.4050                    0.5050  \n20                  6.0475                    1.8725  \n21                  6.0475                    1.9525  \n22                  7.5850                    2.7850  \n23                  6.0475                    1.9325  \n24                  6.0475                    1.8625  \n25                  7.5850                    0.4550  \n26                  7.5850                    0.2450  \n27                  9.2250                    2.6350  \n28                  6.0475                    1.6725  \n29                  6.0475                    1.9225  \n33                  9.2250                    0.6150  \n34                  6.0475                    1.6225  \n35                  9.2250                    1.3450  \n36                  9.2250                    1.0950  \n37                 13.9400                    0.7000  \n38                 13.9400                    0.7600  \n39                 13.9400                    0.4800  \n40                 13.9400                    0.5900  \n41                 16.8100                    1.7100  \n42                 16.8100                    0.2900  \n57                  6.6625                    1.9975  \n58                  8.4050                    1.6350  \n74                  1.5375                    0.9125  ",
      "text/html": "<div>\n<style scoped>\n    .dataframe tbody tr th:only-of-type {\n        vertical-align: middle;\n    }\n\n    .dataframe tbody tr th {\n        vertical-align: top;\n    }\n\n    .dataframe thead th {\n        text-align: right;\n    }\n</style>\n<table border=\"1\" class=\"dataframe\">\n  <thead>\n    <tr style=\"text-align: right;\">\n      <th></th>\n      <th>SteelGrade</th>\n      <th>Billet Mass (Tons)</th>\n      <th>FeSiMn Actual (KG/Ton)</th>\n      <th>FeSiMn Target (KG/Ton)</th>\n      <th>FeSiMn Overshot (KG/Ton)</th>\n    </tr>\n  </thead>\n  <tbody>\n    <tr>\n      <th>0</th>\n      <td>3SP CON-1</td>\n      <td>10040.952</td>\n      <td>7.79</td>\n      <td>6.1500</td>\n      <td>1.6400</td>\n    </tr>\n    <tr>\n      <th>2</th>\n      <td>3SP UIS-1</td>\n      <td>19396.407</td>\n      <td>8.14</td>\n      <td>6.3550</td>\n      <td>1.7850</td>\n    </tr>\n    <tr>\n      <th>8</th>\n      <td>AISI 1006 CAQ-1</td>\n      <td>14217.135</td>\n      <td>3.14</td>\n      <td>1.5375</td>\n      <td>1.6025</td>\n    </tr>\n    <tr>\n      <th>10</th>\n      <td>AISI 1012-1</td>\n      <td>127.478</td>\n      <td>7.89</td>\n      <td>6.6625</td>\n      <td>1.2275</td>\n    </tr>\n    <tr>\n      <th>11</th>\n      <td>AISI 1012-2</td>\n      <td>2847.713</td>\n      <td>7.73</td>\n      <td>6.6625</td>\n      <td>1.0675</td>\n    </tr>\n    <tr>\n      <th>12</th>\n      <td>AISI 1015-1</td>\n      <td>3129.471</td>\n      <td>8.02</td>\n      <td>5.9450</td>\n      <td>2.0750</td>\n    </tr>\n    <tr>\n      <th>13</th>\n      <td>AISI 1018-1</td>\n      <td>8659.960</td>\n      <td>8.91</td>\n      <td>8.4050</td>\n      <td>0.5050</td>\n    </tr>\n    <tr>\n      <th>20</th>\n      <td>BS-G500B R22-1</td>\n      <td>11144.716</td>\n      <td>7.92</td>\n      <td>6.0475</td>\n      <td>1.8725</td>\n    </tr>\n    <tr>\n      <th>21</th>\n      <td>BS-G500B R22-2</td>\n      <td>11956.901</td>\n      <td>8.00</td>\n      <td>6.0475</td>\n      <td>1.9525</td>\n    </tr>\n    <tr>\n      <th>22</th>\n      <td>BS-G500B R51-1</td>\n      <td>1242.724</td>\n      <td>10.37</td>\n      <td>7.5850</td>\n      <td>2.7850</td>\n    </tr>\n    <tr>\n      <th>23</th>\n      <td>BSG500BR41-1</td>\n      <td>74008.489</td>\n      <td>7.98</td>\n      <td>6.0475</td>\n      <td>1.9325</td>\n    </tr>\n    <tr>\n      <th>24</th>\n      <td>BSG500BR41-2</td>\n      <td>179322.080</td>\n      <td>7.91</td>\n      <td>6.0475</td>\n      <td>1.8625</td>\n    </tr>\n    <tr>\n      <th>25</th>\n      <td>BSG500BR42-1</td>\n      <td>1980.089</td>\n      <td>8.04</td>\n      <td>7.5850</td>\n      <td>0.4550</td>\n    </tr>\n    <tr>\n      <th>26</th>\n      <td>BSG500BR42-2</td>\n      <td>151789.712</td>\n      <td>7.83</td>\n      <td>7.5850</td>\n      <td>0.2450</td>\n    </tr>\n    <tr>\n      <th>27</th>\n      <td>BSSS560R12-1</td>\n      <td>8578.967</td>\n      <td>11.86</td>\n      <td>9.2250</td>\n      <td>2.6350</td>\n    </tr>\n    <tr>\n      <th>28</th>\n      <td>BSSS560R22-1</td>\n      <td>2217.466</td>\n      <td>7.72</td>\n      <td>6.0475</td>\n      <td>1.6725</td>\n    </tr>\n    <tr>\n      <th>29</th>\n      <td>BSSS560R22-2</td>\n      <td>7713.394</td>\n      <td>7.97</td>\n      <td>6.0475</td>\n      <td>1.9225</td>\n    </tr>\n    <tr>\n      <th>33</th>\n      <td>KWSB500BWR R12-1</td>\n      <td>1364.831</td>\n      <td>9.84</td>\n      <td>9.2250</td>\n      <td>0.6150</td>\n    </tr>\n    <tr>\n      <th>34</th>\n      <td>KWSB500BWR R22-1</td>\n      <td>14175.175</td>\n      <td>7.67</td>\n      <td>6.0475</td>\n      <td>1.6225</td>\n    </tr>\n    <tr>\n      <th>35</th>\n      <td>S235 JR-A-1</td>\n      <td>4384.918</td>\n      <td>10.57</td>\n      <td>9.2250</td>\n      <td>1.3450</td>\n    </tr>\n    <tr>\n      <th>36</th>\n      <td>S235 JR-A-2</td>\n      <td>19308.201</td>\n      <td>10.32</td>\n      <td>9.2250</td>\n      <td>1.0950</td>\n    </tr>\n    <tr>\n      <th>37</th>\n      <td>S275 JR-A-1</td>\n      <td>23003.444</td>\n      <td>14.64</td>\n      <td>13.9400</td>\n      <td>0.7000</td>\n    </tr>\n    <tr>\n      <th>38</th>\n      <td>S275 JR-A-2</td>\n      <td>75502.051</td>\n      <td>14.70</td>\n      <td>13.9400</td>\n      <td>0.7600</td>\n    </tr>\n    <tr>\n      <th>39</th>\n      <td>S275 JR-AAA-1</td>\n      <td>12155.000</td>\n      <td>14.42</td>\n      <td>13.9400</td>\n      <td>0.4800</td>\n    </tr>\n    <tr>\n      <th>40</th>\n      <td>S275 JR-AAA-2</td>\n      <td>112660.245</td>\n      <td>14.53</td>\n      <td>13.9400</td>\n      <td>0.5900</td>\n    </tr>\n    <tr>\n      <th>41</th>\n      <td>S355 G11-A-1</td>\n      <td>1886.049</td>\n      <td>18.52</td>\n      <td>16.8100</td>\n      <td>1.7100</td>\n    </tr>\n    <tr>\n      <th>42</th>\n      <td>S355 G11-A-2</td>\n      <td>5001.665</td>\n      <td>17.10</td>\n      <td>16.8100</td>\n      <td>0.2900</td>\n    </tr>\n    <tr>\n      <th>57</th>\n      <td>SAE 1012-1</td>\n      <td>129.499</td>\n      <td>8.66</td>\n      <td>6.6625</td>\n      <td>1.9975</td>\n    </tr>\n    <tr>\n      <th>58</th>\n      <td>SAE 1018-1</td>\n      <td>3862.805</td>\n      <td>10.04</td>\n      <td>8.4050</td>\n      <td>1.6350</td>\n    </tr>\n    <tr>\n      <th>74</th>\n      <td>SWRY 11-1</td>\n      <td>14536.372</td>\n      <td>2.45</td>\n      <td>1.5375</td>\n      <td>0.9125</td>\n    </tr>\n  </tbody>\n</table>\n</div>"
     },
     "execution_count": 18,
     "metadata": {},
     "output_type": "execute_result"
    }
   ],
   "source": [
    "\n",
    "# we miss two steel grade when we change the target to increase by 2.5% \n",
    "# AISI 1038-1\n",
    "# KWSB500BWR R11-1\n",
    "\n",
    "\n",
    "fesmin_data_conservative\n"
   ],
   "metadata": {
    "collapsed": false,
    "ExecuteTime": {
     "end_time": "2024-03-25T06:56:48.775256Z",
     "start_time": "2024-03-25T06:56:48.768223Z"
    }
   },
   "id": "a908fb6dc344c8",
   "execution_count": 18
  },
  {
   "cell_type": "code",
   "outputs": [
    {
     "data": {
      "text/plain": "      SteelGrade  Billet Mass (Tons)  FeSi Actual (KG/Ton)  \\\n10   AISI 1012-1             127.478                  2.76   \n11   AISI 1012-2            2847.713                  2.27   \n16   AISI 1045-1            2321.857                  1.57   \n17   AISI 1065-1            4813.276                  1.45   \n18   AISI 1067-1            1677.066                  1.35   \n19   AISI 1070-1             148.695                  1.22   \n30       EM12K-1             125.307                  2.22   \n35   S235 JR-A-1            4384.918                  3.55   \n37   S275 JR-A-1           23003.444                  2.24   \n41  S355 G11-A-1            1886.049                  2.07   \n43   S355 J2-A-1            5487.360                  1.88   \n48   S355 JR-B-1            1957.463                  1.84   \n56    SAE 1008-2           20128.323                  1.50   \n57    SAE 1012-1             129.499                  2.19   \n63    SWRH 42B-1             279.843                  1.69   \n65    SWRH 47B-1             617.338                  1.32   \n66    SWRH 52B-1             294.495                  1.82   \n67    SWRH 57B-1             319.415                  1.52   \n69    SWRH 62B-1            2024.886                  1.29   \n71    SWRH 67B-1             310.349                  1.32   \n\n    FeSi Target (KG/Ton)  FeSi Overshot (KG/Ton)  \n10                   2.0                    0.76  \n11                   2.0                    0.27  \n16                   1.0                    0.57  \n17                   1.0                    0.45  \n18                   1.0                    0.35  \n19                   1.0                    0.22  \n30                   2.0                    0.22  \n35                   2.8                    0.75  \n37                   2.1                    0.14  \n41                   1.6                    0.47  \n43                   1.3                    0.58  \n48                   1.6                    0.24  \n56                   1.3                    0.20  \n57                   2.0                    0.19  \n63                   1.0                    0.69  \n65                   1.0                    0.32  \n66                   1.0                    0.82  \n67                   1.0                    0.52  \n69                   1.0                    0.29  \n71                   1.0                    0.32  ",
      "text/html": "<div>\n<style scoped>\n    .dataframe tbody tr th:only-of-type {\n        vertical-align: middle;\n    }\n\n    .dataframe tbody tr th {\n        vertical-align: top;\n    }\n\n    .dataframe thead th {\n        text-align: right;\n    }\n</style>\n<table border=\"1\" class=\"dataframe\">\n  <thead>\n    <tr style=\"text-align: right;\">\n      <th></th>\n      <th>SteelGrade</th>\n      <th>Billet Mass (Tons)</th>\n      <th>FeSi Actual (KG/Ton)</th>\n      <th>FeSi Target (KG/Ton)</th>\n      <th>FeSi Overshot (KG/Ton)</th>\n    </tr>\n  </thead>\n  <tbody>\n    <tr>\n      <th>10</th>\n      <td>AISI 1012-1</td>\n      <td>127.478</td>\n      <td>2.76</td>\n      <td>2.0</td>\n      <td>0.76</td>\n    </tr>\n    <tr>\n      <th>11</th>\n      <td>AISI 1012-2</td>\n      <td>2847.713</td>\n      <td>2.27</td>\n      <td>2.0</td>\n      <td>0.27</td>\n    </tr>\n    <tr>\n      <th>16</th>\n      <td>AISI 1045-1</td>\n      <td>2321.857</td>\n      <td>1.57</td>\n      <td>1.0</td>\n      <td>0.57</td>\n    </tr>\n    <tr>\n      <th>17</th>\n      <td>AISI 1065-1</td>\n      <td>4813.276</td>\n      <td>1.45</td>\n      <td>1.0</td>\n      <td>0.45</td>\n    </tr>\n    <tr>\n      <th>18</th>\n      <td>AISI 1067-1</td>\n      <td>1677.066</td>\n      <td>1.35</td>\n      <td>1.0</td>\n      <td>0.35</td>\n    </tr>\n    <tr>\n      <th>19</th>\n      <td>AISI 1070-1</td>\n      <td>148.695</td>\n      <td>1.22</td>\n      <td>1.0</td>\n      <td>0.22</td>\n    </tr>\n    <tr>\n      <th>30</th>\n      <td>EM12K-1</td>\n      <td>125.307</td>\n      <td>2.22</td>\n      <td>2.0</td>\n      <td>0.22</td>\n    </tr>\n    <tr>\n      <th>35</th>\n      <td>S235 JR-A-1</td>\n      <td>4384.918</td>\n      <td>3.55</td>\n      <td>2.8</td>\n      <td>0.75</td>\n    </tr>\n    <tr>\n      <th>37</th>\n      <td>S275 JR-A-1</td>\n      <td>23003.444</td>\n      <td>2.24</td>\n      <td>2.1</td>\n      <td>0.14</td>\n    </tr>\n    <tr>\n      <th>41</th>\n      <td>S355 G11-A-1</td>\n      <td>1886.049</td>\n      <td>2.07</td>\n      <td>1.6</td>\n      <td>0.47</td>\n    </tr>\n    <tr>\n      <th>43</th>\n      <td>S355 J2-A-1</td>\n      <td>5487.360</td>\n      <td>1.88</td>\n      <td>1.3</td>\n      <td>0.58</td>\n    </tr>\n    <tr>\n      <th>48</th>\n      <td>S355 JR-B-1</td>\n      <td>1957.463</td>\n      <td>1.84</td>\n      <td>1.6</td>\n      <td>0.24</td>\n    </tr>\n    <tr>\n      <th>56</th>\n      <td>SAE 1008-2</td>\n      <td>20128.323</td>\n      <td>1.50</td>\n      <td>1.3</td>\n      <td>0.20</td>\n    </tr>\n    <tr>\n      <th>57</th>\n      <td>SAE 1012-1</td>\n      <td>129.499</td>\n      <td>2.19</td>\n      <td>2.0</td>\n      <td>0.19</td>\n    </tr>\n    <tr>\n      <th>63</th>\n      <td>SWRH 42B-1</td>\n      <td>279.843</td>\n      <td>1.69</td>\n      <td>1.0</td>\n      <td>0.69</td>\n    </tr>\n    <tr>\n      <th>65</th>\n      <td>SWRH 47B-1</td>\n      <td>617.338</td>\n      <td>1.32</td>\n      <td>1.0</td>\n      <td>0.32</td>\n    </tr>\n    <tr>\n      <th>66</th>\n      <td>SWRH 52B-1</td>\n      <td>294.495</td>\n      <td>1.82</td>\n      <td>1.0</td>\n      <td>0.82</td>\n    </tr>\n    <tr>\n      <th>67</th>\n      <td>SWRH 57B-1</td>\n      <td>319.415</td>\n      <td>1.52</td>\n      <td>1.0</td>\n      <td>0.52</td>\n    </tr>\n    <tr>\n      <th>69</th>\n      <td>SWRH 62B-1</td>\n      <td>2024.886</td>\n      <td>1.29</td>\n      <td>1.0</td>\n      <td>0.29</td>\n    </tr>\n    <tr>\n      <th>71</th>\n      <td>SWRH 67B-1</td>\n      <td>310.349</td>\n      <td>1.32</td>\n      <td>1.0</td>\n      <td>0.32</td>\n    </tr>\n  </tbody>\n</table>\n</div>"
     },
     "execution_count": 19,
     "metadata": {},
     "output_type": "execute_result"
    }
   ],
   "source": [
    "\n",
    "\n",
    "fesi_data\n"
   ],
   "metadata": {
    "collapsed": false,
    "ExecuteTime": {
     "end_time": "2024-03-25T07:01:53.028892Z",
     "start_time": "2024-03-25T07:01:53.015534Z"
    }
   },
   "id": "620bd6bfa31c1435",
   "execution_count": 19
  },
  {
   "cell_type": "code",
   "outputs": [
    {
     "data": {
      "text/plain": "      SteelGrade  Billet Mass (Tons)  FeSi Actual (KG/Ton)  \\\n10   AISI 1012-1             127.478                  2.76   \n11   AISI 1012-2            2847.713                  2.27   \n16   AISI 1045-1            2321.857                  1.57   \n17   AISI 1065-1            4813.276                  1.45   \n18   AISI 1067-1            1677.066                  1.35   \n19   AISI 1070-1             148.695                  1.22   \n30       EM12K-1             125.307                  2.22   \n35   S235 JR-A-1            4384.918                  3.55   \n37   S275 JR-A-1           23003.444                  2.24   \n41  S355 G11-A-1            1886.049                  2.07   \n43   S355 J2-A-1            5487.360                  1.88   \n48   S355 JR-B-1            1957.463                  1.84   \n56    SAE 1008-2           20128.323                  1.50   \n57    SAE 1012-1             129.499                  2.19   \n63    SWRH 42B-1             279.843                  1.69   \n65    SWRH 47B-1             617.338                  1.32   \n66    SWRH 52B-1             294.495                  1.82   \n67    SWRH 57B-1             319.415                  1.52   \n69    SWRH 62B-1            2024.886                  1.29   \n71    SWRH 67B-1             310.349                  1.32   \n\n    FeSi Target (KG/Ton)  FeSi Overshot (KG/Ton)  \n10                2.0500                  0.7100  \n11                2.0500                  0.2200  \n16                1.0250                  0.5450  \n17                1.0250                  0.4250  \n18                1.0250                  0.3250  \n19                1.0250                  0.1950  \n30                2.0500                  0.1700  \n35                2.8700                  0.6800  \n37                2.1525                  0.0875  \n41                1.6400                  0.4300  \n43                1.3325                  0.5475  \n48                1.6400                  0.2000  \n56                1.3325                  0.1675  \n57                2.0500                  0.1400  \n63                1.0250                  0.6650  \n65                1.0250                  0.2950  \n66                1.0250                  0.7950  \n67                1.0250                  0.4950  \n69                1.0250                  0.2650  \n71                1.0250                  0.2950  ",
      "text/html": "<div>\n<style scoped>\n    .dataframe tbody tr th:only-of-type {\n        vertical-align: middle;\n    }\n\n    .dataframe tbody tr th {\n        vertical-align: top;\n    }\n\n    .dataframe thead th {\n        text-align: right;\n    }\n</style>\n<table border=\"1\" class=\"dataframe\">\n  <thead>\n    <tr style=\"text-align: right;\">\n      <th></th>\n      <th>SteelGrade</th>\n      <th>Billet Mass (Tons)</th>\n      <th>FeSi Actual (KG/Ton)</th>\n      <th>FeSi Target (KG/Ton)</th>\n      <th>FeSi Overshot (KG/Ton)</th>\n    </tr>\n  </thead>\n  <tbody>\n    <tr>\n      <th>10</th>\n      <td>AISI 1012-1</td>\n      <td>127.478</td>\n      <td>2.76</td>\n      <td>2.0500</td>\n      <td>0.7100</td>\n    </tr>\n    <tr>\n      <th>11</th>\n      <td>AISI 1012-2</td>\n      <td>2847.713</td>\n      <td>2.27</td>\n      <td>2.0500</td>\n      <td>0.2200</td>\n    </tr>\n    <tr>\n      <th>16</th>\n      <td>AISI 1045-1</td>\n      <td>2321.857</td>\n      <td>1.57</td>\n      <td>1.0250</td>\n      <td>0.5450</td>\n    </tr>\n    <tr>\n      <th>17</th>\n      <td>AISI 1065-1</td>\n      <td>4813.276</td>\n      <td>1.45</td>\n      <td>1.0250</td>\n      <td>0.4250</td>\n    </tr>\n    <tr>\n      <th>18</th>\n      <td>AISI 1067-1</td>\n      <td>1677.066</td>\n      <td>1.35</td>\n      <td>1.0250</td>\n      <td>0.3250</td>\n    </tr>\n    <tr>\n      <th>19</th>\n      <td>AISI 1070-1</td>\n      <td>148.695</td>\n      <td>1.22</td>\n      <td>1.0250</td>\n      <td>0.1950</td>\n    </tr>\n    <tr>\n      <th>30</th>\n      <td>EM12K-1</td>\n      <td>125.307</td>\n      <td>2.22</td>\n      <td>2.0500</td>\n      <td>0.1700</td>\n    </tr>\n    <tr>\n      <th>35</th>\n      <td>S235 JR-A-1</td>\n      <td>4384.918</td>\n      <td>3.55</td>\n      <td>2.8700</td>\n      <td>0.6800</td>\n    </tr>\n    <tr>\n      <th>37</th>\n      <td>S275 JR-A-1</td>\n      <td>23003.444</td>\n      <td>2.24</td>\n      <td>2.1525</td>\n      <td>0.0875</td>\n    </tr>\n    <tr>\n      <th>41</th>\n      <td>S355 G11-A-1</td>\n      <td>1886.049</td>\n      <td>2.07</td>\n      <td>1.6400</td>\n      <td>0.4300</td>\n    </tr>\n    <tr>\n      <th>43</th>\n      <td>S355 J2-A-1</td>\n      <td>5487.360</td>\n      <td>1.88</td>\n      <td>1.3325</td>\n      <td>0.5475</td>\n    </tr>\n    <tr>\n      <th>48</th>\n      <td>S355 JR-B-1</td>\n      <td>1957.463</td>\n      <td>1.84</td>\n      <td>1.6400</td>\n      <td>0.2000</td>\n    </tr>\n    <tr>\n      <th>56</th>\n      <td>SAE 1008-2</td>\n      <td>20128.323</td>\n      <td>1.50</td>\n      <td>1.3325</td>\n      <td>0.1675</td>\n    </tr>\n    <tr>\n      <th>57</th>\n      <td>SAE 1012-1</td>\n      <td>129.499</td>\n      <td>2.19</td>\n      <td>2.0500</td>\n      <td>0.1400</td>\n    </tr>\n    <tr>\n      <th>63</th>\n      <td>SWRH 42B-1</td>\n      <td>279.843</td>\n      <td>1.69</td>\n      <td>1.0250</td>\n      <td>0.6650</td>\n    </tr>\n    <tr>\n      <th>65</th>\n      <td>SWRH 47B-1</td>\n      <td>617.338</td>\n      <td>1.32</td>\n      <td>1.0250</td>\n      <td>0.2950</td>\n    </tr>\n    <tr>\n      <th>66</th>\n      <td>SWRH 52B-1</td>\n      <td>294.495</td>\n      <td>1.82</td>\n      <td>1.0250</td>\n      <td>0.7950</td>\n    </tr>\n    <tr>\n      <th>67</th>\n      <td>SWRH 57B-1</td>\n      <td>319.415</td>\n      <td>1.52</td>\n      <td>1.0250</td>\n      <td>0.4950</td>\n    </tr>\n    <tr>\n      <th>69</th>\n      <td>SWRH 62B-1</td>\n      <td>2024.886</td>\n      <td>1.29</td>\n      <td>1.0250</td>\n      <td>0.2650</td>\n    </tr>\n    <tr>\n      <th>71</th>\n      <td>SWRH 67B-1</td>\n      <td>310.349</td>\n      <td>1.32</td>\n      <td>1.0250</td>\n      <td>0.2950</td>\n    </tr>\n  </tbody>\n</table>\n</div>"
     },
     "execution_count": 20,
     "metadata": {},
     "output_type": "execute_result"
    }
   ],
   "source": [
    "\n",
    "\n",
    "fesi_data_conservative\n"
   ],
   "metadata": {
    "collapsed": false,
    "ExecuteTime": {
     "end_time": "2024-03-25T07:01:59.119261Z",
     "start_time": "2024-03-25T07:01:59.113081Z"
    }
   },
   "id": "e3526518c95cf4c8",
   "execution_count": 20
  },
  {
   "cell_type": "code",
   "outputs": [
    {
     "data": {
      "text/plain": "True"
     },
     "execution_count": 21,
     "metadata": {},
     "output_type": "execute_result"
    }
   ],
   "source": [
    "\n",
    "\n",
    "all_in_df2 = fesi_data_conservative['SteelGrade'].isin(fesi_data['SteelGrade']).all()\n",
    "all_in_df2\n",
    "\n"
   ],
   "metadata": {
    "collapsed": false,
    "ExecuteTime": {
     "end_time": "2024-03-25T07:05:14.459247Z",
     "start_time": "2024-03-25T07:05:14.450809Z"
    }
   },
   "id": "41712debb82b6ae5",
   "execution_count": 21
  },
  {
   "cell_type": "markdown",
   "id": "30de2cd62a897dd",
   "metadata": {
    "collapsed": false
   },
   "source": []
  },
  {
   "cell_type": "markdown",
   "source": [],
   "metadata": {
    "collapsed": false
   },
   "id": "e9dac2f7f46701eb"
  },
  {
   "cell_type": "code",
   "execution_count": 22,
   "id": "2f638a05a3a5fd57",
   "metadata": {
    "collapsed": false,
    "ExecuteTime": {
     "end_time": "2024-03-25T07:06:57.225789Z",
     "start_time": "2024-03-25T07:06:57.208036Z"
    }
   },
   "outputs": [
    {
     "data": {
      "text/plain": "          SteelGrade  Billet Mass (Tons)  FeSiMn Actual (KG/Ton)  \\\n0          3SP CON-1           10040.952                    7.79   \n2          3SP UIS-1           19396.407                    8.14   \n8    AISI 1006 CAQ-1           14217.135                    3.14   \n10       AISI 1012-1             127.478                    7.89   \n11       AISI 1012-2            2847.713                    7.73   \n12       AISI 1015-1            3129.471                    8.02   \n13       AISI 1018-1            8659.960                    8.91   \n20    BS-G500B R22-1           11144.716                    7.92   \n21    BS-G500B R22-2           11956.901                    8.00   \n22    BS-G500B R51-1            1242.724                   10.37   \n23      BSG500BR41-1           74008.489                    7.98   \n24      BSG500BR41-2          179322.080                    7.91   \n25      BSG500BR42-1            1980.089                    8.04   \n26      BSG500BR42-2          151789.712                    7.83   \n27      BSSS560R12-1            8578.967                   11.86   \n28      BSSS560R22-1            2217.466                    7.72   \n29      BSSS560R22-2            7713.394                    7.97   \n33  KWSB500BWR R12-1            1364.831                    9.84   \n34  KWSB500BWR R22-1           14175.175                    7.67   \n35       S235 JR-A-1            4384.918                   10.57   \n36       S235 JR-A-2           19308.201                   10.32   \n37       S275 JR-A-1           23003.444                   14.64   \n38       S275 JR-A-2           75502.051                   14.70   \n39     S275 JR-AAA-1           12155.000                   14.42   \n40     S275 JR-AAA-2          112660.245                   14.53   \n41      S355 G11-A-1            1886.049                   18.52   \n42      S355 G11-A-2            5001.665                   17.10   \n57        SAE 1012-1             129.499                    8.66   \n58        SAE 1018-1            3862.805                   10.04   \n74         SWRY 11-1           14536.372                    2.45   \n\n    FeSiMn Target (KG/Ton)  FeSiMn Overshot (KG/Ton)  FeSiMn Overshot (KG)  \\\n0                   6.1500                    1.6400          16467.161280   \n2                   6.3550                    1.7850          34622.586495   \n8                   1.5375                    1.6025          22782.958838   \n10                  6.6625                    1.2275            156.479245   \n11                  6.6625                    1.0675           3039.933628   \n12                  5.9450                    2.0750           6493.652325   \n13                  8.4050                    0.5050           4373.279800   \n20                  6.0475                    1.8725          20868.480710   \n21                  6.0475                    1.9525          23345.849203   \n22                  7.5850                    2.7850           3460.986340   \n23                  6.0475                    1.9325         143021.404993   \n24                  6.0475                    1.8625         333987.374000   \n25                  7.5850                    0.4550            900.940495   \n26                  7.5850                    0.2450          37188.479440   \n27                  9.2250                    2.6350          22605.578045   \n28                  6.0475                    1.6725           3708.711885   \n29                  6.0475                    1.9225          14828.999965   \n33                  9.2250                    0.6150            839.371065   \n34                  6.0475                    1.6225          22999.221438   \n35                  9.2250                    1.3450           5897.714710   \n36                  9.2250                    1.0950          21142.480095   \n37                 13.9400                    0.7000          16102.410800   \n38                 13.9400                    0.7600          57381.558760   \n39                 13.9400                    0.4800           5834.400000   \n40                 13.9400                    0.5900          66469.544550   \n41                 16.8100                    1.7100           3225.143790   \n42                 16.8100                    0.2900           1450.482850   \n57                  6.6625                    1.9975            258.674253   \n58                  8.4050                    1.6350           6315.686175   \n74                  1.5375                    0.9125          13264.439450   \n\n    FeSiMn Overshot (Tons)  FeSiMn Overshot (Cost$)  \n0                16.467161             19732.441724  \n2                34.622586             41487.913959  \n8                22.782959             27300.601477  \n10                0.156479               187.507581  \n11                3.039934              3642.723365  \n12                6.493652              7781.281418  \n13                4.373280              5240.459319  \n20               20.868481             25006.500663  \n21               23.345849             27975.107612  \n22                3.460986              4147.266800  \n23              143.021405            171381.180476  \n24              333.987374            400213.873044  \n25                0.900940              1079.588371  \n26               37.188479             44562.598912  \n27               22.605578             27088.047771  \n28                3.708712              4444.113949  \n29               14.829000             17769.448702  \n33                0.839371              1005.810312  \n34               22.999221             27559.746880  \n35                5.897715              7067.175079  \n36               21.142480             25334.831503  \n37               16.102411             19295.364715  \n38               57.381559             68759.772555  \n39                5.834400              6991.305668  \n40               66.469545             79649.818929  \n41                3.225144              3864.658930  \n42                1.450483              1738.099714  \n57                0.258674               309.966881  \n58                6.315686              7568.026284  \n74               13.264439             15894.650814  ",
      "text/html": "<div>\n<style scoped>\n    .dataframe tbody tr th:only-of-type {\n        vertical-align: middle;\n    }\n\n    .dataframe tbody tr th {\n        vertical-align: top;\n    }\n\n    .dataframe thead th {\n        text-align: right;\n    }\n</style>\n<table border=\"1\" class=\"dataframe\">\n  <thead>\n    <tr style=\"text-align: right;\">\n      <th></th>\n      <th>SteelGrade</th>\n      <th>Billet Mass (Tons)</th>\n      <th>FeSiMn Actual (KG/Ton)</th>\n      <th>FeSiMn Target (KG/Ton)</th>\n      <th>FeSiMn Overshot (KG/Ton)</th>\n      <th>FeSiMn Overshot (KG)</th>\n      <th>FeSiMn Overshot (Tons)</th>\n      <th>FeSiMn Overshot (Cost$)</th>\n    </tr>\n  </thead>\n  <tbody>\n    <tr>\n      <th>0</th>\n      <td>3SP CON-1</td>\n      <td>10040.952</td>\n      <td>7.79</td>\n      <td>6.1500</td>\n      <td>1.6400</td>\n      <td>16467.161280</td>\n      <td>16.467161</td>\n      <td>19732.441724</td>\n    </tr>\n    <tr>\n      <th>2</th>\n      <td>3SP UIS-1</td>\n      <td>19396.407</td>\n      <td>8.14</td>\n      <td>6.3550</td>\n      <td>1.7850</td>\n      <td>34622.586495</td>\n      <td>34.622586</td>\n      <td>41487.913959</td>\n    </tr>\n    <tr>\n      <th>8</th>\n      <td>AISI 1006 CAQ-1</td>\n      <td>14217.135</td>\n      <td>3.14</td>\n      <td>1.5375</td>\n      <td>1.6025</td>\n      <td>22782.958838</td>\n      <td>22.782959</td>\n      <td>27300.601477</td>\n    </tr>\n    <tr>\n      <th>10</th>\n      <td>AISI 1012-1</td>\n      <td>127.478</td>\n      <td>7.89</td>\n      <td>6.6625</td>\n      <td>1.2275</td>\n      <td>156.479245</td>\n      <td>0.156479</td>\n      <td>187.507581</td>\n    </tr>\n    <tr>\n      <th>11</th>\n      <td>AISI 1012-2</td>\n      <td>2847.713</td>\n      <td>7.73</td>\n      <td>6.6625</td>\n      <td>1.0675</td>\n      <td>3039.933628</td>\n      <td>3.039934</td>\n      <td>3642.723365</td>\n    </tr>\n    <tr>\n      <th>12</th>\n      <td>AISI 1015-1</td>\n      <td>3129.471</td>\n      <td>8.02</td>\n      <td>5.9450</td>\n      <td>2.0750</td>\n      <td>6493.652325</td>\n      <td>6.493652</td>\n      <td>7781.281418</td>\n    </tr>\n    <tr>\n      <th>13</th>\n      <td>AISI 1018-1</td>\n      <td>8659.960</td>\n      <td>8.91</td>\n      <td>8.4050</td>\n      <td>0.5050</td>\n      <td>4373.279800</td>\n      <td>4.373280</td>\n      <td>5240.459319</td>\n    </tr>\n    <tr>\n      <th>20</th>\n      <td>BS-G500B R22-1</td>\n      <td>11144.716</td>\n      <td>7.92</td>\n      <td>6.0475</td>\n      <td>1.8725</td>\n      <td>20868.480710</td>\n      <td>20.868481</td>\n      <td>25006.500663</td>\n    </tr>\n    <tr>\n      <th>21</th>\n      <td>BS-G500B R22-2</td>\n      <td>11956.901</td>\n      <td>8.00</td>\n      <td>6.0475</td>\n      <td>1.9525</td>\n      <td>23345.849203</td>\n      <td>23.345849</td>\n      <td>27975.107612</td>\n    </tr>\n    <tr>\n      <th>22</th>\n      <td>BS-G500B R51-1</td>\n      <td>1242.724</td>\n      <td>10.37</td>\n      <td>7.5850</td>\n      <td>2.7850</td>\n      <td>3460.986340</td>\n      <td>3.460986</td>\n      <td>4147.266800</td>\n    </tr>\n    <tr>\n      <th>23</th>\n      <td>BSG500BR41-1</td>\n      <td>74008.489</td>\n      <td>7.98</td>\n      <td>6.0475</td>\n      <td>1.9325</td>\n      <td>143021.404993</td>\n      <td>143.021405</td>\n      <td>171381.180476</td>\n    </tr>\n    <tr>\n      <th>24</th>\n      <td>BSG500BR41-2</td>\n      <td>179322.080</td>\n      <td>7.91</td>\n      <td>6.0475</td>\n      <td>1.8625</td>\n      <td>333987.374000</td>\n      <td>333.987374</td>\n      <td>400213.873044</td>\n    </tr>\n    <tr>\n      <th>25</th>\n      <td>BSG500BR42-1</td>\n      <td>1980.089</td>\n      <td>8.04</td>\n      <td>7.5850</td>\n      <td>0.4550</td>\n      <td>900.940495</td>\n      <td>0.900940</td>\n      <td>1079.588371</td>\n    </tr>\n    <tr>\n      <th>26</th>\n      <td>BSG500BR42-2</td>\n      <td>151789.712</td>\n      <td>7.83</td>\n      <td>7.5850</td>\n      <td>0.2450</td>\n      <td>37188.479440</td>\n      <td>37.188479</td>\n      <td>44562.598912</td>\n    </tr>\n    <tr>\n      <th>27</th>\n      <td>BSSS560R12-1</td>\n      <td>8578.967</td>\n      <td>11.86</td>\n      <td>9.2250</td>\n      <td>2.6350</td>\n      <td>22605.578045</td>\n      <td>22.605578</td>\n      <td>27088.047771</td>\n    </tr>\n    <tr>\n      <th>28</th>\n      <td>BSSS560R22-1</td>\n      <td>2217.466</td>\n      <td>7.72</td>\n      <td>6.0475</td>\n      <td>1.6725</td>\n      <td>3708.711885</td>\n      <td>3.708712</td>\n      <td>4444.113949</td>\n    </tr>\n    <tr>\n      <th>29</th>\n      <td>BSSS560R22-2</td>\n      <td>7713.394</td>\n      <td>7.97</td>\n      <td>6.0475</td>\n      <td>1.9225</td>\n      <td>14828.999965</td>\n      <td>14.829000</td>\n      <td>17769.448702</td>\n    </tr>\n    <tr>\n      <th>33</th>\n      <td>KWSB500BWR R12-1</td>\n      <td>1364.831</td>\n      <td>9.84</td>\n      <td>9.2250</td>\n      <td>0.6150</td>\n      <td>839.371065</td>\n      <td>0.839371</td>\n      <td>1005.810312</td>\n    </tr>\n    <tr>\n      <th>34</th>\n      <td>KWSB500BWR R22-1</td>\n      <td>14175.175</td>\n      <td>7.67</td>\n      <td>6.0475</td>\n      <td>1.6225</td>\n      <td>22999.221438</td>\n      <td>22.999221</td>\n      <td>27559.746880</td>\n    </tr>\n    <tr>\n      <th>35</th>\n      <td>S235 JR-A-1</td>\n      <td>4384.918</td>\n      <td>10.57</td>\n      <td>9.2250</td>\n      <td>1.3450</td>\n      <td>5897.714710</td>\n      <td>5.897715</td>\n      <td>7067.175079</td>\n    </tr>\n    <tr>\n      <th>36</th>\n      <td>S235 JR-A-2</td>\n      <td>19308.201</td>\n      <td>10.32</td>\n      <td>9.2250</td>\n      <td>1.0950</td>\n      <td>21142.480095</td>\n      <td>21.142480</td>\n      <td>25334.831503</td>\n    </tr>\n    <tr>\n      <th>37</th>\n      <td>S275 JR-A-1</td>\n      <td>23003.444</td>\n      <td>14.64</td>\n      <td>13.9400</td>\n      <td>0.7000</td>\n      <td>16102.410800</td>\n      <td>16.102411</td>\n      <td>19295.364715</td>\n    </tr>\n    <tr>\n      <th>38</th>\n      <td>S275 JR-A-2</td>\n      <td>75502.051</td>\n      <td>14.70</td>\n      <td>13.9400</td>\n      <td>0.7600</td>\n      <td>57381.558760</td>\n      <td>57.381559</td>\n      <td>68759.772555</td>\n    </tr>\n    <tr>\n      <th>39</th>\n      <td>S275 JR-AAA-1</td>\n      <td>12155.000</td>\n      <td>14.42</td>\n      <td>13.9400</td>\n      <td>0.4800</td>\n      <td>5834.400000</td>\n      <td>5.834400</td>\n      <td>6991.305668</td>\n    </tr>\n    <tr>\n      <th>40</th>\n      <td>S275 JR-AAA-2</td>\n      <td>112660.245</td>\n      <td>14.53</td>\n      <td>13.9400</td>\n      <td>0.5900</td>\n      <td>66469.544550</td>\n      <td>66.469545</td>\n      <td>79649.818929</td>\n    </tr>\n    <tr>\n      <th>41</th>\n      <td>S355 G11-A-1</td>\n      <td>1886.049</td>\n      <td>18.52</td>\n      <td>16.8100</td>\n      <td>1.7100</td>\n      <td>3225.143790</td>\n      <td>3.225144</td>\n      <td>3864.658930</td>\n    </tr>\n    <tr>\n      <th>42</th>\n      <td>S355 G11-A-2</td>\n      <td>5001.665</td>\n      <td>17.10</td>\n      <td>16.8100</td>\n      <td>0.2900</td>\n      <td>1450.482850</td>\n      <td>1.450483</td>\n      <td>1738.099714</td>\n    </tr>\n    <tr>\n      <th>57</th>\n      <td>SAE 1012-1</td>\n      <td>129.499</td>\n      <td>8.66</td>\n      <td>6.6625</td>\n      <td>1.9975</td>\n      <td>258.674253</td>\n      <td>0.258674</td>\n      <td>309.966881</td>\n    </tr>\n    <tr>\n      <th>58</th>\n      <td>SAE 1018-1</td>\n      <td>3862.805</td>\n      <td>10.04</td>\n      <td>8.4050</td>\n      <td>1.6350</td>\n      <td>6315.686175</td>\n      <td>6.315686</td>\n      <td>7568.026284</td>\n    </tr>\n    <tr>\n      <th>74</th>\n      <td>SWRY 11-1</td>\n      <td>14536.372</td>\n      <td>2.45</td>\n      <td>1.5375</td>\n      <td>0.9125</td>\n      <td>13264.439450</td>\n      <td>13.264439</td>\n      <td>15894.650814</td>\n    </tr>\n  </tbody>\n</table>\n</div>"
     },
     "execution_count": 22,
     "metadata": {},
     "output_type": "execute_result"
    }
   ],
   "source": [
    "\n",
    "mean_cost_per_ton_FeSiMn = 1198.290427122754\n",
    "\n",
    "# get consumption per kg by multiplying with kg/ton of produced billet mass:\n",
    "fesmin_data_conservative[\"FeSiMn Overshot (KG)\"] = fesmin_data_conservative[\"FeSiMn Overshot (KG/Ton)\"]  * fesmin_data_conservative[\"Billet Mass (Tons)\"] \n",
    "\n",
    "# get consumption in tons by dividing kg by 1000:\n",
    "fesmin_data_conservative[\"FeSiMn Overshot (Tons)\"] = fesmin_data_conservative[\"FeSiMn Overshot (KG)\"]/1000\n",
    "\n",
    "# calculate the cost of over shot by multiplying the tons used buy the cost per ton:\n",
    "fesmin_data_conservative[\"FeSiMn Overshot (Cost$)\"] = fesmin_data_conservative[\"FeSiMn Overshot (Tons)\"] * mean_cost_per_ton_FeSiMn\n",
    "\n",
    "\n",
    "fesmin_data_conservative\n"
   ]
  },
  {
   "cell_type": "code",
   "outputs": [
    {
     "data": {
      "text/plain": "1094079.8834078906"
     },
     "execution_count": 23,
     "metadata": {},
     "output_type": "execute_result"
    }
   ],
   "source": [
    "\n",
    "fesmin_data_conservative[\"FeSiMn Overshot (Cost$)\"].sum()\n"
   ],
   "metadata": {
    "collapsed": false,
    "ExecuteTime": {
     "end_time": "2024-03-25T07:07:18.574002Z",
     "start_time": "2024-03-25T07:07:18.571346Z"
    }
   },
   "id": "ccb4bded8bdad8d7",
   "execution_count": 23
  },
  {
   "cell_type": "code",
   "execution_count": 24,
   "id": "20d80789928ad1ef",
   "metadata": {
    "collapsed": false,
    "ExecuteTime": {
     "end_time": "2024-03-25T07:08:36.152549Z",
     "start_time": "2024-03-25T07:08:36.137612Z"
    }
   },
   "outputs": [
    {
     "data": {
      "text/plain": "      SteelGrade  Billet Mass (Tons)  FeSi Actual (KG/Ton)  \\\n10   AISI 1012-1             127.478                  2.76   \n11   AISI 1012-2            2847.713                  2.27   \n16   AISI 1045-1            2321.857                  1.57   \n17   AISI 1065-1            4813.276                  1.45   \n18   AISI 1067-1            1677.066                  1.35   \n19   AISI 1070-1             148.695                  1.22   \n30       EM12K-1             125.307                  2.22   \n35   S235 JR-A-1            4384.918                  3.55   \n37   S275 JR-A-1           23003.444                  2.24   \n41  S355 G11-A-1            1886.049                  2.07   \n43   S355 J2-A-1            5487.360                  1.88   \n48   S355 JR-B-1            1957.463                  1.84   \n56    SAE 1008-2           20128.323                  1.50   \n57    SAE 1012-1             129.499                  2.19   \n63    SWRH 42B-1             279.843                  1.69   \n65    SWRH 47B-1             617.338                  1.32   \n66    SWRH 52B-1             294.495                  1.82   \n67    SWRH 57B-1             319.415                  1.52   \n69    SWRH 62B-1            2024.886                  1.29   \n71    SWRH 67B-1             310.349                  1.32   \n\n    FeSi Target (KG/Ton)  FeSi Overshot (KG/Ton)  FeSi Overshot (KG)  \\\n10                2.0500                  0.7100           90.509380   \n11                2.0500                  0.2200          626.496860   \n16                1.0250                  0.5450         1265.412065   \n17                1.0250                  0.4250         2045.642300   \n18                1.0250                  0.3250          545.046450   \n19                1.0250                  0.1950           28.995525   \n30                2.0500                  0.1700           21.302190   \n35                2.8700                  0.6800         2981.744240   \n37                2.1525                  0.0875         2012.801350   \n41                1.6400                  0.4300          811.001070   \n43                1.3325                  0.5475         3004.329600   \n48                1.6400                  0.2000          391.492600   \n56                1.3325                  0.1675         3371.494102   \n57                2.0500                  0.1400           18.129860   \n63                1.0250                  0.6650          186.095595   \n65                1.0250                  0.2950          182.114710   \n66                1.0250                  0.7950          234.123525   \n67                1.0250                  0.4950          158.110425   \n69                1.0250                  0.2650          536.594790   \n71                1.0250                  0.2950           91.552955   \n\n    FeSi Overshot (Tons)  FeSi Overshot (Cost$)  \n10              0.090509             155.501403  \n11              0.626497            1076.365129  \n16              1.265412            2174.065837  \n17              2.045642            3514.555585  \n18              0.545046             936.427666  \n19              0.028996              49.816326  \n30              0.021302              36.598642  \n35              2.981744            5122.843750  \n37              2.012801            3458.132551  \n41              0.811001            1393.356179  \n43              3.004330            5161.646967  \n48              0.391493             672.611484  \n56              3.371494            5792.461090  \n57              0.018130              31.148359  \n63              0.186096             319.725160  \n65              0.182115             312.885724  \n66              0.234124             402.240481  \n67              0.158110             271.644694  \n69              0.536595             921.907127  \n71              0.091553             157.294337  ",
      "text/html": "<div>\n<style scoped>\n    .dataframe tbody tr th:only-of-type {\n        vertical-align: middle;\n    }\n\n    .dataframe tbody tr th {\n        vertical-align: top;\n    }\n\n    .dataframe thead th {\n        text-align: right;\n    }\n</style>\n<table border=\"1\" class=\"dataframe\">\n  <thead>\n    <tr style=\"text-align: right;\">\n      <th></th>\n      <th>SteelGrade</th>\n      <th>Billet Mass (Tons)</th>\n      <th>FeSi Actual (KG/Ton)</th>\n      <th>FeSi Target (KG/Ton)</th>\n      <th>FeSi Overshot (KG/Ton)</th>\n      <th>FeSi Overshot (KG)</th>\n      <th>FeSi Overshot (Tons)</th>\n      <th>FeSi Overshot (Cost$)</th>\n    </tr>\n  </thead>\n  <tbody>\n    <tr>\n      <th>10</th>\n      <td>AISI 1012-1</td>\n      <td>127.478</td>\n      <td>2.76</td>\n      <td>2.0500</td>\n      <td>0.7100</td>\n      <td>90.509380</td>\n      <td>0.090509</td>\n      <td>155.501403</td>\n    </tr>\n    <tr>\n      <th>11</th>\n      <td>AISI 1012-2</td>\n      <td>2847.713</td>\n      <td>2.27</td>\n      <td>2.0500</td>\n      <td>0.2200</td>\n      <td>626.496860</td>\n      <td>0.626497</td>\n      <td>1076.365129</td>\n    </tr>\n    <tr>\n      <th>16</th>\n      <td>AISI 1045-1</td>\n      <td>2321.857</td>\n      <td>1.57</td>\n      <td>1.0250</td>\n      <td>0.5450</td>\n      <td>1265.412065</td>\n      <td>1.265412</td>\n      <td>2174.065837</td>\n    </tr>\n    <tr>\n      <th>17</th>\n      <td>AISI 1065-1</td>\n      <td>4813.276</td>\n      <td>1.45</td>\n      <td>1.0250</td>\n      <td>0.4250</td>\n      <td>2045.642300</td>\n      <td>2.045642</td>\n      <td>3514.555585</td>\n    </tr>\n    <tr>\n      <th>18</th>\n      <td>AISI 1067-1</td>\n      <td>1677.066</td>\n      <td>1.35</td>\n      <td>1.0250</td>\n      <td>0.3250</td>\n      <td>545.046450</td>\n      <td>0.545046</td>\n      <td>936.427666</td>\n    </tr>\n    <tr>\n      <th>19</th>\n      <td>AISI 1070-1</td>\n      <td>148.695</td>\n      <td>1.22</td>\n      <td>1.0250</td>\n      <td>0.1950</td>\n      <td>28.995525</td>\n      <td>0.028996</td>\n      <td>49.816326</td>\n    </tr>\n    <tr>\n      <th>30</th>\n      <td>EM12K-1</td>\n      <td>125.307</td>\n      <td>2.22</td>\n      <td>2.0500</td>\n      <td>0.1700</td>\n      <td>21.302190</td>\n      <td>0.021302</td>\n      <td>36.598642</td>\n    </tr>\n    <tr>\n      <th>35</th>\n      <td>S235 JR-A-1</td>\n      <td>4384.918</td>\n      <td>3.55</td>\n      <td>2.8700</td>\n      <td>0.6800</td>\n      <td>2981.744240</td>\n      <td>2.981744</td>\n      <td>5122.843750</td>\n    </tr>\n    <tr>\n      <th>37</th>\n      <td>S275 JR-A-1</td>\n      <td>23003.444</td>\n      <td>2.24</td>\n      <td>2.1525</td>\n      <td>0.0875</td>\n      <td>2012.801350</td>\n      <td>2.012801</td>\n      <td>3458.132551</td>\n    </tr>\n    <tr>\n      <th>41</th>\n      <td>S355 G11-A-1</td>\n      <td>1886.049</td>\n      <td>2.07</td>\n      <td>1.6400</td>\n      <td>0.4300</td>\n      <td>811.001070</td>\n      <td>0.811001</td>\n      <td>1393.356179</td>\n    </tr>\n    <tr>\n      <th>43</th>\n      <td>S355 J2-A-1</td>\n      <td>5487.360</td>\n      <td>1.88</td>\n      <td>1.3325</td>\n      <td>0.5475</td>\n      <td>3004.329600</td>\n      <td>3.004330</td>\n      <td>5161.646967</td>\n    </tr>\n    <tr>\n      <th>48</th>\n      <td>S355 JR-B-1</td>\n      <td>1957.463</td>\n      <td>1.84</td>\n      <td>1.6400</td>\n      <td>0.2000</td>\n      <td>391.492600</td>\n      <td>0.391493</td>\n      <td>672.611484</td>\n    </tr>\n    <tr>\n      <th>56</th>\n      <td>SAE 1008-2</td>\n      <td>20128.323</td>\n      <td>1.50</td>\n      <td>1.3325</td>\n      <td>0.1675</td>\n      <td>3371.494102</td>\n      <td>3.371494</td>\n      <td>5792.461090</td>\n    </tr>\n    <tr>\n      <th>57</th>\n      <td>SAE 1012-1</td>\n      <td>129.499</td>\n      <td>2.19</td>\n      <td>2.0500</td>\n      <td>0.1400</td>\n      <td>18.129860</td>\n      <td>0.018130</td>\n      <td>31.148359</td>\n    </tr>\n    <tr>\n      <th>63</th>\n      <td>SWRH 42B-1</td>\n      <td>279.843</td>\n      <td>1.69</td>\n      <td>1.0250</td>\n      <td>0.6650</td>\n      <td>186.095595</td>\n      <td>0.186096</td>\n      <td>319.725160</td>\n    </tr>\n    <tr>\n      <th>65</th>\n      <td>SWRH 47B-1</td>\n      <td>617.338</td>\n      <td>1.32</td>\n      <td>1.0250</td>\n      <td>0.2950</td>\n      <td>182.114710</td>\n      <td>0.182115</td>\n      <td>312.885724</td>\n    </tr>\n    <tr>\n      <th>66</th>\n      <td>SWRH 52B-1</td>\n      <td>294.495</td>\n      <td>1.82</td>\n      <td>1.0250</td>\n      <td>0.7950</td>\n      <td>234.123525</td>\n      <td>0.234124</td>\n      <td>402.240481</td>\n    </tr>\n    <tr>\n      <th>67</th>\n      <td>SWRH 57B-1</td>\n      <td>319.415</td>\n      <td>1.52</td>\n      <td>1.0250</td>\n      <td>0.4950</td>\n      <td>158.110425</td>\n      <td>0.158110</td>\n      <td>271.644694</td>\n    </tr>\n    <tr>\n      <th>69</th>\n      <td>SWRH 62B-1</td>\n      <td>2024.886</td>\n      <td>1.29</td>\n      <td>1.0250</td>\n      <td>0.2650</td>\n      <td>536.594790</td>\n      <td>0.536595</td>\n      <td>921.907127</td>\n    </tr>\n    <tr>\n      <th>71</th>\n      <td>SWRH 67B-1</td>\n      <td>310.349</td>\n      <td>1.32</td>\n      <td>1.0250</td>\n      <td>0.2950</td>\n      <td>91.552955</td>\n      <td>0.091553</td>\n      <td>157.294337</td>\n    </tr>\n  </tbody>\n</table>\n</div>"
     },
     "execution_count": 24,
     "metadata": {},
     "output_type": "execute_result"
    }
   ],
   "source": [
    "\n",
    "mean_cost_per_ton_FeSi = 1718.069471192685\n",
    "\n",
    "# get consumption per kg by multiplying with kg/ton of produced billet mass:\n",
    "fesi_data_conservative[\"FeSi Overshot (KG)\"] = fesi_data_conservative[\"FeSi Overshot (KG/Ton)\"]  * fesi_data_conservative[\"Billet Mass (Tons)\"]\n",
    "\n",
    "# get consumption in tons by dividing kg by 1000:\n",
    "fesi_data_conservative[\"FeSi Overshot (Tons)\"] = fesi_data_conservative[\"FeSi Overshot (KG)\"]/1000\n",
    "\n",
    "# calculate the cost of over shot by multiplying the tons used buy the cost per ton:\n",
    "fesi_data_conservative[\"FeSi Overshot (Cost$)\"] = fesi_data_conservative[\"FeSi Overshot (Tons)\"] * mean_cost_per_ton_FeSi\n",
    "\n",
    "fesi_data_conservative\n"
   ]
  },
  {
   "cell_type": "code",
   "outputs": [
    {
     "data": {
      "text/plain": "31961.228491789516"
     },
     "execution_count": 25,
     "metadata": {},
     "output_type": "execute_result"
    }
   ],
   "source": [
    "\n",
    "fesi_data_conservative[\"FeSi Overshot (Cost$)\"].sum()\n"
   ],
   "metadata": {
    "collapsed": false,
    "ExecuteTime": {
     "end_time": "2024-03-25T07:08:42.952032Z",
     "start_time": "2024-03-25T07:08:42.948545Z"
    }
   },
   "id": "85a0898a89ab01c6",
   "execution_count": 25
  },
  {
   "cell_type": "markdown",
   "source": [
    "### Overall cost:"
   ],
   "metadata": {
    "collapsed": false
   },
   "id": "e8914830054a887a"
  },
  {
   "cell_type": "code",
   "outputs": [
    {
     "data": {
      "text/plain": "1126041.11189968"
     },
     "execution_count": 27,
     "metadata": {},
     "output_type": "execute_result"
    }
   ],
   "source": [
    "\n",
    "\n",
    "fesmin_data_conservative[\"FeSiMn Overshot (Cost$)\"].sum() + fesi_data_conservative[\"FeSi Overshot (Cost$)\"].sum() \n",
    "\n"
   ],
   "metadata": {
    "collapsed": false,
    "ExecuteTime": {
     "end_time": "2024-03-25T07:09:04.780392Z",
     "start_time": "2024-03-25T07:09:04.776969Z"
    }
   },
   "id": "9ea21ba5f5b02a9f",
   "execution_count": 27
  },
  {
   "cell_type": "code",
   "outputs": [
    {
     "data": {
      "text/plain": "913.0339846200006"
     },
     "execution_count": 28,
     "metadata": {},
     "output_type": "execute_result"
    }
   ],
   "source": [
    "\n",
    "\n",
    "fesmin_data_conservative[\"FeSiMn Overshot (Tons)\"].sum()\n"
   ],
   "metadata": {
    "collapsed": false,
    "ExecuteTime": {
     "end_time": "2024-03-25T07:09:34.172510Z",
     "start_time": "2024-03-25T07:09:34.165116Z"
    }
   },
   "id": "622cee6d8b136b16",
   "execution_count": 28
  },
  {
   "cell_type": "code",
   "outputs": [
    {
     "data": {
      "text/plain": "18.60298959250001"
     },
     "execution_count": 29,
     "metadata": {},
     "output_type": "execute_result"
    }
   ],
   "source": [
    "\n",
    "fesi_data_conservative[\"FeSi Overshot (Tons)\"].sum()\n"
   ],
   "metadata": {
    "collapsed": false,
    "ExecuteTime": {
     "end_time": "2024-03-25T07:09:39.623814Z",
     "start_time": "2024-03-25T07:09:39.621156Z"
    }
   },
   "id": "1d8e9d8f44404deb",
   "execution_count": 29
  },
  {
   "cell_type": "markdown",
   "source": [
    "### Overall (Tons) overshot:"
   ],
   "metadata": {
    "collapsed": false
   },
   "id": "da2ae40d4d9133fe"
  },
  {
   "cell_type": "code",
   "outputs": [
    {
     "data": {
      "text/plain": "931.6369742125006"
     },
     "execution_count": 30,
     "metadata": {},
     "output_type": "execute_result"
    }
   ],
   "source": [
    "\n",
    "fesmin_data_conservative[\"FeSiMn Overshot (Tons)\"].sum() + fesi_data_conservative[\"FeSi Overshot (Tons)\"].sum()\n"
   ],
   "metadata": {
    "collapsed": false,
    "ExecuteTime": {
     "end_time": "2024-03-25T07:14:51.615830Z",
     "start_time": "2024-03-25T07:14:51.609153Z"
    }
   },
   "id": "547af87b7511df96",
   "execution_count": 30
  },
  {
   "cell_type": "markdown",
   "source": [
    "### Merge two chemicals results, fill nan and sum results:"
   ],
   "metadata": {
    "collapsed": false
   },
   "id": "14db191c194718f6"
  },
  {
   "cell_type": "code",
   "execution_count": 31,
   "id": "5cbded715cf37a13",
   "metadata": {
    "collapsed": false,
    "ExecuteTime": {
     "end_time": "2024-03-25T07:16:45.799846Z",
     "start_time": "2024-03-25T07:16:45.786795Z"
    }
   },
   "outputs": [],
   "source": [
    "\n",
    "\n",
    "final_results = pd.merge(fesi_data_conservative, fesmin_data_conservative, on=['SteelGrade', 'Billet Mass (Tons)'],how=\"outer\")\n",
    "\n",
    "# to ensure that you won't get null result from summing two columns that one include null and the other is int you will get null value and it will lead to misleading results:\n",
    "final_results.fillna(0.0, inplace=True)\n",
    "\n",
    "\n"
   ]
  },
  {
   "cell_type": "code",
   "outputs": [],
   "source": [
    "\n",
    "final_results[\"Ferroalloys Overshot (KG/Ton)\"] = final_results[\"FeSiMn Overshot (KG/Ton)\"] + final_results[\"FeSi Overshot (KG/Ton)\"]\n",
    "final_results[\"Ferroalloys Overshot (Tons)\"] =  final_results[\"FeSiMn Overshot (Tons)\"] + final_results[\"FeSi Overshot (Tons)\"]\n",
    "final_results[\"Ferroalloys Overshot Cost ($USD)\"] = final_results[\"FeSiMn Overshot (Cost$)\"] + final_results[\"FeSi Overshot (Cost$)\"]\n"
   ],
   "metadata": {
    "collapsed": false,
    "ExecuteTime": {
     "end_time": "2024-03-25T07:16:49.385241Z",
     "start_time": "2024-03-25T07:16:49.380577Z"
    }
   },
   "id": "d415ef6e6d93b439",
   "execution_count": 32
  },
  {
   "cell_type": "code",
   "outputs": [
    {
     "data": {
      "text/plain": "1126041.11189968"
     },
     "execution_count": 33,
     "metadata": {},
     "output_type": "execute_result"
    }
   ],
   "source": [
    "\n",
    "fesmin_data_conservative[\"FeSiMn Overshot (Cost$)\"].sum() + fesi_data_conservative[\"FeSi Overshot (Cost$)\"].sum()\n",
    "\n"
   ],
   "metadata": {
    "collapsed": false,
    "ExecuteTime": {
     "end_time": "2024-03-25T07:17:03.399155Z",
     "start_time": "2024-03-25T07:17:03.395899Z"
    }
   },
   "id": "691f52276317caba",
   "execution_count": 33
  },
  {
   "cell_type": "code",
   "outputs": [
    {
     "data": {
      "text/plain": "931.6369742125006"
     },
     "execution_count": 34,
     "metadata": {},
     "output_type": "execute_result"
    }
   ],
   "source": [
    "\n",
    "fesmin_data_conservative[\"FeSiMn Overshot (Tons)\"].sum() + fesi_data_conservative[\"FeSi Overshot (Tons)\"].sum()\n"
   ],
   "metadata": {
    "collapsed": false,
    "ExecuteTime": {
     "end_time": "2024-03-25T07:17:12.482912Z",
     "start_time": "2024-03-25T07:17:12.479749Z"
    }
   },
   "id": "4a62de411e0fbf1c",
   "execution_count": 34
  },
  {
   "cell_type": "code",
   "outputs": [
    {
     "data": {
      "text/plain": "1126041.1118996798"
     },
     "execution_count": 35,
     "metadata": {},
     "output_type": "execute_result"
    }
   ],
   "source": [
    "\n",
    "\n",
    "final_results[\"FeSi Overshot (Cost$)\"].sum() + final_results[\"FeSiMn Overshot (Cost$)\"].sum()\n"
   ],
   "metadata": {
    "collapsed": false,
    "ExecuteTime": {
     "end_time": "2024-03-25T07:17:19.800039Z",
     "start_time": "2024-03-25T07:17:19.795934Z"
    }
   },
   "id": "a861ed45378994e6",
   "execution_count": 35
  },
  {
   "cell_type": "code",
   "outputs": [
    {
     "data": {
      "text/plain": "931.6369742125007"
     },
     "execution_count": 36,
     "metadata": {},
     "output_type": "execute_result"
    }
   ],
   "source": [
    "\n",
    "final_results[\"FeSi Overshot (Tons)\"].sum() + final_results[\"FeSiMn Overshot (Tons)\"].sum()\n"
   ],
   "metadata": {
    "collapsed": false,
    "ExecuteTime": {
     "end_time": "2024-03-25T07:17:25.735215Z",
     "start_time": "2024-03-25T07:17:25.731620Z"
    }
   },
   "id": "428401f6632fcd35",
   "execution_count": 36
  },
  {
   "cell_type": "code",
   "outputs": [
    {
     "data": {
      "text/plain": "931.6369742125007"
     },
     "execution_count": 37,
     "metadata": {},
     "output_type": "execute_result"
    }
   ],
   "source": [
    "\n",
    "final_results[\"Ferroalloys Overshot (Tons)\"].sum()\n",
    "\n"
   ],
   "metadata": {
    "collapsed": false,
    "ExecuteTime": {
     "end_time": "2024-03-25T07:17:30.256518Z",
     "start_time": "2024-03-25T07:17:30.252908Z"
    }
   },
   "id": "b7cdb0e9813daf85",
   "execution_count": 37
  },
  {
   "cell_type": "code",
   "outputs": [
    {
     "data": {
      "text/plain": "1126041.11189968"
     },
     "execution_count": 38,
     "metadata": {},
     "output_type": "execute_result"
    }
   ],
   "source": [
    "\n",
    "final_results[\"Ferroalloys Overshot Cost ($USD)\"].sum()\n"
   ],
   "metadata": {
    "collapsed": false,
    "ExecuteTime": {
     "end_time": "2024-03-25T07:17:41.387358Z",
     "start_time": "2024-03-25T07:17:41.384051Z"
    }
   },
   "id": "ccbadd674ea44c86",
   "execution_count": 38
  },
  {
   "cell_type": "markdown",
   "source": [
    "### Sum numerical columns and create \"total\" row:"
   ],
   "metadata": {
    "collapsed": false
   },
   "id": "6b9abbb7fd4fa0cf"
  },
  {
   "cell_type": "code",
   "outputs": [
    {
     "data": {
      "text/plain": "          SteelGrade  Billet Mass (Tons)  FeSi Actual (KG/Ton)  \\\n0          3SP CON-1           10040.952                  0.00   \n1          3SP UIS-1           19396.407                  0.00   \n2    AISI 1006 CAQ-1           14217.135                  0.00   \n3        AISI 1012-1             127.478                  2.76   \n4        AISI 1012-2            2847.713                  2.27   \n5        AISI 1015-1            3129.471                  0.00   \n6        AISI 1018-1            8659.960                  0.00   \n7        AISI 1045-1            2321.857                  1.57   \n8        AISI 1065-1            4813.276                  1.45   \n9        AISI 1067-1            1677.066                  1.35   \n10       AISI 1070-1             148.695                  1.22   \n11    BS-G500B R22-1           11144.716                  0.00   \n12    BS-G500B R22-2           11956.901                  0.00   \n13    BS-G500B R51-1            1242.724                  0.00   \n14      BSG500BR41-1           74008.489                  0.00   \n15      BSG500BR41-2          179322.080                  0.00   \n16      BSG500BR42-1            1980.089                  0.00   \n17      BSG500BR42-2          151789.712                  0.00   \n18      BSSS560R12-1            8578.967                  0.00   \n19      BSSS560R22-1            2217.466                  0.00   \n20      BSSS560R22-2            7713.394                  0.00   \n21           EM12K-1             125.307                  2.22   \n22  KWSB500BWR R12-1            1364.831                  0.00   \n23  KWSB500BWR R22-1           14175.175                  0.00   \n24       S235 JR-A-1            4384.918                  3.55   \n25       S235 JR-A-2           19308.201                  0.00   \n26       S275 JR-A-1           23003.444                  2.24   \n27       S275 JR-A-2           75502.051                  0.00   \n28     S275 JR-AAA-1           12155.000                  0.00   \n29     S275 JR-AAA-2          112660.245                  0.00   \n30      S355 G11-A-1            1886.049                  2.07   \n31      S355 G11-A-2            5001.665                  0.00   \n32       S355 J2-A-1            5487.360                  1.88   \n33       S355 JR-B-1            1957.463                  1.84   \n34        SAE 1008-2           20128.323                  1.50   \n35        SAE 1012-1             129.499                  2.19   \n36        SAE 1018-1            3862.805                  0.00   \n37        SWRH 42B-1             279.843                  1.69   \n38        SWRH 47B-1             617.338                  1.32   \n39        SWRH 52B-1             294.495                  1.82   \n40        SWRH 57B-1             319.415                  1.52   \n41        SWRH 62B-1            2024.886                  1.29   \n42        SWRH 67B-1             310.349                  1.32   \n43         SWRY 11-1           14536.372                  0.00   \n44             Total          836849.582                 37.07   \n\n    FeSi Target (KG/Ton)  FeSi Overshot (KG/Ton)  FeSi Overshot (KG)  \\\n0                 0.0000                  0.0000            0.000000   \n1                 0.0000                  0.0000            0.000000   \n2                 0.0000                  0.0000            0.000000   \n3                 2.0500                  0.7100           90.509380   \n4                 2.0500                  0.2200          626.496860   \n5                 0.0000                  0.0000            0.000000   \n6                 0.0000                  0.0000            0.000000   \n7                 1.0250                  0.5450         1265.412065   \n8                 1.0250                  0.4250         2045.642300   \n9                 1.0250                  0.3250          545.046450   \n10                1.0250                  0.1950           28.995525   \n11                0.0000                  0.0000            0.000000   \n12                0.0000                  0.0000            0.000000   \n13                0.0000                  0.0000            0.000000   \n14                0.0000                  0.0000            0.000000   \n15                0.0000                  0.0000            0.000000   \n16                0.0000                  0.0000            0.000000   \n17                0.0000                  0.0000            0.000000   \n18                0.0000                  0.0000            0.000000   \n19                0.0000                  0.0000            0.000000   \n20                0.0000                  0.0000            0.000000   \n21                2.0500                  0.1700           21.302190   \n22                0.0000                  0.0000            0.000000   \n23                0.0000                  0.0000            0.000000   \n24                2.8700                  0.6800         2981.744240   \n25                0.0000                  0.0000            0.000000   \n26                2.1525                  0.0875         2012.801350   \n27                0.0000                  0.0000            0.000000   \n28                0.0000                  0.0000            0.000000   \n29                0.0000                  0.0000            0.000000   \n30                1.6400                  0.4300          811.001070   \n31                0.0000                  0.0000            0.000000   \n32                1.3325                  0.5475         3004.329600   \n33                1.6400                  0.2000          391.492600   \n34                1.3325                  0.1675         3371.494102   \n35                2.0500                  0.1400           18.129860   \n36                0.0000                  0.0000            0.000000   \n37                1.0250                  0.6650          186.095595   \n38                1.0250                  0.2950          182.114710   \n39                1.0250                  0.7950          234.123525   \n40                1.0250                  0.4950          158.110425   \n41                1.0250                  0.2650          536.594790   \n42                1.0250                  0.2950           91.552955   \n43                0.0000                  0.0000            0.000000   \n44               29.4175                  7.6525        18602.989593   \n\n    FeSi Overshot (Tons)  FeSi Overshot (Cost$)  FeSiMn Actual (KG/Ton)  \\\n0               0.000000               0.000000                    7.79   \n1               0.000000               0.000000                    8.14   \n2               0.000000               0.000000                    3.14   \n3               0.090509             155.501403                    7.89   \n4               0.626497            1076.365129                    7.73   \n5               0.000000               0.000000                    8.02   \n6               0.000000               0.000000                    8.91   \n7               1.265412            2174.065837                    0.00   \n8               2.045642            3514.555585                    0.00   \n9               0.545046             936.427666                    0.00   \n10              0.028996              49.816326                    0.00   \n11              0.000000               0.000000                    7.92   \n12              0.000000               0.000000                    8.00   \n13              0.000000               0.000000                   10.37   \n14              0.000000               0.000000                    7.98   \n15              0.000000               0.000000                    7.91   \n16              0.000000               0.000000                    8.04   \n17              0.000000               0.000000                    7.83   \n18              0.000000               0.000000                   11.86   \n19              0.000000               0.000000                    7.72   \n20              0.000000               0.000000                    7.97   \n21              0.021302              36.598642                    0.00   \n22              0.000000               0.000000                    9.84   \n23              0.000000               0.000000                    7.67   \n24              2.981744            5122.843750                   10.57   \n25              0.000000               0.000000                   10.32   \n26              2.012801            3458.132551                   14.64   \n27              0.000000               0.000000                   14.70   \n28              0.000000               0.000000                   14.42   \n29              0.000000               0.000000                   14.53   \n30              0.811001            1393.356179                   18.52   \n31              0.000000               0.000000                   17.10   \n32              3.004330            5161.646967                    0.00   \n33              0.391493             672.611484                    0.00   \n34              3.371494            5792.461090                    0.00   \n35              0.018130              31.148359                    8.66   \n36              0.000000               0.000000                   10.04   \n37              0.186096             319.725160                    0.00   \n38              0.182115             312.885724                    0.00   \n39              0.234124             402.240481                    0.00   \n40              0.158110             271.644694                    0.00   \n41              0.536595             921.907127                    0.00   \n42              0.091553             157.294337                    0.00   \n43              0.000000               0.000000                    2.45   \n44             18.602990           31961.228492                  290.68   \n\n    FeSiMn Target (KG/Ton)  FeSiMn Overshot (KG/Ton)  FeSiMn Overshot (KG)  \\\n0                   6.1500                    1.6400          16467.161280   \n1                   6.3550                    1.7850          34622.586495   \n2                   1.5375                    1.6025          22782.958838   \n3                   6.6625                    1.2275            156.479245   \n4                   6.6625                    1.0675           3039.933628   \n5                   5.9450                    2.0750           6493.652325   \n6                   8.4050                    0.5050           4373.279800   \n7                   0.0000                    0.0000              0.000000   \n8                   0.0000                    0.0000              0.000000   \n9                   0.0000                    0.0000              0.000000   \n10                  0.0000                    0.0000              0.000000   \n11                  6.0475                    1.8725          20868.480710   \n12                  6.0475                    1.9525          23345.849203   \n13                  7.5850                    2.7850           3460.986340   \n14                  6.0475                    1.9325         143021.404993   \n15                  6.0475                    1.8625         333987.374000   \n16                  7.5850                    0.4550            900.940495   \n17                  7.5850                    0.2450          37188.479440   \n18                  9.2250                    2.6350          22605.578045   \n19                  6.0475                    1.6725           3708.711885   \n20                  6.0475                    1.9225          14828.999965   \n21                  0.0000                    0.0000              0.000000   \n22                  9.2250                    0.6150            839.371065   \n23                  6.0475                    1.6225          22999.221438   \n24                  9.2250                    1.3450           5897.714710   \n25                  9.2250                    1.0950          21142.480095   \n26                 13.9400                    0.7000          16102.410800   \n27                 13.9400                    0.7600          57381.558760   \n28                 13.9400                    0.4800           5834.400000   \n29                 13.9400                    0.5900          66469.544550   \n30                 16.8100                    1.7100           3225.143790   \n31                 16.8100                    0.2900           1450.482850   \n32                  0.0000                    0.0000              0.000000   \n33                  0.0000                    0.0000              0.000000   \n34                  0.0000                    0.0000              0.000000   \n35                  6.6625                    1.9975            258.674253   \n36                  8.4050                    1.6350           6315.686175   \n37                  0.0000                    0.0000              0.000000   \n38                  0.0000                    0.0000              0.000000   \n39                  0.0000                    0.0000              0.000000   \n40                  0.0000                    0.0000              0.000000   \n41                  0.0000                    0.0000              0.000000   \n42                  0.0000                    0.0000              0.000000   \n43                  1.5375                    0.9125          13264.439450   \n44                249.6900                   40.9900         913033.984620   \n\n    FeSiMn Overshot (Tons)  FeSiMn Overshot (Cost$)  \\\n0                16.467161             1.973244e+04   \n1                34.622586             4.148791e+04   \n2                22.782959             2.730060e+04   \n3                 0.156479             1.875076e+02   \n4                 3.039934             3.642723e+03   \n5                 6.493652             7.781281e+03   \n6                 4.373280             5.240459e+03   \n7                 0.000000             0.000000e+00   \n8                 0.000000             0.000000e+00   \n9                 0.000000             0.000000e+00   \n10                0.000000             0.000000e+00   \n11               20.868481             2.500650e+04   \n12               23.345849             2.797511e+04   \n13                3.460986             4.147267e+03   \n14              143.021405             1.713812e+05   \n15              333.987374             4.002139e+05   \n16                0.900940             1.079588e+03   \n17               37.188479             4.456260e+04   \n18               22.605578             2.708805e+04   \n19                3.708712             4.444114e+03   \n20               14.829000             1.776945e+04   \n21                0.000000             0.000000e+00   \n22                0.839371             1.005810e+03   \n23               22.999221             2.755975e+04   \n24                5.897715             7.067175e+03   \n25               21.142480             2.533483e+04   \n26               16.102411             1.929536e+04   \n27               57.381559             6.875977e+04   \n28                5.834400             6.991306e+03   \n29               66.469545             7.964982e+04   \n30                3.225144             3.864659e+03   \n31                1.450483             1.738100e+03   \n32                0.000000             0.000000e+00   \n33                0.000000             0.000000e+00   \n34                0.000000             0.000000e+00   \n35                0.258674             3.099669e+02   \n36                6.315686             7.568026e+03   \n37                0.000000             0.000000e+00   \n38                0.000000             0.000000e+00   \n39                0.000000             0.000000e+00   \n40                0.000000             0.000000e+00   \n41                0.000000             0.000000e+00   \n42                0.000000             0.000000e+00   \n43               13.264439             1.589465e+04   \n44              913.033985             1.094080e+06   \n\n    Ferroalloys Overshot (KG/Ton)  Ferroalloys Overshot (Tons)  \\\n0                          1.6400                    16.467161   \n1                          1.7850                    34.622586   \n2                          1.6025                    22.782959   \n3                          1.9375                     0.246989   \n4                          1.2875                     3.666430   \n5                          2.0750                     6.493652   \n6                          0.5050                     4.373280   \n7                          0.5450                     1.265412   \n8                          0.4250                     2.045642   \n9                          0.3250                     0.545046   \n10                         0.1950                     0.028996   \n11                         1.8725                    20.868481   \n12                         1.9525                    23.345849   \n13                         2.7850                     3.460986   \n14                         1.9325                   143.021405   \n15                         1.8625                   333.987374   \n16                         0.4550                     0.900940   \n17                         0.2450                    37.188479   \n18                         2.6350                    22.605578   \n19                         1.6725                     3.708712   \n20                         1.9225                    14.829000   \n21                         0.1700                     0.021302   \n22                         0.6150                     0.839371   \n23                         1.6225                    22.999221   \n24                         2.0250                     8.879459   \n25                         1.0950                    21.142480   \n26                         0.7875                    18.115212   \n27                         0.7600                    57.381559   \n28                         0.4800                     5.834400   \n29                         0.5900                    66.469545   \n30                         2.1400                     4.036145   \n31                         0.2900                     1.450483   \n32                         0.5475                     3.004330   \n33                         0.2000                     0.391493   \n34                         0.1675                     3.371494   \n35                         2.1375                     0.276804   \n36                         1.6350                     6.315686   \n37                         0.6650                     0.186096   \n38                         0.2950                     0.182115   \n39                         0.7950                     0.234124   \n40                         0.4950                     0.158110   \n41                         0.2650                     0.536595   \n42                         0.2950                     0.091553   \n43                         0.9125                    13.264439   \n44                        48.6425                   931.636974   \n\n    Ferroalloys Overshot Cost ($USD)  \n0                       1.973244e+04  \n1                       4.148791e+04  \n2                       2.730060e+04  \n3                       3.430090e+02  \n4                       4.719088e+03  \n5                       7.781281e+03  \n6                       5.240459e+03  \n7                       2.174066e+03  \n8                       3.514556e+03  \n9                       9.364277e+02  \n10                      4.981633e+01  \n11                      2.500650e+04  \n12                      2.797511e+04  \n13                      4.147267e+03  \n14                      1.713812e+05  \n15                      4.002139e+05  \n16                      1.079588e+03  \n17                      4.456260e+04  \n18                      2.708805e+04  \n19                      4.444114e+03  \n20                      1.776945e+04  \n21                      3.659864e+01  \n22                      1.005810e+03  \n23                      2.755975e+04  \n24                      1.219002e+04  \n25                      2.533483e+04  \n26                      2.275350e+04  \n27                      6.875977e+04  \n28                      6.991306e+03  \n29                      7.964982e+04  \n30                      5.258015e+03  \n31                      1.738100e+03  \n32                      5.161647e+03  \n33                      6.726115e+02  \n34                      5.792461e+03  \n35                      3.411152e+02  \n36                      7.568026e+03  \n37                      3.197252e+02  \n38                      3.128857e+02  \n39                      4.022405e+02  \n40                      2.716447e+02  \n41                      9.219071e+02  \n42                      1.572943e+02  \n43                      1.589465e+04  \n44                      1.126041e+06  ",
      "text/html": "<div>\n<style scoped>\n    .dataframe tbody tr th:only-of-type {\n        vertical-align: middle;\n    }\n\n    .dataframe tbody tr th {\n        vertical-align: top;\n    }\n\n    .dataframe thead th {\n        text-align: right;\n    }\n</style>\n<table border=\"1\" class=\"dataframe\">\n  <thead>\n    <tr style=\"text-align: right;\">\n      <th></th>\n      <th>SteelGrade</th>\n      <th>Billet Mass (Tons)</th>\n      <th>FeSi Actual (KG/Ton)</th>\n      <th>FeSi Target (KG/Ton)</th>\n      <th>FeSi Overshot (KG/Ton)</th>\n      <th>FeSi Overshot (KG)</th>\n      <th>FeSi Overshot (Tons)</th>\n      <th>FeSi Overshot (Cost$)</th>\n      <th>FeSiMn Actual (KG/Ton)</th>\n      <th>FeSiMn Target (KG/Ton)</th>\n      <th>FeSiMn Overshot (KG/Ton)</th>\n      <th>FeSiMn Overshot (KG)</th>\n      <th>FeSiMn Overshot (Tons)</th>\n      <th>FeSiMn Overshot (Cost$)</th>\n      <th>Ferroalloys Overshot (KG/Ton)</th>\n      <th>Ferroalloys Overshot (Tons)</th>\n      <th>Ferroalloys Overshot Cost ($USD)</th>\n    </tr>\n  </thead>\n  <tbody>\n    <tr>\n      <th>0</th>\n      <td>3SP CON-1</td>\n      <td>10040.952</td>\n      <td>0.00</td>\n      <td>0.0000</td>\n      <td>0.0000</td>\n      <td>0.000000</td>\n      <td>0.000000</td>\n      <td>0.000000</td>\n      <td>7.79</td>\n      <td>6.1500</td>\n      <td>1.6400</td>\n      <td>16467.161280</td>\n      <td>16.467161</td>\n      <td>1.973244e+04</td>\n      <td>1.6400</td>\n      <td>16.467161</td>\n      <td>1.973244e+04</td>\n    </tr>\n    <tr>\n      <th>1</th>\n      <td>3SP UIS-1</td>\n      <td>19396.407</td>\n      <td>0.00</td>\n      <td>0.0000</td>\n      <td>0.0000</td>\n      <td>0.000000</td>\n      <td>0.000000</td>\n      <td>0.000000</td>\n      <td>8.14</td>\n      <td>6.3550</td>\n      <td>1.7850</td>\n      <td>34622.586495</td>\n      <td>34.622586</td>\n      <td>4.148791e+04</td>\n      <td>1.7850</td>\n      <td>34.622586</td>\n      <td>4.148791e+04</td>\n    </tr>\n    <tr>\n      <th>2</th>\n      <td>AISI 1006 CAQ-1</td>\n      <td>14217.135</td>\n      <td>0.00</td>\n      <td>0.0000</td>\n      <td>0.0000</td>\n      <td>0.000000</td>\n      <td>0.000000</td>\n      <td>0.000000</td>\n      <td>3.14</td>\n      <td>1.5375</td>\n      <td>1.6025</td>\n      <td>22782.958838</td>\n      <td>22.782959</td>\n      <td>2.730060e+04</td>\n      <td>1.6025</td>\n      <td>22.782959</td>\n      <td>2.730060e+04</td>\n    </tr>\n    <tr>\n      <th>3</th>\n      <td>AISI 1012-1</td>\n      <td>127.478</td>\n      <td>2.76</td>\n      <td>2.0500</td>\n      <td>0.7100</td>\n      <td>90.509380</td>\n      <td>0.090509</td>\n      <td>155.501403</td>\n      <td>7.89</td>\n      <td>6.6625</td>\n      <td>1.2275</td>\n      <td>156.479245</td>\n      <td>0.156479</td>\n      <td>1.875076e+02</td>\n      <td>1.9375</td>\n      <td>0.246989</td>\n      <td>3.430090e+02</td>\n    </tr>\n    <tr>\n      <th>4</th>\n      <td>AISI 1012-2</td>\n      <td>2847.713</td>\n      <td>2.27</td>\n      <td>2.0500</td>\n      <td>0.2200</td>\n      <td>626.496860</td>\n      <td>0.626497</td>\n      <td>1076.365129</td>\n      <td>7.73</td>\n      <td>6.6625</td>\n      <td>1.0675</td>\n      <td>3039.933628</td>\n      <td>3.039934</td>\n      <td>3.642723e+03</td>\n      <td>1.2875</td>\n      <td>3.666430</td>\n      <td>4.719088e+03</td>\n    </tr>\n    <tr>\n      <th>5</th>\n      <td>AISI 1015-1</td>\n      <td>3129.471</td>\n      <td>0.00</td>\n      <td>0.0000</td>\n      <td>0.0000</td>\n      <td>0.000000</td>\n      <td>0.000000</td>\n      <td>0.000000</td>\n      <td>8.02</td>\n      <td>5.9450</td>\n      <td>2.0750</td>\n      <td>6493.652325</td>\n      <td>6.493652</td>\n      <td>7.781281e+03</td>\n      <td>2.0750</td>\n      <td>6.493652</td>\n      <td>7.781281e+03</td>\n    </tr>\n    <tr>\n      <th>6</th>\n      <td>AISI 1018-1</td>\n      <td>8659.960</td>\n      <td>0.00</td>\n      <td>0.0000</td>\n      <td>0.0000</td>\n      <td>0.000000</td>\n      <td>0.000000</td>\n      <td>0.000000</td>\n      <td>8.91</td>\n      <td>8.4050</td>\n      <td>0.5050</td>\n      <td>4373.279800</td>\n      <td>4.373280</td>\n      <td>5.240459e+03</td>\n      <td>0.5050</td>\n      <td>4.373280</td>\n      <td>5.240459e+03</td>\n    </tr>\n    <tr>\n      <th>7</th>\n      <td>AISI 1045-1</td>\n      <td>2321.857</td>\n      <td>1.57</td>\n      <td>1.0250</td>\n      <td>0.5450</td>\n      <td>1265.412065</td>\n      <td>1.265412</td>\n      <td>2174.065837</td>\n      <td>0.00</td>\n      <td>0.0000</td>\n      <td>0.0000</td>\n      <td>0.000000</td>\n      <td>0.000000</td>\n      <td>0.000000e+00</td>\n      <td>0.5450</td>\n      <td>1.265412</td>\n      <td>2.174066e+03</td>\n    </tr>\n    <tr>\n      <th>8</th>\n      <td>AISI 1065-1</td>\n      <td>4813.276</td>\n      <td>1.45</td>\n      <td>1.0250</td>\n      <td>0.4250</td>\n      <td>2045.642300</td>\n      <td>2.045642</td>\n      <td>3514.555585</td>\n      <td>0.00</td>\n      <td>0.0000</td>\n      <td>0.0000</td>\n      <td>0.000000</td>\n      <td>0.000000</td>\n      <td>0.000000e+00</td>\n      <td>0.4250</td>\n      <td>2.045642</td>\n      <td>3.514556e+03</td>\n    </tr>\n    <tr>\n      <th>9</th>\n      <td>AISI 1067-1</td>\n      <td>1677.066</td>\n      <td>1.35</td>\n      <td>1.0250</td>\n      <td>0.3250</td>\n      <td>545.046450</td>\n      <td>0.545046</td>\n      <td>936.427666</td>\n      <td>0.00</td>\n      <td>0.0000</td>\n      <td>0.0000</td>\n      <td>0.000000</td>\n      <td>0.000000</td>\n      <td>0.000000e+00</td>\n      <td>0.3250</td>\n      <td>0.545046</td>\n      <td>9.364277e+02</td>\n    </tr>\n    <tr>\n      <th>10</th>\n      <td>AISI 1070-1</td>\n      <td>148.695</td>\n      <td>1.22</td>\n      <td>1.0250</td>\n      <td>0.1950</td>\n      <td>28.995525</td>\n      <td>0.028996</td>\n      <td>49.816326</td>\n      <td>0.00</td>\n      <td>0.0000</td>\n      <td>0.0000</td>\n      <td>0.000000</td>\n      <td>0.000000</td>\n      <td>0.000000e+00</td>\n      <td>0.1950</td>\n      <td>0.028996</td>\n      <td>4.981633e+01</td>\n    </tr>\n    <tr>\n      <th>11</th>\n      <td>BS-G500B R22-1</td>\n      <td>11144.716</td>\n      <td>0.00</td>\n      <td>0.0000</td>\n      <td>0.0000</td>\n      <td>0.000000</td>\n      <td>0.000000</td>\n      <td>0.000000</td>\n      <td>7.92</td>\n      <td>6.0475</td>\n      <td>1.8725</td>\n      <td>20868.480710</td>\n      <td>20.868481</td>\n      <td>2.500650e+04</td>\n      <td>1.8725</td>\n      <td>20.868481</td>\n      <td>2.500650e+04</td>\n    </tr>\n    <tr>\n      <th>12</th>\n      <td>BS-G500B R22-2</td>\n      <td>11956.901</td>\n      <td>0.00</td>\n      <td>0.0000</td>\n      <td>0.0000</td>\n      <td>0.000000</td>\n      <td>0.000000</td>\n      <td>0.000000</td>\n      <td>8.00</td>\n      <td>6.0475</td>\n      <td>1.9525</td>\n      <td>23345.849203</td>\n      <td>23.345849</td>\n      <td>2.797511e+04</td>\n      <td>1.9525</td>\n      <td>23.345849</td>\n      <td>2.797511e+04</td>\n    </tr>\n    <tr>\n      <th>13</th>\n      <td>BS-G500B R51-1</td>\n      <td>1242.724</td>\n      <td>0.00</td>\n      <td>0.0000</td>\n      <td>0.0000</td>\n      <td>0.000000</td>\n      <td>0.000000</td>\n      <td>0.000000</td>\n      <td>10.37</td>\n      <td>7.5850</td>\n      <td>2.7850</td>\n      <td>3460.986340</td>\n      <td>3.460986</td>\n      <td>4.147267e+03</td>\n      <td>2.7850</td>\n      <td>3.460986</td>\n      <td>4.147267e+03</td>\n    </tr>\n    <tr>\n      <th>14</th>\n      <td>BSG500BR41-1</td>\n      <td>74008.489</td>\n      <td>0.00</td>\n      <td>0.0000</td>\n      <td>0.0000</td>\n      <td>0.000000</td>\n      <td>0.000000</td>\n      <td>0.000000</td>\n      <td>7.98</td>\n      <td>6.0475</td>\n      <td>1.9325</td>\n      <td>143021.404993</td>\n      <td>143.021405</td>\n      <td>1.713812e+05</td>\n      <td>1.9325</td>\n      <td>143.021405</td>\n      <td>1.713812e+05</td>\n    </tr>\n    <tr>\n      <th>15</th>\n      <td>BSG500BR41-2</td>\n      <td>179322.080</td>\n      <td>0.00</td>\n      <td>0.0000</td>\n      <td>0.0000</td>\n      <td>0.000000</td>\n      <td>0.000000</td>\n      <td>0.000000</td>\n      <td>7.91</td>\n      <td>6.0475</td>\n      <td>1.8625</td>\n      <td>333987.374000</td>\n      <td>333.987374</td>\n      <td>4.002139e+05</td>\n      <td>1.8625</td>\n      <td>333.987374</td>\n      <td>4.002139e+05</td>\n    </tr>\n    <tr>\n      <th>16</th>\n      <td>BSG500BR42-1</td>\n      <td>1980.089</td>\n      <td>0.00</td>\n      <td>0.0000</td>\n      <td>0.0000</td>\n      <td>0.000000</td>\n      <td>0.000000</td>\n      <td>0.000000</td>\n      <td>8.04</td>\n      <td>7.5850</td>\n      <td>0.4550</td>\n      <td>900.940495</td>\n      <td>0.900940</td>\n      <td>1.079588e+03</td>\n      <td>0.4550</td>\n      <td>0.900940</td>\n      <td>1.079588e+03</td>\n    </tr>\n    <tr>\n      <th>17</th>\n      <td>BSG500BR42-2</td>\n      <td>151789.712</td>\n      <td>0.00</td>\n      <td>0.0000</td>\n      <td>0.0000</td>\n      <td>0.000000</td>\n      <td>0.000000</td>\n      <td>0.000000</td>\n      <td>7.83</td>\n      <td>7.5850</td>\n      <td>0.2450</td>\n      <td>37188.479440</td>\n      <td>37.188479</td>\n      <td>4.456260e+04</td>\n      <td>0.2450</td>\n      <td>37.188479</td>\n      <td>4.456260e+04</td>\n    </tr>\n    <tr>\n      <th>18</th>\n      <td>BSSS560R12-1</td>\n      <td>8578.967</td>\n      <td>0.00</td>\n      <td>0.0000</td>\n      <td>0.0000</td>\n      <td>0.000000</td>\n      <td>0.000000</td>\n      <td>0.000000</td>\n      <td>11.86</td>\n      <td>9.2250</td>\n      <td>2.6350</td>\n      <td>22605.578045</td>\n      <td>22.605578</td>\n      <td>2.708805e+04</td>\n      <td>2.6350</td>\n      <td>22.605578</td>\n      <td>2.708805e+04</td>\n    </tr>\n    <tr>\n      <th>19</th>\n      <td>BSSS560R22-1</td>\n      <td>2217.466</td>\n      <td>0.00</td>\n      <td>0.0000</td>\n      <td>0.0000</td>\n      <td>0.000000</td>\n      <td>0.000000</td>\n      <td>0.000000</td>\n      <td>7.72</td>\n      <td>6.0475</td>\n      <td>1.6725</td>\n      <td>3708.711885</td>\n      <td>3.708712</td>\n      <td>4.444114e+03</td>\n      <td>1.6725</td>\n      <td>3.708712</td>\n      <td>4.444114e+03</td>\n    </tr>\n    <tr>\n      <th>20</th>\n      <td>BSSS560R22-2</td>\n      <td>7713.394</td>\n      <td>0.00</td>\n      <td>0.0000</td>\n      <td>0.0000</td>\n      <td>0.000000</td>\n      <td>0.000000</td>\n      <td>0.000000</td>\n      <td>7.97</td>\n      <td>6.0475</td>\n      <td>1.9225</td>\n      <td>14828.999965</td>\n      <td>14.829000</td>\n      <td>1.776945e+04</td>\n      <td>1.9225</td>\n      <td>14.829000</td>\n      <td>1.776945e+04</td>\n    </tr>\n    <tr>\n      <th>21</th>\n      <td>EM12K-1</td>\n      <td>125.307</td>\n      <td>2.22</td>\n      <td>2.0500</td>\n      <td>0.1700</td>\n      <td>21.302190</td>\n      <td>0.021302</td>\n      <td>36.598642</td>\n      <td>0.00</td>\n      <td>0.0000</td>\n      <td>0.0000</td>\n      <td>0.000000</td>\n      <td>0.000000</td>\n      <td>0.000000e+00</td>\n      <td>0.1700</td>\n      <td>0.021302</td>\n      <td>3.659864e+01</td>\n    </tr>\n    <tr>\n      <th>22</th>\n      <td>KWSB500BWR R12-1</td>\n      <td>1364.831</td>\n      <td>0.00</td>\n      <td>0.0000</td>\n      <td>0.0000</td>\n      <td>0.000000</td>\n      <td>0.000000</td>\n      <td>0.000000</td>\n      <td>9.84</td>\n      <td>9.2250</td>\n      <td>0.6150</td>\n      <td>839.371065</td>\n      <td>0.839371</td>\n      <td>1.005810e+03</td>\n      <td>0.6150</td>\n      <td>0.839371</td>\n      <td>1.005810e+03</td>\n    </tr>\n    <tr>\n      <th>23</th>\n      <td>KWSB500BWR R22-1</td>\n      <td>14175.175</td>\n      <td>0.00</td>\n      <td>0.0000</td>\n      <td>0.0000</td>\n      <td>0.000000</td>\n      <td>0.000000</td>\n      <td>0.000000</td>\n      <td>7.67</td>\n      <td>6.0475</td>\n      <td>1.6225</td>\n      <td>22999.221438</td>\n      <td>22.999221</td>\n      <td>2.755975e+04</td>\n      <td>1.6225</td>\n      <td>22.999221</td>\n      <td>2.755975e+04</td>\n    </tr>\n    <tr>\n      <th>24</th>\n      <td>S235 JR-A-1</td>\n      <td>4384.918</td>\n      <td>3.55</td>\n      <td>2.8700</td>\n      <td>0.6800</td>\n      <td>2981.744240</td>\n      <td>2.981744</td>\n      <td>5122.843750</td>\n      <td>10.57</td>\n      <td>9.2250</td>\n      <td>1.3450</td>\n      <td>5897.714710</td>\n      <td>5.897715</td>\n      <td>7.067175e+03</td>\n      <td>2.0250</td>\n      <td>8.879459</td>\n      <td>1.219002e+04</td>\n    </tr>\n    <tr>\n      <th>25</th>\n      <td>S235 JR-A-2</td>\n      <td>19308.201</td>\n      <td>0.00</td>\n      <td>0.0000</td>\n      <td>0.0000</td>\n      <td>0.000000</td>\n      <td>0.000000</td>\n      <td>0.000000</td>\n      <td>10.32</td>\n      <td>9.2250</td>\n      <td>1.0950</td>\n      <td>21142.480095</td>\n      <td>21.142480</td>\n      <td>2.533483e+04</td>\n      <td>1.0950</td>\n      <td>21.142480</td>\n      <td>2.533483e+04</td>\n    </tr>\n    <tr>\n      <th>26</th>\n      <td>S275 JR-A-1</td>\n      <td>23003.444</td>\n      <td>2.24</td>\n      <td>2.1525</td>\n      <td>0.0875</td>\n      <td>2012.801350</td>\n      <td>2.012801</td>\n      <td>3458.132551</td>\n      <td>14.64</td>\n      <td>13.9400</td>\n      <td>0.7000</td>\n      <td>16102.410800</td>\n      <td>16.102411</td>\n      <td>1.929536e+04</td>\n      <td>0.7875</td>\n      <td>18.115212</td>\n      <td>2.275350e+04</td>\n    </tr>\n    <tr>\n      <th>27</th>\n      <td>S275 JR-A-2</td>\n      <td>75502.051</td>\n      <td>0.00</td>\n      <td>0.0000</td>\n      <td>0.0000</td>\n      <td>0.000000</td>\n      <td>0.000000</td>\n      <td>0.000000</td>\n      <td>14.70</td>\n      <td>13.9400</td>\n      <td>0.7600</td>\n      <td>57381.558760</td>\n      <td>57.381559</td>\n      <td>6.875977e+04</td>\n      <td>0.7600</td>\n      <td>57.381559</td>\n      <td>6.875977e+04</td>\n    </tr>\n    <tr>\n      <th>28</th>\n      <td>S275 JR-AAA-1</td>\n      <td>12155.000</td>\n      <td>0.00</td>\n      <td>0.0000</td>\n      <td>0.0000</td>\n      <td>0.000000</td>\n      <td>0.000000</td>\n      <td>0.000000</td>\n      <td>14.42</td>\n      <td>13.9400</td>\n      <td>0.4800</td>\n      <td>5834.400000</td>\n      <td>5.834400</td>\n      <td>6.991306e+03</td>\n      <td>0.4800</td>\n      <td>5.834400</td>\n      <td>6.991306e+03</td>\n    </tr>\n    <tr>\n      <th>29</th>\n      <td>S275 JR-AAA-2</td>\n      <td>112660.245</td>\n      <td>0.00</td>\n      <td>0.0000</td>\n      <td>0.0000</td>\n      <td>0.000000</td>\n      <td>0.000000</td>\n      <td>0.000000</td>\n      <td>14.53</td>\n      <td>13.9400</td>\n      <td>0.5900</td>\n      <td>66469.544550</td>\n      <td>66.469545</td>\n      <td>7.964982e+04</td>\n      <td>0.5900</td>\n      <td>66.469545</td>\n      <td>7.964982e+04</td>\n    </tr>\n    <tr>\n      <th>30</th>\n      <td>S355 G11-A-1</td>\n      <td>1886.049</td>\n      <td>2.07</td>\n      <td>1.6400</td>\n      <td>0.4300</td>\n      <td>811.001070</td>\n      <td>0.811001</td>\n      <td>1393.356179</td>\n      <td>18.52</td>\n      <td>16.8100</td>\n      <td>1.7100</td>\n      <td>3225.143790</td>\n      <td>3.225144</td>\n      <td>3.864659e+03</td>\n      <td>2.1400</td>\n      <td>4.036145</td>\n      <td>5.258015e+03</td>\n    </tr>\n    <tr>\n      <th>31</th>\n      <td>S355 G11-A-2</td>\n      <td>5001.665</td>\n      <td>0.00</td>\n      <td>0.0000</td>\n      <td>0.0000</td>\n      <td>0.000000</td>\n      <td>0.000000</td>\n      <td>0.000000</td>\n      <td>17.10</td>\n      <td>16.8100</td>\n      <td>0.2900</td>\n      <td>1450.482850</td>\n      <td>1.450483</td>\n      <td>1.738100e+03</td>\n      <td>0.2900</td>\n      <td>1.450483</td>\n      <td>1.738100e+03</td>\n    </tr>\n    <tr>\n      <th>32</th>\n      <td>S355 J2-A-1</td>\n      <td>5487.360</td>\n      <td>1.88</td>\n      <td>1.3325</td>\n      <td>0.5475</td>\n      <td>3004.329600</td>\n      <td>3.004330</td>\n      <td>5161.646967</td>\n      <td>0.00</td>\n      <td>0.0000</td>\n      <td>0.0000</td>\n      <td>0.000000</td>\n      <td>0.000000</td>\n      <td>0.000000e+00</td>\n      <td>0.5475</td>\n      <td>3.004330</td>\n      <td>5.161647e+03</td>\n    </tr>\n    <tr>\n      <th>33</th>\n      <td>S355 JR-B-1</td>\n      <td>1957.463</td>\n      <td>1.84</td>\n      <td>1.6400</td>\n      <td>0.2000</td>\n      <td>391.492600</td>\n      <td>0.391493</td>\n      <td>672.611484</td>\n      <td>0.00</td>\n      <td>0.0000</td>\n      <td>0.0000</td>\n      <td>0.000000</td>\n      <td>0.000000</td>\n      <td>0.000000e+00</td>\n      <td>0.2000</td>\n      <td>0.391493</td>\n      <td>6.726115e+02</td>\n    </tr>\n    <tr>\n      <th>34</th>\n      <td>SAE 1008-2</td>\n      <td>20128.323</td>\n      <td>1.50</td>\n      <td>1.3325</td>\n      <td>0.1675</td>\n      <td>3371.494102</td>\n      <td>3.371494</td>\n      <td>5792.461090</td>\n      <td>0.00</td>\n      <td>0.0000</td>\n      <td>0.0000</td>\n      <td>0.000000</td>\n      <td>0.000000</td>\n      <td>0.000000e+00</td>\n      <td>0.1675</td>\n      <td>3.371494</td>\n      <td>5.792461e+03</td>\n    </tr>\n    <tr>\n      <th>35</th>\n      <td>SAE 1012-1</td>\n      <td>129.499</td>\n      <td>2.19</td>\n      <td>2.0500</td>\n      <td>0.1400</td>\n      <td>18.129860</td>\n      <td>0.018130</td>\n      <td>31.148359</td>\n      <td>8.66</td>\n      <td>6.6625</td>\n      <td>1.9975</td>\n      <td>258.674253</td>\n      <td>0.258674</td>\n      <td>3.099669e+02</td>\n      <td>2.1375</td>\n      <td>0.276804</td>\n      <td>3.411152e+02</td>\n    </tr>\n    <tr>\n      <th>36</th>\n      <td>SAE 1018-1</td>\n      <td>3862.805</td>\n      <td>0.00</td>\n      <td>0.0000</td>\n      <td>0.0000</td>\n      <td>0.000000</td>\n      <td>0.000000</td>\n      <td>0.000000</td>\n      <td>10.04</td>\n      <td>8.4050</td>\n      <td>1.6350</td>\n      <td>6315.686175</td>\n      <td>6.315686</td>\n      <td>7.568026e+03</td>\n      <td>1.6350</td>\n      <td>6.315686</td>\n      <td>7.568026e+03</td>\n    </tr>\n    <tr>\n      <th>37</th>\n      <td>SWRH 42B-1</td>\n      <td>279.843</td>\n      <td>1.69</td>\n      <td>1.0250</td>\n      <td>0.6650</td>\n      <td>186.095595</td>\n      <td>0.186096</td>\n      <td>319.725160</td>\n      <td>0.00</td>\n      <td>0.0000</td>\n      <td>0.0000</td>\n      <td>0.000000</td>\n      <td>0.000000</td>\n      <td>0.000000e+00</td>\n      <td>0.6650</td>\n      <td>0.186096</td>\n      <td>3.197252e+02</td>\n    </tr>\n    <tr>\n      <th>38</th>\n      <td>SWRH 47B-1</td>\n      <td>617.338</td>\n      <td>1.32</td>\n      <td>1.0250</td>\n      <td>0.2950</td>\n      <td>182.114710</td>\n      <td>0.182115</td>\n      <td>312.885724</td>\n      <td>0.00</td>\n      <td>0.0000</td>\n      <td>0.0000</td>\n      <td>0.000000</td>\n      <td>0.000000</td>\n      <td>0.000000e+00</td>\n      <td>0.2950</td>\n      <td>0.182115</td>\n      <td>3.128857e+02</td>\n    </tr>\n    <tr>\n      <th>39</th>\n      <td>SWRH 52B-1</td>\n      <td>294.495</td>\n      <td>1.82</td>\n      <td>1.0250</td>\n      <td>0.7950</td>\n      <td>234.123525</td>\n      <td>0.234124</td>\n      <td>402.240481</td>\n      <td>0.00</td>\n      <td>0.0000</td>\n      <td>0.0000</td>\n      <td>0.000000</td>\n      <td>0.000000</td>\n      <td>0.000000e+00</td>\n      <td>0.7950</td>\n      <td>0.234124</td>\n      <td>4.022405e+02</td>\n    </tr>\n    <tr>\n      <th>40</th>\n      <td>SWRH 57B-1</td>\n      <td>319.415</td>\n      <td>1.52</td>\n      <td>1.0250</td>\n      <td>0.4950</td>\n      <td>158.110425</td>\n      <td>0.158110</td>\n      <td>271.644694</td>\n      <td>0.00</td>\n      <td>0.0000</td>\n      <td>0.0000</td>\n      <td>0.000000</td>\n      <td>0.000000</td>\n      <td>0.000000e+00</td>\n      <td>0.4950</td>\n      <td>0.158110</td>\n      <td>2.716447e+02</td>\n    </tr>\n    <tr>\n      <th>41</th>\n      <td>SWRH 62B-1</td>\n      <td>2024.886</td>\n      <td>1.29</td>\n      <td>1.0250</td>\n      <td>0.2650</td>\n      <td>536.594790</td>\n      <td>0.536595</td>\n      <td>921.907127</td>\n      <td>0.00</td>\n      <td>0.0000</td>\n      <td>0.0000</td>\n      <td>0.000000</td>\n      <td>0.000000</td>\n      <td>0.000000e+00</td>\n      <td>0.2650</td>\n      <td>0.536595</td>\n      <td>9.219071e+02</td>\n    </tr>\n    <tr>\n      <th>42</th>\n      <td>SWRH 67B-1</td>\n      <td>310.349</td>\n      <td>1.32</td>\n      <td>1.0250</td>\n      <td>0.2950</td>\n      <td>91.552955</td>\n      <td>0.091553</td>\n      <td>157.294337</td>\n      <td>0.00</td>\n      <td>0.0000</td>\n      <td>0.0000</td>\n      <td>0.000000</td>\n      <td>0.000000</td>\n      <td>0.000000e+00</td>\n      <td>0.2950</td>\n      <td>0.091553</td>\n      <td>1.572943e+02</td>\n    </tr>\n    <tr>\n      <th>43</th>\n      <td>SWRY 11-1</td>\n      <td>14536.372</td>\n      <td>0.00</td>\n      <td>0.0000</td>\n      <td>0.0000</td>\n      <td>0.000000</td>\n      <td>0.000000</td>\n      <td>0.000000</td>\n      <td>2.45</td>\n      <td>1.5375</td>\n      <td>0.9125</td>\n      <td>13264.439450</td>\n      <td>13.264439</td>\n      <td>1.589465e+04</td>\n      <td>0.9125</td>\n      <td>13.264439</td>\n      <td>1.589465e+04</td>\n    </tr>\n    <tr>\n      <th>44</th>\n      <td>Total</td>\n      <td>836849.582</td>\n      <td>37.07</td>\n      <td>29.4175</td>\n      <td>7.6525</td>\n      <td>18602.989593</td>\n      <td>18.602990</td>\n      <td>31961.228492</td>\n      <td>290.68</td>\n      <td>249.6900</td>\n      <td>40.9900</td>\n      <td>913033.984620</td>\n      <td>913.033985</td>\n      <td>1.094080e+06</td>\n      <td>48.6425</td>\n      <td>931.636974</td>\n      <td>1.126041e+06</td>\n    </tr>\n  </tbody>\n</table>\n</div>"
     },
     "execution_count": 39,
     "metadata": {},
     "output_type": "execute_result"
    }
   ],
   "source": [
    "\n",
    "totals = final_results.select_dtypes(include=[np.number]).sum().rename('Total')\n",
    "totals['SteelGrade'] = 'Total'\n",
    "final_results = pd.concat([final_results, pd.DataFrame([totals])], ignore_index=True)\n",
    "final_results\n"
   ],
   "metadata": {
    "collapsed": false,
    "ExecuteTime": {
     "end_time": "2024-03-25T07:19:04.409958Z",
     "start_time": "2024-03-25T07:19:04.376884Z"
    }
   },
   "id": "746edcb2c3d2f802",
   "execution_count": 39
  },
  {
   "cell_type": "code",
   "outputs": [],
   "source": [
    "numerical_columns = ['Billet Mass (Tons)',\n",
    "                     'FeSi Actual (KG/Ton)',\n",
    "                     'FeSi Target (KG/Ton)',\n",
    "                     'FeSi Overshot (KG/Ton)',\n",
    "                     'FeSi Overshot (KG)',\n",
    "                     'FeSi Overshot (Tons)',\n",
    "                     'FeSi Overshot (Cost$)',\n",
    "                     'FeSiMn Actual (KG/Ton)',\n",
    "                     'FeSiMn Target (KG/Ton)',\n",
    "                     'FeSiMn Overshot (KG/Ton)',\n",
    "                     'FeSiMn Overshot (KG)',\n",
    "                     'FeSiMn Overshot (Tons)',\n",
    "                     'FeSiMn Overshot (Cost$)',\n",
    "                     'Ferroalloys Overshot (KG/Ton)',\n",
    "                     'Ferroalloys Overshot (Tons)',\n",
    "                     'Ferroalloys Overshot Cost ($USD)']\n",
    "\n",
    "final_results[numerical_columns] = final_results[numerical_columns].astype(float)\n",
    "\n",
    "numerical_df = final_results.select_dtypes(include=[np.number])\n",
    "\n",
    "\n",
    "for col in numerical_columns:\n",
    "    final_results[col] = final_results[col].apply(lambda x: f\"{x:.2f}\")\n",
    "\n",
    "final_results[numerical_columns] = final_results[numerical_columns].astype(float)\n",
    "\n"
   ],
   "metadata": {
    "collapsed": false
   },
   "id": "cc8cdb0ff2964a7",
   "execution_count": null
  },
  {
   "cell_type": "markdown",
   "source": [
    "### Validate Again:"
   ],
   "metadata": {
    "collapsed": false
   },
   "id": "9c62c935b44cfdd5"
  },
  {
   "cell_type": "code",
   "outputs": [
    {
     "data": {
      "text/plain": "37.07"
     },
     "execution_count": 246,
     "metadata": {},
     "output_type": "execute_result"
    }
   ],
   "source": [
    "\n",
    "\n",
    "fesi_data[\"FeSi Actual (KG/Ton)\"].sum()\n"
   ],
   "metadata": {
    "collapsed": false,
    "ExecuteTime": {
     "end_time": "2024-03-25T06:06:04.376644Z",
     "start_time": "2024-03-25T06:06:04.370126Z"
    }
   },
   "id": "4cbfd1b13a36856e",
   "execution_count": 246
  },
  {
   "cell_type": "code",
   "outputs": [
    {
     "data": {
      "text/plain": "28.7"
     },
     "execution_count": 247,
     "metadata": {},
     "output_type": "execute_result"
    }
   ],
   "source": [
    "\n",
    "fesi_data[\"FeSi Target (KG/Ton)\"].sum()\n"
   ],
   "metadata": {
    "collapsed": false,
    "ExecuteTime": {
     "end_time": "2024-03-25T06:06:25.768001Z",
     "start_time": "2024-03-25T06:06:25.765209Z"
    }
   },
   "id": "efc948e6a2182108",
   "execution_count": 247
  },
  {
   "cell_type": "code",
   "outputs": [
    {
     "data": {
      "text/plain": "874910.3799999999"
     },
     "execution_count": 248,
     "metadata": {},
     "output_type": "execute_result"
    }
   ],
   "source": [
    "\n",
    "fesi_data[\"Billet Mass (Tons)\"].sum() + fesmin_data[\"Billet Mass (Tons)\"].sum()\n"
   ],
   "metadata": {
    "collapsed": false,
    "ExecuteTime": {
     "end_time": "2024-03-25T06:06:58.855395Z",
     "start_time": "2024-03-25T06:06:58.847812Z"
    }
   },
   "id": "7b2983ba4924f1b8",
   "execution_count": 248
  },
  {
   "cell_type": "code",
   "outputs": [
    {
     "data": {
      "text/plain": "55.72"
     },
     "execution_count": 253,
     "metadata": {},
     "output_type": "execute_result"
    }
   ],
   "source": [
    "\n",
    "fesi_data[\"FeSi Overshot (KG/Ton)\"].sum() + fesmin_data[\"FeSiMn Overshot (KG/Ton)\"].sum()\n",
    "\n"
   ],
   "metadata": {
    "collapsed": false,
    "ExecuteTime": {
     "end_time": "2024-03-25T06:15:32.788830Z",
     "start_time": "2024-03-25T06:15:32.780335Z"
    }
   },
   "id": "78aa5cd9a1814fea",
   "execution_count": 253
  },
  {
   "cell_type": "code",
   "outputs": [
    {
     "data": {
      "text/plain": "1103.84490678"
     },
     "execution_count": 252,
     "metadata": {},
     "output_type": "execute_result"
    }
   ],
   "source": [
    "\n",
    "fesmin_data[\"FeSiMn Overshot (Tons)\"].sum() + fesi_data[\"FeSi Overshot (Tons)\"].sum()\n"
   ],
   "metadata": {
    "collapsed": false,
    "ExecuteTime": {
     "end_time": "2024-03-25T06:11:40.924008Z",
     "start_time": "2024-03-25T06:11:40.920168Z"
    }
   },
   "id": "ad6076a0c0afbb0d",
   "execution_count": 252
  },
  {
   "cell_type": "code",
   "outputs": [
    {
     "data": {
      "text/plain": "1333946.498867269"
     },
     "execution_count": 254,
     "metadata": {},
     "output_type": "execute_result"
    }
   ],
   "source": [
    "\n",
    "fesmin_data[\"FeSiMn Overshot (Cost$)\"].sum() + fesi_data[\"FeSi Overshot (Cost$)\"].sum()\n"
   ],
   "metadata": {
    "collapsed": false,
    "ExecuteTime": {
     "end_time": "2024-03-25T06:16:36.302949Z",
     "start_time": "2024-03-25T06:16:36.298762Z"
    }
   },
   "id": "327b3ed3dbbcd0c5",
   "execution_count": 254
  },
  {
   "cell_type": "code",
   "outputs": [
    {
     "data": {
      "text/plain": "   SteelGrade  Billet Mass (Tons)  FeSi Actual (KG/Ton)  FeSi Target (KG/Ton)  \\\n46      Total           842531.28                 37.07                  28.7   \n\n    FeSi Overshot (KG/Ton)  FeSi Overshot (KG)  FeSi Overshot (Tons)  \\\n46                    8.37            21585.55                 21.59   \n\n    FeSi Overshot (Cost$)  FeSiMn Actual (KG/Ton)  FeSiMn Target (KG/Ton)  \\\n46               37085.47                  309.45                   262.1   \n\n    FeSiMn Overshot (KG/Ton)  FeSiMn Overshot (KG)  FeSiMn Overshot (Tons)  \\\n46                     47.35            1082259.36                 1082.26   \n\n    FeSiMn Overshot (Cost$)  Ferroalloys Overshot (KG/Ton)  \\\n46               1296861.03                          55.72   \n\n    Ferroalloys Overshot (Tons)  Ferroalloys Overshot Cost ($USD)  \n46                      1103.84                         1333946.5  ",
      "text/html": "<div>\n<style scoped>\n    .dataframe tbody tr th:only-of-type {\n        vertical-align: middle;\n    }\n\n    .dataframe tbody tr th {\n        vertical-align: top;\n    }\n\n    .dataframe thead th {\n        text-align: right;\n    }\n</style>\n<table border=\"1\" class=\"dataframe\">\n  <thead>\n    <tr style=\"text-align: right;\">\n      <th></th>\n      <th>SteelGrade</th>\n      <th>Billet Mass (Tons)</th>\n      <th>FeSi Actual (KG/Ton)</th>\n      <th>FeSi Target (KG/Ton)</th>\n      <th>FeSi Overshot (KG/Ton)</th>\n      <th>FeSi Overshot (KG)</th>\n      <th>FeSi Overshot (Tons)</th>\n      <th>FeSi Overshot (Cost$)</th>\n      <th>FeSiMn Actual (KG/Ton)</th>\n      <th>FeSiMn Target (KG/Ton)</th>\n      <th>FeSiMn Overshot (KG/Ton)</th>\n      <th>FeSiMn Overshot (KG)</th>\n      <th>FeSiMn Overshot (Tons)</th>\n      <th>FeSiMn Overshot (Cost$)</th>\n      <th>Ferroalloys Overshot (KG/Ton)</th>\n      <th>Ferroalloys Overshot (Tons)</th>\n      <th>Ferroalloys Overshot Cost ($USD)</th>\n    </tr>\n  </thead>\n  <tbody>\n    <tr>\n      <th>46</th>\n      <td>Total</td>\n      <td>842531.28</td>\n      <td>37.07</td>\n      <td>28.7</td>\n      <td>8.37</td>\n      <td>21585.55</td>\n      <td>21.59</td>\n      <td>37085.47</td>\n      <td>309.45</td>\n      <td>262.1</td>\n      <td>47.35</td>\n      <td>1082259.36</td>\n      <td>1082.26</td>\n      <td>1296861.03</td>\n      <td>55.72</td>\n      <td>1103.84</td>\n      <td>1333946.5</td>\n    </tr>\n  </tbody>\n</table>\n</div>"
     },
     "execution_count": 245,
     "metadata": {},
     "output_type": "execute_result"
    }
   ],
   "source": [
    "\n",
    "\n",
    "final_results[final_results[\"SteelGrade\"] == \"Total\"]\n"
   ],
   "metadata": {
    "collapsed": false,
    "ExecuteTime": {
     "end_time": "2024-03-25T06:02:31.900282Z",
     "start_time": "2024-03-25T06:02:31.880337Z"
    }
   },
   "id": "1d5d883eb2430196",
   "execution_count": 245
  },
  {
   "cell_type": "code",
   "outputs": [
    {
     "data": {
      "text/plain": "1296861.0326572799"
     },
     "execution_count": 256,
     "metadata": {},
     "output_type": "execute_result"
    }
   ],
   "source": [
    "fesmin_data[\"FeSiMn Overshot (Cost$)\"].sum()\n",
    "\n",
    "\n"
   ],
   "metadata": {
    "collapsed": false,
    "ExecuteTime": {
     "end_time": "2024-03-25T06:17:50.789027Z",
     "start_time": "2024-03-25T06:17:50.786598Z"
    }
   },
   "id": "2533229aaf32c749",
   "execution_count": 256
  },
  {
   "cell_type": "code",
   "outputs": [
    {
     "data": {
      "text/plain": "37085.46620998909"
     },
     "execution_count": 257,
     "metadata": {},
     "output_type": "execute_result"
    }
   ],
   "source": [
    "\n",
    "fesi_data[\"FeSi Overshot (Cost$)\"].sum()\n"
   ],
   "metadata": {
    "collapsed": false,
    "ExecuteTime": {
     "end_time": "2024-03-25T06:18:17.514258Z",
     "start_time": "2024-03-25T06:18:17.510185Z"
    }
   },
   "id": "a6b80991c7131ffe",
   "execution_count": 257
  },
  {
   "cell_type": "markdown",
   "id": "72acd6588d30dc46",
   "metadata": {
    "collapsed": false
   },
   "source": [
    "\n",
    "\n",
    "SMP2 2023 Base estimates:\n",
    "FeSiMn overshot Cost: 1296861 USD \n",
    "FeSi Overshot Cost: 37085 USD \n",
    "Overall Cost: 1333946 USD \n",
    "Ferroalloys Overshot (Tons): 1103\n",
    "\n"
   ]
  }
 ],
 "metadata": {
  "kernelspec": {
   "display_name": "Python 3 (ipykernel)",
   "language": "python",
   "name": "python3"
  },
  "language_info": {
   "codemirror_mode": {
    "name": "ipython",
    "version": 3
   },
   "file_extension": ".py",
   "mimetype": "text/x-python",
   "name": "python",
   "nbconvert_exporter": "python",
   "pygments_lexer": "ipython3",
   "version": "3.10.13"
  }
 },
 "nbformat": 4,
 "nbformat_minor": 5
}
